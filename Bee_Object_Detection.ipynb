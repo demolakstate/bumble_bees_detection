{
  "nbformat": 4,
  "nbformat_minor": 0,
  "metadata": {
    "colab": {
      "name": "Bee-Object-Detection.ipynb",
      "provenance": [],
      "machine_shape": "hm",
      "authorship_tag": "ABX9TyNwx3Lq6MkvG5KUS6VyeQW8",
      "include_colab_link": true
    },
    "kernelspec": {
      "name": "python3",
      "display_name": "Python 3"
    },
    "accelerator": "GPU"
  },
  "cells": [
    {
      "cell_type": "markdown",
      "metadata": {
        "id": "view-in-github",
        "colab_type": "text"
      },
      "source": [
        "<a href=\"https://colab.research.google.com/github/demolakstate/bumble_bees_detection/blob/main/Bee_Object_Detection.ipynb\" target=\"_parent\"><img src=\"https://colab.research.google.com/assets/colab-badge.svg\" alt=\"Open In Colab\"/></a>"
      ]
    },
    {
      "cell_type": "code",
      "metadata": {
        "id": "4aM3cu55WtK8"
      },
      "source": [
        ""
      ],
      "execution_count": null,
      "outputs": []
    },
    {
      "cell_type": "code",
      "metadata": {
        "colab": {
          "base_uri": "https://localhost:8080/"
        },
        "id": "PuAjXTLzWwb_",
        "outputId": "2167e183-fc6f-48f2-da3e-9b1bb451ee65"
      },
      "source": [
        "from google.colab import drive\n",
        "\n",
        "drive.mount('/content/gdrive')"
      ],
      "execution_count": 1,
      "outputs": [
        {
          "output_type": "stream",
          "text": [
            "Drive already mounted at /content/gdrive; to attempt to forcibly remount, call drive.mount(\"/content/gdrive\", force_remount=True).\n"
          ],
          "name": "stdout"
        }
      ]
    },
    {
      "cell_type": "code",
      "metadata": {
        "colab": {
          "base_uri": "https://localhost:8080/"
        },
        "id": "X8Jh81elXUeL",
        "outputId": "2a5773fe-04ae-4300-a271-0cbaee02e468"
      },
      "source": [
        "cd /content/gdrive/MyDrive/BeeMachine/"
      ],
      "execution_count": 2,
      "outputs": [
        {
          "output_type": "stream",
          "text": [
            "/content/gdrive/MyDrive/BeeMachine\n"
          ],
          "name": "stdout"
        }
      ]
    },
    {
      "cell_type": "code",
      "metadata": {
        "id": "2oOdexSR0-jF"
      },
      "source": [
        "#!git clone https://github.com/tensorflow/models.git"
      ],
      "execution_count": null,
      "outputs": []
    },
    {
      "cell_type": "code",
      "metadata": {
        "colab": {
          "base_uri": "https://localhost:8080/"
        },
        "id": "3E3l8kNQ1ZWp",
        "outputId": "5d41972f-705b-4c09-fcc5-2467c423d529"
      },
      "source": [
        "ls"
      ],
      "execution_count": 34,
      "outputs": [
        {
          "output_type": "stream",
          "text": [
            "\u001b[0m\u001b[01;34ma3c_blogpost\u001b[0m/        \u001b[01;34mcvt_text\u001b[0m/       \u001b[01;34mlstm_object_detection\u001b[0m/  \u001b[01;34mrebar\u001b[0m/\n",
            "\u001b[01;34madversarial_text\u001b[0m/    \u001b[01;34mdeeplab\u001b[0m/        \u001b[01;34mmarco\u001b[0m/                  \u001b[01;34mseq_flow_lite\u001b[0m/\n",
            "\u001b[01;34mattention_ocr\u001b[0m/       \u001b[01;34mdeep_speech\u001b[0m/    \u001b[01;34mnst_blogpost\u001b[0m/           \u001b[01;34mslim\u001b[0m/\n",
            "\u001b[01;34maudioset\u001b[0m/            \u001b[01;34mdelf\u001b[0m/           \u001b[01;34mobject_detection\u001b[0m/       \u001b[01;34mvid2depth\u001b[0m/\n",
            "\u001b[01;34mautoaugment\u001b[0m/         \u001b[01;34mefficient-hrl\u001b[0m/  \u001b[01;34mpcl_rl\u001b[0m/\n",
            "\u001b[01;34mcognitive_planning\u001b[0m/  \u001b[01;34mlfads\u001b[0m/          README.md\n"
          ],
          "name": "stdout"
        }
      ]
    },
    {
      "cell_type": "code",
      "metadata": {
        "colab": {
          "base_uri": "https://localhost:8080/"
        },
        "id": "Nro9kX6pSv1P",
        "outputId": "ceb5b591-8b7a-4ca2-f8c5-8c704d010ee6"
      },
      "source": [
        "cd /content/gdrive/MyDrive/BeeMachine/models/research"
      ],
      "execution_count": 28,
      "outputs": [
        {
          "output_type": "stream",
          "text": [
            "/content/gdrive/MyDrive/BeeMachine/models/research\n"
          ],
          "name": "stdout"
        }
      ]
    },
    {
      "cell_type": "code",
      "metadata": {
        "colab": {
          "base_uri": "https://localhost:8080/",
          "height": 35
        },
        "id": "nQg3NxnYTEYM",
        "outputId": "b35d689e-6e0d-47aa-905b-7c90d041f276"
      },
      "source": [
        "pwd"
      ],
      "execution_count": 30,
      "outputs": [
        {
          "output_type": "execute_result",
          "data": {
            "application/vnd.google.colaboratory.intrinsic+json": {
              "type": "string"
            },
            "text/plain": [
              "'/content/gdrive/My Drive/BeeMachine/models/research'"
            ]
          },
          "metadata": {
            "tags": []
          },
          "execution_count": 30
        }
      ]
    },
    {
      "cell_type": "markdown",
      "metadata": {
        "id": "Y0g1q9kFT1Py"
      },
      "source": [
        "## Protobuf Installation/Compilation ##"
      ]
    },
    {
      "cell_type": "code",
      "metadata": {
        "id": "733evMKbTEcQ"
      },
      "source": [
        "#!cd /content/gdrive/MyDrive/BeeMachine/"
      ],
      "execution_count": 6,
      "outputs": []
    },
    {
      "cell_type": "code",
      "metadata": {
        "id": "_D163IuJTEgs"
      },
      "source": [
        "#!wget https://github.com/protocolbuffers/protobuf/releases/download/v3.14.0/protoc-3.14.0-linux-x86_64.zip"
      ],
      "execution_count": 7,
      "outputs": []
    },
    {
      "cell_type": "code",
      "metadata": {
        "colab": {
          "base_uri": "https://localhost:8080/"
        },
        "id": "WaqZMeCZTEl9",
        "outputId": "f10ca29b-5270-432c-8463-7cff42939967"
      },
      "source": [
        "!apt-get install protobuf-compiler"
      ],
      "execution_count": 31,
      "outputs": [
        {
          "output_type": "stream",
          "text": [
            "Reading package lists... Done\n",
            "Building dependency tree       \n",
            "Reading state information... Done\n",
            "protobuf-compiler is already the newest version (3.0.0-9.1ubuntu1).\n",
            "0 upgraded, 0 newly installed, 0 to remove and 17 not upgraded.\n"
          ],
          "name": "stdout"
        }
      ]
    },
    {
      "cell_type": "code",
      "metadata": {
        "id": "HUohy7XJVfiM"
      },
      "source": [
        "!protoc object_detection/protos/*.proto --python_out=."
      ],
      "execution_count": 32,
      "outputs": []
    },
    {
      "cell_type": "code",
      "metadata": {
        "id": "h-BDG5KpVfmj"
      },
      "source": [
        ""
      ],
      "execution_count": null,
      "outputs": []
    },
    {
      "cell_type": "code",
      "metadata": {
        "id": "wsTnRCrmVfqy"
      },
      "source": [
        "!export PYTHONPATH=$PYTHONPATH:'pwd':'pwd'/slim"
      ],
      "execution_count": 33,
      "outputs": []
    },
    {
      "cell_type": "code",
      "metadata": {
        "id": "Oek8szrNSv5K"
      },
      "source": [
        ""
      ],
      "execution_count": null,
      "outputs": []
    },
    {
      "cell_type": "markdown",
      "metadata": {
        "id": "eGOVUNDCNy0A"
      },
      "source": [
        "## COCO API Installation ##"
      ]
    },
    {
      "cell_type": "code",
      "metadata": {
        "colab": {
          "base_uri": "https://localhost:8080/"
        },
        "id": "ehJIN-bxN36P",
        "outputId": "021a3a2a-3561-49a2-ddc4-672c0c8fe54b"
      },
      "source": [
        "!git clone https://github.com/cocodataset/cocoapi.git"
      ],
      "execution_count": 36,
      "outputs": [
        {
          "output_type": "stream",
          "text": [
            "Cloning into 'cocoapi'...\n",
            "remote: Enumerating objects: 975, done.\u001b[K\n",
            "remote: Total 975 (delta 0), reused 0 (delta 0), pack-reused 975\u001b[K\n",
            "Receiving objects: 100% (975/975), 11.72 MiB | 10.89 MiB/s, done.\n",
            "Resolving deltas: 100% (576/576), done.\n"
          ],
          "name": "stdout"
        }
      ]
    },
    {
      "cell_type": "code",
      "metadata": {
        "colab": {
          "base_uri": "https://localhost:8080/"
        },
        "id": "sGhEQwMIOgnl",
        "outputId": "e087ad48-8471-47b1-e9c9-0a2ad4cbdaa7"
      },
      "source": [
        "cd ./cocoapi/PythonAPI/\n"
      ],
      "execution_count": 37,
      "outputs": [
        {
          "output_type": "stream",
          "text": [
            "/content/gdrive/My Drive/BeeMachine/models/research/cocoapi/PythonAPI\n"
          ],
          "name": "stdout"
        }
      ]
    },
    {
      "cell_type": "code",
      "metadata": {
        "id": "VfMvddNKN396"
      },
      "source": [
        "!make"
      ],
      "execution_count": null,
      "outputs": []
    },
    {
      "cell_type": "code",
      "metadata": {
        "id": "QzTprdV-N4B-"
      },
      "source": [
        "!cp -r pycocotools/ /content/gdrive/MyDrive/BeeMachine/models/research"
      ],
      "execution_count": 41,
      "outputs": []
    },
    {
      "cell_type": "code",
      "metadata": {
        "colab": {
          "base_uri": "https://localhost:8080/"
        },
        "id": "Jo8_I7KmO4R7",
        "outputId": "4dd5f635-32df-46b2-ce79-bd99cf4a92fe"
      },
      "source": [
        "ls"
      ],
      "execution_count": 47,
      "outputs": [
        {
          "output_type": "stream",
          "text": [
            "Makefile  pycocoDemo.ipynb  pycocoEvalDemo.ipynb  \u001b[0m\u001b[01;34mpycocotools\u001b[0m/  setup.py\n"
          ],
          "name": "stdout"
        }
      ]
    },
    {
      "cell_type": "code",
      "metadata": {
        "id": "1zjOEw6YZO45"
      },
      "source": [
        ""
      ],
      "execution_count": null,
      "outputs": []
    },
    {
      "cell_type": "code",
      "metadata": {
        "colab": {
          "base_uri": "https://localhost:8080/"
        },
        "id": "nn6AceTZZO-n",
        "outputId": "1797cca1-dea0-490e-eb99-ec0a1ec6b652"
      },
      "source": [
        "cd /content/gdrive/MyDrive/BeeMachine/models/research/"
      ],
      "execution_count": 48,
      "outputs": [
        {
          "output_type": "stream",
          "text": [
            "/content/gdrive/MyDrive/BeeMachine/models/research\n"
          ],
          "name": "stdout"
        }
      ]
    },
    {
      "cell_type": "code",
      "metadata": {
        "id": "LyRVCGnIQRjd"
      },
      "source": [
        "!cp object_detection/packages/tf2/setup.py .\n"
      ],
      "execution_count": 49,
      "outputs": []
    },
    {
      "cell_type": "code",
      "metadata": {
        "id": "87SDkNmSR4dU"
      },
      "source": [
        "!python -m pip install ."
      ],
      "execution_count": null,
      "outputs": []
    },
    {
      "cell_type": "code",
      "metadata": {
        "colab": {
          "base_uri": "https://localhost:8080/"
        },
        "id": "rtyCNUTgQRn_",
        "outputId": "b63dfaeb-74e8-4032-c22b-5b44608ae704"
      },
      "source": [
        "ls"
      ],
      "execution_count": 51,
      "outputs": [
        {
          "output_type": "stream",
          "text": [
            "\u001b[0m\u001b[01;34ma3c_blogpost\u001b[0m/        \u001b[01;34mcvt_text\u001b[0m/               \u001b[01;34mmarco\u001b[0m/             \u001b[01;34mseq_flow_lite\u001b[0m/\n",
            "\u001b[01;34madversarial_text\u001b[0m/    \u001b[01;34mdeeplab\u001b[0m/                \u001b[01;34mnst_blogpost\u001b[0m/      setup.py\n",
            "\u001b[01;34mattention_ocr\u001b[0m/       \u001b[01;34mdeep_speech\u001b[0m/            \u001b[01;34mobject_detection\u001b[0m/  \u001b[01;34mslim\u001b[0m/\n",
            "\u001b[01;34maudioset\u001b[0m/            \u001b[01;34mdelf\u001b[0m/                   \u001b[01;34mpcl_rl\u001b[0m/            \u001b[01;34mvid2depth\u001b[0m/\n",
            "\u001b[01;34mautoaugment\u001b[0m/         \u001b[01;34mefficient-hrl\u001b[0m/          \u001b[01;34mpycocotools\u001b[0m/\n",
            "\u001b[01;34mcocoapi\u001b[0m/             \u001b[01;34mlfads\u001b[0m/                  README.md\n",
            "\u001b[01;34mcognitive_planning\u001b[0m/  \u001b[01;34mlstm_object_detection\u001b[0m/  \u001b[01;34mrebar\u001b[0m/\n"
          ],
          "name": "stdout"
        }
      ]
    },
    {
      "cell_type": "code",
      "metadata": {
        "id": "CRd4vdjnQRsu"
      },
      "source": [
        "cd /content/gdrive/MyDrive/BeeMachine/models/research/"
      ],
      "execution_count": 35,
      "outputs": []
    },
    {
      "cell_type": "markdown",
      "metadata": {
        "id": "qRhL-M0JaZgi"
      },
      "source": [
        "## Test your installation ##"
      ]
    },
    {
      "cell_type": "code",
      "metadata": {
        "colab": {
          "base_uri": "https://localhost:8080/"
        },
        "id": "gzq55zjASPzl",
        "outputId": "ec578a81-d4e6-4a9e-a7ba-b0439307776a"
      },
      "source": [
        "!python object_detection/builders/model_builder_tf2_test.py"
      ],
      "execution_count": 52,
      "outputs": [
        {
          "output_type": "stream",
          "text": [
            "2021-02-15 20:36:00.999436: I tensorflow/stream_executor/platform/default/dso_loader.cc:49] Successfully opened dynamic library libcudart.so.10.1\n",
            "Running tests under Python 3.6.9: /usr/bin/python3\n",
            "[ RUN      ] ModelBuilderTF2Test.test_create_center_net_model\n",
            "2021-02-15 20:36:04.001788: I tensorflow/compiler/jit/xla_cpu_device.cc:41] Not creating XLA devices, tf_xla_enable_xla_devices not set\n",
            "2021-02-15 20:36:04.003086: I tensorflow/stream_executor/platform/default/dso_loader.cc:49] Successfully opened dynamic library libcuda.so.1\n",
            "2021-02-15 20:36:04.087058: I tensorflow/stream_executor/cuda/cuda_gpu_executor.cc:941] successful NUMA node read from SysFS had negative value (-1), but there must be at least one NUMA node, so returning NUMA node zero\n",
            "2021-02-15 20:36:04.087776: I tensorflow/core/common_runtime/gpu/gpu_device.cc:1720] Found device 0 with properties: \n",
            "pciBusID: 0000:00:04.0 name: Tesla V100-SXM2-16GB computeCapability: 7.0\n",
            "coreClock: 1.53GHz coreCount: 80 deviceMemorySize: 15.78GiB deviceMemoryBandwidth: 836.37GiB/s\n",
            "2021-02-15 20:36:04.087816: I tensorflow/stream_executor/platform/default/dso_loader.cc:49] Successfully opened dynamic library libcudart.so.10.1\n",
            "2021-02-15 20:36:04.295576: I tensorflow/stream_executor/platform/default/dso_loader.cc:49] Successfully opened dynamic library libcublas.so.10\n",
            "2021-02-15 20:36:04.295747: I tensorflow/stream_executor/platform/default/dso_loader.cc:49] Successfully opened dynamic library libcublasLt.so.10\n",
            "2021-02-15 20:36:04.420549: I tensorflow/stream_executor/platform/default/dso_loader.cc:49] Successfully opened dynamic library libcufft.so.10\n",
            "2021-02-15 20:36:04.444242: I tensorflow/stream_executor/platform/default/dso_loader.cc:49] Successfully opened dynamic library libcurand.so.10\n",
            "2021-02-15 20:36:04.672251: I tensorflow/stream_executor/platform/default/dso_loader.cc:49] Successfully opened dynamic library libcusolver.so.10\n",
            "2021-02-15 20:36:04.691875: I tensorflow/stream_executor/platform/default/dso_loader.cc:49] Successfully opened dynamic library libcusparse.so.10\n",
            "2021-02-15 20:36:05.076296: I tensorflow/stream_executor/platform/default/dso_loader.cc:49] Successfully opened dynamic library libcudnn.so.7\n",
            "2021-02-15 20:36:05.076566: I tensorflow/stream_executor/cuda/cuda_gpu_executor.cc:941] successful NUMA node read from SysFS had negative value (-1), but there must be at least one NUMA node, so returning NUMA node zero\n",
            "2021-02-15 20:36:05.077507: I tensorflow/stream_executor/cuda/cuda_gpu_executor.cc:941] successful NUMA node read from SysFS had negative value (-1), but there must be at least one NUMA node, so returning NUMA node zero\n",
            "2021-02-15 20:36:05.082005: I tensorflow/core/common_runtime/gpu/gpu_device.cc:1862] Adding visible gpu devices: 0\n",
            "2021-02-15 20:36:05.082410: I tensorflow/core/platform/cpu_feature_guard.cc:142] This TensorFlow binary is optimized with oneAPI Deep Neural Network Library (oneDNN) to use the following CPU instructions in performance-critical operations:  AVX512F\n",
            "To enable them in other operations, rebuild TensorFlow with the appropriate compiler flags.\n",
            "2021-02-15 20:36:05.082729: I tensorflow/compiler/jit/xla_gpu_device.cc:99] Not creating XLA devices, tf_xla_enable_xla_devices not set\n",
            "2021-02-15 20:36:05.082868: I tensorflow/stream_executor/cuda/cuda_gpu_executor.cc:941] successful NUMA node read from SysFS had negative value (-1), but there must be at least one NUMA node, so returning NUMA node zero\n",
            "2021-02-15 20:36:05.083565: I tensorflow/core/common_runtime/gpu/gpu_device.cc:1720] Found device 0 with properties: \n",
            "pciBusID: 0000:00:04.0 name: Tesla V100-SXM2-16GB computeCapability: 7.0\n",
            "coreClock: 1.53GHz coreCount: 80 deviceMemorySize: 15.78GiB deviceMemoryBandwidth: 836.37GiB/s\n",
            "2021-02-15 20:36:05.083612: I tensorflow/stream_executor/platform/default/dso_loader.cc:49] Successfully opened dynamic library libcudart.so.10.1\n",
            "2021-02-15 20:36:05.083670: I tensorflow/stream_executor/platform/default/dso_loader.cc:49] Successfully opened dynamic library libcublas.so.10\n",
            "2021-02-15 20:36:05.083697: I tensorflow/stream_executor/platform/default/dso_loader.cc:49] Successfully opened dynamic library libcublasLt.so.10\n",
            "2021-02-15 20:36:05.083721: I tensorflow/stream_executor/platform/default/dso_loader.cc:49] Successfully opened dynamic library libcufft.so.10\n",
            "2021-02-15 20:36:05.083745: I tensorflow/stream_executor/platform/default/dso_loader.cc:49] Successfully opened dynamic library libcurand.so.10\n",
            "2021-02-15 20:36:05.083772: I tensorflow/stream_executor/platform/default/dso_loader.cc:49] Successfully opened dynamic library libcusolver.so.10\n",
            "2021-02-15 20:36:05.083794: I tensorflow/stream_executor/platform/default/dso_loader.cc:49] Successfully opened dynamic library libcusparse.so.10\n",
            "2021-02-15 20:36:05.083818: I tensorflow/stream_executor/platform/default/dso_loader.cc:49] Successfully opened dynamic library libcudnn.so.7\n",
            "2021-02-15 20:36:05.083898: I tensorflow/stream_executor/cuda/cuda_gpu_executor.cc:941] successful NUMA node read from SysFS had negative value (-1), but there must be at least one NUMA node, so returning NUMA node zero\n",
            "2021-02-15 20:36:05.084600: I tensorflow/stream_executor/cuda/cuda_gpu_executor.cc:941] successful NUMA node read from SysFS had negative value (-1), but there must be at least one NUMA node, so returning NUMA node zero\n",
            "2021-02-15 20:36:05.085221: I tensorflow/core/common_runtime/gpu/gpu_device.cc:1862] Adding visible gpu devices: 0\n",
            "2021-02-15 20:36:05.088263: I tensorflow/stream_executor/platform/default/dso_loader.cc:49] Successfully opened dynamic library libcudart.so.10.1\n",
            "2021-02-15 20:36:07.335799: I tensorflow/core/common_runtime/gpu/gpu_device.cc:1261] Device interconnect StreamExecutor with strength 1 edge matrix:\n",
            "2021-02-15 20:36:07.335855: I tensorflow/core/common_runtime/gpu/gpu_device.cc:1267]      0 \n",
            "2021-02-15 20:36:07.335865: I tensorflow/core/common_runtime/gpu/gpu_device.cc:1280] 0:   N \n",
            "2021-02-15 20:36:07.342594: I tensorflow/stream_executor/cuda/cuda_gpu_executor.cc:941] successful NUMA node read from SysFS had negative value (-1), but there must be at least one NUMA node, so returning NUMA node zero\n",
            "2021-02-15 20:36:07.343324: I tensorflow/stream_executor/cuda/cuda_gpu_executor.cc:941] successful NUMA node read from SysFS had negative value (-1), but there must be at least one NUMA node, so returning NUMA node zero\n",
            "2021-02-15 20:36:07.344034: I tensorflow/stream_executor/cuda/cuda_gpu_executor.cc:941] successful NUMA node read from SysFS had negative value (-1), but there must be at least one NUMA node, so returning NUMA node zero\n",
            "2021-02-15 20:36:07.344647: W tensorflow/core/common_runtime/gpu/gpu_bfc_allocator.cc:39] Overriding allow_growth setting because the TF_FORCE_GPU_ALLOW_GROWTH environment variable is set. Original config value was 0.\n",
            "2021-02-15 20:36:07.344696: I tensorflow/core/common_runtime/gpu/gpu_device.cc:1406] Created TensorFlow device (/job:localhost/replica:0/task:0/device:GPU:0 with 14788 MB memory) -> physical GPU (device: 0, name: Tesla V100-SXM2-16GB, pci bus id: 0000:00:04.0, compute capability: 7.0)\n",
            "INFO:tensorflow:time(__main__.ModelBuilderTF2Test.test_create_center_net_model): 6.57s\n",
            "I0215 20:36:10.307252 139813860345728 test_util.py:2076] time(__main__.ModelBuilderTF2Test.test_create_center_net_model): 6.57s\n",
            "[       OK ] ModelBuilderTF2Test.test_create_center_net_model\n",
            "[ RUN      ] ModelBuilderTF2Test.test_create_experimental_model\n",
            "INFO:tensorflow:time(__main__.ModelBuilderTF2Test.test_create_experimental_model): 0.0s\n",
            "I0215 20:36:10.308512 139813860345728 test_util.py:2076] time(__main__.ModelBuilderTF2Test.test_create_experimental_model): 0.0s\n",
            "[       OK ] ModelBuilderTF2Test.test_create_experimental_model\n",
            "[ RUN      ] ModelBuilderTF2Test.test_create_faster_rcnn_from_config_with_crop_feature0 (True)\n",
            "INFO:tensorflow:time(__main__.ModelBuilderTF2Test.test_create_faster_rcnn_from_config_with_crop_feature0 (True)): 0.05s\n",
            "I0215 20:36:10.361284 139813860345728 test_util.py:2076] time(__main__.ModelBuilderTF2Test.test_create_faster_rcnn_from_config_with_crop_feature0 (True)): 0.05s\n",
            "[       OK ] ModelBuilderTF2Test.test_create_faster_rcnn_from_config_with_crop_feature0 (True)\n",
            "[ RUN      ] ModelBuilderTF2Test.test_create_faster_rcnn_from_config_with_crop_feature1 (False)\n",
            "INFO:tensorflow:time(__main__.ModelBuilderTF2Test.test_create_faster_rcnn_from_config_with_crop_feature1 (False)): 0.02s\n",
            "I0215 20:36:10.384920 139813860345728 test_util.py:2076] time(__main__.ModelBuilderTF2Test.test_create_faster_rcnn_from_config_with_crop_feature1 (False)): 0.02s\n",
            "[       OK ] ModelBuilderTF2Test.test_create_faster_rcnn_from_config_with_crop_feature1 (False)\n",
            "[ RUN      ] ModelBuilderTF2Test.test_create_faster_rcnn_model_from_config_with_example_miner\n",
            "INFO:tensorflow:time(__main__.ModelBuilderTF2Test.test_create_faster_rcnn_model_from_config_with_example_miner): 0.03s\n",
            "I0215 20:36:10.410930 139813860345728 test_util.py:2076] time(__main__.ModelBuilderTF2Test.test_create_faster_rcnn_model_from_config_with_example_miner): 0.03s\n",
            "[       OK ] ModelBuilderTF2Test.test_create_faster_rcnn_model_from_config_with_example_miner\n",
            "[ RUN      ] ModelBuilderTF2Test.test_create_faster_rcnn_models_from_config_faster_rcnn_with_matmul\n",
            "INFO:tensorflow:time(__main__.ModelBuilderTF2Test.test_create_faster_rcnn_models_from_config_faster_rcnn_with_matmul): 0.17s\n",
            "I0215 20:36:10.581911 139813860345728 test_util.py:2076] time(__main__.ModelBuilderTF2Test.test_create_faster_rcnn_models_from_config_faster_rcnn_with_matmul): 0.17s\n",
            "[       OK ] ModelBuilderTF2Test.test_create_faster_rcnn_models_from_config_faster_rcnn_with_matmul\n",
            "[ RUN      ] ModelBuilderTF2Test.test_create_faster_rcnn_models_from_config_faster_rcnn_without_matmul\n",
            "INFO:tensorflow:time(__main__.ModelBuilderTF2Test.test_create_faster_rcnn_models_from_config_faster_rcnn_without_matmul): 0.16s\n",
            "I0215 20:36:10.739272 139813860345728 test_util.py:2076] time(__main__.ModelBuilderTF2Test.test_create_faster_rcnn_models_from_config_faster_rcnn_without_matmul): 0.16s\n",
            "[       OK ] ModelBuilderTF2Test.test_create_faster_rcnn_models_from_config_faster_rcnn_without_matmul\n",
            "[ RUN      ] ModelBuilderTF2Test.test_create_faster_rcnn_models_from_config_mask_rcnn_with_matmul\n",
            "INFO:tensorflow:time(__main__.ModelBuilderTF2Test.test_create_faster_rcnn_models_from_config_mask_rcnn_with_matmul): 0.16s\n",
            "I0215 20:36:10.903920 139813860345728 test_util.py:2076] time(__main__.ModelBuilderTF2Test.test_create_faster_rcnn_models_from_config_mask_rcnn_with_matmul): 0.16s\n",
            "[       OK ] ModelBuilderTF2Test.test_create_faster_rcnn_models_from_config_mask_rcnn_with_matmul\n",
            "[ RUN      ] ModelBuilderTF2Test.test_create_faster_rcnn_models_from_config_mask_rcnn_without_matmul\n",
            "INFO:tensorflow:time(__main__.ModelBuilderTF2Test.test_create_faster_rcnn_models_from_config_mask_rcnn_without_matmul): 0.17s\n",
            "I0215 20:36:11.076682 139813860345728 test_util.py:2076] time(__main__.ModelBuilderTF2Test.test_create_faster_rcnn_models_from_config_mask_rcnn_without_matmul): 0.17s\n",
            "[       OK ] ModelBuilderTF2Test.test_create_faster_rcnn_models_from_config_mask_rcnn_without_matmul\n",
            "[ RUN      ] ModelBuilderTF2Test.test_create_rfcn_model_from_config\n",
            "INFO:tensorflow:time(__main__.ModelBuilderTF2Test.test_create_rfcn_model_from_config): 0.17s\n",
            "I0215 20:36:11.245467 139813860345728 test_util.py:2076] time(__main__.ModelBuilderTF2Test.test_create_rfcn_model_from_config): 0.17s\n",
            "[       OK ] ModelBuilderTF2Test.test_create_rfcn_model_from_config\n",
            "[ RUN      ] ModelBuilderTF2Test.test_create_ssd_fpn_model_from_config\n",
            "INFO:tensorflow:time(__main__.ModelBuilderTF2Test.test_create_ssd_fpn_model_from_config): 0.05s\n",
            "I0215 20:36:11.298436 139813860345728 test_util.py:2076] time(__main__.ModelBuilderTF2Test.test_create_ssd_fpn_model_from_config): 0.05s\n",
            "[       OK ] ModelBuilderTF2Test.test_create_ssd_fpn_model_from_config\n",
            "[ RUN      ] ModelBuilderTF2Test.test_create_ssd_models_from_config\n",
            "I0215 20:36:11.762346 139813860345728 ssd_efficientnet_bifpn_feature_extractor.py:144] EfficientDet EfficientNet backbone version: efficientnet-b0\n",
            "I0215 20:36:11.762551 139813860345728 ssd_efficientnet_bifpn_feature_extractor.py:145] EfficientDet BiFPN num filters: 64\n",
            "I0215 20:36:11.762643 139813860345728 ssd_efficientnet_bifpn_feature_extractor.py:147] EfficientDet BiFPN num iterations: 3\n",
            "I0215 20:36:11.769030 139813860345728 efficientnet_model.py:147] round_filter input=32 output=32\n",
            "I0215 20:36:11.787694 139813860345728 efficientnet_model.py:147] round_filter input=32 output=32\n",
            "I0215 20:36:11.787836 139813860345728 efficientnet_model.py:147] round_filter input=16 output=16\n",
            "I0215 20:36:11.850251 139813860345728 efficientnet_model.py:147] round_filter input=16 output=16\n",
            "I0215 20:36:11.850441 139813860345728 efficientnet_model.py:147] round_filter input=24 output=24\n",
            "I0215 20:36:12.008621 139813860345728 efficientnet_model.py:147] round_filter input=24 output=24\n",
            "I0215 20:36:12.008809 139813860345728 efficientnet_model.py:147] round_filter input=40 output=40\n",
            "I0215 20:36:12.167423 139813860345728 efficientnet_model.py:147] round_filter input=40 output=40\n",
            "I0215 20:36:12.167613 139813860345728 efficientnet_model.py:147] round_filter input=80 output=80\n",
            "I0215 20:36:12.399955 139813860345728 efficientnet_model.py:147] round_filter input=80 output=80\n",
            "I0215 20:36:12.400136 139813860345728 efficientnet_model.py:147] round_filter input=112 output=112\n",
            "I0215 20:36:12.638757 139813860345728 efficientnet_model.py:147] round_filter input=112 output=112\n",
            "I0215 20:36:12.638935 139813860345728 efficientnet_model.py:147] round_filter input=192 output=192\n",
            "I0215 20:36:12.959819 139813860345728 efficientnet_model.py:147] round_filter input=192 output=192\n",
            "I0215 20:36:12.960012 139813860345728 efficientnet_model.py:147] round_filter input=320 output=320\n",
            "I0215 20:36:13.041233 139813860345728 efficientnet_model.py:147] round_filter input=1280 output=1280\n",
            "I0215 20:36:13.073928 139813860345728 efficientnet_model.py:458] Building model efficientnet with params ModelConfig(width_coefficient=1.0, depth_coefficient=1.0, resolution=224, dropout_rate=0.2, blocks=(BlockConfig(input_filters=32, output_filters=16, kernel_size=3, num_repeat=1, expand_ratio=1, strides=(1, 1), se_ratio=0.25, id_skip=True, fused_conv=False, conv_type='depthwise'), BlockConfig(input_filters=16, output_filters=24, kernel_size=3, num_repeat=2, expand_ratio=6, strides=(2, 2), se_ratio=0.25, id_skip=True, fused_conv=False, conv_type='depthwise'), BlockConfig(input_filters=24, output_filters=40, kernel_size=5, num_repeat=2, expand_ratio=6, strides=(2, 2), se_ratio=0.25, id_skip=True, fused_conv=False, conv_type='depthwise'), BlockConfig(input_filters=40, output_filters=80, kernel_size=3, num_repeat=3, expand_ratio=6, strides=(2, 2), se_ratio=0.25, id_skip=True, fused_conv=False, conv_type='depthwise'), BlockConfig(input_filters=80, output_filters=112, kernel_size=5, num_repeat=3, expand_ratio=6, strides=(1, 1), se_ratio=0.25, id_skip=True, fused_conv=False, conv_type='depthwise'), BlockConfig(input_filters=112, output_filters=192, kernel_size=5, num_repeat=4, expand_ratio=6, strides=(2, 2), se_ratio=0.25, id_skip=True, fused_conv=False, conv_type='depthwise'), BlockConfig(input_filters=192, output_filters=320, kernel_size=3, num_repeat=1, expand_ratio=6, strides=(1, 1), se_ratio=0.25, id_skip=True, fused_conv=False, conv_type='depthwise')), stem_base_filters=32, top_base_filters=1280, activation='simple_swish', batch_norm='default', bn_momentum=0.99, bn_epsilon=0.001, weight_decay=5e-06, drop_connect_rate=0.2, depth_divisor=8, min_depth=None, use_se=True, input_channels=3, num_classes=1000, model_name='efficientnet', rescale_input=False, data_format='channels_last', dtype='float32')\n",
            "I0215 20:36:13.159503 139813860345728 ssd_efficientnet_bifpn_feature_extractor.py:144] EfficientDet EfficientNet backbone version: efficientnet-b1\n",
            "I0215 20:36:13.159678 139813860345728 ssd_efficientnet_bifpn_feature_extractor.py:145] EfficientDet BiFPN num filters: 88\n",
            "I0215 20:36:13.159735 139813860345728 ssd_efficientnet_bifpn_feature_extractor.py:147] EfficientDet BiFPN num iterations: 4\n",
            "I0215 20:36:13.164204 139813860345728 efficientnet_model.py:147] round_filter input=32 output=32\n",
            "I0215 20:36:13.179981 139813860345728 efficientnet_model.py:147] round_filter input=32 output=32\n",
            "I0215 20:36:13.180107 139813860345728 efficientnet_model.py:147] round_filter input=16 output=16\n",
            "I0215 20:36:13.302517 139813860345728 efficientnet_model.py:147] round_filter input=16 output=16\n",
            "I0215 20:36:13.302687 139813860345728 efficientnet_model.py:147] round_filter input=24 output=24\n",
            "I0215 20:36:13.544384 139813860345728 efficientnet_model.py:147] round_filter input=24 output=24\n",
            "I0215 20:36:13.544590 139813860345728 efficientnet_model.py:147] round_filter input=40 output=40\n",
            "I0215 20:36:13.779830 139813860345728 efficientnet_model.py:147] round_filter input=40 output=40\n",
            "I0215 20:36:13.780012 139813860345728 efficientnet_model.py:147] round_filter input=80 output=80\n",
            "I0215 20:36:14.115112 139813860345728 efficientnet_model.py:147] round_filter input=80 output=80\n",
            "I0215 20:36:14.115306 139813860345728 efficientnet_model.py:147] round_filter input=112 output=112\n",
            "I0215 20:36:14.461536 139813860345728 efficientnet_model.py:147] round_filter input=112 output=112\n",
            "I0215 20:36:14.461724 139813860345728 efficientnet_model.py:147] round_filter input=192 output=192\n",
            "I0215 20:36:15.004270 139813860345728 efficientnet_model.py:147] round_filter input=192 output=192\n",
            "I0215 20:36:15.004483 139813860345728 efficientnet_model.py:147] round_filter input=320 output=320\n",
            "I0215 20:36:15.170260 139813860345728 efficientnet_model.py:147] round_filter input=1280 output=1280\n",
            "I0215 20:36:15.203179 139813860345728 efficientnet_model.py:458] Building model efficientnet with params ModelConfig(width_coefficient=1.0, depth_coefficient=1.1, resolution=240, dropout_rate=0.2, blocks=(BlockConfig(input_filters=32, output_filters=16, kernel_size=3, num_repeat=1, expand_ratio=1, strides=(1, 1), se_ratio=0.25, id_skip=True, fused_conv=False, conv_type='depthwise'), BlockConfig(input_filters=16, output_filters=24, kernel_size=3, num_repeat=2, expand_ratio=6, strides=(2, 2), se_ratio=0.25, id_skip=True, fused_conv=False, conv_type='depthwise'), BlockConfig(input_filters=24, output_filters=40, kernel_size=5, num_repeat=2, expand_ratio=6, strides=(2, 2), se_ratio=0.25, id_skip=True, fused_conv=False, conv_type='depthwise'), BlockConfig(input_filters=40, output_filters=80, kernel_size=3, num_repeat=3, expand_ratio=6, strides=(2, 2), se_ratio=0.25, id_skip=True, fused_conv=False, conv_type='depthwise'), BlockConfig(input_filters=80, output_filters=112, kernel_size=5, num_repeat=3, expand_ratio=6, strides=(1, 1), se_ratio=0.25, id_skip=True, fused_conv=False, conv_type='depthwise'), BlockConfig(input_filters=112, output_filters=192, kernel_size=5, num_repeat=4, expand_ratio=6, strides=(2, 2), se_ratio=0.25, id_skip=True, fused_conv=False, conv_type='depthwise'), BlockConfig(input_filters=192, output_filters=320, kernel_size=3, num_repeat=1, expand_ratio=6, strides=(1, 1), se_ratio=0.25, id_skip=True, fused_conv=False, conv_type='depthwise')), stem_base_filters=32, top_base_filters=1280, activation='simple_swish', batch_norm='default', bn_momentum=0.99, bn_epsilon=0.001, weight_decay=5e-06, drop_connect_rate=0.2, depth_divisor=8, min_depth=None, use_se=True, input_channels=3, num_classes=1000, model_name='efficientnet', rescale_input=False, data_format='channels_last', dtype='float32')\n",
            "I0215 20:36:15.297984 139813860345728 ssd_efficientnet_bifpn_feature_extractor.py:144] EfficientDet EfficientNet backbone version: efficientnet-b2\n",
            "I0215 20:36:15.298193 139813860345728 ssd_efficientnet_bifpn_feature_extractor.py:145] EfficientDet BiFPN num filters: 112\n",
            "I0215 20:36:15.298264 139813860345728 ssd_efficientnet_bifpn_feature_extractor.py:147] EfficientDet BiFPN num iterations: 5\n",
            "I0215 20:36:15.303202 139813860345728 efficientnet_model.py:147] round_filter input=32 output=32\n",
            "I0215 20:36:15.322192 139813860345728 efficientnet_model.py:147] round_filter input=32 output=32\n",
            "I0215 20:36:15.322400 139813860345728 efficientnet_model.py:147] round_filter input=16 output=16\n",
            "I0215 20:36:15.460157 139813860345728 efficientnet_model.py:147] round_filter input=16 output=16\n",
            "I0215 20:36:15.460360 139813860345728 efficientnet_model.py:147] round_filter input=24 output=24\n",
            "I0215 20:36:15.727725 139813860345728 efficientnet_model.py:147] round_filter input=24 output=24\n",
            "I0215 20:36:15.727918 139813860345728 efficientnet_model.py:147] round_filter input=40 output=48\n",
            "I0215 20:36:15.991225 139813860345728 efficientnet_model.py:147] round_filter input=40 output=48\n",
            "I0215 20:36:15.991426 139813860345728 efficientnet_model.py:147] round_filter input=80 output=88\n",
            "I0215 20:36:16.327572 139813860345728 efficientnet_model.py:147] round_filter input=80 output=88\n",
            "I0215 20:36:16.327758 139813860345728 efficientnet_model.py:147] round_filter input=112 output=120\n",
            "I0215 20:36:16.647311 139813860345728 efficientnet_model.py:147] round_filter input=112 output=120\n",
            "I0215 20:36:16.647535 139813860345728 efficientnet_model.py:147] round_filter input=192 output=208\n",
            "I0215 20:36:17.064488 139813860345728 efficientnet_model.py:147] round_filter input=192 output=208\n",
            "I0215 20:36:17.064667 139813860345728 efficientnet_model.py:147] round_filter input=320 output=352\n",
            "I0215 20:36:17.220285 139813860345728 efficientnet_model.py:147] round_filter input=1280 output=1408\n",
            "I0215 20:36:17.250806 139813860345728 efficientnet_model.py:458] Building model efficientnet with params ModelConfig(width_coefficient=1.1, depth_coefficient=1.2, resolution=260, dropout_rate=0.3, blocks=(BlockConfig(input_filters=32, output_filters=16, kernel_size=3, num_repeat=1, expand_ratio=1, strides=(1, 1), se_ratio=0.25, id_skip=True, fused_conv=False, conv_type='depthwise'), BlockConfig(input_filters=16, output_filters=24, kernel_size=3, num_repeat=2, expand_ratio=6, strides=(2, 2), se_ratio=0.25, id_skip=True, fused_conv=False, conv_type='depthwise'), BlockConfig(input_filters=24, output_filters=40, kernel_size=5, num_repeat=2, expand_ratio=6, strides=(2, 2), se_ratio=0.25, id_skip=True, fused_conv=False, conv_type='depthwise'), BlockConfig(input_filters=40, output_filters=80, kernel_size=3, num_repeat=3, expand_ratio=6, strides=(2, 2), se_ratio=0.25, id_skip=True, fused_conv=False, conv_type='depthwise'), BlockConfig(input_filters=80, output_filters=112, kernel_size=5, num_repeat=3, expand_ratio=6, strides=(1, 1), se_ratio=0.25, id_skip=True, fused_conv=False, conv_type='depthwise'), BlockConfig(input_filters=112, output_filters=192, kernel_size=5, num_repeat=4, expand_ratio=6, strides=(2, 2), se_ratio=0.25, id_skip=True, fused_conv=False, conv_type='depthwise'), BlockConfig(input_filters=192, output_filters=320, kernel_size=3, num_repeat=1, expand_ratio=6, strides=(1, 1), se_ratio=0.25, id_skip=True, fused_conv=False, conv_type='depthwise')), stem_base_filters=32, top_base_filters=1280, activation='simple_swish', batch_norm='default', bn_momentum=0.99, bn_epsilon=0.001, weight_decay=5e-06, drop_connect_rate=0.2, depth_divisor=8, min_depth=None, use_se=True, input_channels=3, num_classes=1000, model_name='efficientnet', rescale_input=False, data_format='channels_last', dtype='float32')\n",
            "I0215 20:36:17.339561 139813860345728 ssd_efficientnet_bifpn_feature_extractor.py:144] EfficientDet EfficientNet backbone version: efficientnet-b3\n",
            "I0215 20:36:17.339752 139813860345728 ssd_efficientnet_bifpn_feature_extractor.py:145] EfficientDet BiFPN num filters: 160\n",
            "I0215 20:36:17.339820 139813860345728 ssd_efficientnet_bifpn_feature_extractor.py:147] EfficientDet BiFPN num iterations: 6\n",
            "I0215 20:36:17.344639 139813860345728 efficientnet_model.py:147] round_filter input=32 output=40\n",
            "I0215 20:36:17.363168 139813860345728 efficientnet_model.py:147] round_filter input=32 output=40\n",
            "I0215 20:36:17.363325 139813860345728 efficientnet_model.py:147] round_filter input=16 output=24\n",
            "I0215 20:36:17.491634 139813860345728 efficientnet_model.py:147] round_filter input=16 output=24\n",
            "I0215 20:36:17.491827 139813860345728 efficientnet_model.py:147] round_filter input=24 output=32\n",
            "I0215 20:36:17.730047 139813860345728 efficientnet_model.py:147] round_filter input=24 output=32\n",
            "I0215 20:36:17.730232 139813860345728 efficientnet_model.py:147] round_filter input=40 output=48\n",
            "I0215 20:36:17.973651 139813860345728 efficientnet_model.py:147] round_filter input=40 output=48\n",
            "I0215 20:36:17.973834 139813860345728 efficientnet_model.py:147] round_filter input=80 output=96\n",
            "I0215 20:36:18.376097 139813860345728 efficientnet_model.py:147] round_filter input=80 output=96\n",
            "I0215 20:36:18.376280 139813860345728 efficientnet_model.py:147] round_filter input=112 output=136\n",
            "I0215 20:36:18.776133 139813860345728 efficientnet_model.py:147] round_filter input=112 output=136\n",
            "I0215 20:36:18.776312 139813860345728 efficientnet_model.py:147] round_filter input=192 output=232\n",
            "I0215 20:36:19.441063 139813860345728 efficientnet_model.py:147] round_filter input=192 output=232\n",
            "I0215 20:36:19.441240 139813860345728 efficientnet_model.py:147] round_filter input=320 output=384\n",
            "I0215 20:36:19.597001 139813860345728 efficientnet_model.py:147] round_filter input=1280 output=1536\n",
            "I0215 20:36:19.625833 139813860345728 efficientnet_model.py:458] Building model efficientnet with params ModelConfig(width_coefficient=1.2, depth_coefficient=1.4, resolution=300, dropout_rate=0.3, blocks=(BlockConfig(input_filters=32, output_filters=16, kernel_size=3, num_repeat=1, expand_ratio=1, strides=(1, 1), se_ratio=0.25, id_skip=True, fused_conv=False, conv_type='depthwise'), BlockConfig(input_filters=16, output_filters=24, kernel_size=3, num_repeat=2, expand_ratio=6, strides=(2, 2), se_ratio=0.25, id_skip=True, fused_conv=False, conv_type='depthwise'), BlockConfig(input_filters=24, output_filters=40, kernel_size=5, num_repeat=2, expand_ratio=6, strides=(2, 2), se_ratio=0.25, id_skip=True, fused_conv=False, conv_type='depthwise'), BlockConfig(input_filters=40, output_filters=80, kernel_size=3, num_repeat=3, expand_ratio=6, strides=(2, 2), se_ratio=0.25, id_skip=True, fused_conv=False, conv_type='depthwise'), BlockConfig(input_filters=80, output_filters=112, kernel_size=5, num_repeat=3, expand_ratio=6, strides=(1, 1), se_ratio=0.25, id_skip=True, fused_conv=False, conv_type='depthwise'), BlockConfig(input_filters=112, output_filters=192, kernel_size=5, num_repeat=4, expand_ratio=6, strides=(2, 2), se_ratio=0.25, id_skip=True, fused_conv=False, conv_type='depthwise'), BlockConfig(input_filters=192, output_filters=320, kernel_size=3, num_repeat=1, expand_ratio=6, strides=(1, 1), se_ratio=0.25, id_skip=True, fused_conv=False, conv_type='depthwise')), stem_base_filters=32, top_base_filters=1280, activation='simple_swish', batch_norm='default', bn_momentum=0.99, bn_epsilon=0.001, weight_decay=5e-06, drop_connect_rate=0.2, depth_divisor=8, min_depth=None, use_se=True, input_channels=3, num_classes=1000, model_name='efficientnet', rescale_input=False, data_format='channels_last', dtype='float32')\n",
            "I0215 20:36:19.722644 139813860345728 ssd_efficientnet_bifpn_feature_extractor.py:144] EfficientDet EfficientNet backbone version: efficientnet-b4\n",
            "I0215 20:36:19.722854 139813860345728 ssd_efficientnet_bifpn_feature_extractor.py:145] EfficientDet BiFPN num filters: 224\n",
            "I0215 20:36:19.722936 139813860345728 ssd_efficientnet_bifpn_feature_extractor.py:147] EfficientDet BiFPN num iterations: 7\n",
            "I0215 20:36:19.727907 139813860345728 efficientnet_model.py:147] round_filter input=32 output=48\n",
            "I0215 20:36:19.745529 139813860345728 efficientnet_model.py:147] round_filter input=32 output=48\n",
            "I0215 20:36:19.745678 139813860345728 efficientnet_model.py:147] round_filter input=16 output=24\n",
            "I0215 20:36:19.876237 139813860345728 efficientnet_model.py:147] round_filter input=16 output=24\n",
            "I0215 20:36:19.876454 139813860345728 efficientnet_model.py:147] round_filter input=24 output=32\n",
            "I0215 20:36:20.206892 139813860345728 efficientnet_model.py:147] round_filter input=24 output=32\n",
            "I0215 20:36:20.207069 139813860345728 efficientnet_model.py:147] round_filter input=40 output=56\n",
            "I0215 20:36:20.532361 139813860345728 efficientnet_model.py:147] round_filter input=40 output=56\n",
            "I0215 20:36:20.532536 139813860345728 efficientnet_model.py:147] round_filter input=80 output=112\n",
            "I0215 20:36:21.018570 139813860345728 efficientnet_model.py:147] round_filter input=80 output=112\n",
            "I0215 20:36:21.018746 139813860345728 efficientnet_model.py:147] round_filter input=112 output=160\n",
            "I0215 20:36:21.484443 139813860345728 efficientnet_model.py:147] round_filter input=112 output=160\n",
            "I0215 20:36:21.484631 139813860345728 efficientnet_model.py:147] round_filter input=192 output=272\n",
            "I0215 20:36:22.124179 139813860345728 efficientnet_model.py:147] round_filter input=192 output=272\n",
            "I0215 20:36:22.124383 139813860345728 efficientnet_model.py:147] round_filter input=320 output=448\n",
            "I0215 20:36:22.278548 139813860345728 efficientnet_model.py:147] round_filter input=1280 output=1792\n",
            "I0215 20:36:22.307597 139813860345728 efficientnet_model.py:458] Building model efficientnet with params ModelConfig(width_coefficient=1.4, depth_coefficient=1.8, resolution=380, dropout_rate=0.4, blocks=(BlockConfig(input_filters=32, output_filters=16, kernel_size=3, num_repeat=1, expand_ratio=1, strides=(1, 1), se_ratio=0.25, id_skip=True, fused_conv=False, conv_type='depthwise'), BlockConfig(input_filters=16, output_filters=24, kernel_size=3, num_repeat=2, expand_ratio=6, strides=(2, 2), se_ratio=0.25, id_skip=True, fused_conv=False, conv_type='depthwise'), BlockConfig(input_filters=24, output_filters=40, kernel_size=5, num_repeat=2, expand_ratio=6, strides=(2, 2), se_ratio=0.25, id_skip=True, fused_conv=False, conv_type='depthwise'), BlockConfig(input_filters=40, output_filters=80, kernel_size=3, num_repeat=3, expand_ratio=6, strides=(2, 2), se_ratio=0.25, id_skip=True, fused_conv=False, conv_type='depthwise'), BlockConfig(input_filters=80, output_filters=112, kernel_size=5, num_repeat=3, expand_ratio=6, strides=(1, 1), se_ratio=0.25, id_skip=True, fused_conv=False, conv_type='depthwise'), BlockConfig(input_filters=112, output_filters=192, kernel_size=5, num_repeat=4, expand_ratio=6, strides=(2, 2), se_ratio=0.25, id_skip=True, fused_conv=False, conv_type='depthwise'), BlockConfig(input_filters=192, output_filters=320, kernel_size=3, num_repeat=1, expand_ratio=6, strides=(1, 1), se_ratio=0.25, id_skip=True, fused_conv=False, conv_type='depthwise')), stem_base_filters=32, top_base_filters=1280, activation='simple_swish', batch_norm='default', bn_momentum=0.99, bn_epsilon=0.001, weight_decay=5e-06, drop_connect_rate=0.2, depth_divisor=8, min_depth=None, use_se=True, input_channels=3, num_classes=1000, model_name='efficientnet', rescale_input=False, data_format='channels_last', dtype='float32')\n",
            "I0215 20:36:22.409816 139813860345728 ssd_efficientnet_bifpn_feature_extractor.py:144] EfficientDet EfficientNet backbone version: efficientnet-b5\n",
            "I0215 20:36:22.409995 139813860345728 ssd_efficientnet_bifpn_feature_extractor.py:145] EfficientDet BiFPN num filters: 288\n",
            "I0215 20:36:22.410079 139813860345728 ssd_efficientnet_bifpn_feature_extractor.py:147] EfficientDet BiFPN num iterations: 7\n",
            "I0215 20:36:22.414474 139813860345728 efficientnet_model.py:147] round_filter input=32 output=48\n",
            "I0215 20:36:22.430436 139813860345728 efficientnet_model.py:147] round_filter input=32 output=48\n",
            "I0215 20:36:22.430597 139813860345728 efficientnet_model.py:147] round_filter input=16 output=24\n",
            "I0215 20:36:22.623936 139813860345728 efficientnet_model.py:147] round_filter input=16 output=24\n",
            "I0215 20:36:22.624132 139813860345728 efficientnet_model.py:147] round_filter input=24 output=40\n",
            "I0215 20:36:23.016698 139813860345728 efficientnet_model.py:147] round_filter input=24 output=40\n",
            "I0215 20:36:23.016868 139813860345728 efficientnet_model.py:147] round_filter input=40 output=64\n",
            "I0215 20:36:23.603141 139813860345728 efficientnet_model.py:147] round_filter input=40 output=64\n",
            "I0215 20:36:23.603311 139813860345728 efficientnet_model.py:147] round_filter input=80 output=128\n",
            "I0215 20:36:24.163560 139813860345728 efficientnet_model.py:147] round_filter input=80 output=128\n",
            "I0215 20:36:24.163752 139813860345728 efficientnet_model.py:147] round_filter input=112 output=176\n",
            "I0215 20:36:24.760207 139813860345728 efficientnet_model.py:147] round_filter input=112 output=176\n",
            "I0215 20:36:24.760411 139813860345728 efficientnet_model.py:147] round_filter input=192 output=304\n",
            "I0215 20:36:25.482196 139813860345728 efficientnet_model.py:147] round_filter input=192 output=304\n",
            "I0215 20:36:25.482403 139813860345728 efficientnet_model.py:147] round_filter input=320 output=512\n",
            "I0215 20:36:25.713227 139813860345728 efficientnet_model.py:147] round_filter input=1280 output=2048\n",
            "I0215 20:36:25.741894 139813860345728 efficientnet_model.py:458] Building model efficientnet with params ModelConfig(width_coefficient=1.6, depth_coefficient=2.2, resolution=456, dropout_rate=0.4, blocks=(BlockConfig(input_filters=32, output_filters=16, kernel_size=3, num_repeat=1, expand_ratio=1, strides=(1, 1), se_ratio=0.25, id_skip=True, fused_conv=False, conv_type='depthwise'), BlockConfig(input_filters=16, output_filters=24, kernel_size=3, num_repeat=2, expand_ratio=6, strides=(2, 2), se_ratio=0.25, id_skip=True, fused_conv=False, conv_type='depthwise'), BlockConfig(input_filters=24, output_filters=40, kernel_size=5, num_repeat=2, expand_ratio=6, strides=(2, 2), se_ratio=0.25, id_skip=True, fused_conv=False, conv_type='depthwise'), BlockConfig(input_filters=40, output_filters=80, kernel_size=3, num_repeat=3, expand_ratio=6, strides=(2, 2), se_ratio=0.25, id_skip=True, fused_conv=False, conv_type='depthwise'), BlockConfig(input_filters=80, output_filters=112, kernel_size=5, num_repeat=3, expand_ratio=6, strides=(1, 1), se_ratio=0.25, id_skip=True, fused_conv=False, conv_type='depthwise'), BlockConfig(input_filters=112, output_filters=192, kernel_size=5, num_repeat=4, expand_ratio=6, strides=(2, 2), se_ratio=0.25, id_skip=True, fused_conv=False, conv_type='depthwise'), BlockConfig(input_filters=192, output_filters=320, kernel_size=3, num_repeat=1, expand_ratio=6, strides=(1, 1), se_ratio=0.25, id_skip=True, fused_conv=False, conv_type='depthwise')), stem_base_filters=32, top_base_filters=1280, activation='simple_swish', batch_norm='default', bn_momentum=0.99, bn_epsilon=0.001, weight_decay=5e-06, drop_connect_rate=0.2, depth_divisor=8, min_depth=None, use_se=True, input_channels=3, num_classes=1000, model_name='efficientnet', rescale_input=False, data_format='channels_last', dtype='float32')\n",
            "I0215 20:36:25.856621 139813860345728 ssd_efficientnet_bifpn_feature_extractor.py:144] EfficientDet EfficientNet backbone version: efficientnet-b6\n",
            "I0215 20:36:25.856804 139813860345728 ssd_efficientnet_bifpn_feature_extractor.py:145] EfficientDet BiFPN num filters: 384\n",
            "I0215 20:36:25.856891 139813860345728 ssd_efficientnet_bifpn_feature_extractor.py:147] EfficientDet BiFPN num iterations: 8\n",
            "I0215 20:36:25.861545 139813860345728 efficientnet_model.py:147] round_filter input=32 output=56\n",
            "I0215 20:36:25.878280 139813860345728 efficientnet_model.py:147] round_filter input=32 output=56\n",
            "I0215 20:36:25.878432 139813860345728 efficientnet_model.py:147] round_filter input=16 output=32\n",
            "I0215 20:36:26.062891 139813860345728 efficientnet_model.py:147] round_filter input=16 output=32\n",
            "I0215 20:36:26.063070 139813860345728 efficientnet_model.py:147] round_filter input=24 output=40\n",
            "I0215 20:36:26.541223 139813860345728 efficientnet_model.py:147] round_filter input=24 output=40\n",
            "I0215 20:36:26.541419 139813860345728 efficientnet_model.py:147] round_filter input=40 output=72\n",
            "I0215 20:36:27.024736 139813860345728 efficientnet_model.py:147] round_filter input=40 output=72\n",
            "I0215 20:36:27.024907 139813860345728 efficientnet_model.py:147] round_filter input=80 output=144\n",
            "I0215 20:36:27.814565 139813860345728 efficientnet_model.py:147] round_filter input=80 output=144\n",
            "I0215 20:36:27.814733 139813860345728 efficientnet_model.py:147] round_filter input=112 output=200\n",
            "I0215 20:36:28.437370 139813860345728 efficientnet_model.py:147] round_filter input=112 output=200\n",
            "I0215 20:36:28.437544 139813860345728 efficientnet_model.py:147] round_filter input=192 output=344\n",
            "I0215 20:36:29.282153 139813860345728 efficientnet_model.py:147] round_filter input=192 output=344\n",
            "I0215 20:36:29.282359 139813860345728 efficientnet_model.py:147] round_filter input=320 output=576\n",
            "I0215 20:36:29.513632 139813860345728 efficientnet_model.py:147] round_filter input=1280 output=2304\n",
            "I0215 20:36:29.544597 139813860345728 efficientnet_model.py:458] Building model efficientnet with params ModelConfig(width_coefficient=1.8, depth_coefficient=2.6, resolution=528, dropout_rate=0.5, blocks=(BlockConfig(input_filters=32, output_filters=16, kernel_size=3, num_repeat=1, expand_ratio=1, strides=(1, 1), se_ratio=0.25, id_skip=True, fused_conv=False, conv_type='depthwise'), BlockConfig(input_filters=16, output_filters=24, kernel_size=3, num_repeat=2, expand_ratio=6, strides=(2, 2), se_ratio=0.25, id_skip=True, fused_conv=False, conv_type='depthwise'), BlockConfig(input_filters=24, output_filters=40, kernel_size=5, num_repeat=2, expand_ratio=6, strides=(2, 2), se_ratio=0.25, id_skip=True, fused_conv=False, conv_type='depthwise'), BlockConfig(input_filters=40, output_filters=80, kernel_size=3, num_repeat=3, expand_ratio=6, strides=(2, 2), se_ratio=0.25, id_skip=True, fused_conv=False, conv_type='depthwise'), BlockConfig(input_filters=80, output_filters=112, kernel_size=5, num_repeat=3, expand_ratio=6, strides=(1, 1), se_ratio=0.25, id_skip=True, fused_conv=False, conv_type='depthwise'), BlockConfig(input_filters=112, output_filters=192, kernel_size=5, num_repeat=4, expand_ratio=6, strides=(2, 2), se_ratio=0.25, id_skip=True, fused_conv=False, conv_type='depthwise'), BlockConfig(input_filters=192, output_filters=320, kernel_size=3, num_repeat=1, expand_ratio=6, strides=(1, 1), se_ratio=0.25, id_skip=True, fused_conv=False, conv_type='depthwise')), stem_base_filters=32, top_base_filters=1280, activation='simple_swish', batch_norm='default', bn_momentum=0.99, bn_epsilon=0.001, weight_decay=5e-06, drop_connect_rate=0.2, depth_divisor=8, min_depth=None, use_se=True, input_channels=3, num_classes=1000, model_name='efficientnet', rescale_input=False, data_format='channels_last', dtype='float32')\n",
            "I0215 20:36:29.677314 139813860345728 ssd_efficientnet_bifpn_feature_extractor.py:144] EfficientDet EfficientNet backbone version: efficientnet-b7\n",
            "I0215 20:36:29.677517 139813860345728 ssd_efficientnet_bifpn_feature_extractor.py:145] EfficientDet BiFPN num filters: 384\n",
            "I0215 20:36:29.677577 139813860345728 ssd_efficientnet_bifpn_feature_extractor.py:147] EfficientDet BiFPN num iterations: 8\n",
            "I0215 20:36:29.682116 139813860345728 efficientnet_model.py:147] round_filter input=32 output=64\n",
            "I0215 20:36:29.699600 139813860345728 efficientnet_model.py:147] round_filter input=32 output=64\n",
            "I0215 20:36:29.699750 139813860345728 efficientnet_model.py:147] round_filter input=16 output=32\n",
            "I0215 20:36:29.963658 139813860345728 efficientnet_model.py:147] round_filter input=16 output=32\n",
            "I0215 20:36:29.963834 139813860345728 efficientnet_model.py:147] round_filter input=24 output=48\n",
            "I0215 20:36:30.526021 139813860345728 efficientnet_model.py:147] round_filter input=24 output=48\n",
            "I0215 20:36:30.526223 139813860345728 efficientnet_model.py:147] round_filter input=40 output=80\n",
            "I0215 20:36:31.080922 139813860345728 efficientnet_model.py:147] round_filter input=40 output=80\n",
            "I0215 20:36:31.081106 139813860345728 efficientnet_model.py:147] round_filter input=80 output=160\n",
            "I0215 20:36:31.863471 139813860345728 efficientnet_model.py:147] round_filter input=80 output=160\n",
            "I0215 20:36:31.863653 139813860345728 efficientnet_model.py:147] round_filter input=112 output=224\n",
            "I0215 20:36:32.856123 139813860345728 efficientnet_model.py:147] round_filter input=112 output=224\n",
            "I0215 20:36:32.856314 139813860345728 efficientnet_model.py:147] round_filter input=192 output=384\n",
            "I0215 20:36:33.880116 139813860345728 efficientnet_model.py:147] round_filter input=192 output=384\n",
            "I0215 20:36:33.880324 139813860345728 efficientnet_model.py:147] round_filter input=320 output=640\n",
            "I0215 20:36:34.195080 139813860345728 efficientnet_model.py:147] round_filter input=1280 output=2560\n",
            "I0215 20:36:34.233271 139813860345728 efficientnet_model.py:458] Building model efficientnet with params ModelConfig(width_coefficient=2.0, depth_coefficient=3.1, resolution=600, dropout_rate=0.5, blocks=(BlockConfig(input_filters=32, output_filters=16, kernel_size=3, num_repeat=1, expand_ratio=1, strides=(1, 1), se_ratio=0.25, id_skip=True, fused_conv=False, conv_type='depthwise'), BlockConfig(input_filters=16, output_filters=24, kernel_size=3, num_repeat=2, expand_ratio=6, strides=(2, 2), se_ratio=0.25, id_skip=True, fused_conv=False, conv_type='depthwise'), BlockConfig(input_filters=24, output_filters=40, kernel_size=5, num_repeat=2, expand_ratio=6, strides=(2, 2), se_ratio=0.25, id_skip=True, fused_conv=False, conv_type='depthwise'), BlockConfig(input_filters=40, output_filters=80, kernel_size=3, num_repeat=3, expand_ratio=6, strides=(2, 2), se_ratio=0.25, id_skip=True, fused_conv=False, conv_type='depthwise'), BlockConfig(input_filters=80, output_filters=112, kernel_size=5, num_repeat=3, expand_ratio=6, strides=(1, 1), se_ratio=0.25, id_skip=True, fused_conv=False, conv_type='depthwise'), BlockConfig(input_filters=112, output_filters=192, kernel_size=5, num_repeat=4, expand_ratio=6, strides=(2, 2), se_ratio=0.25, id_skip=True, fused_conv=False, conv_type='depthwise'), BlockConfig(input_filters=192, output_filters=320, kernel_size=3, num_repeat=1, expand_ratio=6, strides=(1, 1), se_ratio=0.25, id_skip=True, fused_conv=False, conv_type='depthwise')), stem_base_filters=32, top_base_filters=1280, activation='simple_swish', batch_norm='default', bn_momentum=0.99, bn_epsilon=0.001, weight_decay=5e-06, drop_connect_rate=0.2, depth_divisor=8, min_depth=None, use_se=True, input_channels=3, num_classes=1000, model_name='efficientnet', rescale_input=False, data_format='channels_last', dtype='float32')\n",
            "INFO:tensorflow:time(__main__.ModelBuilderTF2Test.test_create_ssd_models_from_config): 23.08s\n",
            "I0215 20:36:34.376168 139813860345728 test_util.py:2076] time(__main__.ModelBuilderTF2Test.test_create_ssd_models_from_config): 23.08s\n",
            "[       OK ] ModelBuilderTF2Test.test_create_ssd_models_from_config\n",
            "[ RUN      ] ModelBuilderTF2Test.test_invalid_faster_rcnn_batchnorm_update\n",
            "INFO:tensorflow:time(__main__.ModelBuilderTF2Test.test_invalid_faster_rcnn_batchnorm_update): 0.0s\n",
            "I0215 20:36:34.382737 139813860345728 test_util.py:2076] time(__main__.ModelBuilderTF2Test.test_invalid_faster_rcnn_batchnorm_update): 0.0s\n",
            "[       OK ] ModelBuilderTF2Test.test_invalid_faster_rcnn_batchnorm_update\n",
            "[ RUN      ] ModelBuilderTF2Test.test_invalid_first_stage_nms_iou_threshold\n",
            "INFO:tensorflow:time(__main__.ModelBuilderTF2Test.test_invalid_first_stage_nms_iou_threshold): 0.0s\n",
            "I0215 20:36:34.384438 139813860345728 test_util.py:2076] time(__main__.ModelBuilderTF2Test.test_invalid_first_stage_nms_iou_threshold): 0.0s\n",
            "[       OK ] ModelBuilderTF2Test.test_invalid_first_stage_nms_iou_threshold\n",
            "[ RUN      ] ModelBuilderTF2Test.test_invalid_model_config_proto\n",
            "INFO:tensorflow:time(__main__.ModelBuilderTF2Test.test_invalid_model_config_proto): 0.0s\n",
            "I0215 20:36:34.384857 139813860345728 test_util.py:2076] time(__main__.ModelBuilderTF2Test.test_invalid_model_config_proto): 0.0s\n",
            "[       OK ] ModelBuilderTF2Test.test_invalid_model_config_proto\n",
            "[ RUN      ] ModelBuilderTF2Test.test_invalid_second_stage_batch_size\n",
            "INFO:tensorflow:time(__main__.ModelBuilderTF2Test.test_invalid_second_stage_batch_size): 0.0s\n",
            "I0215 20:36:34.386292 139813860345728 test_util.py:2076] time(__main__.ModelBuilderTF2Test.test_invalid_second_stage_batch_size): 0.0s\n",
            "[       OK ] ModelBuilderTF2Test.test_invalid_second_stage_batch_size\n",
            "[ RUN      ] ModelBuilderTF2Test.test_session\n",
            "[  SKIPPED ] ModelBuilderTF2Test.test_session\n",
            "[ RUN      ] ModelBuilderTF2Test.test_unknown_faster_rcnn_feature_extractor\n",
            "INFO:tensorflow:time(__main__.ModelBuilderTF2Test.test_unknown_faster_rcnn_feature_extractor): 0.0s\n",
            "I0215 20:36:34.387702 139813860345728 test_util.py:2076] time(__main__.ModelBuilderTF2Test.test_unknown_faster_rcnn_feature_extractor): 0.0s\n",
            "[       OK ] ModelBuilderTF2Test.test_unknown_faster_rcnn_feature_extractor\n",
            "[ RUN      ] ModelBuilderTF2Test.test_unknown_meta_architecture\n",
            "INFO:tensorflow:time(__main__.ModelBuilderTF2Test.test_unknown_meta_architecture): 0.0s\n",
            "I0215 20:36:34.388088 139813860345728 test_util.py:2076] time(__main__.ModelBuilderTF2Test.test_unknown_meta_architecture): 0.0s\n",
            "[       OK ] ModelBuilderTF2Test.test_unknown_meta_architecture\n",
            "[ RUN      ] ModelBuilderTF2Test.test_unknown_ssd_feature_extractor\n",
            "INFO:tensorflow:time(__main__.ModelBuilderTF2Test.test_unknown_ssd_feature_extractor): 0.0s\n",
            "I0215 20:36:34.389034 139813860345728 test_util.py:2076] time(__main__.ModelBuilderTF2Test.test_unknown_ssd_feature_extractor): 0.0s\n",
            "[       OK ] ModelBuilderTF2Test.test_unknown_ssd_feature_extractor\n",
            "----------------------------------------------------------------------\n",
            "Ran 20 tests in 30.648s\n",
            "\n",
            "OK (skipped=1)\n"
          ],
          "name": "stdout"
        }
      ]
    },
    {
      "cell_type": "code",
      "metadata": {
        "id": "tftXM84zSP66"
      },
      "source": [
        ""
      ],
      "execution_count": null,
      "outputs": []
    },
    {
      "cell_type": "code",
      "metadata": {
        "id": "feoGf7EISP-3"
      },
      "source": [
        ""
      ],
      "execution_count": null,
      "outputs": []
    },
    {
      "cell_type": "code",
      "metadata": {
        "id": "siIu3fuaSQCa"
      },
      "source": [
        ""
      ],
      "execution_count": null,
      "outputs": []
    },
    {
      "cell_type": "code",
      "metadata": {
        "id": "l8gsfJwpSQGi"
      },
      "source": [
        ""
      ],
      "execution_count": null,
      "outputs": []
    },
    {
      "cell_type": "code",
      "metadata": {
        "id": "qJykxdZRSQLX"
      },
      "source": [
        ""
      ],
      "execution_count": null,
      "outputs": []
    },
    {
      "cell_type": "code",
      "metadata": {
        "id": "iNC2DQRvQRwz"
      },
      "source": [
        ""
      ],
      "execution_count": null,
      "outputs": []
    },
    {
      "cell_type": "code",
      "metadata": {
        "id": "NYTO0YSKO4Vo"
      },
      "source": [
        ""
      ],
      "execution_count": null,
      "outputs": []
    },
    {
      "cell_type": "code",
      "metadata": {
        "id": "tP3t_hxfO4cz"
      },
      "source": [
        ""
      ],
      "execution_count": null,
      "outputs": []
    },
    {
      "cell_type": "code",
      "metadata": {
        "id": "saU4RfVSO4hn"
      },
      "source": [
        ""
      ],
      "execution_count": null,
      "outputs": []
    },
    {
      "cell_type": "code",
      "metadata": {
        "id": "SnT9CAOlO4mU"
      },
      "source": [
        ""
      ],
      "execution_count": null,
      "outputs": []
    },
    {
      "cell_type": "markdown",
      "metadata": {
        "id": "hj-Z7w0QJRkA"
      },
      "source": [
        "## Extract deep features ##"
      ]
    },
    {
      "cell_type": "code",
      "metadata": {
        "colab": {
          "base_uri": "https://localhost:8080/"
        },
        "id": "nto4ZXemJWVZ",
        "outputId": "3d214a36-8442-4d60-b3e0-5be02a6c49e7"
      },
      "source": [
        "!python save_dataset_features.py --data_dir data/"
      ],
      "execution_count": null,
      "outputs": [
        {
          "output_type": "stream",
          "text": [
            "100% 132/132 [00:43<00:00,  3.05it/s]\n"
          ],
          "name": "stdout"
        }
      ]
    },
    {
      "cell_type": "code",
      "metadata": {
        "id": "IQaJ6s0yJWZE"
      },
      "source": [
        ""
      ],
      "execution_count": null,
      "outputs": []
    },
    {
      "cell_type": "markdown",
      "metadata": {
        "id": "llPBkKYjKWAu"
      },
      "source": [
        "## Cluster data ##"
      ]
    },
    {
      "cell_type": "code",
      "metadata": {
        "colab": {
          "base_uri": "https://localhost:8080/"
        },
        "id": "hN28sV0TJWgO",
        "outputId": "760143c4-531b-41a6-fe20-85d293642529"
      },
      "source": [
        "!python cluster_dataset.py --data_dir data "
      ],
      "execution_count": null,
      "outputs": [
        {
          "output_type": "stream",
          "text": [
            "Complete\n",
            "Found 5 clusters\n",
            "Clustered 132 samples out of 132\n",
            "Total clustering time: 0 hours, 0 minutes\n"
          ],
          "name": "stdout"
        }
      ]
    },
    {
      "cell_type": "code",
      "metadata": {
        "id": "aq8mrElAKo_L"
      },
      "source": [
        ""
      ],
      "execution_count": null,
      "outputs": []
    },
    {
      "cell_type": "code",
      "metadata": {
        "id": "zAe3thlpKpEO"
      },
      "source": [
        ""
      ],
      "execution_count": null,
      "outputs": []
    }
  ]
}
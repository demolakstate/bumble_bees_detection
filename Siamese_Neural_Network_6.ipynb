{
  "nbformat": 4,
  "nbformat_minor": 0,
  "metadata": {
    "colab": {
      "name": "Siamese-Neural-Network-6.ipynb",
      "provenance": [],
      "machine_shape": "hm",
      "authorship_tag": "ABX9TyOuXx0jnFHmhqus5zQU7iZP",
      "include_colab_link": true
    },
    "kernelspec": {
      "name": "python3",
      "display_name": "Python 3"
    },
    "language_info": {
      "name": "python"
    },
    "accelerator": "GPU"
  },
  "cells": [
    {
      "cell_type": "markdown",
      "metadata": {
        "id": "view-in-github",
        "colab_type": "text"
      },
      "source": [
        "<a href=\"https://colab.research.google.com/github/demolakstate/bumble_bees_detection/blob/main/Siamese_Neural_Network_6.ipynb\" target=\"_parent\"><img src=\"https://colab.research.google.com/assets/colab-badge.svg\" alt=\"Open In Colab\"/></a>"
      ]
    },
    {
      "cell_type": "code",
      "metadata": {
        "id": "nz_SfcDazfID"
      },
      "source": [
        ""
      ],
      "execution_count": null,
      "outputs": []
    },
    {
      "cell_type": "code",
      "metadata": {
        "id": "S3T6G-N5z7lk"
      },
      "source": [
        "#!pip install wandb"
      ],
      "execution_count": 1,
      "outputs": []
    },
    {
      "cell_type": "code",
      "metadata": {
        "colab": {
          "base_uri": "https://localhost:8080/"
        },
        "id": "RyKlcMcGYdsj",
        "outputId": "91b060b5-529e-4bab-95d6-44a576e618bf"
      },
      "source": [
        "from google.colab import drive\n",
        "drive.mount('/content/drive')"
      ],
      "execution_count": 2,
      "outputs": [
        {
          "output_type": "stream",
          "name": "stdout",
          "text": [
            "Drive already mounted at /content/drive; to attempt to forcibly remount, call drive.mount(\"/content/drive\", force_remount=True).\n"
          ]
        }
      ]
    },
    {
      "cell_type": "code",
      "metadata": {
        "id": "RD8QWjHIzosT"
      },
      "source": [
        "import random\n",
        "import numpy as np\n",
        "import keras\n",
        "#import wandb\n",
        "#from wandb.keras import WandbCallback\n",
        "from keras.models import Sequential, Model\n",
        "from keras.layers import Flatten, Dense, Concatenate, Dot, Lambda, Input\n",
        "from keras.datasets import mnist\n",
        "#from keras.optimizers import Adam\n",
        "import matplotlib.pyplot as plt"
      ],
      "execution_count": 3,
      "outputs": []
    },
    {
      "cell_type": "code",
      "metadata": {
        "id": "ty4P-CWBYoWS"
      },
      "source": [
        "import numpy as np\n",
        "import random\n",
        "import os\n",
        "import cv2\n",
        "from keras.models import Sequential\n",
        "from keras.layers import Flatten, Dense, Conv2D, MaxPooling2D\n",
        "from keras import backend as K\n",
        "from keras.preprocessing.image import load_img, img_to_array"
      ],
      "execution_count": 4,
      "outputs": []
    },
    {
      "cell_type": "code",
      "metadata": {
        "id": "eeowlFYFsZsX"
      },
      "source": [
        "from os import path, listdir"
      ],
      "execution_count": 5,
      "outputs": []
    },
    {
      "cell_type": "code",
      "metadata": {
        "id": "I0yBYq1S9nsL"
      },
      "source": [
        "import tensorflow as tf\n"
      ],
      "execution_count": 6,
      "outputs": []
    },
    {
      "cell_type": "code",
      "metadata": {
        "id": "Em5MOpzi-IgK"
      },
      "source": [
        "batch_size = 2608\n",
        "img_height = 180\n",
        "img_width = 180"
      ],
      "execution_count": 7,
      "outputs": []
    },
    {
      "cell_type": "code",
      "metadata": {
        "id": "Ii1IiuTvHVgr"
      },
      "source": [
        "dir = \"/content/drive/MyDrive/BeeMachine/dataset_2/training2\""
      ],
      "execution_count": 8,
      "outputs": []
    },
    {
      "cell_type": "code",
      "metadata": {
        "colab": {
          "base_uri": "https://localhost:8080/"
        },
        "id": "OUqqPWCR9Y2a",
        "outputId": "74d9eeec-0740-40a0-d4e8-0d838965737e"
      },
      "source": [
        "train_ds = tf.keras.preprocessing.image_dataset_from_directory(\n",
        "    dir,\n",
        "    validation_split=0.2,\n",
        "    subset=\"training\",\n",
        "    seed=123,\n",
        "    image_size=(img_height, img_width),\n",
        "    batch_size=batch_size\n",
        ")"
      ],
      "execution_count": 9,
      "outputs": [
        {
          "output_type": "stream",
          "name": "stdout",
          "text": [
            "Found 3260 files belonging to 2 classes.\n",
            "Using 2608 files for training.\n"
          ]
        }
      ]
    },
    {
      "cell_type": "code",
      "metadata": {
        "colab": {
          "base_uri": "https://localhost:8080/"
        },
        "id": "FM4xVb4G9Y7a",
        "outputId": "475b26c7-3f97-4621-cddd-b46998b5c1e2"
      },
      "source": [
        "class_names = train_ds.class_names\n",
        "print(class_names)"
      ],
      "execution_count": 10,
      "outputs": [
        {
          "output_type": "stream",
          "name": "stdout",
          "text": [
            "['Bombus_affinis', 'Bombus_auricomus']\n"
          ]
        }
      ]
    },
    {
      "cell_type": "code",
      "metadata": {
        "colab": {
          "base_uri": "https://localhost:8080/"
        },
        "id": "YiafEXWG9Y_4",
        "outputId": "5629c4f7-ac63-45bd-fa7d-425de77d8899"
      },
      "source": [
        "for image_batch, labels_batch in train_ds:\n",
        "  print(image_batch.shape)\n",
        "  print(labels_batch.shape)\n",
        "  break"
      ],
      "execution_count": 11,
      "outputs": [
        {
          "output_type": "stream",
          "name": "stdout",
          "text": [
            "(2608, 180, 180, 3)\n",
            "(2608,)\n"
          ]
        }
      ]
    },
    {
      "cell_type": "code",
      "metadata": {
        "id": "2poDitw--fuY"
      },
      "source": [
        ""
      ],
      "execution_count": 11,
      "outputs": []
    },
    {
      "cell_type": "code",
      "metadata": {
        "colab": {
          "base_uri": "https://localhost:8080/"
        },
        "id": "YCBicewz-f02",
        "outputId": "d813c3db-522a-48fb-b4f6-5f0f788299f3"
      },
      "source": [
        "type(image_batch)"
      ],
      "execution_count": 12,
      "outputs": [
        {
          "output_type": "execute_result",
          "data": {
            "text/plain": [
              "tensorflow.python.framework.ops.EagerTensor"
            ]
          },
          "metadata": {},
          "execution_count": 12
        }
      ]
    },
    {
      "cell_type": "code",
      "metadata": {
        "id": "6fkbE5GIsGyG"
      },
      "source": [
        "#train_image_directory = \"/content/drive/MyDrive/BeeMachine/dataset_2/training2\""
      ],
      "execution_count": 13,
      "outputs": []
    },
    {
      "cell_type": "code",
      "metadata": {
        "id": "LvYxqaFQrzXs"
      },
      "source": [
        ""
      ],
      "execution_count": 13,
      "outputs": []
    },
    {
      "cell_type": "code",
      "metadata": {
        "id": "JtTS6s5aAIb1"
      },
      "source": [
        "def create_pairs(X,Y, num_classes):\n",
        "    pairs, labels = [], []\n",
        "    # index of images in X and Y for each class\n",
        "    class_idx = [np.where(Y==i)[0] for i in range(num_classes)]\n",
        "    # The minimum number of images across all classes\n",
        "    min_images = min(len(class_idx[i]) for i in range(num_classes)) - 1\n",
        "  \n",
        "    for c in range(num_classes):\n",
        "        for n in range(min_images):\n",
        "            # create positive pair\n",
        "            img1 = X[class_idx[c][n]]\n",
        "            img2 = X[class_idx[c][n+1]]\n",
        "            pairs.append((img1, img2))\n",
        "            labels.append(1.0)\n",
        "      \n",
        "            # create negative pair\n",
        "            neg_list = list(range(num_classes))\n",
        "            neg_list.remove(c)\n",
        "            # select a random class from the negative list. \n",
        "            # this class will be used to form the negative pair\n",
        "            neg_c = random.sample(neg_list,1)[0]\n",
        "            img1 = X[class_idx[c][n]]\n",
        "            img2 = X[class_idx[neg_c][n]]\n",
        "            pairs.append((img1,img2))\n",
        "            labels.append(0.0)\n",
        "\n",
        "    return np.array(pairs), np.array(labels)"
      ],
      "execution_count": 14,
      "outputs": []
    },
    {
      "cell_type": "code",
      "metadata": {
        "id": "TGZSVGNbG4Vu"
      },
      "source": [
        ""
      ],
      "execution_count": 14,
      "outputs": []
    },
    {
      "cell_type": "code",
      "metadata": {
        "id": "i0eUzuaiGe7y"
      },
      "source": [
        "pairs_train, labels_train = create_pairs(image_batch, labels_batch, 2)"
      ],
      "execution_count": 15,
      "outputs": []
    },
    {
      "cell_type": "code",
      "metadata": {
        "colab": {
          "base_uri": "https://localhost:8080/"
        },
        "id": "AT7rF0umBeQv",
        "outputId": "31d447b8-1fbc-42ea-8d26-2a1b1171a3c3"
      },
      "source": [
        "pairs_train[2,0]\n",
        "labels_train[0]"
      ],
      "execution_count": 16,
      "outputs": [
        {
          "output_type": "execute_result",
          "data": {
            "text/plain": [
              "1.0"
            ]
          },
          "metadata": {},
          "execution_count": 16
        }
      ]
    },
    {
      "cell_type": "code",
      "metadata": {
        "id": "rdothPDGCnqg"
      },
      "source": [
        ""
      ],
      "execution_count": 16,
      "outputs": []
    },
    {
      "cell_type": "code",
      "metadata": {
        "id": "Ep6W0-g_BeVu"
      },
      "source": [
        "def euclidean_distance(vectors):\n",
        "    vector1, vector2 = vectors\n",
        "    sum_square = K.sum(K.square(vector1 - vector2), axis=1, keepdims=True)\n",
        "    return K.sqrt(K.maximum(sum_square, K.epsilon()))\n",
        "\n",
        "def contrastive_loss(Y_true, D):\n",
        "    margin = 1\n",
        "    return K.mean(Y_true*K.square(D)+(1 - Y_true)*K.maximum((margin-D),0))\n",
        "\n",
        "def accuracy(y_true, y_pred):\n",
        "    return K.mean(K.equal(y_true, K.cast(y_pred < 0.5, y_true.dtype)))"
      ],
      "execution_count": 17,
      "outputs": []
    },
    {
      "cell_type": "code",
      "metadata": {
        "id": "gSkVhWznBeZ7"
      },
      "source": [
        ""
      ],
      "execution_count": 17,
      "outputs": []
    },
    {
      "cell_type": "code",
      "metadata": {
        "id": "0Jn9_95JBegb"
      },
      "source": [
        ""
      ],
      "execution_count": 17,
      "outputs": []
    },
    {
      "cell_type": "code",
      "metadata": {
        "id": "Y4hLG1erAMN4"
      },
      "source": [
        "def create_shared_network(input_shape):\n",
        "    model = Sequential(name='Shared_Conv_Network')\n",
        "    model.add(Conv2D(filters=64, kernel_size=(3,3), activation='relu', \n",
        "                     input_shape=input_shape))\n",
        "    model.add(MaxPooling2D())\n",
        "    model.add(Conv2D(filters=64, kernel_size=(3,3), activation='relu'))\n",
        "    model.add(Flatten())\n",
        "    model.add(Dense(units=128, activation='sigmoid'))\n",
        "    return model"
      ],
      "execution_count": 18,
      "outputs": []
    },
    {
      "cell_type": "code",
      "metadata": {
        "id": "tSeHA5EqAhbq"
      },
      "source": [
        ""
      ],
      "execution_count": 18,
      "outputs": []
    },
    {
      "cell_type": "code",
      "metadata": {
        "colab": {
          "base_uri": "https://localhost:8080/"
        },
        "id": "yXkdR8MuAhf0",
        "outputId": "8f181eed-8282-4810-9a9e-8e43d7ed5c6b"
      },
      "source": [
        "'''\n",
        "Main code for training a Siamese neural network for face recognition\n",
        "'''\n",
        "# import utils\n",
        "import numpy as np\n",
        "from keras.layers import Input, Lambda\n",
        "from keras.models import Model\n",
        "\n",
        "#faces_dir = 'att_faces/'\n",
        "\n",
        "# Import Training and Testing Data\n",
        "#(X_train, Y_train), (X_test, Y_test) = get_data(dir)\n",
        "X_train = image_batch\n",
        "Y_train = labels_batch\n",
        "num_classes = len(np.unique(Y_train))\n",
        "print(f'num_classes: {num_classes}')\n",
        "\n",
        "# Create Siamese Neural Network\n",
        "input_shape = X_train.shape[1:]\n",
        "#input_shape = X_train[0].shape\n",
        "shared_network = create_shared_network(input_shape)\n",
        "input_top = Input(shape=input_shape)\n",
        "input_bottom = Input(shape=input_shape)\n",
        "output_top = shared_network(input_top)\n",
        "output_bottom = shared_network(input_bottom)\n",
        "distance = Lambda(euclidean_distance, output_shape=(1,))([output_top, output_bottom])\n",
        "model = Model(inputs=[input_top, input_bottom], outputs=distance)\n",
        "\n",
        "# Train the model\n",
        "training_pairs, training_labels = create_pairs(X_train, Y_train, \n",
        "                                num_classes=num_classes)\n",
        "model.compile(loss=contrastive_loss, optimizer='adam',\n",
        "              metrics=[accuracy])\n",
        "\n"
      ],
      "execution_count": 19,
      "outputs": [
        {
          "output_type": "stream",
          "name": "stdout",
          "text": [
            "num_classes: 2\n"
          ]
        }
      ]
    },
    {
      "cell_type": "code",
      "metadata": {
        "colab": {
          "base_uri": "https://localhost:8080/"
        },
        "id": "e3Nzvlv5CUYP",
        "outputId": "5fdafdcf-83e4-44d4-ceec-086ab4a7ee3a"
      },
      "source": [
        "input_shape"
      ],
      "execution_count": 20,
      "outputs": [
        {
          "output_type": "execute_result",
          "data": {
            "text/plain": [
              "TensorShape([180, 180, 3])"
            ]
          },
          "metadata": {},
          "execution_count": 20
        }
      ]
    },
    {
      "cell_type": "code",
      "metadata": {
        "colab": {
          "base_uri": "https://localhost:8080/"
        },
        "id": "HTuhdpW1CXum",
        "outputId": "7f20f005-60a0-4c65-d209-d2c359d6c438"
      },
      "source": [
        "X_train.shape[1:]"
      ],
      "execution_count": 21,
      "outputs": [
        {
          "output_type": "execute_result",
          "data": {
            "text/plain": [
              "TensorShape([180, 180, 3])"
            ]
          },
          "metadata": {},
          "execution_count": 21
        }
      ]
    },
    {
      "cell_type": "code",
      "metadata": {
        "id": "6dTXTuCyDn86"
      },
      "source": [
        ""
      ],
      "execution_count": 21,
      "outputs": []
    },
    {
      "cell_type": "code",
      "metadata": {
        "id": "kc98RyJtDoKc"
      },
      "source": [
        "#training_pairs_float = tf.cast(training_pairs, tf.float32)"
      ],
      "execution_count": 22,
      "outputs": []
    },
    {
      "cell_type": "code",
      "metadata": {
        "colab": {
          "base_uri": "https://localhost:8080/"
        },
        "id": "InlUHL7UEBGS",
        "outputId": "3a07a3f8-f2b5-45e7-a422-0d6e8ed2a642"
      },
      "source": [
        "type(training_labels[0])"
      ],
      "execution_count": 23,
      "outputs": [
        {
          "output_type": "execute_result",
          "data": {
            "text/plain": [
              "numpy.float64"
            ]
          },
          "metadata": {},
          "execution_count": 23
        }
      ]
    },
    {
      "cell_type": "code",
      "metadata": {
        "colab": {
          "base_uri": "https://localhost:8080/"
        },
        "id": "_YtgobvjEBNg",
        "outputId": "e63bc7cd-f58e-4bca-afee-3c32a47df0f7"
      },
      "source": [
        "type(training_pairs[0][0][0][0][0])"
      ],
      "execution_count": 24,
      "outputs": [
        {
          "output_type": "execute_result",
          "data": {
            "text/plain": [
              "numpy.float32"
            ]
          },
          "metadata": {},
          "execution_count": 24
        }
      ]
    },
    {
      "cell_type": "code",
      "metadata": {
        "id": "Ths4gVbuElEK"
      },
      "source": [
        ""
      ],
      "execution_count": 24,
      "outputs": []
    },
    {
      "cell_type": "code",
      "metadata": {
        "colab": {
          "base_uri": "https://localhost:8080/"
        },
        "id": "wLz9FEhuAhj7",
        "outputId": "30b86ebd-1977-4ab7-f704-1aa9c63565ed"
      },
      "source": [
        "model.fit([training_pairs[:, 0], training_pairs[:, 1]], training_labels,\n",
        "          batch_size=16,\n",
        "          epochs=10)"
      ],
      "execution_count": 25,
      "outputs": [
        {
          "output_type": "stream",
          "name": "stdout",
          "text": [
            "Epoch 1/10\n",
            "297/297 [==============================] - 20s 56ms/step - loss: 0.5262 - accuracy: 0.4989\n",
            "Epoch 2/10\n",
            "297/297 [==============================] - 16s 55ms/step - loss: 0.4998 - accuracy: 0.4999\n",
            "Epoch 3/10\n",
            "297/297 [==============================] - 16s 55ms/step - loss: 0.4998 - accuracy: 0.5001\n",
            "Epoch 4/10\n",
            "297/297 [==============================] - 16s 56ms/step - loss: 0.4998 - accuracy: 0.5001\n",
            "Epoch 5/10\n",
            "297/297 [==============================] - 16s 55ms/step - loss: 0.4998 - accuracy: 0.5000\n",
            "Epoch 6/10\n",
            "297/297 [==============================] - 16s 55ms/step - loss: 0.4998 - accuracy: 0.5001\n",
            "Epoch 7/10\n",
            "297/297 [==============================] - 16s 55ms/step - loss: 0.4998 - accuracy: 0.5000\n",
            "Epoch 8/10\n",
            "297/297 [==============================] - 16s 55ms/step - loss: 0.4998 - accuracy: 0.4999\n",
            "Epoch 9/10\n",
            "297/297 [==============================] - 16s 55ms/step - loss: 0.4998 - accuracy: 0.5000\n",
            "Epoch 10/10\n",
            "297/297 [==============================] - 16s 55ms/step - loss: 0.4998 - accuracy: 0.4999\n"
          ]
        },
        {
          "output_type": "execute_result",
          "data": {
            "text/plain": [
              "<keras.callbacks.History at 0x7ff7d03ab810>"
            ]
          },
          "metadata": {},
          "execution_count": 25
        }
      ]
    },
    {
      "cell_type": "code",
      "metadata": {
        "id": "ZjkH2dQOFr0C"
      },
      "source": [
        ""
      ],
      "execution_count": 25,
      "outputs": []
    },
    {
      "cell_type": "code",
      "metadata": {
        "id": "bNSsjY4IAhoH"
      },
      "source": [
        "\n",
        "# Save the model\n",
        "model.save('siamese_nn.h5')"
      ],
      "execution_count": 26,
      "outputs": []
    }
  ]
}
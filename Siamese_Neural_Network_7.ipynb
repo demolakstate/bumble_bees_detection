{
  "nbformat": 4,
  "nbformat_minor": 0,
  "metadata": {
    "colab": {
      "name": "Siamese-Neural-Network-7.ipynb",
      "provenance": [],
      "machine_shape": "hm",
      "authorship_tag": "ABX9TyNHx9RPqgjGQm+v9TrCF79A",
      "include_colab_link": true
    },
    "kernelspec": {
      "name": "python3",
      "display_name": "Python 3"
    },
    "language_info": {
      "name": "python"
    },
    "accelerator": "GPU"
  },
  "cells": [
    {
      "cell_type": "markdown",
      "metadata": {
        "id": "view-in-github",
        "colab_type": "text"
      },
      "source": [
        "<a href=\"https://colab.research.google.com/github/demolakstate/bumble_bees_detection/blob/main/Siamese_Neural_Network_7.ipynb\" target=\"_parent\"><img src=\"https://colab.research.google.com/assets/colab-badge.svg\" alt=\"Open In Colab\"/></a>"
      ]
    },
    {
      "cell_type": "code",
      "metadata": {
        "id": "nz_SfcDazfID"
      },
      "source": [
        ""
      ],
      "execution_count": null,
      "outputs": []
    },
    {
      "cell_type": "code",
      "metadata": {
        "colab": {
          "base_uri": "https://localhost:8080/"
        },
        "id": "RyKlcMcGYdsj",
        "outputId": "476232c2-65bc-4036-9bb2-01d2347056ed"
      },
      "source": [
        "from google.colab import drive\n",
        "drive.mount('/content/drive')"
      ],
      "execution_count": 1,
      "outputs": [
        {
          "output_type": "stream",
          "name": "stdout",
          "text": [
            "Mounted at /content/drive\n"
          ]
        }
      ]
    },
    {
      "cell_type": "code",
      "metadata": {
        "id": "RD8QWjHIzosT"
      },
      "source": [
        "import random\n",
        "import numpy as np\n",
        "import keras\n",
        "#import wandb\n",
        "#from wandb.keras import WandbCallback\n",
        "from keras.models import Sequential, Model\n",
        "from keras.layers import Flatten, Dense, Concatenate, Dot, Lambda, Input\n",
        "from keras.datasets import mnist\n",
        "#from keras.optimizers import Adam\n",
        "import matplotlib.pyplot as plt"
      ],
      "execution_count": 2,
      "outputs": []
    },
    {
      "cell_type": "code",
      "metadata": {
        "id": "ty4P-CWBYoWS"
      },
      "source": [
        "import numpy as np\n",
        "import random\n",
        "import os\n",
        "import cv2\n",
        "from keras.models import Sequential\n",
        "from keras.layers import Flatten, Dense, Conv2D, MaxPooling2D\n",
        "from keras import backend as K\n",
        "from keras.preprocessing.image import load_img, img_to_array"
      ],
      "execution_count": 3,
      "outputs": []
    },
    {
      "cell_type": "code",
      "metadata": {
        "id": "eeowlFYFsZsX"
      },
      "source": [
        "from os import path, listdir"
      ],
      "execution_count": 4,
      "outputs": []
    },
    {
      "cell_type": "code",
      "metadata": {
        "id": "I0yBYq1S9nsL"
      },
      "source": [
        "import tensorflow as tf\n"
      ],
      "execution_count": 5,
      "outputs": []
    },
    {
      "cell_type": "code",
      "metadata": {
        "id": "Em5MOpzi-IgK"
      },
      "source": [
        "batch_size = 2608\n",
        "img_height = 256\n",
        "img_width = 256"
      ],
      "execution_count": 6,
      "outputs": []
    },
    {
      "cell_type": "code",
      "metadata": {
        "id": "Ii1IiuTvHVgr"
      },
      "source": [
        "dir = \"/content/drive/MyDrive/BeeMachine/dataset_2/training2\""
      ],
      "execution_count": 7,
      "outputs": []
    },
    {
      "cell_type": "code",
      "metadata": {
        "colab": {
          "base_uri": "https://localhost:8080/"
        },
        "id": "OUqqPWCR9Y2a",
        "outputId": "dd0cb937-350f-4f14-f43b-f117fa84e0d6"
      },
      "source": [
        "train_ds = tf.keras.preprocessing.image_dataset_from_directory(\n",
        "    dir,\n",
        "    validation_split=0.2,\n",
        "    subset=\"training\",\n",
        "    seed=123,\n",
        "    image_size=(img_height, img_width),\n",
        "    batch_size=batch_size\n",
        ")"
      ],
      "execution_count": 8,
      "outputs": [
        {
          "output_type": "stream",
          "name": "stdout",
          "text": [
            "Found 3260 files belonging to 2 classes.\n",
            "Using 2608 files for training.\n"
          ]
        }
      ]
    },
    {
      "cell_type": "code",
      "metadata": {
        "colab": {
          "base_uri": "https://localhost:8080/"
        },
        "id": "FM4xVb4G9Y7a",
        "outputId": "3145f7c1-c645-4f30-ebc7-f6da2ed54665"
      },
      "source": [
        "class_names = train_ds.class_names\n",
        "print(class_names)"
      ],
      "execution_count": 9,
      "outputs": [
        {
          "output_type": "stream",
          "name": "stdout",
          "text": [
            "['Bombus_affinis', 'Bombus_auricomus']\n"
          ]
        }
      ]
    },
    {
      "cell_type": "code",
      "metadata": {
        "colab": {
          "base_uri": "https://localhost:8080/"
        },
        "id": "YiafEXWG9Y_4",
        "outputId": "7e9e3caa-1934-4bd6-f308-e774110ad4a2"
      },
      "source": [
        "for image_batch, labels_batch in train_ds:\n",
        "  print(image_batch.shape)\n",
        "  print(labels_batch.shape)\n",
        "  break"
      ],
      "execution_count": 10,
      "outputs": [
        {
          "output_type": "stream",
          "name": "stdout",
          "text": [
            "(2608, 180, 180, 3)\n",
            "(2608,)\n"
          ]
        }
      ]
    },
    {
      "cell_type": "code",
      "metadata": {
        "id": "2poDitw--fuY"
      },
      "source": [
        ""
      ],
      "execution_count": 10,
      "outputs": []
    },
    {
      "cell_type": "code",
      "metadata": {
        "colab": {
          "base_uri": "https://localhost:8080/"
        },
        "id": "YCBicewz-f02",
        "outputId": "fe4d5256-c660-4202-b7cc-65b6d4814aee"
      },
      "source": [
        "type(image_batch)"
      ],
      "execution_count": 11,
      "outputs": [
        {
          "output_type": "execute_result",
          "data": {
            "text/plain": [
              "tensorflow.python.framework.ops.EagerTensor"
            ]
          },
          "metadata": {},
          "execution_count": 11
        }
      ]
    },
    {
      "cell_type": "code",
      "metadata": {
        "id": "LvYxqaFQrzXs"
      },
      "source": [
        ""
      ],
      "execution_count": 11,
      "outputs": []
    },
    {
      "cell_type": "code",
      "metadata": {
        "id": "JtTS6s5aAIb1"
      },
      "source": [
        "def create_pairs(X,Y, num_classes):\n",
        "    pairs, labels = [], []\n",
        "    # index of images in X and Y for each class\n",
        "    class_idx = [np.where(Y==i)[0] for i in range(num_classes)]\n",
        "    # The minimum number of images across all classes\n",
        "    min_images = min(len(class_idx[i]) for i in range(num_classes)) - 1\n",
        "  \n",
        "    for c in range(num_classes):\n",
        "        for n in range(min_images):\n",
        "            # create positive pair\n",
        "            img1 = X[class_idx[c][n]]\n",
        "            img2 = X[class_idx[c][n+1]]\n",
        "            pairs.append((img1, img2))\n",
        "            labels.append(1.0)\n",
        "      \n",
        "            # create negative pair\n",
        "            neg_list = list(range(num_classes))\n",
        "            neg_list.remove(c)\n",
        "            # select a random class from the negative list. \n",
        "            # this class will be used to form the negative pair\n",
        "            neg_c = random.sample(neg_list,1)[0]\n",
        "            img1 = X[class_idx[c][n]]\n",
        "            img2 = X[class_idx[neg_c][n]]\n",
        "            pairs.append((img1,img2))\n",
        "            labels.append(0.0)\n",
        "\n",
        "    return np.array(pairs), np.array(labels)"
      ],
      "execution_count": 12,
      "outputs": []
    },
    {
      "cell_type": "code",
      "metadata": {
        "id": "TGZSVGNbG4Vu"
      },
      "source": [
        ""
      ],
      "execution_count": 12,
      "outputs": []
    },
    {
      "cell_type": "code",
      "metadata": {
        "id": "i0eUzuaiGe7y"
      },
      "source": [
        "pairs_train, labels_train = create_pairs(image_batch, labels_batch, 2)"
      ],
      "execution_count": 13,
      "outputs": []
    },
    {
      "cell_type": "code",
      "metadata": {
        "colab": {
          "base_uri": "https://localhost:8080/"
        },
        "id": "AT7rF0umBeQv",
        "outputId": "dacac10b-757b-464e-b1ab-60d1d374e62d"
      },
      "source": [
        "pairs_train[2,0]\n",
        "labels_train[0]"
      ],
      "execution_count": 14,
      "outputs": [
        {
          "output_type": "execute_result",
          "data": {
            "text/plain": [
              "1.0"
            ]
          },
          "metadata": {},
          "execution_count": 14
        }
      ]
    },
    {
      "cell_type": "code",
      "metadata": {
        "id": "rdothPDGCnqg"
      },
      "source": [
        ""
      ],
      "execution_count": 14,
      "outputs": []
    },
    {
      "cell_type": "code",
      "metadata": {
        "id": "Ep6W0-g_BeVu"
      },
      "source": [
        "def euclidean_distance(vectors):\n",
        "    vector1, vector2 = vectors\n",
        "    sum_square = K.sum(K.square(vector1 - vector2), axis=1, keepdims=True)\n",
        "    return K.sqrt(K.maximum(sum_square, K.epsilon()))\n",
        "\n",
        "def contrastive_loss(Y_true, D):\n",
        "    margin = 1\n",
        "    return K.mean(Y_true*K.square(D)+(1 - Y_true)*K.maximum((margin-D),0))\n",
        "\n",
        "def accuracy(y_true, y_pred):\n",
        "    return K.mean(K.equal(y_true, K.cast(y_pred < 0.5, y_true.dtype)))"
      ],
      "execution_count": 15,
      "outputs": []
    },
    {
      "cell_type": "code",
      "metadata": {
        "id": "0Jn9_95JBegb"
      },
      "source": [
        ""
      ],
      "execution_count": 15,
      "outputs": []
    },
    {
      "cell_type": "code",
      "metadata": {
        "id": "Y4hLG1erAMN4"
      },
      "source": [
        "def create_shared_network(input_shape):\n",
        "    model = Sequential(name='Shared_Conv_Network')\n",
        "    model.add(Conv2D(filters=64, kernel_size=(3,3), activation='relu', \n",
        "                     input_shape=input_shape))\n",
        "    model.add(MaxPooling2D())\n",
        "    model.add(Conv2D(filters=64, kernel_size=(3,3), activation='relu'))\n",
        "    model.add(Flatten())\n",
        "    model.add(Dense(units=128, activation='sigmoid'))\n",
        "    return model"
      ],
      "execution_count": 16,
      "outputs": []
    },
    {
      "cell_type": "code",
      "metadata": {
        "id": "tSeHA5EqAhbq"
      },
      "source": [
        ""
      ],
      "execution_count": 16,
      "outputs": []
    },
    {
      "cell_type": "code",
      "metadata": {
        "colab": {
          "base_uri": "https://localhost:8080/"
        },
        "id": "yXkdR8MuAhf0",
        "outputId": "879a92a2-fb40-47e3-9f53-f46b0f0db56e"
      },
      "source": [
        "'''\n",
        "Main code for training a Siamese neural network for face recognition\n",
        "'''\n",
        "# import utils\n",
        "import numpy as np\n",
        "from keras.layers import Input, Lambda\n",
        "from keras.models import Model\n",
        "\n",
        "# Import Training and Testing Data\n",
        "X_train = image_batch\n",
        "Y_train = labels_batch\n",
        "num_classes = len(np.unique(Y_train))\n",
        "print(f'num_classes: {num_classes}')\n",
        "\n",
        "# Create Siamese Neural Network\n",
        "input_shape = X_train.shape[1:]\n",
        "shared_network = create_shared_network(input_shape)\n",
        "input_top = Input(shape=input_shape)\n",
        "input_bottom = Input(shape=input_shape)\n",
        "output_top = shared_network(input_top)\n",
        "output_bottom = shared_network(input_bottom)\n",
        "distance = Lambda(euclidean_distance, output_shape=(1,))([output_top, output_bottom])\n",
        "model = Model(inputs=[input_top, input_bottom], outputs=distance)\n",
        "\n",
        "# Train the model\n",
        "training_pairs, training_labels = create_pairs(X_train, Y_train, \n",
        "                                num_classes=num_classes)\n",
        "model.compile(loss=contrastive_loss, optimizer='adam',\n",
        "              metrics=[accuracy])\n",
        "\n"
      ],
      "execution_count": 17,
      "outputs": [
        {
          "output_type": "stream",
          "name": "stdout",
          "text": [
            "num_classes: 2\n"
          ]
        }
      ]
    },
    {
      "cell_type": "code",
      "metadata": {
        "colab": {
          "base_uri": "https://localhost:8080/"
        },
        "id": "e3Nzvlv5CUYP",
        "outputId": "383f5a3f-048c-4d23-89c9-d43f493a27c5"
      },
      "source": [
        "input_shape"
      ],
      "execution_count": 18,
      "outputs": [
        {
          "output_type": "execute_result",
          "data": {
            "text/plain": [
              "TensorShape([180, 180, 3])"
            ]
          },
          "metadata": {},
          "execution_count": 18
        }
      ]
    },
    {
      "cell_type": "code",
      "metadata": {
        "colab": {
          "base_uri": "https://localhost:8080/"
        },
        "id": "HTuhdpW1CXum",
        "outputId": "ca68f379-2e32-4a74-a4a7-20c4ddfd2426"
      },
      "source": [
        "X_train.shape[1:]"
      ],
      "execution_count": 19,
      "outputs": [
        {
          "output_type": "execute_result",
          "data": {
            "text/plain": [
              "TensorShape([180, 180, 3])"
            ]
          },
          "metadata": {},
          "execution_count": 19
        }
      ]
    },
    {
      "cell_type": "code",
      "metadata": {
        "id": "6dTXTuCyDn86"
      },
      "source": [
        ""
      ],
      "execution_count": 19,
      "outputs": []
    },
    {
      "cell_type": "code",
      "metadata": {
        "id": "kc98RyJtDoKc"
      },
      "source": [
        "#training_pairs_float = tf.cast(training_pairs, tf.float32)"
      ],
      "execution_count": 20,
      "outputs": []
    },
    {
      "cell_type": "code",
      "metadata": {
        "colab": {
          "base_uri": "https://localhost:8080/"
        },
        "id": "InlUHL7UEBGS",
        "outputId": "64b0dc86-20b4-4d0d-cc5b-ba904ab6c250"
      },
      "source": [
        "type(training_labels[0])"
      ],
      "execution_count": 21,
      "outputs": [
        {
          "output_type": "execute_result",
          "data": {
            "text/plain": [
              "numpy.float64"
            ]
          },
          "metadata": {},
          "execution_count": 21
        }
      ]
    },
    {
      "cell_type": "code",
      "metadata": {
        "colab": {
          "base_uri": "https://localhost:8080/"
        },
        "id": "_YtgobvjEBNg",
        "outputId": "14069907-d8bd-405a-ad27-3ee9123418f3"
      },
      "source": [
        "type(training_pairs[0][0][0][0][0])"
      ],
      "execution_count": 22,
      "outputs": [
        {
          "output_type": "execute_result",
          "data": {
            "text/plain": [
              "numpy.float32"
            ]
          },
          "metadata": {},
          "execution_count": 22
        }
      ]
    },
    {
      "cell_type": "code",
      "metadata": {
        "id": "Ths4gVbuElEK"
      },
      "source": [
        ""
      ],
      "execution_count": 22,
      "outputs": []
    },
    {
      "cell_type": "code",
      "metadata": {
        "colab": {
          "base_uri": "https://localhost:8080/"
        },
        "id": "wLz9FEhuAhj7",
        "outputId": "837789a5-ab61-49ee-8cf4-3c71e4e50a0f"
      },
      "source": [
        "model.fit([training_pairs[:, 0], training_pairs[:, 1]], training_labels,\n",
        "          batch_size=128,\n",
        "          epochs=100)"
      ],
      "execution_count": 23,
      "outputs": [
        {
          "output_type": "stream",
          "name": "stdout",
          "text": [
            "Epoch 1/100\n",
            "38/38 [==============================] - 22s 166ms/step - loss: 0.8659 - accuracy: 0.4990\n",
            "Epoch 2/100\n",
            "38/38 [==============================] - 6s 161ms/step - loss: 0.5007 - accuracy: 0.5000\n",
            "Epoch 3/100\n",
            "38/38 [==============================] - 6s 161ms/step - loss: 0.5007 - accuracy: 0.4980\n",
            "Epoch 4/100\n",
            "38/38 [==============================] - 6s 162ms/step - loss: 0.5007 - accuracy: 0.5000\n",
            "Epoch 5/100\n",
            "38/38 [==============================] - 6s 162ms/step - loss: 0.5007 - accuracy: 0.5020\n",
            "Epoch 6/100\n",
            "38/38 [==============================] - 6s 163ms/step - loss: 0.5007 - accuracy: 0.5000\n",
            "Epoch 7/100\n",
            "38/38 [==============================] - 6s 162ms/step - loss: 0.5007 - accuracy: 0.4980\n",
            "Epoch 8/100\n",
            "38/38 [==============================] - 6s 162ms/step - loss: 0.5007 - accuracy: 0.4980\n",
            "Epoch 9/100\n",
            "38/38 [==============================] - 6s 161ms/step - loss: 0.5007 - accuracy: 0.4960\n",
            "Epoch 10/100\n",
            "38/38 [==============================] - 6s 160ms/step - loss: 0.5007 - accuracy: 0.4980\n",
            "Epoch 11/100\n",
            "38/38 [==============================] - 6s 161ms/step - loss: 0.5007 - accuracy: 0.5020\n",
            "Epoch 12/100\n",
            "38/38 [==============================] - 6s 162ms/step - loss: 0.5007 - accuracy: 0.5020\n",
            "Epoch 13/100\n",
            "38/38 [==============================] - 6s 162ms/step - loss: 0.5007 - accuracy: 0.5020\n",
            "Epoch 14/100\n",
            "38/38 [==============================] - 6s 162ms/step - loss: 0.5007 - accuracy: 0.5020\n",
            "Epoch 15/100\n",
            "38/38 [==============================] - 6s 163ms/step - loss: 0.5007 - accuracy: 0.5000\n",
            "Epoch 16/100\n",
            "38/38 [==============================] - 6s 162ms/step - loss: 0.5007 - accuracy: 0.5000\n",
            "Epoch 17/100\n",
            "38/38 [==============================] - 6s 163ms/step - loss: 0.5007 - accuracy: 0.4960\n",
            "Epoch 18/100\n",
            "38/38 [==============================] - 6s 162ms/step - loss: 0.5007 - accuracy: 0.4980\n",
            "Epoch 19/100\n",
            "38/38 [==============================] - 6s 162ms/step - loss: 0.5007 - accuracy: 0.5020\n",
            "Epoch 20/100\n",
            "38/38 [==============================] - 6s 162ms/step - loss: 0.5007 - accuracy: 0.5040\n",
            "Epoch 21/100\n",
            "38/38 [==============================] - 6s 162ms/step - loss: 0.5007 - accuracy: 0.5000\n",
            "Epoch 22/100\n",
            "38/38 [==============================] - 6s 161ms/step - loss: 0.5007 - accuracy: 0.5000\n",
            "Epoch 23/100\n",
            "38/38 [==============================] - 6s 161ms/step - loss: 0.5007 - accuracy: 0.5020\n",
            "Epoch 24/100\n",
            "38/38 [==============================] - 6s 160ms/step - loss: 0.5007 - accuracy: 0.4960\n",
            "Epoch 25/100\n",
            "38/38 [==============================] - 6s 162ms/step - loss: 0.5007 - accuracy: 0.4960\n",
            "Epoch 26/100\n",
            "38/38 [==============================] - 6s 162ms/step - loss: 0.5007 - accuracy: 0.5000\n",
            "Epoch 27/100\n",
            "38/38 [==============================] - 6s 162ms/step - loss: 0.5007 - accuracy: 0.4940\n",
            "Epoch 28/100\n",
            "38/38 [==============================] - 6s 161ms/step - loss: 0.5007 - accuracy: 0.4980\n",
            "Epoch 29/100\n",
            "38/38 [==============================] - 6s 161ms/step - loss: 0.5007 - accuracy: 0.4940\n",
            "Epoch 30/100\n",
            "38/38 [==============================] - 6s 161ms/step - loss: 0.5007 - accuracy: 0.5020\n",
            "Epoch 31/100\n",
            "38/38 [==============================] - 6s 162ms/step - loss: 0.5007 - accuracy: 0.5020\n",
            "Epoch 32/100\n",
            "38/38 [==============================] - 6s 162ms/step - loss: 0.5007 - accuracy: 0.5000\n",
            "Epoch 33/100\n",
            "38/38 [==============================] - 6s 161ms/step - loss: 0.5007 - accuracy: 0.4921\n",
            "Epoch 34/100\n",
            "38/38 [==============================] - 6s 163ms/step - loss: 0.5007 - accuracy: 0.5020\n",
            "Epoch 35/100\n",
            "38/38 [==============================] - 6s 162ms/step - loss: 0.5007 - accuracy: 0.4980\n",
            "Epoch 36/100\n",
            "38/38 [==============================] - 6s 161ms/step - loss: 0.5007 - accuracy: 0.5040\n",
            "Epoch 37/100\n",
            "38/38 [==============================] - 6s 163ms/step - loss: 0.5007 - accuracy: 0.5020\n",
            "Epoch 38/100\n",
            "38/38 [==============================] - 6s 162ms/step - loss: 0.5007 - accuracy: 0.4980\n",
            "Epoch 39/100\n",
            "38/38 [==============================] - 6s 162ms/step - loss: 0.5007 - accuracy: 0.4960\n",
            "Epoch 40/100\n",
            "38/38 [==============================] - 6s 162ms/step - loss: 0.5007 - accuracy: 0.4980\n",
            "Epoch 41/100\n",
            "38/38 [==============================] - 6s 163ms/step - loss: 0.5007 - accuracy: 0.5020\n",
            "Epoch 42/100\n",
            "38/38 [==============================] - 6s 162ms/step - loss: 0.5007 - accuracy: 0.4960\n",
            "Epoch 43/100\n",
            "38/38 [==============================] - 6s 162ms/step - loss: 0.5007 - accuracy: 0.5040\n",
            "Epoch 44/100\n",
            "38/38 [==============================] - 6s 162ms/step - loss: 0.5007 - accuracy: 0.4960\n",
            "Epoch 45/100\n",
            "38/38 [==============================] - 6s 162ms/step - loss: 0.5007 - accuracy: 0.4980\n",
            "Epoch 46/100\n",
            "38/38 [==============================] - 6s 161ms/step - loss: 0.5007 - accuracy: 0.5040\n",
            "Epoch 47/100\n",
            "38/38 [==============================] - 6s 162ms/step - loss: 0.5007 - accuracy: 0.4960\n",
            "Epoch 48/100\n",
            "38/38 [==============================] - 6s 161ms/step - loss: 0.5007 - accuracy: 0.4960\n",
            "Epoch 49/100\n",
            "38/38 [==============================] - 6s 162ms/step - loss: 0.5007 - accuracy: 0.4980\n",
            "Epoch 50/100\n",
            "38/38 [==============================] - 6s 161ms/step - loss: 0.5007 - accuracy: 0.5000\n",
            "Epoch 51/100\n",
            "38/38 [==============================] - 6s 162ms/step - loss: 0.5007 - accuracy: 0.4960\n",
            "Epoch 52/100\n",
            "38/38 [==============================] - 6s 162ms/step - loss: 0.5007 - accuracy: 0.5000\n",
            "Epoch 53/100\n",
            "38/38 [==============================] - 6s 161ms/step - loss: 0.5007 - accuracy: 0.5000\n",
            "Epoch 54/100\n",
            "38/38 [==============================] - 6s 162ms/step - loss: 0.5007 - accuracy: 0.5060\n",
            "Epoch 55/100\n",
            "38/38 [==============================] - 6s 162ms/step - loss: 0.5007 - accuracy: 0.5000\n",
            "Epoch 56/100\n",
            "38/38 [==============================] - 6s 162ms/step - loss: 0.5007 - accuracy: 0.4960\n",
            "Epoch 57/100\n",
            "38/38 [==============================] - 6s 162ms/step - loss: 0.5007 - accuracy: 0.5000\n",
            "Epoch 58/100\n",
            "38/38 [==============================] - 6s 162ms/step - loss: 0.5007 - accuracy: 0.4980\n",
            "Epoch 59/100\n",
            "38/38 [==============================] - 6s 162ms/step - loss: 0.5007 - accuracy: 0.5040\n",
            "Epoch 60/100\n",
            "38/38 [==============================] - 6s 161ms/step - loss: 0.5007 - accuracy: 0.5020\n",
            "Epoch 61/100\n",
            "38/38 [==============================] - 6s 161ms/step - loss: 0.5007 - accuracy: 0.5020\n",
            "Epoch 62/100\n",
            "38/38 [==============================] - 6s 162ms/step - loss: 0.5007 - accuracy: 0.4980\n",
            "Epoch 63/100\n",
            "38/38 [==============================] - 6s 162ms/step - loss: 0.5007 - accuracy: 0.4940\n",
            "Epoch 64/100\n",
            "38/38 [==============================] - 6s 160ms/step - loss: 0.5007 - accuracy: 0.4980\n",
            "Epoch 65/100\n",
            "38/38 [==============================] - 6s 162ms/step - loss: 0.5007 - accuracy: 0.5020\n",
            "Epoch 66/100\n",
            "38/38 [==============================] - 6s 162ms/step - loss: 0.5007 - accuracy: 0.5020\n",
            "Epoch 67/100\n",
            "38/38 [==============================] - 6s 163ms/step - loss: 0.5007 - accuracy: 0.5040\n",
            "Epoch 68/100\n",
            "38/38 [==============================] - 6s 161ms/step - loss: 0.5007 - accuracy: 0.5040\n",
            "Epoch 69/100\n",
            "38/38 [==============================] - 6s 162ms/step - loss: 0.5007 - accuracy: 0.5060\n",
            "Epoch 70/100\n",
            "38/38 [==============================] - 6s 162ms/step - loss: 0.5007 - accuracy: 0.4960\n",
            "Epoch 71/100\n",
            "38/38 [==============================] - 6s 162ms/step - loss: 0.5007 - accuracy: 0.5000\n",
            "Epoch 72/100\n",
            "38/38 [==============================] - 6s 162ms/step - loss: 0.5007 - accuracy: 0.5040\n",
            "Epoch 73/100\n",
            "38/38 [==============================] - 6s 161ms/step - loss: 0.5007 - accuracy: 0.4980\n",
            "Epoch 74/100\n",
            "38/38 [==============================] - 6s 162ms/step - loss: 0.5007 - accuracy: 0.4960\n",
            "Epoch 75/100\n",
            "38/38 [==============================] - 6s 162ms/step - loss: 0.5007 - accuracy: 0.5040\n",
            "Epoch 76/100\n",
            "38/38 [==============================] - 6s 163ms/step - loss: 0.5007 - accuracy: 0.5020\n",
            "Epoch 77/100\n",
            "38/38 [==============================] - 6s 161ms/step - loss: 0.5007 - accuracy: 0.5020\n",
            "Epoch 78/100\n",
            "38/38 [==============================] - 6s 161ms/step - loss: 0.5007 - accuracy: 0.5040\n",
            "Epoch 79/100\n",
            "38/38 [==============================] - 6s 161ms/step - loss: 0.5007 - accuracy: 0.4980\n",
            "Epoch 80/100\n",
            "38/38 [==============================] - 6s 162ms/step - loss: 0.5007 - accuracy: 0.4940\n",
            "Epoch 81/100\n",
            "38/38 [==============================] - 6s 161ms/step - loss: 0.5007 - accuracy: 0.4980\n",
            "Epoch 82/100\n",
            "38/38 [==============================] - 6s 162ms/step - loss: 0.5007 - accuracy: 0.5040\n",
            "Epoch 83/100\n",
            "38/38 [==============================] - 6s 162ms/step - loss: 0.5007 - accuracy: 0.5000\n",
            "Epoch 84/100\n",
            "38/38 [==============================] - 6s 162ms/step - loss: 0.5007 - accuracy: 0.4921\n",
            "Epoch 85/100\n",
            "38/38 [==============================] - 6s 161ms/step - loss: 0.5007 - accuracy: 0.5000\n",
            "Epoch 86/100\n",
            "38/38 [==============================] - 6s 162ms/step - loss: 0.5007 - accuracy: 0.5000\n",
            "Epoch 87/100\n",
            "38/38 [==============================] - 6s 162ms/step - loss: 0.5007 - accuracy: 0.5000\n",
            "Epoch 88/100\n",
            "38/38 [==============================] - 6s 162ms/step - loss: 0.5007 - accuracy: 0.5040\n",
            "Epoch 89/100\n",
            "38/38 [==============================] - 6s 162ms/step - loss: 0.5007 - accuracy: 0.5040\n",
            "Epoch 90/100\n",
            "38/38 [==============================] - 6s 161ms/step - loss: 0.5007 - accuracy: 0.5040\n",
            "Epoch 91/100\n",
            "38/38 [==============================] - 6s 162ms/step - loss: 0.5007 - accuracy: 0.5000\n",
            "Epoch 92/100\n",
            "38/38 [==============================] - 6s 160ms/step - loss: 0.5007 - accuracy: 0.5020\n",
            "Epoch 93/100\n",
            "38/38 [==============================] - 6s 162ms/step - loss: 0.5007 - accuracy: 0.4940\n",
            "Epoch 94/100\n",
            "38/38 [==============================] - 6s 162ms/step - loss: 0.5007 - accuracy: 0.5020\n",
            "Epoch 95/100\n",
            "38/38 [==============================] - 6s 162ms/step - loss: 0.5007 - accuracy: 0.5040\n",
            "Epoch 96/100\n",
            "38/38 [==============================] - 6s 162ms/step - loss: 0.5007 - accuracy: 0.5000\n",
            "Epoch 97/100\n",
            "38/38 [==============================] - 6s 163ms/step - loss: 0.5007 - accuracy: 0.5040\n",
            "Epoch 98/100\n",
            "38/38 [==============================] - 6s 162ms/step - loss: 0.5007 - accuracy: 0.5000\n",
            "Epoch 99/100\n",
            "38/38 [==============================] - 6s 161ms/step - loss: 0.5007 - accuracy: 0.5040\n",
            "Epoch 100/100\n",
            "38/38 [==============================] - 6s 160ms/step - loss: 0.5007 - accuracy: 0.5020\n"
          ]
        },
        {
          "output_type": "execute_result",
          "data": {
            "text/plain": [
              "<keras.callbacks.History at 0x7f69a044e290>"
            ]
          },
          "metadata": {},
          "execution_count": 23
        }
      ]
    },
    {
      "cell_type": "code",
      "metadata": {
        "id": "ZjkH2dQOFr0C"
      },
      "source": [
        ""
      ],
      "execution_count": 23,
      "outputs": []
    },
    {
      "cell_type": "code",
      "metadata": {
        "id": "bNSsjY4IAhoH"
      },
      "source": [
        "\n",
        "# Save the model\n",
        "model.save('siamese_nn.h5')"
      ],
      "execution_count": 24,
      "outputs": []
    }
  ]
}
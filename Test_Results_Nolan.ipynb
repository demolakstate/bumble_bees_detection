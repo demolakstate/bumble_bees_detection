{
  "nbformat": 4,
  "nbformat_minor": 0,
  "metadata": {
    "colab": {
      "name": "Test_Results_Nolan.ipynb",
      "provenance": [],
      "collapsed_sections": [],
      "include_colab_link": true
    },
    "kernelspec": {
      "name": "python3",
      "display_name": "Python 3"
    },
    "language_info": {
      "name": "python"
    }
  },
  "cells": [
    {
      "cell_type": "markdown",
      "metadata": {
        "id": "view-in-github",
        "colab_type": "text"
      },
      "source": [
        "<a href=\"https://colab.research.google.com/github/demolakstate/bumble_bees_detection/blob/main/Test_Results_Nolan.ipynb\" target=\"_parent\"><img src=\"https://colab.research.google.com/assets/colab-badge.svg\" alt=\"Open In Colab\"/></a>"
      ]
    },
    {
      "cell_type": "code",
      "execution_count": null,
      "metadata": {
        "id": "sBnQhTJZoaPR"
      },
      "outputs": [],
      "source": [
        ""
      ]
    },
    {
      "cell_type": "code",
      "source": [
        ""
      ],
      "metadata": {
        "id": "ktfAyRnwj65f"
      },
      "execution_count": null,
      "outputs": []
    },
    {
      "cell_type": "markdown",
      "source": [
        "## Bombus affinis vs Bombus bifarius ##\n"
      ],
      "metadata": {
        "id": "k6muAPopocfA"
      }
    },
    {
      "cell_type": "markdown",
      "source": [
        "[[682  58]\n",
        "\n",
        " [165 575]], shape=(2, 2), dtype=int32)\n",
        "              \n",
        "              precision    recall  f1-score   support\n",
        "\n",
        "         0.0       0.81      0.92      0.86       740\n",
        "         1.0       0.91      0.78      0.84       740\n",
        "\n",
        "    accuracy                           0.85      1480\n",
        "   macro avg       0.86      0.85      0.85      1480\n",
        "weighted avg       0.86      0.85      0.85      1480\n",
        "\n",
        "time_saved : 1643279043.3600538"
      ],
      "metadata": {
        "id": "GHKN1B5po1vD"
      }
    },
    {
      "cell_type": "markdown",
      "source": [
        "## Bombus affinis vs Bombus bimaculatus ##"
      ],
      "metadata": {
        "id": "_C5mcG1f-vK5"
      }
    },
    {
      "cell_type": "markdown",
      "source": [
        "[[228 512]\n",
        "\n",
        " [218 522]], shape=(2, 2), dtype=int32)\n",
        "              \n",
        "              precision    recall  f1-score   support\n",
        "\n",
        "         0.0       0.51      0.31      0.38       740\n",
        "         1.0       0.50      0.71      0.59       740\n",
        "\n",
        "    accuracy                           0.51      1480\n",
        "   macro avg       0.51      0.51      0.49      1480\n",
        "weighted avg       0.51      0.51      0.49      1480\n",
        "\n",
        "time_saved : 1643363688.8370047\n"
      ],
      "metadata": {
        "id": "_lpjuHgcdhU7"
      }
    },
    {
      "cell_type": "markdown",
      "source": [
        "## Bombus affinis vs Bombus borealis ##"
      ],
      "metadata": {
        "id": "ZyBbvfJJ_LRv"
      }
    },
    {
      "cell_type": "markdown",
      "source": [
        "## Bombus affinis vs Bombus citrinus ##"
      ],
      "metadata": {
        "id": "B1vhCIMp-7wW"
      }
    },
    {
      "cell_type": "markdown",
      "source": [
        "## Bombus affinis vs Bombus centralis ##"
      ],
      "metadata": {
        "id": "ccgW_Xls_eD0"
      }
    },
    {
      "cell_type": "markdown",
      "source": [
        "[[660  40]\n",
        "\n",
        " [159 541]], shape=(2, 2), dtype=int32)\n",
        "              \n",
        "              precision    recall  f1-score   support\n",
        "\n",
        "         0.0       0.81      0.94      0.87       700\n",
        "         1.0       0.93      0.77      0.84       700\n",
        "\n",
        "    accuracy                           0.86      1400\n",
        "   macro avg       0.87      0.86      0.86      1400\n",
        "weighted avg       0.87      0.86      0.86      1400\n",
        "\n",
        "time_saved : 1643395479.7903736\n"
      ],
      "metadata": {
        "id": "SaHON70Od5vh"
      }
    },
    {
      "cell_type": "markdown",
      "source": [
        "## Bombus affinis vs Bombus fernaldae flavidus ##"
      ],
      "metadata": {
        "id": "nnLHauq9_z_A"
      }
    },
    {
      "cell_type": "markdown",
      "source": [
        "## Bombus affinis vs Bombus flavifrons ##"
      ],
      "metadata": {
        "id": "ScyIe2dvAXk0"
      }
    },
    {
      "cell_type": "markdown",
      "source": [
        "## Bombus affinis vs Bombus fervidus californicus ##"
      ],
      "metadata": {
        "id": "FGtsy14gAb3k"
      }
    },
    {
      "cell_type": "markdown",
      "source": [
        "## Bombus affinis vs Bombus griseocollis ##"
      ],
      "metadata": {
        "id": "OWFi-JKe_4lt"
      }
    },
    {
      "cell_type": "markdown",
      "source": [
        "## Bombus affinis vs Bombus impatiens ##"
      ],
      "metadata": {
        "id": "qGBvvBtPAFsl"
      }
    },
    {
      "cell_type": "markdown",
      "source": [
        "## Bombus affinis vs Bombus insularis ##"
      ],
      "metadata": {
        "id": "mvpDi8v-AK6h"
      }
    }
  ]
}
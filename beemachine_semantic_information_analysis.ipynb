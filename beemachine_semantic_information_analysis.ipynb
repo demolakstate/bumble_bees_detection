{
  "nbformat": 4,
  "nbformat_minor": 0,
  "metadata": {
    "colab": {
      "name": "beemachine-semantic-information-analysis.ipynb",
      "provenance": [],
      "authorship_tag": "ABX9TyNIQM0avoVroHlz+6hSHB2y",
      "include_colab_link": true
    },
    "kernelspec": {
      "name": "python3",
      "display_name": "Python 3"
    },
    "language_info": {
      "name": "python"
    }
  },
  "cells": [
    {
      "cell_type": "markdown",
      "metadata": {
        "id": "view-in-github",
        "colab_type": "text"
      },
      "source": [
        "<a href=\"https://colab.research.google.com/github/demolakstate/bumble_bees_detection/blob/main/beemachine_semantic_information_analysis.ipynb\" target=\"_parent\"><img src=\"https://colab.research.google.com/assets/colab-badge.svg\" alt=\"Open In Colab\"/></a>"
      ]
    },
    {
      "cell_type": "code",
      "metadata": {
        "id": "Xk1T0LYxSGUi"
      },
      "source": [
        ""
      ],
      "execution_count": null,
      "outputs": []
    },
    {
      "cell_type": "markdown",
      "metadata": {
        "id": "ccUoQFyVbDyg"
      },
      "source": [
        "##Analysis of Bumble bee species semantic/attribute description##"
      ]
    },
    {
      "cell_type": "code",
      "metadata": {
        "id": "FYQZMyLAS6oZ"
      },
      "source": [
        "import pandas as pd"
      ],
      "execution_count": 1,
      "outputs": []
    },
    {
      "cell_type": "code",
      "metadata": {
        "id": "MWnpM9ieS6s0"
      },
      "source": [
        "data = pd.read_excel(\"/content/Beemachine_Experiments_Logs.xlsx\", sheet_name=None)"
      ],
      "execution_count": 4,
      "outputs": []
    },
    {
      "cell_type": "code",
      "metadata": {
        "colab": {
          "base_uri": "https://localhost:8080/"
        },
        "id": "FPyEXTbtS6xK",
        "outputId": "c2a67335-bfd7-4ea2-b43f-8472d6d01af2"
      },
      "source": [
        "data.keys()"
      ],
      "execution_count": 7,
      "outputs": [
        {
          "output_type": "execute_result",
          "data": {
            "text/plain": [
              "dict_keys(['Logs', 'Validation results - MobileNetV', 'Semantic Information', 'Correspondence', 'Key', 'Affinis', 'Auricomus', 'Bifarius', 'Bimaculatus'])"
            ]
          },
          "metadata": {},
          "execution_count": 7
        }
      ]
    },
    {
      "cell_type": "code",
      "metadata": {
        "id": "Nszf_6C6TMzu"
      },
      "source": [
        "data_affinis = data['Affinis']"
      ],
      "execution_count": 9,
      "outputs": []
    },
    {
      "cell_type": "code",
      "metadata": {
        "colab": {
          "base_uri": "https://localhost:8080/",
          "height": 204
        },
        "id": "CzGlj6urUdMn",
        "outputId": "558719ad-9eec-4182-d673-c720f445d172"
      },
      "source": [
        "data_affinis.head()"
      ],
      "execution_count": 16,
      "outputs": [
        {
          "output_type": "execute_result",
          "data": {
            "text/html": [
              "<div>\n",
              "<style scoped>\n",
              "    .dataframe tbody tr th:only-of-type {\n",
              "        vertical-align: middle;\n",
              "    }\n",
              "\n",
              "    .dataframe tbody tr th {\n",
              "        vertical-align: top;\n",
              "    }\n",
              "\n",
              "    .dataframe thead th {\n",
              "        text-align: right;\n",
              "    }\n",
              "</style>\n",
              "<table border=\"1\" class=\"dataframe\">\n",
              "  <thead>\n",
              "    <tr style=\"text-align: right;\">\n",
              "      <th></th>\n",
              "      <th>ID</th>\n",
              "      <th>Head</th>\n",
              "      <th>Anterior Scutum</th>\n",
              "      <th>Inner-Alar Space</th>\n",
              "      <th>Scutellum</th>\n",
              "      <th>T1</th>\n",
              "      <th>T2</th>\n",
              "      <th>T3</th>\n",
              "      <th>T4</th>\n",
              "      <th>T5</th>\n",
              "      <th>T6</th>\n",
              "      <th>Corbicular</th>\n",
              "    </tr>\n",
              "  </thead>\n",
              "  <tbody>\n",
              "    <tr>\n",
              "      <th>0</th>\n",
              "      <td>1</td>\n",
              "      <td>B</td>\n",
              "      <td>Y</td>\n",
              "      <td>B</td>\n",
              "      <td>Y</td>\n",
              "      <td>Y</td>\n",
              "      <td>Y / O</td>\n",
              "      <td>B</td>\n",
              "      <td>B</td>\n",
              "      <td>B</td>\n",
              "      <td>B</td>\n",
              "      <td>NaN</td>\n",
              "    </tr>\n",
              "    <tr>\n",
              "      <th>1</th>\n",
              "      <td>2</td>\n",
              "      <td>B</td>\n",
              "      <td>Y</td>\n",
              "      <td>B</td>\n",
              "      <td>Y</td>\n",
              "      <td>Y</td>\n",
              "      <td>B</td>\n",
              "      <td>Y</td>\n",
              "      <td>B</td>\n",
              "      <td>B</td>\n",
              "      <td>B</td>\n",
              "      <td>NaN</td>\n",
              "    </tr>\n",
              "    <tr>\n",
              "      <th>2</th>\n",
              "      <td>3</td>\n",
              "      <td>B</td>\n",
              "      <td>Y</td>\n",
              "      <td>B</td>\n",
              "      <td>Y</td>\n",
              "      <td>Y</td>\n",
              "      <td>Y / O</td>\n",
              "      <td>B</td>\n",
              "      <td>B</td>\n",
              "      <td>B</td>\n",
              "      <td>B</td>\n",
              "      <td>NaN</td>\n",
              "    </tr>\n",
              "    <tr>\n",
              "      <th>3</th>\n",
              "      <td>4</td>\n",
              "      <td>B</td>\n",
              "      <td>Y</td>\n",
              "      <td>B</td>\n",
              "      <td>Y</td>\n",
              "      <td>Y</td>\n",
              "      <td>Y</td>\n",
              "      <td>B</td>\n",
              "      <td>B</td>\n",
              "      <td>B</td>\n",
              "      <td>B</td>\n",
              "      <td>Yes</td>\n",
              "    </tr>\n",
              "    <tr>\n",
              "      <th>4</th>\n",
              "      <td>5</td>\n",
              "      <td>B</td>\n",
              "      <td>Y</td>\n",
              "      <td>B</td>\n",
              "      <td>Y</td>\n",
              "      <td>Y</td>\n",
              "      <td>Y / O</td>\n",
              "      <td>B</td>\n",
              "      <td>B</td>\n",
              "      <td>B</td>\n",
              "      <td>B</td>\n",
              "      <td>NaN</td>\n",
              "    </tr>\n",
              "  </tbody>\n",
              "</table>\n",
              "</div>"
            ],
            "text/plain": [
              "   ID Head Anterior Scutum Inner-Alar Space Scutellum  ... T3 T4 T5  T6 Corbicular\n",
              "0   1    B               Y                B         Y  ...  B  B  B   B        NaN\n",
              "1   2    B               Y                B         Y  ...  Y  B  B   B        NaN\n",
              "2   3    B               Y                B         Y  ...  B  B  B   B        NaN\n",
              "3   4    B               Y                B         Y  ...  B  B  B   B        Yes\n",
              "4   5    B               Y                B         Y  ...  B  B  B  B         NaN\n",
              "\n",
              "[5 rows x 12 columns]"
            ]
          },
          "metadata": {},
          "execution_count": 16
        }
      ]
    },
    {
      "cell_type": "code",
      "metadata": {
        "colab": {
          "base_uri": "https://localhost:8080/"
        },
        "id": "jwG0FpwfUdQw",
        "outputId": "26fedd68-9949-45a5-dc60-c41829228b1e"
      },
      "source": [
        "data_affinis.nunique()"
      ],
      "execution_count": 12,
      "outputs": [
        {
          "output_type": "execute_result",
          "data": {
            "text/plain": [
              "ID                  500\n",
              "Head                  2\n",
              "Anterior Scutum       1\n",
              "Inner-Alar Space      2\n",
              "Scutellum             1\n",
              "T1                    1\n",
              "T2                    3\n",
              "T3                    2\n",
              "T4                    1\n",
              "T5                    1\n",
              "T6                    2\n",
              "Corbicular            1\n",
              "dtype: int64"
            ]
          },
          "metadata": {},
          "execution_count": 12
        }
      ]
    },
    {
      "cell_type": "code",
      "metadata": {
        "colab": {
          "base_uri": "https://localhost:8080/"
        },
        "id": "7ZNnB9trUdU_",
        "outputId": "469ac765-81f9-44f1-cb08-c3c0fed148c4"
      },
      "source": [
        "data_affinis.dtypes"
      ],
      "execution_count": 13,
      "outputs": [
        {
          "output_type": "execute_result",
          "data": {
            "text/plain": [
              "ID                   int64\n",
              "Head                object\n",
              "Anterior Scutum     object\n",
              "Inner-Alar Space    object\n",
              "Scutellum           object\n",
              "T1                  object\n",
              "T2                  object\n",
              "T3                  object\n",
              "T4                  object\n",
              "T5                  object\n",
              "T6                  object\n",
              "Corbicular          object\n",
              "dtype: object"
            ]
          },
          "metadata": {},
          "execution_count": 13
        }
      ]
    },
    {
      "cell_type": "code",
      "metadata": {
        "colab": {
          "base_uri": "https://localhost:8080/"
        },
        "id": "w4wMUIkkZZJg",
        "outputId": "f3cc10fe-4bb7-44e2-e38d-c15180f72c0b"
      },
      "source": [
        "data_affinis.info()"
      ],
      "execution_count": 14,
      "outputs": [
        {
          "output_type": "stream",
          "name": "stdout",
          "text": [
            "<class 'pandas.core.frame.DataFrame'>\n",
            "RangeIndex: 500 entries, 0 to 499\n",
            "Data columns (total 12 columns):\n",
            " #   Column            Non-Null Count  Dtype \n",
            "---  ------            --------------  ----- \n",
            " 0   ID                500 non-null    int64 \n",
            " 1   Head              249 non-null    object\n",
            " 2   Anterior Scutum   250 non-null    object\n",
            " 3   Inner-Alar Space  249 non-null    object\n",
            " 4   Scutellum         249 non-null    object\n",
            " 5   T1                248 non-null    object\n",
            " 6   T2                249 non-null    object\n",
            " 7   T3                248 non-null    object\n",
            " 8   T4                248 non-null    object\n",
            " 9   T5                247 non-null    object\n",
            " 10  T6                247 non-null    object\n",
            " 11  Corbicular        1 non-null      object\n",
            "dtypes: int64(1), object(11)\n",
            "memory usage: 47.0+ KB\n"
          ]
        }
      ]
    },
    {
      "cell_type": "code",
      "metadata": {
        "id": "CZGFLnN-aDFM"
      },
      "source": [
        ""
      ],
      "execution_count": null,
      "outputs": []
    },
    {
      "cell_type": "code",
      "metadata": {
        "id": "ZQrWMQ_WaDJD"
      },
      "source": [
        ""
      ],
      "execution_count": null,
      "outputs": []
    },
    {
      "cell_type": "code",
      "metadata": {
        "id": "KhambyEQaDNK"
      },
      "source": [
        ""
      ],
      "execution_count": null,
      "outputs": []
    },
    {
      "cell_type": "code",
      "metadata": {
        "id": "zYvyfANvZZN-"
      },
      "source": [
        ""
      ],
      "execution_count": null,
      "outputs": []
    },
    {
      "cell_type": "code",
      "metadata": {
        "id": "UMCVgGAhZZRt"
      },
      "source": [
        ""
      ],
      "execution_count": null,
      "outputs": []
    }
  ]
}
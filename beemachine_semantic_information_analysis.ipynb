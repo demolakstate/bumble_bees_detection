{
  "nbformat": 4,
  "nbformat_minor": 0,
  "metadata": {
    "colab": {
      "name": "beemachine-semantic-information-analysis.ipynb",
      "provenance": [],
      "authorship_tag": "ABX9TyOZLmwD/jjw9jXWKbkZxipL",
      "include_colab_link": true
    },
    "kernelspec": {
      "name": "python3",
      "display_name": "Python 3"
    },
    "language_info": {
      "name": "python"
    }
  },
  "cells": [
    {
      "cell_type": "markdown",
      "metadata": {
        "id": "view-in-github",
        "colab_type": "text"
      },
      "source": [
        "<a href=\"https://colab.research.google.com/github/demolakstate/bumble_bees_detection/blob/main/beemachine_semantic_information_analysis.ipynb\" target=\"_parent\"><img src=\"https://colab.research.google.com/assets/colab-badge.svg\" alt=\"Open In Colab\"/></a>"
      ]
    },
    {
      "cell_type": "code",
      "metadata": {
        "id": "Xk1T0LYxSGUi"
      },
      "source": [
        ""
      ],
      "execution_count": 81,
      "outputs": []
    },
    {
      "cell_type": "markdown",
      "metadata": {
        "id": "ccUoQFyVbDyg"
      },
      "source": [
        "##Analysis of Bumble bee species semantic/attribute description##"
      ]
    },
    {
      "cell_type": "code",
      "metadata": {
        "id": "FYQZMyLAS6oZ"
      },
      "source": [
        "import pandas as pd"
      ],
      "execution_count": 82,
      "outputs": []
    },
    {
      "cell_type": "code",
      "metadata": {
        "id": "MWnpM9ieS6s0"
      },
      "source": [
        "data = pd.read_excel(\"/content/Beemachine_Experiments_Logs.xlsx\", sheet_name=None)"
      ],
      "execution_count": 83,
      "outputs": []
    },
    {
      "cell_type": "code",
      "metadata": {
        "colab": {
          "base_uri": "https://localhost:8080/"
        },
        "id": "FPyEXTbtS6xK",
        "outputId": "8f46c995-aabc-44d8-ef32-4b95d5ed902f"
      },
      "source": [
        "data.keys()"
      ],
      "execution_count": 84,
      "outputs": [
        {
          "output_type": "execute_result",
          "data": {
            "text/plain": [
              "dict_keys(['Logs', 'Validation results - MobileNetV', 'Semantic Information', 'Correspondence', 'Key', 'Affinis', 'Auricomus', 'Bifarius', 'Bimaculatus'])"
            ]
          },
          "metadata": {},
          "execution_count": 84
        }
      ]
    },
    {
      "cell_type": "code",
      "metadata": {
        "id": "Nszf_6C6TMzu"
      },
      "source": [
        "data_affinis = data['Affinis']"
      ],
      "execution_count": 85,
      "outputs": []
    },
    {
      "cell_type": "code",
      "metadata": {
        "id": "8oLPBs8bdnPu"
      },
      "source": [
        "data_affinis.rename(columns={'ID':'Image-ID', 'Anterior Scutum':'Anterior-Scutum', 'Inner-Alar Space':'Inner-Alar-Space'}, inplace=True)"
      ],
      "execution_count": 86,
      "outputs": []
    },
    {
      "cell_type": "code",
      "metadata": {
        "id": "s3vSdFuFdnvU"
      },
      "source": [
        "data_affinis.set_index('Image-ID', inplace=True)"
      ],
      "execution_count": 87,
      "outputs": []
    },
    {
      "cell_type": "code",
      "metadata": {
        "colab": {
          "base_uri": "https://localhost:8080/",
          "height": 235
        },
        "id": "CzGlj6urUdMn",
        "outputId": "c9388db7-7d64-4cf2-9190-361732fcc0d7"
      },
      "source": [
        "data_affinis.head()"
      ],
      "execution_count": 88,
      "outputs": [
        {
          "output_type": "execute_result",
          "data": {
            "text/html": [
              "<div>\n",
              "<style scoped>\n",
              "    .dataframe tbody tr th:only-of-type {\n",
              "        vertical-align: middle;\n",
              "    }\n",
              "\n",
              "    .dataframe tbody tr th {\n",
              "        vertical-align: top;\n",
              "    }\n",
              "\n",
              "    .dataframe thead th {\n",
              "        text-align: right;\n",
              "    }\n",
              "</style>\n",
              "<table border=\"1\" class=\"dataframe\">\n",
              "  <thead>\n",
              "    <tr style=\"text-align: right;\">\n",
              "      <th></th>\n",
              "      <th>Head</th>\n",
              "      <th>Anterior-Scutum</th>\n",
              "      <th>Inner-Alar-Space</th>\n",
              "      <th>Scutellum</th>\n",
              "      <th>T1</th>\n",
              "      <th>T2</th>\n",
              "      <th>T3</th>\n",
              "      <th>T4</th>\n",
              "      <th>T5</th>\n",
              "      <th>T6</th>\n",
              "      <th>Corbicular</th>\n",
              "    </tr>\n",
              "    <tr>\n",
              "      <th>Image-ID</th>\n",
              "      <th></th>\n",
              "      <th></th>\n",
              "      <th></th>\n",
              "      <th></th>\n",
              "      <th></th>\n",
              "      <th></th>\n",
              "      <th></th>\n",
              "      <th></th>\n",
              "      <th></th>\n",
              "      <th></th>\n",
              "      <th></th>\n",
              "    </tr>\n",
              "  </thead>\n",
              "  <tbody>\n",
              "    <tr>\n",
              "      <th>1</th>\n",
              "      <td>B</td>\n",
              "      <td>Y</td>\n",
              "      <td>B</td>\n",
              "      <td>Y</td>\n",
              "      <td>Y</td>\n",
              "      <td>Y / O</td>\n",
              "      <td>B</td>\n",
              "      <td>B</td>\n",
              "      <td>B</td>\n",
              "      <td>B</td>\n",
              "      <td>NaN</td>\n",
              "    </tr>\n",
              "    <tr>\n",
              "      <th>2</th>\n",
              "      <td>B</td>\n",
              "      <td>Y</td>\n",
              "      <td>B</td>\n",
              "      <td>Y</td>\n",
              "      <td>Y</td>\n",
              "      <td>B</td>\n",
              "      <td>Y</td>\n",
              "      <td>B</td>\n",
              "      <td>B</td>\n",
              "      <td>B</td>\n",
              "      <td>NaN</td>\n",
              "    </tr>\n",
              "    <tr>\n",
              "      <th>3</th>\n",
              "      <td>B</td>\n",
              "      <td>Y</td>\n",
              "      <td>B</td>\n",
              "      <td>Y</td>\n",
              "      <td>Y</td>\n",
              "      <td>Y / O</td>\n",
              "      <td>B</td>\n",
              "      <td>B</td>\n",
              "      <td>B</td>\n",
              "      <td>B</td>\n",
              "      <td>NaN</td>\n",
              "    </tr>\n",
              "    <tr>\n",
              "      <th>4</th>\n",
              "      <td>B</td>\n",
              "      <td>Y</td>\n",
              "      <td>B</td>\n",
              "      <td>Y</td>\n",
              "      <td>Y</td>\n",
              "      <td>Y</td>\n",
              "      <td>B</td>\n",
              "      <td>B</td>\n",
              "      <td>B</td>\n",
              "      <td>B</td>\n",
              "      <td>Yes</td>\n",
              "    </tr>\n",
              "    <tr>\n",
              "      <th>5</th>\n",
              "      <td>B</td>\n",
              "      <td>Y</td>\n",
              "      <td>B</td>\n",
              "      <td>Y</td>\n",
              "      <td>Y</td>\n",
              "      <td>Y / O</td>\n",
              "      <td>B</td>\n",
              "      <td>B</td>\n",
              "      <td>B</td>\n",
              "      <td>B</td>\n",
              "      <td>NaN</td>\n",
              "    </tr>\n",
              "  </tbody>\n",
              "</table>\n",
              "</div>"
            ],
            "text/plain": [
              "         Head Anterior-Scutum Inner-Alar-Space Scutellum  ... T4 T5  T6 Corbicular\n",
              "Image-ID                                                  ...                     \n",
              "1           B               Y                B         Y  ...  B  B   B        NaN\n",
              "2           B               Y                B         Y  ...  B  B   B        NaN\n",
              "3           B               Y                B         Y  ...  B  B   B        NaN\n",
              "4           B               Y                B         Y  ...  B  B   B        Yes\n",
              "5           B               Y                B         Y  ...  B  B  B         NaN\n",
              "\n",
              "[5 rows x 11 columns]"
            ]
          },
          "metadata": {},
          "execution_count": 88
        }
      ]
    },
    {
      "cell_type": "markdown",
      "metadata": {
        "id": "RzvUunaYqyKn"
      },
      "source": [
        "### Optimize for memory efficiency ###"
      ]
    },
    {
      "cell_type": "code",
      "metadata": {
        "colab": {
          "base_uri": "https://localhost:8080/"
        },
        "id": "J3n6iiloshC7",
        "outputId": "4d99141c-cbb3-4884-dbf3-d19a36c7ce94"
      },
      "source": [
        "data_affinis['Corbicular'].str.lower()"
      ],
      "execution_count": 89,
      "outputs": [
        {
          "output_type": "execute_result",
          "data": {
            "text/plain": [
              "Image-ID\n",
              "1      NaN\n",
              "2      NaN\n",
              "3      NaN\n",
              "4      yes\n",
              "5      NaN\n",
              "      ... \n",
              "496    NaN\n",
              "497    NaN\n",
              "498    NaN\n",
              "499    NaN\n",
              "500    NaN\n",
              "Name: Corbicular, Length: 500, dtype: object"
            ]
          },
          "metadata": {},
          "execution_count": 89
        }
      ]
    },
    {
      "cell_type": "code",
      "metadata": {
        "colab": {
          "base_uri": "https://localhost:8080/"
        },
        "id": "nfnngVQTrqwF",
        "outputId": "783036d5-028e-4030-87fb-fe0b3de09345"
      },
      "source": [
        "data_affinis['Corbicular'].str.strip().str.lower().str.replace(\"yes\", 'True')\n",
        "data_affinis['Corbicular'].str.strip().str.lower().str.replace(\"no\", 'False')"
      ],
      "execution_count": 91,
      "outputs": [
        {
          "output_type": "execute_result",
          "data": {
            "text/plain": [
              "Image-ID\n",
              "1      NaN\n",
              "2      NaN\n",
              "3      NaN\n",
              "4      yes\n",
              "5      NaN\n",
              "      ... \n",
              "496    NaN\n",
              "497    NaN\n",
              "498    NaN\n",
              "499    NaN\n",
              "500    NaN\n",
              "Name: Corbicular, Length: 500, dtype: object"
            ]
          },
          "metadata": {},
          "execution_count": 91
        }
      ]
    },
    {
      "cell_type": "code",
      "metadata": {
        "id": "E175DKbjp4jQ"
      },
      "source": [
        "data_affinis['Corbicular'] = data_affinis['Corbicular'].astype(\"bool\")\n",
        "data_affinis['Head'] = data_affinis['Head'].astype(\"category\")"
      ],
      "execution_count": 92,
      "outputs": []
    },
    {
      "cell_type": "code",
      "metadata": {
        "id": "zqr38tEyq8yU"
      },
      "source": [
        ""
      ],
      "execution_count": 92,
      "outputs": []
    },
    {
      "cell_type": "code",
      "metadata": {
        "colab": {
          "base_uri": "https://localhost:8080/"
        },
        "id": "jwG0FpwfUdQw",
        "outputId": "c4682647-ff42-4646-fccf-a39d34f61469"
      },
      "source": [
        "data_affinis.nunique()"
      ],
      "execution_count": 93,
      "outputs": [
        {
          "output_type": "execute_result",
          "data": {
            "text/plain": [
              "Head                2\n",
              "Anterior-Scutum     1\n",
              "Inner-Alar-Space    2\n",
              "Scutellum           1\n",
              "T1                  1\n",
              "T2                  3\n",
              "T3                  2\n",
              "T4                  1\n",
              "T5                  1\n",
              "T6                  2\n",
              "Corbicular          1\n",
              "dtype: int64"
            ]
          },
          "metadata": {},
          "execution_count": 93
        }
      ]
    },
    {
      "cell_type": "code",
      "metadata": {
        "colab": {
          "base_uri": "https://localhost:8080/"
        },
        "id": "CA3f2pbdopLz",
        "outputId": "03c97d3a-2d86-4f7b-875c-298fb4c87ce4"
      },
      "source": [
        "data_affinis.nunique(dropna=False)"
      ],
      "execution_count": 94,
      "outputs": [
        {
          "output_type": "execute_result",
          "data": {
            "text/plain": [
              "Head                3\n",
              "Anterior-Scutum     2\n",
              "Inner-Alar-Space    3\n",
              "Scutellum           2\n",
              "T1                  2\n",
              "T2                  4\n",
              "T3                  3\n",
              "T4                  2\n",
              "T5                  2\n",
              "T6                  3\n",
              "Corbicular          1\n",
              "dtype: int64"
            ]
          },
          "metadata": {},
          "execution_count": 94
        }
      ]
    },
    {
      "cell_type": "code",
      "metadata": {
        "colab": {
          "base_uri": "https://localhost:8080/"
        },
        "id": "7ZNnB9trUdU_",
        "outputId": "7e878196-f90c-4f33-fa73-e76ee3976423"
      },
      "source": [
        "data_affinis.dtypes"
      ],
      "execution_count": 95,
      "outputs": [
        {
          "output_type": "execute_result",
          "data": {
            "text/plain": [
              "Head                category\n",
              "Anterior-Scutum       object\n",
              "Inner-Alar-Space      object\n",
              "Scutellum             object\n",
              "T1                    object\n",
              "T2                    object\n",
              "T3                    object\n",
              "T4                    object\n",
              "T5                    object\n",
              "T6                    object\n",
              "Corbicular              bool\n",
              "dtype: object"
            ]
          },
          "metadata": {},
          "execution_count": 95
        }
      ]
    },
    {
      "cell_type": "code",
      "metadata": {
        "colab": {
          "base_uri": "https://localhost:8080/"
        },
        "id": "w4wMUIkkZZJg",
        "outputId": "95d73d92-7592-4efb-a3ee-c542095c8f67"
      },
      "source": [
        "data_affinis.info()"
      ],
      "execution_count": 96,
      "outputs": [
        {
          "output_type": "stream",
          "name": "stdout",
          "text": [
            "<class 'pandas.core.frame.DataFrame'>\n",
            "Int64Index: 500 entries, 1 to 500\n",
            "Data columns (total 11 columns):\n",
            " #   Column            Non-Null Count  Dtype   \n",
            "---  ------            --------------  -----   \n",
            " 0   Head              249 non-null    category\n",
            " 1   Anterior-Scutum   250 non-null    object  \n",
            " 2   Inner-Alar-Space  249 non-null    object  \n",
            " 3   Scutellum         249 non-null    object  \n",
            " 4   T1                248 non-null    object  \n",
            " 5   T2                249 non-null    object  \n",
            " 6   T3                248 non-null    object  \n",
            " 7   T4                248 non-null    object  \n",
            " 8   T5                247 non-null    object  \n",
            " 9   T6                247 non-null    object  \n",
            " 10  Corbicular        500 non-null    bool    \n",
            "dtypes: bool(1), category(1), object(9)\n",
            "memory usage: 40.1+ KB\n"
          ]
        }
      ]
    },
    {
      "cell_type": "code",
      "metadata": {
        "id": "CZGFLnN-aDFM"
      },
      "source": [
        ""
      ],
      "execution_count": 96,
      "outputs": []
    },
    {
      "cell_type": "markdown",
      "metadata": {
        "id": "d7UnLiY8hYxE"
      },
      "source": [
        "## Visualizing attributes ##"
      ]
    },
    {
      "cell_type": "code",
      "metadata": {
        "id": "ZQrWMQ_WaDJD"
      },
      "source": [
        "data_affinis.plot()"
      ],
      "execution_count": null,
      "outputs": []
    },
    {
      "cell_type": "code",
      "metadata": {
        "id": "KhambyEQaDNK"
      },
      "source": [
        ""
      ],
      "execution_count": null,
      "outputs": []
    },
    {
      "cell_type": "code",
      "metadata": {
        "id": "zYvyfANvZZN-"
      },
      "source": [
        ""
      ],
      "execution_count": null,
      "outputs": []
    },
    {
      "cell_type": "code",
      "metadata": {
        "id": "G4MJuXU4hX-1"
      },
      "source": [
        ""
      ],
      "execution_count": null,
      "outputs": []
    },
    {
      "cell_type": "code",
      "metadata": {
        "id": "BsQs2Xp-hYDh"
      },
      "source": [
        ""
      ],
      "execution_count": null,
      "outputs": []
    },
    {
      "cell_type": "code",
      "metadata": {
        "id": "UMCVgGAhZZRt"
      },
      "source": [
        ""
      ],
      "execution_count": null,
      "outputs": []
    }
  ]
}
{
  "nbformat": 4,
  "nbformat_minor": 0,
  "metadata": {
    "colab": {
      "name": "beemachine-semantic-information-analysis-v3.ipynb",
      "provenance": [],
      "authorship_tag": "ABX9TyPKciHPyQEFfM8rh16m6J3Y",
      "include_colab_link": true
    },
    "kernelspec": {
      "name": "python3",
      "display_name": "Python 3"
    },
    "language_info": {
      "name": "python"
    }
  },
  "cells": [
    {
      "cell_type": "markdown",
      "metadata": {
        "id": "view-in-github",
        "colab_type": "text"
      },
      "source": [
        "<a href=\"https://colab.research.google.com/github/demolakstate/bumble_bees_detection/blob/main/beemachine_semantic_information_analysis_v3.ipynb\" target=\"_parent\"><img src=\"https://colab.research.google.com/assets/colab-badge.svg\" alt=\"Open In Colab\"/></a>"
      ]
    },
    {
      "cell_type": "code",
      "metadata": {
        "id": "Xk1T0LYxSGUi"
      },
      "source": [
        ""
      ],
      "execution_count": null,
      "outputs": []
    },
    {
      "cell_type": "markdown",
      "metadata": {
        "id": "ccUoQFyVbDyg"
      },
      "source": [
        "##Analysis of Bumble bee species semantic/attribute description##"
      ]
    },
    {
      "cell_type": "code",
      "metadata": {
        "id": "FYQZMyLAS6oZ"
      },
      "source": [
        "import pandas as pd"
      ],
      "execution_count": 1,
      "outputs": []
    },
    {
      "cell_type": "code",
      "metadata": {
        "id": "MWnpM9ieS6s0"
      },
      "source": [
        "data = pd.read_excel(\"/content/Beemachine_Experiments_Logs.xlsx\", sheet_name=None)"
      ],
      "execution_count": 2,
      "outputs": []
    },
    {
      "cell_type": "code",
      "metadata": {
        "colab": {
          "base_uri": "https://localhost:8080/"
        },
        "id": "FPyEXTbtS6xK",
        "outputId": "43d274ed-aca0-4711-94e3-5dee00d0f82c"
      },
      "source": [
        "data.keys()"
      ],
      "execution_count": 3,
      "outputs": [
        {
          "output_type": "execute_result",
          "data": {
            "text/plain": [
              "dict_keys(['Logs', 'Validation results - MobileNetV', 'Semantic Information', 'Correspondence', 'Key', 'Affinis', 'Auricomus', 'Bifarius', 'Bimaculatus'])"
            ]
          },
          "metadata": {},
          "execution_count": 3
        }
      ]
    },
    {
      "cell_type": "code",
      "metadata": {
        "id": "Nszf_6C6TMzu"
      },
      "source": [
        "data_affinis = data['Affinis']"
      ],
      "execution_count": 4,
      "outputs": []
    },
    {
      "cell_type": "code",
      "metadata": {
        "id": "8oLPBs8bdnPu"
      },
      "source": [
        "data_affinis.rename(columns={'ID':'Image-ID', 'Anterior Scutum':'Anterior-Scutum', 'Inner-Alar Space':'Inner-Alar-Space'}, inplace=True)"
      ],
      "execution_count": 5,
      "outputs": []
    },
    {
      "cell_type": "code",
      "metadata": {
        "id": "s3vSdFuFdnvU"
      },
      "source": [
        "data_affinis.set_index('Image-ID', inplace=True)"
      ],
      "execution_count": 6,
      "outputs": []
    },
    {
      "cell_type": "code",
      "metadata": {
        "id": "LN5yd0L9ETNY"
      },
      "source": [
        "data_affinis.dropna(how='all', inplace=True)"
      ],
      "execution_count": 8,
      "outputs": []
    },
    {
      "cell_type": "code",
      "metadata": {
        "colab": {
          "base_uri": "https://localhost:8080/",
          "height": 237
        },
        "id": "CzGlj6urUdMn",
        "outputId": "6d624423-c196-4934-c022-4988344db0e7"
      },
      "source": [
        "data_affinis.head()"
      ],
      "execution_count": 9,
      "outputs": [
        {
          "output_type": "execute_result",
          "data": {
            "text/html": [
              "<div>\n",
              "<style scoped>\n",
              "    .dataframe tbody tr th:only-of-type {\n",
              "        vertical-align: middle;\n",
              "    }\n",
              "\n",
              "    .dataframe tbody tr th {\n",
              "        vertical-align: top;\n",
              "    }\n",
              "\n",
              "    .dataframe thead th {\n",
              "        text-align: right;\n",
              "    }\n",
              "</style>\n",
              "<table border=\"1\" class=\"dataframe\">\n",
              "  <thead>\n",
              "    <tr style=\"text-align: right;\">\n",
              "      <th></th>\n",
              "      <th>Head</th>\n",
              "      <th>Anterior-Scutum</th>\n",
              "      <th>Inner-Alar-Space</th>\n",
              "      <th>Scutellum</th>\n",
              "      <th>T1</th>\n",
              "      <th>T2</th>\n",
              "      <th>T3</th>\n",
              "      <th>T4</th>\n",
              "      <th>T5</th>\n",
              "      <th>T6</th>\n",
              "      <th>Corbicular</th>\n",
              "    </tr>\n",
              "    <tr>\n",
              "      <th>Image-ID</th>\n",
              "      <th></th>\n",
              "      <th></th>\n",
              "      <th></th>\n",
              "      <th></th>\n",
              "      <th></th>\n",
              "      <th></th>\n",
              "      <th></th>\n",
              "      <th></th>\n",
              "      <th></th>\n",
              "      <th></th>\n",
              "      <th></th>\n",
              "    </tr>\n",
              "  </thead>\n",
              "  <tbody>\n",
              "    <tr>\n",
              "      <th>1</th>\n",
              "      <td>B</td>\n",
              "      <td>Y</td>\n",
              "      <td>B</td>\n",
              "      <td>Y</td>\n",
              "      <td>Y</td>\n",
              "      <td>Y / O</td>\n",
              "      <td>B</td>\n",
              "      <td>B</td>\n",
              "      <td>B</td>\n",
              "      <td>B</td>\n",
              "      <td>NaN</td>\n",
              "    </tr>\n",
              "    <tr>\n",
              "      <th>2</th>\n",
              "      <td>B</td>\n",
              "      <td>Y</td>\n",
              "      <td>B</td>\n",
              "      <td>Y</td>\n",
              "      <td>Y</td>\n",
              "      <td>B</td>\n",
              "      <td>Y</td>\n",
              "      <td>B</td>\n",
              "      <td>B</td>\n",
              "      <td>B</td>\n",
              "      <td>NaN</td>\n",
              "    </tr>\n",
              "    <tr>\n",
              "      <th>3</th>\n",
              "      <td>B</td>\n",
              "      <td>Y</td>\n",
              "      <td>B</td>\n",
              "      <td>Y</td>\n",
              "      <td>Y</td>\n",
              "      <td>Y / O</td>\n",
              "      <td>B</td>\n",
              "      <td>B</td>\n",
              "      <td>B</td>\n",
              "      <td>B</td>\n",
              "      <td>NaN</td>\n",
              "    </tr>\n",
              "    <tr>\n",
              "      <th>4</th>\n",
              "      <td>B</td>\n",
              "      <td>Y</td>\n",
              "      <td>B</td>\n",
              "      <td>Y</td>\n",
              "      <td>Y</td>\n",
              "      <td>Y</td>\n",
              "      <td>B</td>\n",
              "      <td>B</td>\n",
              "      <td>B</td>\n",
              "      <td>B</td>\n",
              "      <td>Yes</td>\n",
              "    </tr>\n",
              "    <tr>\n",
              "      <th>5</th>\n",
              "      <td>B</td>\n",
              "      <td>Y</td>\n",
              "      <td>B</td>\n",
              "      <td>Y</td>\n",
              "      <td>Y</td>\n",
              "      <td>Y / O</td>\n",
              "      <td>B</td>\n",
              "      <td>B</td>\n",
              "      <td>B</td>\n",
              "      <td>B</td>\n",
              "      <td>NaN</td>\n",
              "    </tr>\n",
              "  </tbody>\n",
              "</table>\n",
              "</div>"
            ],
            "text/plain": [
              "         Head Anterior-Scutum Inner-Alar-Space Scutellum  ... T4 T5  T6 Corbicular\n",
              "Image-ID                                                  ...                     \n",
              "1           B               Y                B         Y  ...  B  B   B        NaN\n",
              "2           B               Y                B         Y  ...  B  B   B        NaN\n",
              "3           B               Y                B         Y  ...  B  B   B        NaN\n",
              "4           B               Y                B         Y  ...  B  B   B        Yes\n",
              "5           B               Y                B         Y  ...  B  B  B         NaN\n",
              "\n",
              "[5 rows x 11 columns]"
            ]
          },
          "metadata": {},
          "execution_count": 9
        }
      ]
    },
    {
      "cell_type": "markdown",
      "metadata": {
        "id": "RzvUunaYqyKn"
      },
      "source": [
        "### Optimize for memory efficiency ###"
      ]
    },
    {
      "cell_type": "code",
      "metadata": {
        "id": "qtARw9pFxAQ_"
      },
      "source": [
        "data_affinis['Corbicular'].fillna(\"False\", inplace=True)"
      ],
      "execution_count": 10,
      "outputs": []
    },
    {
      "cell_type": "code",
      "metadata": {
        "id": "nfnngVQTrqwF"
      },
      "source": [
        "data_affinis['Corbicular'] = data_affinis['Corbicular'].str.strip().str.lower().str.replace(\"yes\", \"True\")\n",
        "data_affinis['Corbicular'] = data_affinis['Corbicular'].str.strip().str.lower().str.replace(\"no\", \"False\")"
      ],
      "execution_count": 11,
      "outputs": []
    },
    {
      "cell_type": "code",
      "metadata": {
        "id": "Y9jT1tS1642g"
      },
      "source": [
        "for column in data_affinis.columns:\n",
        "  data_affinis[f\"{column}\"] = f\"{column}: \" + data_affinis[f\"{column}\"]"
      ],
      "execution_count": 12,
      "outputs": []
    },
    {
      "cell_type": "code",
      "metadata": {
        "colab": {
          "base_uri": "https://localhost:8080/",
          "height": 237
        },
        "id": "zqr38tEyq8yU",
        "outputId": "abcc8916-93a7-409e-de08-454173fc9577"
      },
      "source": [
        "data_affinis.head()"
      ],
      "execution_count": 13,
      "outputs": [
        {
          "output_type": "execute_result",
          "data": {
            "text/html": [
              "<div>\n",
              "<style scoped>\n",
              "    .dataframe tbody tr th:only-of-type {\n",
              "        vertical-align: middle;\n",
              "    }\n",
              "\n",
              "    .dataframe tbody tr th {\n",
              "        vertical-align: top;\n",
              "    }\n",
              "\n",
              "    .dataframe thead th {\n",
              "        text-align: right;\n",
              "    }\n",
              "</style>\n",
              "<table border=\"1\" class=\"dataframe\">\n",
              "  <thead>\n",
              "    <tr style=\"text-align: right;\">\n",
              "      <th></th>\n",
              "      <th>Head</th>\n",
              "      <th>Anterior-Scutum</th>\n",
              "      <th>Inner-Alar-Space</th>\n",
              "      <th>Scutellum</th>\n",
              "      <th>T1</th>\n",
              "      <th>T2</th>\n",
              "      <th>T3</th>\n",
              "      <th>T4</th>\n",
              "      <th>T5</th>\n",
              "      <th>T6</th>\n",
              "      <th>Corbicular</th>\n",
              "    </tr>\n",
              "    <tr>\n",
              "      <th>Image-ID</th>\n",
              "      <th></th>\n",
              "      <th></th>\n",
              "      <th></th>\n",
              "      <th></th>\n",
              "      <th></th>\n",
              "      <th></th>\n",
              "      <th></th>\n",
              "      <th></th>\n",
              "      <th></th>\n",
              "      <th></th>\n",
              "      <th></th>\n",
              "    </tr>\n",
              "  </thead>\n",
              "  <tbody>\n",
              "    <tr>\n",
              "      <th>1</th>\n",
              "      <td>Head: B</td>\n",
              "      <td>Anterior-Scutum: Y</td>\n",
              "      <td>Inner-Alar-Space: B</td>\n",
              "      <td>Scutellum: Y</td>\n",
              "      <td>T1 : Y</td>\n",
              "      <td>T2 : Y / O</td>\n",
              "      <td>T3: B</td>\n",
              "      <td>T4: B</td>\n",
              "      <td>T5: B</td>\n",
              "      <td>T6: B</td>\n",
              "      <td>Corbicular: false</td>\n",
              "    </tr>\n",
              "    <tr>\n",
              "      <th>2</th>\n",
              "      <td>Head: B</td>\n",
              "      <td>Anterior-Scutum: Y</td>\n",
              "      <td>Inner-Alar-Space: B</td>\n",
              "      <td>Scutellum: Y</td>\n",
              "      <td>T1 : Y</td>\n",
              "      <td>T2 : B</td>\n",
              "      <td>T3: Y</td>\n",
              "      <td>T4: B</td>\n",
              "      <td>T5: B</td>\n",
              "      <td>T6: B</td>\n",
              "      <td>Corbicular: false</td>\n",
              "    </tr>\n",
              "    <tr>\n",
              "      <th>3</th>\n",
              "      <td>Head: B</td>\n",
              "      <td>Anterior-Scutum: Y</td>\n",
              "      <td>Inner-Alar-Space: B</td>\n",
              "      <td>Scutellum: Y</td>\n",
              "      <td>T1 : Y</td>\n",
              "      <td>T2 : Y / O</td>\n",
              "      <td>T3: B</td>\n",
              "      <td>T4: B</td>\n",
              "      <td>T5: B</td>\n",
              "      <td>T6: B</td>\n",
              "      <td>Corbicular: false</td>\n",
              "    </tr>\n",
              "    <tr>\n",
              "      <th>4</th>\n",
              "      <td>Head: B</td>\n",
              "      <td>Anterior-Scutum: Y</td>\n",
              "      <td>Inner-Alar-Space: B</td>\n",
              "      <td>Scutellum: Y</td>\n",
              "      <td>T1 : Y</td>\n",
              "      <td>T2 : Y</td>\n",
              "      <td>T3: B</td>\n",
              "      <td>T4: B</td>\n",
              "      <td>T5: B</td>\n",
              "      <td>T6: B</td>\n",
              "      <td>Corbicular: true</td>\n",
              "    </tr>\n",
              "    <tr>\n",
              "      <th>5</th>\n",
              "      <td>Head: B</td>\n",
              "      <td>Anterior-Scutum: Y</td>\n",
              "      <td>Inner-Alar-Space: B</td>\n",
              "      <td>Scutellum: Y</td>\n",
              "      <td>T1 : Y</td>\n",
              "      <td>T2 : Y / O</td>\n",
              "      <td>T3: B</td>\n",
              "      <td>T4: B</td>\n",
              "      <td>T5: B</td>\n",
              "      <td>T6: B</td>\n",
              "      <td>Corbicular: false</td>\n",
              "    </tr>\n",
              "  </tbody>\n",
              "</table>\n",
              "</div>"
            ],
            "text/plain": [
              "             Head     Anterior-Scutum  ...      T6         Corbicular\n",
              "Image-ID                               ...                           \n",
              "1         Head: B  Anterior-Scutum: Y  ...   T6: B  Corbicular: false\n",
              "2         Head: B  Anterior-Scutum: Y  ...   T6: B  Corbicular: false\n",
              "3         Head: B  Anterior-Scutum: Y  ...   T6: B  Corbicular: false\n",
              "4         Head: B  Anterior-Scutum: Y  ...   T6: B   Corbicular: true\n",
              "5         Head: B  Anterior-Scutum: Y  ...  T6: B   Corbicular: false\n",
              "\n",
              "[5 rows x 11 columns]"
            ]
          },
          "metadata": {},
          "execution_count": 13
        }
      ]
    },
    {
      "cell_type": "code",
      "metadata": {
        "id": "K-P9ys5h1xXK"
      },
      "source": [
        "bumble_bees_attribute_description = ''\n",
        "ind = 0\n",
        "for column in data_affinis.columns:\n",
        "  if ind != len(data_affinis.columns) - 1:\n",
        "    bumble_bees_attribute_description += data_affinis[f\"{column}\"] + ', '\n",
        "  else:\n",
        "    bumble_bees_attribute_description += data_affinis[f\"{column}\"]\n",
        "  ind += 1"
      ],
      "execution_count": 14,
      "outputs": []
    },
    {
      "cell_type": "code",
      "metadata": {
        "id": "SamXDIKMCBht"
      },
      "source": [
        "pd.options.display.max_colwidth = 1000"
      ],
      "execution_count": 15,
      "outputs": []
    },
    {
      "cell_type": "code",
      "metadata": {
        "colab": {
          "base_uri": "https://localhost:8080/"
        },
        "id": "JSHgvrfqCAUL",
        "outputId": "319c38d8-6aad-444b-82d0-d22f3cd1b53d"
      },
      "source": [
        "bumble_bees_attribute_description.head()"
      ],
      "execution_count": 23,
      "outputs": [
        {
          "output_type": "execute_result",
          "data": {
            "text/plain": [
              "Image-ID\n",
              "1     Head: B, Anterior-Scutum: Y, Inner-Alar-Space: B, Scutellum: Y, T1 : Y, T2 : Y / O, T3: B, T4: B, T5: B, T6: B, Corbicular: false\n",
              "2         Head: B, Anterior-Scutum: Y, Inner-Alar-Space: B, Scutellum: Y, T1 : Y, T2 : B, T3: Y, T4: B, T5: B, T6: B, Corbicular: false\n",
              "3     Head: B, Anterior-Scutum: Y, Inner-Alar-Space: B, Scutellum: Y, T1 : Y, T2 : Y / O, T3: B, T4: B, T5: B, T6: B, Corbicular: false\n",
              "4          Head: B, Anterior-Scutum: Y, Inner-Alar-Space: B, Scutellum: Y, T1 : Y, T2 : Y, T3: B, T4: B, T5: B, T6: B, Corbicular: true\n",
              "5    Head: B, Anterior-Scutum: Y, Inner-Alar-Space: B, Scutellum: Y, T1 : Y, T2 : Y / O, T3: B, T4: B, T5: B, T6: B , Corbicular: false\n",
              "Name: Head, dtype: object"
            ]
          },
          "metadata": {},
          "execution_count": 23
        }
      ]
    },
    {
      "cell_type": "code",
      "metadata": {
        "id": "-O01clz6Dc9w"
      },
      "source": [
        ""
      ],
      "execution_count": 16,
      "outputs": []
    },
    {
      "cell_type": "code",
      "metadata": {
        "colab": {
          "base_uri": "https://localhost:8080/"
        },
        "id": "jwG0FpwfUdQw",
        "outputId": "64c46ba0-8a4b-4a8f-bcca-2132d10aaffb"
      },
      "source": [
        "data_affinis.nunique()"
      ],
      "execution_count": 18,
      "outputs": [
        {
          "output_type": "execute_result",
          "data": {
            "text/plain": [
              "Head                2\n",
              "Anterior-Scutum     1\n",
              "Inner-Alar-Space    2\n",
              "Scutellum           1\n",
              "T1                  1\n",
              "T2                  3\n",
              "T3                  2\n",
              "T4                  1\n",
              "T5                  1\n",
              "T6                  2\n",
              "Corbicular          2\n",
              "dtype: int64"
            ]
          },
          "metadata": {},
          "execution_count": 18
        }
      ]
    },
    {
      "cell_type": "code",
      "metadata": {
        "colab": {
          "base_uri": "https://localhost:8080/"
        },
        "id": "CA3f2pbdopLz",
        "outputId": "b70235e7-0b53-481c-d80d-7553136a7876"
      },
      "source": [
        "data_affinis.nunique(dropna=False)"
      ],
      "execution_count": 19,
      "outputs": [
        {
          "output_type": "execute_result",
          "data": {
            "text/plain": [
              "Head                3\n",
              "Anterior-Scutum     1\n",
              "Inner-Alar-Space    3\n",
              "Scutellum           2\n",
              "T1                  2\n",
              "T2                  4\n",
              "T3                  3\n",
              "T4                  2\n",
              "T5                  2\n",
              "T6                  3\n",
              "Corbicular          2\n",
              "dtype: int64"
            ]
          },
          "metadata": {},
          "execution_count": 19
        }
      ]
    },
    {
      "cell_type": "code",
      "metadata": {
        "colab": {
          "base_uri": "https://localhost:8080/"
        },
        "id": "7ZNnB9trUdU_",
        "outputId": "8f0cddf0-a7e7-423d-f03b-60ebdb340037"
      },
      "source": [
        "data_affinis.dtypes"
      ],
      "execution_count": 20,
      "outputs": [
        {
          "output_type": "execute_result",
          "data": {
            "text/plain": [
              "Head                object\n",
              "Anterior-Scutum     object\n",
              "Inner-Alar-Space    object\n",
              "Scutellum           object\n",
              "T1                  object\n",
              "T2                  object\n",
              "T3                  object\n",
              "T4                  object\n",
              "T5                  object\n",
              "T6                  object\n",
              "Corbicular          object\n",
              "dtype: object"
            ]
          },
          "metadata": {},
          "execution_count": 20
        }
      ]
    },
    {
      "cell_type": "code",
      "metadata": {
        "colab": {
          "base_uri": "https://localhost:8080/"
        },
        "id": "w4wMUIkkZZJg",
        "outputId": "da678125-9f0c-4fd9-ca9b-272208830b2d"
      },
      "source": [
        "data_affinis.info()"
      ],
      "execution_count": 21,
      "outputs": [
        {
          "output_type": "stream",
          "name": "stdout",
          "text": [
            "<class 'pandas.core.frame.DataFrame'>\n",
            "Int64Index: 250 entries, 1 to 250\n",
            "Data columns (total 11 columns):\n",
            " #   Column            Non-Null Count  Dtype \n",
            "---  ------            --------------  ----- \n",
            " 0   Head              249 non-null    object\n",
            " 1   Anterior-Scutum   250 non-null    object\n",
            " 2   Inner-Alar-Space  249 non-null    object\n",
            " 3   Scutellum         249 non-null    object\n",
            " 4   T1                248 non-null    object\n",
            " 5   T2                249 non-null    object\n",
            " 6   T3                248 non-null    object\n",
            " 7   T4                248 non-null    object\n",
            " 8   T5                247 non-null    object\n",
            " 9   T6                247 non-null    object\n",
            " 10  Corbicular        250 non-null    object\n",
            "dtypes: object(11)\n",
            "memory usage: 23.4+ KB\n"
          ]
        }
      ]
    },
    {
      "cell_type": "code",
      "metadata": {
        "id": "CZGFLnN-aDFM"
      },
      "source": [
        ""
      ],
      "execution_count": 21,
      "outputs": []
    },
    {
      "cell_type": "markdown",
      "metadata": {
        "id": "d7UnLiY8hYxE"
      },
      "source": [
        "## Visualizing attributes ##"
      ]
    },
    {
      "cell_type": "code",
      "metadata": {
        "id": "ZQrWMQ_WaDJD"
      },
      "source": [
        "data_affinis.plot()"
      ],
      "execution_count": null,
      "outputs": []
    },
    {
      "cell_type": "code",
      "metadata": {
        "id": "UMCVgGAhZZRt"
      },
      "source": [
        ""
      ],
      "execution_count": null,
      "outputs": []
    }
  ]
}
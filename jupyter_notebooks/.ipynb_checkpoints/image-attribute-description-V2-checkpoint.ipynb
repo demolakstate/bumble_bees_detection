{
 "cells": [
  {
   "cell_type": "code",
   "execution_count": 32,
   "id": "b6517a56",
   "metadata": {},
   "outputs": [
    {
     "name": "stdout",
     "output_type": "stream",
     "text": [
      "Sun Dec  5 16:07:18 2021       \r\n",
      "+-----------------------------------------------------------------------------+\r\n",
      "| NVIDIA-SMI 495.44       Driver Version: 495.44       CUDA Version: 11.5     |\r\n",
      "|-------------------------------+----------------------+----------------------+\r\n",
      "| GPU  Name        Persistence-M| Bus-Id        Disp.A | Volatile Uncorr. ECC |\r\n",
      "| Fan  Temp  Perf  Pwr:Usage/Cap|         Memory-Usage | GPU-Util  Compute M. |\r\n",
      "|                               |                      |               MIG M. |\r\n",
      "|===============================+======================+======================|\r\n",
      "|   0  NVIDIA A40          Off  | 00000000:3D:00.0 Off |                    0 |\r\n",
      "|  0%   34C    P8    19W / 300W |      2MiB / 45634MiB |      0%      Default |\r\n",
      "|                               |                      |                  N/A |\r\n",
      "+-------------------------------+----------------------+----------------------+\r\n",
      "                                                                               \r\n",
      "+-----------------------------------------------------------------------------+\r\n",
      "| Processes:                                                                  |\r\n",
      "|  GPU   GI   CI        PID   Type   Process name                  GPU Memory |\r\n",
      "|        ID   ID                                                   Usage      |\r\n",
      "|=============================================================================|\r\n",
      "|  No running processes found                                                 |\r\n",
      "+-----------------------------------------------------------------------------+\r\n"
     ]
    }
   ],
   "source": [
    "!nvidia-smi"
   ]
  },
  {
   "cell_type": "markdown",
   "id": "0adef503",
   "metadata": {},
   "source": [
    "## This code creates an image attribute description model for bumble bees ##"
   ]
  },
  {
   "cell_type": "code",
   "execution_count": 1,
   "id": "9fbe6ac5",
   "metadata": {},
   "outputs": [
    {
     "name": "stdout",
     "output_type": "stream",
     "text": [
      "Requirement already satisfied: xlrd in /usr/local/lib/python3.8/dist-packages (2.0.1)\n",
      "\u001b[33mWARNING: Running pip as the 'root' user can result in broken permissions and conflicting behaviour with the system package manager. It is recommended to use a virtual environment instead: https://pip.pypa.io/warnings/venv\u001b[0m\n"
     ]
    }
   ],
   "source": [
    "# necessary installations\n",
    "!pip install xlrd"
   ]
  },
  {
   "cell_type": "code",
   "execution_count": 2,
   "id": "b48d9c6d",
   "metadata": {},
   "outputs": [
    {
     "name": "stdout",
     "output_type": "stream",
     "text": [
      "Requirement already satisfied: openpyxl in /usr/local/lib/python3.8/dist-packages (3.0.9)\n",
      "Requirement already satisfied: et-xmlfile in /usr/local/lib/python3.8/dist-packages (from openpyxl) (1.1.0)\n",
      "\u001b[33mWARNING: Running pip as the 'root' user can result in broken permissions and conflicting behaviour with the system package manager. It is recommended to use a virtual environment instead: https://pip.pypa.io/warnings/venv\u001b[0m\n"
     ]
    }
   ],
   "source": [
    "!pip install openpyxl"
   ]
  },
  {
   "cell_type": "code",
   "execution_count": 3,
   "id": "2ac596ef",
   "metadata": {},
   "outputs": [],
   "source": [
    "# necessary imports\n",
    "import pandas as pd"
   ]
  },
  {
   "cell_type": "markdown",
   "id": "6196e59a",
   "metadata": {},
   "source": [
    "### Load and preprocess dataset - images and text description ###"
   ]
  },
  {
   "cell_type": "code",
   "execution_count": 4,
   "id": "3743b2fc",
   "metadata": {},
   "outputs": [],
   "source": [
    "# load text\n",
    "data = pd.read_excel(\"../Beemachine_Experiments_Logs.xlsx\", sheet_name=None)"
   ]
  },
  {
   "cell_type": "code",
   "execution_count": 5,
   "id": "7023c12c",
   "metadata": {},
   "outputs": [
    {
     "data": {
      "text/plain": [
       "dict_keys(['Logs', 'Validation results - MobileNetV', 'Semantic Information', 'Correspondence', 'Key', 'Affinis', 'Auricomus', 'Bifarius', 'Bimaculatus'])"
      ]
     },
     "execution_count": 5,
     "metadata": {},
     "output_type": "execute_result"
    }
   ],
   "source": [
    "data.keys()"
   ]
  },
  {
   "cell_type": "code",
   "execution_count": 6,
   "id": "d761e0c2",
   "metadata": {},
   "outputs": [],
   "source": [
    "data_affinis = data['Affinis']"
   ]
  },
  {
   "cell_type": "code",
   "execution_count": 7,
   "id": "006d46ef",
   "metadata": {},
   "outputs": [],
   "source": [
    "data_affinis.rename(columns={'ID':'Image-ID', 'Anterior Scutum':'Anterior-Scutum', 'Inner-Alar Space':'Inner-Alar-Space'}, inplace=True)"
   ]
  },
  {
   "cell_type": "code",
   "execution_count": 8,
   "id": "3b302499",
   "metadata": {},
   "outputs": [],
   "source": [
    "data_affinis.set_index('Image-ID', inplace=True)"
   ]
  },
  {
   "cell_type": "code",
   "execution_count": 9,
   "id": "e454789d",
   "metadata": {},
   "outputs": [],
   "source": [
    "data_affinis.dropna(how='all', inplace=True)"
   ]
  },
  {
   "cell_type": "code",
   "execution_count": 10,
   "id": "784879ac",
   "metadata": {},
   "outputs": [
    {
     "data": {
      "text/html": [
       "<div>\n",
       "<style scoped>\n",
       "    .dataframe tbody tr th:only-of-type {\n",
       "        vertical-align: middle;\n",
       "    }\n",
       "\n",
       "    .dataframe tbody tr th {\n",
       "        vertical-align: top;\n",
       "    }\n",
       "\n",
       "    .dataframe thead th {\n",
       "        text-align: right;\n",
       "    }\n",
       "</style>\n",
       "<table border=\"1\" class=\"dataframe\">\n",
       "  <thead>\n",
       "    <tr style=\"text-align: right;\">\n",
       "      <th></th>\n",
       "      <th>Head</th>\n",
       "      <th>Anterior-Scutum</th>\n",
       "      <th>Inner-Alar-Space</th>\n",
       "      <th>Scutellum</th>\n",
       "      <th>T1</th>\n",
       "      <th>T2</th>\n",
       "      <th>T3</th>\n",
       "      <th>T4</th>\n",
       "      <th>T5</th>\n",
       "      <th>T6</th>\n",
       "      <th>Corbicular</th>\n",
       "    </tr>\n",
       "    <tr>\n",
       "      <th>Image-ID</th>\n",
       "      <th></th>\n",
       "      <th></th>\n",
       "      <th></th>\n",
       "      <th></th>\n",
       "      <th></th>\n",
       "      <th></th>\n",
       "      <th></th>\n",
       "      <th></th>\n",
       "      <th></th>\n",
       "      <th></th>\n",
       "      <th></th>\n",
       "    </tr>\n",
       "  </thead>\n",
       "  <tbody>\n",
       "    <tr>\n",
       "      <th>1</th>\n",
       "      <td>B</td>\n",
       "      <td>Y</td>\n",
       "      <td>B</td>\n",
       "      <td>Y</td>\n",
       "      <td>Y</td>\n",
       "      <td>Y / O</td>\n",
       "      <td>B</td>\n",
       "      <td>B</td>\n",
       "      <td>B</td>\n",
       "      <td>B</td>\n",
       "      <td>NaN</td>\n",
       "    </tr>\n",
       "    <tr>\n",
       "      <th>2</th>\n",
       "      <td>B</td>\n",
       "      <td>Y</td>\n",
       "      <td>B</td>\n",
       "      <td>Y</td>\n",
       "      <td>Y</td>\n",
       "      <td>B</td>\n",
       "      <td>Y</td>\n",
       "      <td>B</td>\n",
       "      <td>B</td>\n",
       "      <td>B</td>\n",
       "      <td>NaN</td>\n",
       "    </tr>\n",
       "    <tr>\n",
       "      <th>3</th>\n",
       "      <td>B</td>\n",
       "      <td>Y</td>\n",
       "      <td>B</td>\n",
       "      <td>Y</td>\n",
       "      <td>Y</td>\n",
       "      <td>Y / O</td>\n",
       "      <td>B</td>\n",
       "      <td>B</td>\n",
       "      <td>B</td>\n",
       "      <td>B</td>\n",
       "      <td>NaN</td>\n",
       "    </tr>\n",
       "    <tr>\n",
       "      <th>4</th>\n",
       "      <td>B</td>\n",
       "      <td>Y</td>\n",
       "      <td>B</td>\n",
       "      <td>Y</td>\n",
       "      <td>Y</td>\n",
       "      <td>Y</td>\n",
       "      <td>B</td>\n",
       "      <td>B</td>\n",
       "      <td>B</td>\n",
       "      <td>B</td>\n",
       "      <td>Yes</td>\n",
       "    </tr>\n",
       "    <tr>\n",
       "      <th>5</th>\n",
       "      <td>B</td>\n",
       "      <td>Y</td>\n",
       "      <td>B</td>\n",
       "      <td>Y</td>\n",
       "      <td>Y</td>\n",
       "      <td>Y / O</td>\n",
       "      <td>B</td>\n",
       "      <td>B</td>\n",
       "      <td>B</td>\n",
       "      <td>B</td>\n",
       "      <td>NaN</td>\n",
       "    </tr>\n",
       "  </tbody>\n",
       "</table>\n",
       "</div>"
      ],
      "text/plain": [
       "         Head Anterior-Scutum Inner-Alar-Space Scutellum T1     T2  T3 T4 T5  \\\n",
       "Image-ID                                                                       \n",
       "1           B               Y                B         Y   Y  Y / O  B  B  B   \n",
       "2           B               Y                B         Y   Y      B  Y  B  B   \n",
       "3           B               Y                B         Y   Y  Y / O  B  B  B   \n",
       "4           B               Y                B         Y   Y      Y  B  B  B   \n",
       "5           B               Y                B         Y   Y  Y / O  B  B  B   \n",
       "\n",
       "          T6 Corbicular  \n",
       "Image-ID                 \n",
       "1          B        NaN  \n",
       "2          B        NaN  \n",
       "3          B        NaN  \n",
       "4          B        Yes  \n",
       "5         B         NaN  "
      ]
     },
     "execution_count": 10,
     "metadata": {},
     "output_type": "execute_result"
    }
   ],
   "source": [
    "data_affinis.head()"
   ]
  },
  {
   "cell_type": "markdown",
   "id": "57c43123",
   "metadata": {},
   "source": [
    "### Optimize for memory efficiency ###"
   ]
  },
  {
   "cell_type": "code",
   "execution_count": 11,
   "id": "964fcf56",
   "metadata": {},
   "outputs": [],
   "source": [
    "data_affinis['Corbicular'].fillna(\"False\", inplace=True)"
   ]
  },
  {
   "cell_type": "code",
   "execution_count": 12,
   "id": "b5a1e37a",
   "metadata": {},
   "outputs": [],
   "source": [
    "data_affinis['Corbicular'] = data_affinis['Corbicular'].str.strip().str.lower().str.replace(\"yes\", \"True\")\n",
    "data_affinis['Corbicular'] = data_affinis['Corbicular'].str.strip().str.lower().str.replace(\"no\", \"False\")"
   ]
  },
  {
   "cell_type": "code",
   "execution_count": 13,
   "id": "2465efb7",
   "metadata": {},
   "outputs": [],
   "source": [
    "for column in data_affinis.columns:\n",
    "  data_affinis[f\"{column}\"] = f\"{column}: \" + data_affinis[f\"{column}\"]"
   ]
  },
  {
   "cell_type": "code",
   "execution_count": 14,
   "id": "98255b80",
   "metadata": {},
   "outputs": [
    {
     "data": {
      "text/html": [
       "<div>\n",
       "<style scoped>\n",
       "    .dataframe tbody tr th:only-of-type {\n",
       "        vertical-align: middle;\n",
       "    }\n",
       "\n",
       "    .dataframe tbody tr th {\n",
       "        vertical-align: top;\n",
       "    }\n",
       "\n",
       "    .dataframe thead th {\n",
       "        text-align: right;\n",
       "    }\n",
       "</style>\n",
       "<table border=\"1\" class=\"dataframe\">\n",
       "  <thead>\n",
       "    <tr style=\"text-align: right;\">\n",
       "      <th></th>\n",
       "      <th>Head</th>\n",
       "      <th>Anterior-Scutum</th>\n",
       "      <th>Inner-Alar-Space</th>\n",
       "      <th>Scutellum</th>\n",
       "      <th>T1</th>\n",
       "      <th>T2</th>\n",
       "      <th>T3</th>\n",
       "      <th>T4</th>\n",
       "      <th>T5</th>\n",
       "      <th>T6</th>\n",
       "      <th>Corbicular</th>\n",
       "    </tr>\n",
       "    <tr>\n",
       "      <th>Image-ID</th>\n",
       "      <th></th>\n",
       "      <th></th>\n",
       "      <th></th>\n",
       "      <th></th>\n",
       "      <th></th>\n",
       "      <th></th>\n",
       "      <th></th>\n",
       "      <th></th>\n",
       "      <th></th>\n",
       "      <th></th>\n",
       "      <th></th>\n",
       "    </tr>\n",
       "  </thead>\n",
       "  <tbody>\n",
       "    <tr>\n",
       "      <th>1</th>\n",
       "      <td>Head: B</td>\n",
       "      <td>Anterior-Scutum: Y</td>\n",
       "      <td>Inner-Alar-Space: B</td>\n",
       "      <td>Scutellum: Y</td>\n",
       "      <td>T1 : Y</td>\n",
       "      <td>T2 : Y / O</td>\n",
       "      <td>T3: B</td>\n",
       "      <td>T4: B</td>\n",
       "      <td>T5: B</td>\n",
       "      <td>T6: B</td>\n",
       "      <td>Corbicular: false</td>\n",
       "    </tr>\n",
       "    <tr>\n",
       "      <th>2</th>\n",
       "      <td>Head: B</td>\n",
       "      <td>Anterior-Scutum: Y</td>\n",
       "      <td>Inner-Alar-Space: B</td>\n",
       "      <td>Scutellum: Y</td>\n",
       "      <td>T1 : Y</td>\n",
       "      <td>T2 : B</td>\n",
       "      <td>T3: Y</td>\n",
       "      <td>T4: B</td>\n",
       "      <td>T5: B</td>\n",
       "      <td>T6: B</td>\n",
       "      <td>Corbicular: false</td>\n",
       "    </tr>\n",
       "    <tr>\n",
       "      <th>3</th>\n",
       "      <td>Head: B</td>\n",
       "      <td>Anterior-Scutum: Y</td>\n",
       "      <td>Inner-Alar-Space: B</td>\n",
       "      <td>Scutellum: Y</td>\n",
       "      <td>T1 : Y</td>\n",
       "      <td>T2 : Y / O</td>\n",
       "      <td>T3: B</td>\n",
       "      <td>T4: B</td>\n",
       "      <td>T5: B</td>\n",
       "      <td>T6: B</td>\n",
       "      <td>Corbicular: false</td>\n",
       "    </tr>\n",
       "    <tr>\n",
       "      <th>4</th>\n",
       "      <td>Head: B</td>\n",
       "      <td>Anterior-Scutum: Y</td>\n",
       "      <td>Inner-Alar-Space: B</td>\n",
       "      <td>Scutellum: Y</td>\n",
       "      <td>T1 : Y</td>\n",
       "      <td>T2 : Y</td>\n",
       "      <td>T3: B</td>\n",
       "      <td>T4: B</td>\n",
       "      <td>T5: B</td>\n",
       "      <td>T6: B</td>\n",
       "      <td>Corbicular: true</td>\n",
       "    </tr>\n",
       "    <tr>\n",
       "      <th>5</th>\n",
       "      <td>Head: B</td>\n",
       "      <td>Anterior-Scutum: Y</td>\n",
       "      <td>Inner-Alar-Space: B</td>\n",
       "      <td>Scutellum: Y</td>\n",
       "      <td>T1 : Y</td>\n",
       "      <td>T2 : Y / O</td>\n",
       "      <td>T3: B</td>\n",
       "      <td>T4: B</td>\n",
       "      <td>T5: B</td>\n",
       "      <td>T6: B</td>\n",
       "      <td>Corbicular: false</td>\n",
       "    </tr>\n",
       "  </tbody>\n",
       "</table>\n",
       "</div>"
      ],
      "text/plain": [
       "             Head     Anterior-Scutum     Inner-Alar-Space     Scutellum  \\\n",
       "Image-ID                                                                   \n",
       "1         Head: B  Anterior-Scutum: Y  Inner-Alar-Space: B  Scutellum: Y   \n",
       "2         Head: B  Anterior-Scutum: Y  Inner-Alar-Space: B  Scutellum: Y   \n",
       "3         Head: B  Anterior-Scutum: Y  Inner-Alar-Space: B  Scutellum: Y   \n",
       "4         Head: B  Anterior-Scutum: Y  Inner-Alar-Space: B  Scutellum: Y   \n",
       "5         Head: B  Anterior-Scutum: Y  Inner-Alar-Space: B  Scutellum: Y   \n",
       "\n",
       "             T1          T2      T3     T4     T5      T6         Corbicular  \n",
       "Image-ID                                                                      \n",
       "1         T1 : Y  T2 : Y / O  T3: B  T4: B  T5: B   T6: B  Corbicular: false  \n",
       "2         T1 : Y      T2 : B  T3: Y  T4: B  T5: B   T6: B  Corbicular: false  \n",
       "3         T1 : Y  T2 : Y / O  T3: B  T4: B  T5: B   T6: B  Corbicular: false  \n",
       "4         T1 : Y      T2 : Y  T3: B  T4: B  T5: B   T6: B   Corbicular: true  \n",
       "5         T1 : Y  T2 : Y / O  T3: B  T4: B  T5: B  T6: B   Corbicular: false  "
      ]
     },
     "execution_count": 14,
     "metadata": {},
     "output_type": "execute_result"
    }
   ],
   "source": [
    "data_affinis.head()"
   ]
  },
  {
   "cell_type": "code",
   "execution_count": 15,
   "id": "469c0795",
   "metadata": {},
   "outputs": [],
   "source": [
    "bumble_bees_attribute_description = ''\n",
    "ind = 0\n",
    "for column in data_affinis.columns:\n",
    "  if ind != len(data_affinis.columns) - 1:\n",
    "    bumble_bees_attribute_description += data_affinis[f\"{column}\"] + ', '\n",
    "  else:\n",
    "    bumble_bees_attribute_description += data_affinis[f\"{column}\"]\n",
    "  ind += 1"
   ]
  },
  {
   "cell_type": "code",
   "execution_count": 16,
   "id": "c5144d2e",
   "metadata": {},
   "outputs": [],
   "source": [
    "pd.options.display.max_colwidth = 1000"
   ]
  },
  {
   "cell_type": "code",
   "execution_count": 17,
   "id": "a70cfe1c",
   "metadata": {},
   "outputs": [
    {
     "data": {
      "text/plain": [
       "Image-ID\n",
       "1     Head: B, Anterior-Scutum: Y, Inner-Alar-Space: B, Scutellum: Y, T1 : Y, T2 : Y / O, T3: B, T4: B, T5: B, T6: B, Corbicular: false\n",
       "2         Head: B, Anterior-Scutum: Y, Inner-Alar-Space: B, Scutellum: Y, T1 : Y, T2 : B, T3: Y, T4: B, T5: B, T6: B, Corbicular: false\n",
       "3     Head: B, Anterior-Scutum: Y, Inner-Alar-Space: B, Scutellum: Y, T1 : Y, T2 : Y / O, T3: B, T4: B, T5: B, T6: B, Corbicular: false\n",
       "4          Head: B, Anterior-Scutum: Y, Inner-Alar-Space: B, Scutellum: Y, T1 : Y, T2 : Y, T3: B, T4: B, T5: B, T6: B, Corbicular: true\n",
       "5    Head: B, Anterior-Scutum: Y, Inner-Alar-Space: B, Scutellum: Y, T1 : Y, T2 : Y / O, T3: B, T4: B, T5: B, T6: B , Corbicular: false\n",
       "Name: Head, dtype: object"
      ]
     },
     "execution_count": 17,
     "metadata": {},
     "output_type": "execute_result"
    }
   ],
   "source": [
    "bumble_bees_attribute_description.head()"
   ]
  },
  {
   "cell_type": "code",
   "execution_count": 31,
   "id": "a97612ab",
   "metadata": {},
   "outputs": [
    {
     "data": {
      "text/plain": [
       "0        1\n",
       "1        2\n",
       "2        3\n",
       "3        4\n",
       "4        5\n",
       "      ... \n",
       "245    246\n",
       "246    247\n",
       "247    248\n",
       "248    249\n",
       "249    250\n",
       "Name: Image-ID, Length: 250, dtype: int64"
      ]
     },
     "execution_count": 31,
     "metadata": {},
     "output_type": "execute_result"
    }
   ],
   "source": [
    "pd.Series(bumble_bees_attribute_description.keys())"
   ]
  },
  {
   "cell_type": "code",
   "execution_count": 18,
   "id": "b3528620",
   "metadata": {},
   "outputs": [
    {
     "data": {
      "text/plain": [
       "Head                2\n",
       "Anterior-Scutum     1\n",
       "Inner-Alar-Space    2\n",
       "Scutellum           1\n",
       "T1                  1\n",
       "T2                  3\n",
       "T3                  2\n",
       "T4                  1\n",
       "T5                  1\n",
       "T6                  2\n",
       "Corbicular          2\n",
       "dtype: int64"
      ]
     },
     "execution_count": 18,
     "metadata": {},
     "output_type": "execute_result"
    }
   ],
   "source": [
    "data_affinis.nunique()"
   ]
  },
  {
   "cell_type": "code",
   "execution_count": 19,
   "id": "c896bedf",
   "metadata": {},
   "outputs": [
    {
     "data": {
      "text/plain": [
       "Head                3\n",
       "Anterior-Scutum     1\n",
       "Inner-Alar-Space    3\n",
       "Scutellum           2\n",
       "T1                  2\n",
       "T2                  4\n",
       "T3                  3\n",
       "T4                  2\n",
       "T5                  2\n",
       "T6                  3\n",
       "Corbicular          2\n",
       "dtype: int64"
      ]
     },
     "execution_count": 19,
     "metadata": {},
     "output_type": "execute_result"
    }
   ],
   "source": [
    "data_affinis.nunique(dropna=False)"
   ]
  },
  {
   "cell_type": "code",
   "execution_count": 20,
   "id": "f2112330",
   "metadata": {},
   "outputs": [
    {
     "data": {
      "text/plain": [
       "Head                object\n",
       "Anterior-Scutum     object\n",
       "Inner-Alar-Space    object\n",
       "Scutellum           object\n",
       "T1                  object\n",
       "T2                  object\n",
       "T3                  object\n",
       "T4                  object\n",
       "T5                  object\n",
       "T6                  object\n",
       "Corbicular          object\n",
       "dtype: object"
      ]
     },
     "execution_count": 20,
     "metadata": {},
     "output_type": "execute_result"
    }
   ],
   "source": [
    "data_affinis.dtypes"
   ]
  },
  {
   "cell_type": "code",
   "execution_count": 21,
   "id": "850cb226",
   "metadata": {},
   "outputs": [
    {
     "name": "stdout",
     "output_type": "stream",
     "text": [
      "<class 'pandas.core.frame.DataFrame'>\n",
      "Int64Index: 250 entries, 1 to 250\n",
      "Data columns (total 11 columns):\n",
      " #   Column            Non-Null Count  Dtype \n",
      "---  ------            --------------  ----- \n",
      " 0   Head              249 non-null    object\n",
      " 1   Anterior-Scutum   250 non-null    object\n",
      " 2   Inner-Alar-Space  249 non-null    object\n",
      " 3   Scutellum         249 non-null    object\n",
      " 4   T1                248 non-null    object\n",
      " 5   T2                249 non-null    object\n",
      " 6   T3                248 non-null    object\n",
      " 7   T4                248 non-null    object\n",
      " 8   T5                247 non-null    object\n",
      " 9   T6                247 non-null    object\n",
      " 10  Corbicular        250 non-null    object\n",
      "dtypes: object(11)\n",
      "memory usage: 23.4+ KB\n"
     ]
    }
   ],
   "source": [
    "data_affinis.info()"
   ]
  },
  {
   "cell_type": "code",
   "execution_count": null,
   "id": "0d18bc97",
   "metadata": {},
   "outputs": [],
   "source": []
  },
  {
   "cell_type": "code",
   "execution_count": 22,
   "id": "14ea213b",
   "metadata": {},
   "outputs": [],
   "source": [
    "# load images"
   ]
  },
  {
   "cell_type": "code",
   "execution_count": null,
   "id": "f5191065",
   "metadata": {},
   "outputs": [],
   "source": []
  },
  {
   "cell_type": "code",
   "execution_count": null,
   "id": "139c9f0f",
   "metadata": {},
   "outputs": [],
   "source": []
  },
  {
   "cell_type": "code",
   "execution_count": null,
   "id": "a1141f5e",
   "metadata": {},
   "outputs": [],
   "source": []
  },
  {
   "cell_type": "code",
   "execution_count": null,
   "id": "2461c935",
   "metadata": {},
   "outputs": [],
   "source": []
  }
 ],
 "metadata": {
  "kernelspec": {
   "display_name": "Python 3 (ipykernel)",
   "language": "python",
   "name": "python3"
  },
  "language_info": {
   "codemirror_mode": {
    "name": "ipython",
    "version": 3
   },
   "file_extension": ".py",
   "mimetype": "text/x-python",
   "name": "python",
   "nbconvert_exporter": "python",
   "pygments_lexer": "ipython3",
   "version": "3.8.10"
  }
 },
 "nbformat": 4,
 "nbformat_minor": 5
}

{
 "cells": [
  {
   "cell_type": "code",
   "execution_count": null,
   "id": "8f180f1b",
   "metadata": {},
   "outputs": [],
   "source": []
  },
  {
   "cell_type": "code",
   "execution_count": 1,
   "id": "ea7baf92",
   "metadata": {},
   "outputs": [],
   "source": [
    "import os\n",
    "\n",
    "os.environ['CUDA_VISIBLE_DEVICES'] = '2'"
   ]
  },
  {
   "cell_type": "code",
   "execution_count": null,
   "id": "72b43508",
   "metadata": {},
   "outputs": [],
   "source": []
  },
  {
   "cell_type": "code",
   "execution_count": 2,
   "id": "e973edd3",
   "metadata": {},
   "outputs": [
    {
     "name": "stdout",
     "output_type": "stream",
     "text": [
      "Requirement already satisfied: ipywidgets in /usr/local/lib/python3.8/dist-packages (7.6.5)\n",
      "Requirement already satisfied: nbformat>=4.2.0 in /usr/local/lib/python3.8/dist-packages (from ipywidgets) (5.1.3)\n",
      "Requirement already satisfied: ipython>=4.0.0 in /usr/local/lib/python3.8/dist-packages (from ipywidgets) (7.28.0)\n",
      "Requirement already satisfied: widgetsnbextension~=3.5.0 in /usr/local/lib/python3.8/dist-packages (from ipywidgets) (3.5.2)\n",
      "Requirement already satisfied: traitlets>=4.3.1 in /usr/local/lib/python3.8/dist-packages (from ipywidgets) (5.1.0)\n",
      "Requirement already satisfied: jupyterlab-widgets>=1.0.0 in /usr/local/lib/python3.8/dist-packages (from ipywidgets) (1.0.2)\n",
      "Requirement already satisfied: ipython-genutils~=0.2.0 in /usr/local/lib/python3.8/dist-packages (from ipywidgets) (0.2.0)\n",
      "Requirement already satisfied: ipykernel>=4.5.1 in /usr/local/lib/python3.8/dist-packages (from ipywidgets) (6.4.1)\n",
      "Requirement already satisfied: debugpy<2.0,>=1.0.0 in /usr/local/lib/python3.8/dist-packages (from ipykernel>=4.5.1->ipywidgets) (1.5.0)\n",
      "Requirement already satisfied: matplotlib-inline<0.2.0,>=0.1.0 in /usr/local/lib/python3.8/dist-packages (from ipykernel>=4.5.1->ipywidgets) (0.1.3)\n",
      "Requirement already satisfied: tornado<7.0,>=4.2 in /usr/local/lib/python3.8/dist-packages (from ipykernel>=4.5.1->ipywidgets) (6.1)\n",
      "Requirement already satisfied: jupyter-client<8.0 in /usr/local/lib/python3.8/dist-packages (from ipykernel>=4.5.1->ipywidgets) (7.0.6)\n",
      "Requirement already satisfied: prompt-toolkit!=3.0.0,!=3.0.1,<3.1.0,>=2.0.0 in /usr/local/lib/python3.8/dist-packages (from ipython>=4.0.0->ipywidgets) (3.0.20)\n",
      "Requirement already satisfied: pexpect>4.3 in /usr/local/lib/python3.8/dist-packages (from ipython>=4.0.0->ipywidgets) (4.8.0)\n",
      "Requirement already satisfied: backcall in /usr/local/lib/python3.8/dist-packages (from ipython>=4.0.0->ipywidgets) (0.2.0)\n",
      "Requirement already satisfied: decorator in /usr/local/lib/python3.8/dist-packages (from ipython>=4.0.0->ipywidgets) (5.1.0)\n",
      "Requirement already satisfied: pygments in /usr/local/lib/python3.8/dist-packages (from ipython>=4.0.0->ipywidgets) (2.10.0)\n",
      "Requirement already satisfied: setuptools>=18.5 in /usr/local/lib/python3.8/dist-packages (from ipython>=4.0.0->ipywidgets) (59.5.0)\n",
      "Requirement already satisfied: jedi>=0.16 in /usr/local/lib/python3.8/dist-packages (from ipython>=4.0.0->ipywidgets) (0.18.0)\n",
      "Requirement already satisfied: pickleshare in /usr/local/lib/python3.8/dist-packages (from ipython>=4.0.0->ipywidgets) (0.7.5)\n",
      "Requirement already satisfied: jupyter-core in /usr/local/lib/python3.8/dist-packages (from nbformat>=4.2.0->ipywidgets) (4.8.1)\n",
      "Requirement already satisfied: jsonschema!=2.5.0,>=2.4 in /usr/local/lib/python3.8/dist-packages (from nbformat>=4.2.0->ipywidgets) (4.1.0)\n",
      "Requirement already satisfied: notebook>=4.4.1 in /usr/local/lib/python3.8/dist-packages (from widgetsnbextension~=3.5.0->ipywidgets) (6.4.4)\n",
      "Requirement already satisfied: parso<0.9.0,>=0.8.0 in /usr/local/lib/python3.8/dist-packages (from jedi>=0.16->ipython>=4.0.0->ipywidgets) (0.8.2)\n",
      "Requirement already satisfied: pyrsistent!=0.17.0,!=0.17.1,!=0.17.2,>=0.14.0 in /usr/local/lib/python3.8/dist-packages (from jsonschema!=2.5.0,>=2.4->nbformat>=4.2.0->ipywidgets) (0.18.0)\n",
      "Requirement already satisfied: attrs>=17.4.0 in /usr/local/lib/python3.8/dist-packages (from jsonschema!=2.5.0,>=2.4->nbformat>=4.2.0->ipywidgets) (21.2.0)\n",
      "Requirement already satisfied: entrypoints in /usr/local/lib/python3.8/dist-packages (from jupyter-client<8.0->ipykernel>=4.5.1->ipywidgets) (0.3)\n",
      "Requirement already satisfied: python-dateutil>=2.1 in /usr/local/lib/python3.8/dist-packages (from jupyter-client<8.0->ipykernel>=4.5.1->ipywidgets) (2.8.2)\n",
      "Requirement already satisfied: pyzmq>=13 in /usr/local/lib/python3.8/dist-packages (from jupyter-client<8.0->ipykernel>=4.5.1->ipywidgets) (22.3.0)\n",
      "Requirement already satisfied: nest-asyncio>=1.5 in /usr/local/lib/python3.8/dist-packages (from jupyter-client<8.0->ipykernel>=4.5.1->ipywidgets) (1.5.1)\n",
      "Requirement already satisfied: prometheus-client in /usr/local/lib/python3.8/dist-packages (from notebook>=4.4.1->widgetsnbextension~=3.5.0->ipywidgets) (0.11.0)\n",
      "Requirement already satisfied: argon2-cffi in /usr/local/lib/python3.8/dist-packages (from notebook>=4.4.1->widgetsnbextension~=3.5.0->ipywidgets) (21.1.0)\n",
      "Requirement already satisfied: terminado>=0.8.3 in /usr/local/lib/python3.8/dist-packages (from notebook>=4.4.1->widgetsnbextension~=3.5.0->ipywidgets) (0.12.1)\n",
      "Requirement already satisfied: jinja2 in /usr/local/lib/python3.8/dist-packages (from notebook>=4.4.1->widgetsnbextension~=3.5.0->ipywidgets) (3.0.2)\n",
      "Requirement already satisfied: Send2Trash>=1.5.0 in /usr/local/lib/python3.8/dist-packages (from notebook>=4.4.1->widgetsnbextension~=3.5.0->ipywidgets) (1.8.0)\n",
      "Requirement already satisfied: nbconvert in /usr/local/lib/python3.8/dist-packages (from notebook>=4.4.1->widgetsnbextension~=3.5.0->ipywidgets) (6.2.0)\n",
      "Requirement already satisfied: ptyprocess>=0.5 in /usr/local/lib/python3.8/dist-packages (from pexpect>4.3->ipython>=4.0.0->ipywidgets) (0.7.0)\n",
      "Requirement already satisfied: wcwidth in /usr/local/lib/python3.8/dist-packages (from prompt-toolkit!=3.0.0,!=3.0.1,<3.1.0,>=2.0.0->ipython>=4.0.0->ipywidgets) (0.2.5)\n",
      "Requirement already satisfied: six>=1.5 in /usr/local/lib/python3.8/dist-packages (from python-dateutil>=2.1->jupyter-client<8.0->ipykernel>=4.5.1->ipywidgets) (1.15.0)\n",
      "Requirement already satisfied: cffi>=1.0.0 in /usr/local/lib/python3.8/dist-packages (from argon2-cffi->notebook>=4.4.1->widgetsnbextension~=3.5.0->ipywidgets) (1.14.6)\n",
      "Requirement already satisfied: MarkupSafe>=2.0 in /usr/local/lib/python3.8/dist-packages (from jinja2->notebook>=4.4.1->widgetsnbextension~=3.5.0->ipywidgets) (2.0.1)\n",
      "Requirement already satisfied: defusedxml in /usr/local/lib/python3.8/dist-packages (from nbconvert->notebook>=4.4.1->widgetsnbextension~=3.5.0->ipywidgets) (0.7.1)\n",
      "Requirement already satisfied: pandocfilters>=1.4.1 in /usr/local/lib/python3.8/dist-packages (from nbconvert->notebook>=4.4.1->widgetsnbextension~=3.5.0->ipywidgets) (1.5.0)\n",
      "Requirement already satisfied: mistune<2,>=0.8.1 in /usr/local/lib/python3.8/dist-packages (from nbconvert->notebook>=4.4.1->widgetsnbextension~=3.5.0->ipywidgets) (0.8.4)\n",
      "Requirement already satisfied: nbclient<0.6.0,>=0.5.0 in /usr/local/lib/python3.8/dist-packages (from nbconvert->notebook>=4.4.1->widgetsnbextension~=3.5.0->ipywidgets) (0.5.4)\n",
      "Requirement already satisfied: bleach in /usr/local/lib/python3.8/dist-packages (from nbconvert->notebook>=4.4.1->widgetsnbextension~=3.5.0->ipywidgets) (4.1.0)\n",
      "Requirement already satisfied: jupyterlab-pygments in /usr/local/lib/python3.8/dist-packages (from nbconvert->notebook>=4.4.1->widgetsnbextension~=3.5.0->ipywidgets) (0.1.2)\n",
      "Requirement already satisfied: testpath in /usr/local/lib/python3.8/dist-packages (from nbconvert->notebook>=4.4.1->widgetsnbextension~=3.5.0->ipywidgets) (0.5.0)\n",
      "Requirement already satisfied: pycparser in /usr/local/lib/python3.8/dist-packages (from cffi>=1.0.0->argon2-cffi->notebook>=4.4.1->widgetsnbextension~=3.5.0->ipywidgets) (2.20)\n",
      "Requirement already satisfied: webencodings in /usr/local/lib/python3.8/dist-packages (from bleach->nbconvert->notebook>=4.4.1->widgetsnbextension~=3.5.0->ipywidgets) (0.5.1)\n",
      "Requirement already satisfied: packaging in /usr/local/lib/python3.8/dist-packages (from bleach->nbconvert->notebook>=4.4.1->widgetsnbextension~=3.5.0->ipywidgets) (21.0)\n",
      "Requirement already satisfied: pyparsing>=2.0.2 in /usr/local/lib/python3.8/dist-packages (from packaging->bleach->nbconvert->notebook>=4.4.1->widgetsnbextension~=3.5.0->ipywidgets) (2.4.7)\n",
      "\u001b[33mWARNING: Running pip as the 'root' user can result in broken permissions and conflicting behaviour with the system package manager. It is recommended to use a virtual environment instead: https://pip.pypa.io/warnings/venv\u001b[0m\n"
     ]
    }
   ],
   "source": [
    "!pip install ipywidgets"
   ]
  },
  {
   "cell_type": "code",
   "execution_count": 3,
   "id": "1360f8c1",
   "metadata": {},
   "outputs": [
    {
     "name": "stdout",
     "output_type": "stream",
     "text": [
      "Requirement already satisfied: import-ipynb in /usr/local/lib/python3.8/dist-packages (0.1.3)\n",
      "\u001b[33mWARNING: Running pip as the 'root' user can result in broken permissions and conflicting behaviour with the system package manager. It is recommended to use a virtual environment instead: https://pip.pypa.io/warnings/venv\u001b[0m\n"
     ]
    }
   ],
   "source": [
    "!pip install import-ipynb"
   ]
  },
  {
   "cell_type": "code",
   "execution_count": 4,
   "id": "b06b2e1e",
   "metadata": {},
   "outputs": [],
   "source": [
    "import import_ipynb"
   ]
  },
  {
   "cell_type": "code",
   "execution_count": 5,
   "id": "05a7c39d",
   "metadata": {},
   "outputs": [
    {
     "name": "stdout",
     "output_type": "stream",
     "text": [
      "importing Jupyter notebook from utils.ipynb\n",
      "Requirement already satisfied: nltk in /usr/local/lib/python3.8/dist-packages (3.6.5)\n",
      "Requirement already satisfied: joblib in /usr/local/lib/python3.8/dist-packages (from nltk) (1.0.1)\n",
      "Requirement already satisfied: regex>=2021.8.3 in /usr/local/lib/python3.8/dist-packages (from nltk) (2021.9.30)\n",
      "Requirement already satisfied: tqdm in /usr/local/lib/python3.8/dist-packages (from nltk) (4.62.3)\n",
      "Requirement already satisfied: click in /usr/local/lib/python3.8/dist-packages (from nltk) (8.0.1)\n",
      "\u001b[33mWARNING: Running pip as the 'root' user can result in broken permissions and conflicting behaviour with the system package manager. It is recommended to use a virtual environment instead: https://pip.pypa.io/warnings/venv\u001b[0m\n",
      "importing Jupyter notebook from get_loader_v3.ipynb\n",
      "Requirement already satisfied: pip in /usr/local/lib/python3.8/dist-packages (21.3.1)\n",
      "Requirement already satisfied: setuptools in /usr/local/lib/python3.8/dist-packages (59.5.0)\n",
      "Requirement already satisfied: wheel in /usr/local/lib/python3.8/dist-packages (0.37.0)\n",
      "\u001b[33mWARNING: Running pip as the 'root' user can result in broken permissions and conflicting behaviour with the system package manager. It is recommended to use a virtual environment instead: https://pip.pypa.io/warnings/venv\u001b[0m\n",
      "Requirement already satisfied: spacy[cuda114] in /usr/local/lib/python3.8/dist-packages (3.2.1)\n",
      "Requirement already satisfied: packaging>=20.0 in /usr/local/lib/python3.8/dist-packages (from spacy[cuda114]) (21.0)\n",
      "Requirement already satisfied: thinc<8.1.0,>=8.0.12 in /usr/local/lib/python3.8/dist-packages (from spacy[cuda114]) (8.0.13)\n",
      "Requirement already satisfied: setuptools in /usr/local/lib/python3.8/dist-packages (from spacy[cuda114]) (59.5.0)\n",
      "Requirement already satisfied: typer<0.5.0,>=0.3.0 in /usr/local/lib/python3.8/dist-packages (from spacy[cuda114]) (0.4.0)\n",
      "Requirement already satisfied: catalogue<2.1.0,>=2.0.6 in /usr/local/lib/python3.8/dist-packages (from spacy[cuda114]) (2.0.6)\n",
      "Requirement already satisfied: blis<0.8.0,>=0.4.0 in /usr/local/lib/python3.8/dist-packages (from spacy[cuda114]) (0.7.5)\n",
      "Requirement already satisfied: spacy-loggers<2.0.0,>=1.0.0 in /usr/local/lib/python3.8/dist-packages (from spacy[cuda114]) (1.0.1)\n",
      "Requirement already satisfied: spacy-legacy<3.1.0,>=3.0.8 in /usr/local/lib/python3.8/dist-packages (from spacy[cuda114]) (3.0.8)\n",
      "Requirement already satisfied: numpy>=1.15.0 in /usr/local/lib/python3.8/dist-packages (from spacy[cuda114]) (1.19.5)\n",
      "Requirement already satisfied: srsly<3.0.0,>=2.4.1 in /usr/local/lib/python3.8/dist-packages (from spacy[cuda114]) (2.4.2)\n",
      "Requirement already satisfied: preshed<3.1.0,>=3.0.2 in /usr/local/lib/python3.8/dist-packages (from spacy[cuda114]) (3.0.6)\n",
      "Requirement already satisfied: cymem<2.1.0,>=2.0.2 in /usr/local/lib/python3.8/dist-packages (from spacy[cuda114]) (2.0.6)\n",
      "Requirement already satisfied: pydantic!=1.8,!=1.8.1,<1.9.0,>=1.7.4 in /usr/local/lib/python3.8/dist-packages (from spacy[cuda114]) (1.8.2)\n",
      "Requirement already satisfied: murmurhash<1.1.0,>=0.28.0 in /usr/local/lib/python3.8/dist-packages (from spacy[cuda114]) (1.0.6)\n",
      "Requirement already satisfied: wasabi<1.1.0,>=0.8.1 in /usr/local/lib/python3.8/dist-packages (from spacy[cuda114]) (0.8.2)\n",
      "Requirement already satisfied: tqdm<5.0.0,>=4.38.0 in /usr/local/lib/python3.8/dist-packages (from spacy[cuda114]) (4.62.3)\n",
      "Requirement already satisfied: requests<3.0.0,>=2.13.0 in /usr/local/lib/python3.8/dist-packages (from spacy[cuda114]) (2.26.0)\n",
      "Requirement already satisfied: langcodes<4.0.0,>=3.2.0 in /usr/local/lib/python3.8/dist-packages (from spacy[cuda114]) (3.3.0)\n",
      "Requirement already satisfied: jinja2 in /usr/local/lib/python3.8/dist-packages (from spacy[cuda114]) (3.0.2)\n",
      "Requirement already satisfied: pathy>=0.3.5 in /usr/local/lib/python3.8/dist-packages (from spacy[cuda114]) (0.6.1)\n",
      "Requirement already satisfied: cupy-cuda114<10.0.0,>=5.0.0b4 in /usr/local/lib/python3.8/dist-packages (from spacy[cuda114]) (9.6.0)\n",
      "Requirement already satisfied: fastrlock>=0.5 in /usr/local/lib/python3.8/dist-packages (from cupy-cuda114<10.0.0,>=5.0.0b4->spacy[cuda114]) (0.8)\n",
      "Requirement already satisfied: pyparsing>=2.0.2 in /usr/local/lib/python3.8/dist-packages (from packaging>=20.0->spacy[cuda114]) (2.4.7)\n",
      "Requirement already satisfied: smart-open<6.0.0,>=5.0.0 in /usr/local/lib/python3.8/dist-packages (from pathy>=0.3.5->spacy[cuda114]) (5.2.1)\n",
      "Requirement already satisfied: typing-extensions>=3.7.4.3 in /usr/local/lib/python3.8/dist-packages (from pydantic!=1.8,!=1.8.1,<1.9.0,>=1.7.4->spacy[cuda114]) (3.7.4.3)\n",
      "Requirement already satisfied: certifi>=2017.4.17 in /usr/local/lib/python3.8/dist-packages (from requests<3.0.0,>=2.13.0->spacy[cuda114]) (2021.5.30)\n",
      "Requirement already satisfied: urllib3<1.27,>=1.21.1 in /usr/local/lib/python3.8/dist-packages (from requests<3.0.0,>=2.13.0->spacy[cuda114]) (1.26.7)\n",
      "Requirement already satisfied: charset-normalizer~=2.0.0 in /usr/local/lib/python3.8/dist-packages (from requests<3.0.0,>=2.13.0->spacy[cuda114]) (2.0.6)\n",
      "Requirement already satisfied: idna<4,>=2.5 in /usr/local/lib/python3.8/dist-packages (from requests<3.0.0,>=2.13.0->spacy[cuda114]) (3.2)\n",
      "Requirement already satisfied: click<9.0.0,>=7.1.1 in /usr/local/lib/python3.8/dist-packages (from typer<0.5.0,>=0.3.0->spacy[cuda114]) (8.0.1)\n",
      "Requirement already satisfied: MarkupSafe>=2.0 in /usr/local/lib/python3.8/dist-packages (from jinja2->spacy[cuda114]) (2.0.1)\n",
      "\u001b[33mWARNING: Running pip as the 'root' user can result in broken permissions and conflicting behaviour with the system package manager. It is recommended to use a virtual environment instead: https://pip.pypa.io/warnings/venv\u001b[0m\n",
      "Collecting en-core-web-sm==3.2.0\n",
      "  Downloading https://github.com/explosion/spacy-models/releases/download/en_core_web_sm-3.2.0/en_core_web_sm-3.2.0-py3-none-any.whl (13.9 MB)\n",
      "     |████████████████████████████████| 13.9 MB 1.8 MB/s            \n",
      "\u001b[?25hRequirement already satisfied: spacy<3.3.0,>=3.2.0 in /usr/local/lib/python3.8/dist-packages (from en-core-web-sm==3.2.0) (3.2.1)\n",
      "Requirement already satisfied: catalogue<2.1.0,>=2.0.6 in /usr/local/lib/python3.8/dist-packages (from spacy<3.3.0,>=3.2.0->en-core-web-sm==3.2.0) (2.0.6)\n",
      "Requirement already satisfied: spacy-loggers<2.0.0,>=1.0.0 in /usr/local/lib/python3.8/dist-packages (from spacy<3.3.0,>=3.2.0->en-core-web-sm==3.2.0) (1.0.1)\n",
      "Requirement already satisfied: pydantic!=1.8,!=1.8.1,<1.9.0,>=1.7.4 in /usr/local/lib/python3.8/dist-packages (from spacy<3.3.0,>=3.2.0->en-core-web-sm==3.2.0) (1.8.2)\n",
      "Requirement already satisfied: murmurhash<1.1.0,>=0.28.0 in /usr/local/lib/python3.8/dist-packages (from spacy<3.3.0,>=3.2.0->en-core-web-sm==3.2.0) (1.0.6)\n",
      "Requirement already satisfied: langcodes<4.0.0,>=3.2.0 in /usr/local/lib/python3.8/dist-packages (from spacy<3.3.0,>=3.2.0->en-core-web-sm==3.2.0) (3.3.0)\n",
      "Requirement already satisfied: typer<0.5.0,>=0.3.0 in /usr/local/lib/python3.8/dist-packages (from spacy<3.3.0,>=3.2.0->en-core-web-sm==3.2.0) (0.4.0)\n",
      "Requirement already satisfied: spacy-legacy<3.1.0,>=3.0.8 in /usr/local/lib/python3.8/dist-packages (from spacy<3.3.0,>=3.2.0->en-core-web-sm==3.2.0) (3.0.8)\n",
      "Requirement already satisfied: numpy>=1.15.0 in /usr/local/lib/python3.8/dist-packages (from spacy<3.3.0,>=3.2.0->en-core-web-sm==3.2.0) (1.19.5)\n",
      "Requirement already satisfied: pathy>=0.3.5 in /usr/local/lib/python3.8/dist-packages (from spacy<3.3.0,>=3.2.0->en-core-web-sm==3.2.0) (0.6.1)\n",
      "Requirement already satisfied: thinc<8.1.0,>=8.0.12 in /usr/local/lib/python3.8/dist-packages (from spacy<3.3.0,>=3.2.0->en-core-web-sm==3.2.0) (8.0.13)\n",
      "Requirement already satisfied: srsly<3.0.0,>=2.4.1 in /usr/local/lib/python3.8/dist-packages (from spacy<3.3.0,>=3.2.0->en-core-web-sm==3.2.0) (2.4.2)\n",
      "Requirement already satisfied: setuptools in /usr/local/lib/python3.8/dist-packages (from spacy<3.3.0,>=3.2.0->en-core-web-sm==3.2.0) (59.5.0)\n",
      "Requirement already satisfied: tqdm<5.0.0,>=4.38.0 in /usr/local/lib/python3.8/dist-packages (from spacy<3.3.0,>=3.2.0->en-core-web-sm==3.2.0) (4.62.3)\n",
      "Requirement already satisfied: preshed<3.1.0,>=3.0.2 in /usr/local/lib/python3.8/dist-packages (from spacy<3.3.0,>=3.2.0->en-core-web-sm==3.2.0) (3.0.6)\n",
      "Requirement already satisfied: jinja2 in /usr/local/lib/python3.8/dist-packages (from spacy<3.3.0,>=3.2.0->en-core-web-sm==3.2.0) (3.0.2)\n",
      "Requirement already satisfied: packaging>=20.0 in /usr/local/lib/python3.8/dist-packages (from spacy<3.3.0,>=3.2.0->en-core-web-sm==3.2.0) (21.0)\n",
      "Requirement already satisfied: cymem<2.1.0,>=2.0.2 in /usr/local/lib/python3.8/dist-packages (from spacy<3.3.0,>=3.2.0->en-core-web-sm==3.2.0) (2.0.6)\n",
      "Requirement already satisfied: blis<0.8.0,>=0.4.0 in /usr/local/lib/python3.8/dist-packages (from spacy<3.3.0,>=3.2.0->en-core-web-sm==3.2.0) (0.7.5)\n",
      "Requirement already satisfied: requests<3.0.0,>=2.13.0 in /usr/local/lib/python3.8/dist-packages (from spacy<3.3.0,>=3.2.0->en-core-web-sm==3.2.0) (2.26.0)\n",
      "Requirement already satisfied: wasabi<1.1.0,>=0.8.1 in /usr/local/lib/python3.8/dist-packages (from spacy<3.3.0,>=3.2.0->en-core-web-sm==3.2.0) (0.8.2)\n",
      "Requirement already satisfied: pyparsing>=2.0.2 in /usr/local/lib/python3.8/dist-packages (from packaging>=20.0->spacy<3.3.0,>=3.2.0->en-core-web-sm==3.2.0) (2.4.7)\n",
      "Requirement already satisfied: smart-open<6.0.0,>=5.0.0 in /usr/local/lib/python3.8/dist-packages (from pathy>=0.3.5->spacy<3.3.0,>=3.2.0->en-core-web-sm==3.2.0) (5.2.1)\n"
     ]
    },
    {
     "name": "stdout",
     "output_type": "stream",
     "text": [
      "Requirement already satisfied: typing-extensions>=3.7.4.3 in /usr/local/lib/python3.8/dist-packages (from pydantic!=1.8,!=1.8.1,<1.9.0,>=1.7.4->spacy<3.3.0,>=3.2.0->en-core-web-sm==3.2.0) (3.7.4.3)\n",
      "Requirement already satisfied: urllib3<1.27,>=1.21.1 in /usr/local/lib/python3.8/dist-packages (from requests<3.0.0,>=2.13.0->spacy<3.3.0,>=3.2.0->en-core-web-sm==3.2.0) (1.26.7)\n",
      "Requirement already satisfied: certifi>=2017.4.17 in /usr/local/lib/python3.8/dist-packages (from requests<3.0.0,>=2.13.0->spacy<3.3.0,>=3.2.0->en-core-web-sm==3.2.0) (2021.5.30)\n",
      "Requirement already satisfied: charset-normalizer~=2.0.0 in /usr/local/lib/python3.8/dist-packages (from requests<3.0.0,>=2.13.0->spacy<3.3.0,>=3.2.0->en-core-web-sm==3.2.0) (2.0.6)\n",
      "Requirement already satisfied: idna<4,>=2.5 in /usr/local/lib/python3.8/dist-packages (from requests<3.0.0,>=2.13.0->spacy<3.3.0,>=3.2.0->en-core-web-sm==3.2.0) (3.2)\n",
      "Requirement already satisfied: click<9.0.0,>=7.1.1 in /usr/local/lib/python3.8/dist-packages (from typer<0.5.0,>=0.3.0->spacy<3.3.0,>=3.2.0->en-core-web-sm==3.2.0) (8.0.1)\n",
      "Requirement already satisfied: MarkupSafe>=2.0 in /usr/local/lib/python3.8/dist-packages (from jinja2->spacy<3.3.0,>=3.2.0->en-core-web-sm==3.2.0) (2.0.1)\n",
      "\u001b[33mWARNING: Running pip as the 'root' user can result in broken permissions and conflicting behaviour with the system package manager. It is recommended to use a virtual environment instead: https://pip.pypa.io/warnings/venv\u001b[0m\n",
      "\u001b[38;5;2m✔ Download and installation successful\u001b[0m\n",
      "You can now load the package via spacy.load('en_core_web_sm')\n",
      "\u001b[38;5;3m⚠ As of spaCy v3.0, shortcuts like 'en' are deprecated. Please use the\n",
      "full pipeline package name 'en_core_web_sm' instead.\u001b[0m\n",
      "Collecting en-core-web-sm==3.2.0\n",
      "  Using cached https://github.com/explosion/spacy-models/releases/download/en_core_web_sm-3.2.0/en_core_web_sm-3.2.0-py3-none-any.whl (13.9 MB)\n",
      "Requirement already satisfied: spacy<3.3.0,>=3.2.0 in /usr/local/lib/python3.8/dist-packages (from en-core-web-sm==3.2.0) (3.2.1)\n",
      "Requirement already satisfied: pathy>=0.3.5 in /usr/local/lib/python3.8/dist-packages (from spacy<3.3.0,>=3.2.0->en-core-web-sm==3.2.0) (0.6.1)\n",
      "Requirement already satisfied: catalogue<2.1.0,>=2.0.6 in /usr/local/lib/python3.8/dist-packages (from spacy<3.3.0,>=3.2.0->en-core-web-sm==3.2.0) (2.0.6)\n",
      "Requirement already satisfied: langcodes<4.0.0,>=3.2.0 in /usr/local/lib/python3.8/dist-packages (from spacy<3.3.0,>=3.2.0->en-core-web-sm==3.2.0) (3.3.0)\n",
      "Requirement already satisfied: typer<0.5.0,>=0.3.0 in /usr/local/lib/python3.8/dist-packages (from spacy<3.3.0,>=3.2.0->en-core-web-sm==3.2.0) (0.4.0)\n",
      "Requirement already satisfied: thinc<8.1.0,>=8.0.12 in /usr/local/lib/python3.8/dist-packages (from spacy<3.3.0,>=3.2.0->en-core-web-sm==3.2.0) (8.0.13)\n",
      "Requirement already satisfied: jinja2 in /usr/local/lib/python3.8/dist-packages (from spacy<3.3.0,>=3.2.0->en-core-web-sm==3.2.0) (3.0.2)\n",
      "Requirement already satisfied: setuptools in /usr/local/lib/python3.8/dist-packages (from spacy<3.3.0,>=3.2.0->en-core-web-sm==3.2.0) (59.5.0)\n",
      "Requirement already satisfied: cymem<2.1.0,>=2.0.2 in /usr/local/lib/python3.8/dist-packages (from spacy<3.3.0,>=3.2.0->en-core-web-sm==3.2.0) (2.0.6)\n",
      "Requirement already satisfied: srsly<3.0.0,>=2.4.1 in /usr/local/lib/python3.8/dist-packages (from spacy<3.3.0,>=3.2.0->en-core-web-sm==3.2.0) (2.4.2)\n",
      "Requirement already satisfied: tqdm<5.0.0,>=4.38.0 in /usr/local/lib/python3.8/dist-packages (from spacy<3.3.0,>=3.2.0->en-core-web-sm==3.2.0) (4.62.3)\n",
      "Requirement already satisfied: pydantic!=1.8,!=1.8.1,<1.9.0,>=1.7.4 in /usr/local/lib/python3.8/dist-packages (from spacy<3.3.0,>=3.2.0->en-core-web-sm==3.2.0) (1.8.2)\n",
      "Requirement already satisfied: numpy>=1.15.0 in /usr/local/lib/python3.8/dist-packages (from spacy<3.3.0,>=3.2.0->en-core-web-sm==3.2.0) (1.19.5)\n",
      "Requirement already satisfied: murmurhash<1.1.0,>=0.28.0 in /usr/local/lib/python3.8/dist-packages (from spacy<3.3.0,>=3.2.0->en-core-web-sm==3.2.0) (1.0.6)\n",
      "Requirement already satisfied: spacy-loggers<2.0.0,>=1.0.0 in /usr/local/lib/python3.8/dist-packages (from spacy<3.3.0,>=3.2.0->en-core-web-sm==3.2.0) (1.0.1)\n",
      "Requirement already satisfied: spacy-legacy<3.1.0,>=3.0.8 in /usr/local/lib/python3.8/dist-packages (from spacy<3.3.0,>=3.2.0->en-core-web-sm==3.2.0) (3.0.8)\n",
      "Requirement already satisfied: requests<3.0.0,>=2.13.0 in /usr/local/lib/python3.8/dist-packages (from spacy<3.3.0,>=3.2.0->en-core-web-sm==3.2.0) (2.26.0)\n",
      "Requirement already satisfied: preshed<3.1.0,>=3.0.2 in /usr/local/lib/python3.8/dist-packages (from spacy<3.3.0,>=3.2.0->en-core-web-sm==3.2.0) (3.0.6)\n",
      "Requirement already satisfied: packaging>=20.0 in /usr/local/lib/python3.8/dist-packages (from spacy<3.3.0,>=3.2.0->en-core-web-sm==3.2.0) (21.0)\n",
      "Requirement already satisfied: wasabi<1.1.0,>=0.8.1 in /usr/local/lib/python3.8/dist-packages (from spacy<3.3.0,>=3.2.0->en-core-web-sm==3.2.0) (0.8.2)\n",
      "Requirement already satisfied: blis<0.8.0,>=0.4.0 in /usr/local/lib/python3.8/dist-packages (from spacy<3.3.0,>=3.2.0->en-core-web-sm==3.2.0) (0.7.5)\n",
      "Requirement already satisfied: pyparsing>=2.0.2 in /usr/local/lib/python3.8/dist-packages (from packaging>=20.0->spacy<3.3.0,>=3.2.0->en-core-web-sm==3.2.0) (2.4.7)\n",
      "Requirement already satisfied: smart-open<6.0.0,>=5.0.0 in /usr/local/lib/python3.8/dist-packages (from pathy>=0.3.5->spacy<3.3.0,>=3.2.0->en-core-web-sm==3.2.0) (5.2.1)\n",
      "Requirement already satisfied: typing-extensions>=3.7.4.3 in /usr/local/lib/python3.8/dist-packages (from pydantic!=1.8,!=1.8.1,<1.9.0,>=1.7.4->spacy<3.3.0,>=3.2.0->en-core-web-sm==3.2.0) (3.7.4.3)\n",
      "Requirement already satisfied: charset-normalizer~=2.0.0 in /usr/local/lib/python3.8/dist-packages (from requests<3.0.0,>=2.13.0->spacy<3.3.0,>=3.2.0->en-core-web-sm==3.2.0) (2.0.6)\n",
      "Requirement already satisfied: certifi>=2017.4.17 in /usr/local/lib/python3.8/dist-packages (from requests<3.0.0,>=2.13.0->spacy<3.3.0,>=3.2.0->en-core-web-sm==3.2.0) (2021.5.30)\n",
      "Requirement already satisfied: idna<4,>=2.5 in /usr/local/lib/python3.8/dist-packages (from requests<3.0.0,>=2.13.0->spacy<3.3.0,>=3.2.0->en-core-web-sm==3.2.0) (3.2)\n",
      "Requirement already satisfied: urllib3<1.27,>=1.21.1 in /usr/local/lib/python3.8/dist-packages (from requests<3.0.0,>=2.13.0->spacy<3.3.0,>=3.2.0->en-core-web-sm==3.2.0) (1.26.7)\n",
      "Requirement already satisfied: click<9.0.0,>=7.1.1 in /usr/local/lib/python3.8/dist-packages (from typer<0.5.0,>=0.3.0->spacy<3.3.0,>=3.2.0->en-core-web-sm==3.2.0) (8.0.1)\n",
      "Requirement already satisfied: MarkupSafe>=2.0 in /usr/local/lib/python3.8/dist-packages (from jinja2->spacy<3.3.0,>=3.2.0->en-core-web-sm==3.2.0) (2.0.1)\n",
      "\u001b[33mWARNING: Running pip as the 'root' user can result in broken permissions and conflicting behaviour with the system package manager. It is recommended to use a virtual environment instead: https://pip.pypa.io/warnings/venv\u001b[0m\n",
      "\u001b[38;5;2m✔ Download and installation successful\u001b[0m\n",
      "You can now load the package via spacy.load('en_core_web_sm')\n",
      "           Image-ID                                               Head\n",
      "395  Bimaculatus_46  Head=False, Anterior=Y, IASpace=B, Scutellum=Y...\n",
      "396  Bimaculatus_47  Head=Y, Anterior=Y, IASpace=B, Scutellum=Y, T1...\n",
      "397  Bimaculatus_48  Head=B, Anterior=Y, IASpace=B, Scutellum=Y, T1...\n",
      "398  Bimaculatus_49  Head=B, Anterior=Y, IASpace=B, Scutellum=Y, T1...\n",
      "399  Bimaculatus_50  Head=B, Anterior=Y, IASpace=B, Scutellum=Y, T1...\n",
      "torch.Size([32, 3, 224, 224])\n",
      "torch.Size([51, 32])\n",
      "torch.Size([32, 3, 224, 224])\n",
      "torch.Size([53, 32])\n",
      "torch.Size([32, 3, 224, 224])\n",
      "torch.Size([47, 32])\n",
      "torch.Size([32, 3, 224, 224])\n",
      "torch.Size([57, 32])\n",
      "torch.Size([32, 3, 224, 224])\n",
      "torch.Size([49, 32])\n",
      "torch.Size([32, 3, 224, 224])\n",
      "torch.Size([53, 32])\n",
      "torch.Size([32, 3, 224, 224])\n",
      "torch.Size([49, 32])\n",
      "torch.Size([32, 3, 224, 224])\n",
      "torch.Size([49, 32])\n",
      "torch.Size([32, 3, 224, 224])\n",
      "torch.Size([51, 32])\n",
      "torch.Size([32, 3, 224, 224])\n",
      "torch.Size([51, 32])\n",
      "torch.Size([32, 3, 224, 224])\n",
      "torch.Size([51, 32])\n",
      "torch.Size([32, 3, 224, 224])\n",
      "torch.Size([51, 32])\n",
      "torch.Size([16, 3, 224, 224])\n",
      "torch.Size([47, 16])\n",
      "importing Jupyter notebook from model.ipynb\n"
     ]
    }
   ],
   "source": [
    "import utils, get_loader_v3, model"
   ]
  },
  {
   "cell_type": "code",
   "execution_count": 6,
   "id": "0a9a67af",
   "metadata": {},
   "outputs": [],
   "source": [
    "import torch\n",
    "from tqdm import tqdm\n",
    "import torch.nn as nn\n",
    "import torch.optim as optim\n",
    "import torchvision.transforms as transforms\n",
    "from torch.utils.tensorboard import SummaryWriter\n",
    "from utils import save_checkpoint, load_checkpoint, print_examples\n",
    "from get_loader_v3 import get_loader\n",
    "from model import CNNtoRNN"
   ]
  },
  {
   "cell_type": "code",
   "execution_count": 7,
   "id": "166c89dd",
   "metadata": {},
   "outputs": [],
   "source": [
    "def train():\n",
    "    transform = transforms.Compose(\n",
    "        [\n",
    "            transforms.Resize((356, 356)),\n",
    "            transforms.RandomCrop((299, 299)),\n",
    "            transforms.ToTensor(),\n",
    "            transforms.Normalize((0.5, 0.5, 0.5), (0.5, 0.5, 0.5)),\n",
    "        ]\n",
    "    )\n",
    "\n",
    "    train_loader, dataset = get_loader(\n",
    "        root_folder=\"../../Bombus\",\n",
    "        annotation_file=\"../Beemachine_Experiments_Logs.xlsx\",\n",
    "        transform=transform,\n",
    "        num_workers=2,\n",
    "    )\n",
    "\n",
    "    torch.backends.cudnn.benchmark = True\n",
    "    device = torch.device(\"cuda\" if torch.cuda.is_available() else \"cpu\")\n",
    "    load_model = False\n",
    "    save_model = False\n",
    "    train_CNN = False\n",
    "\n",
    "    # Hyperparameters\n",
    "    embed_size = 256\n",
    "    hidden_size = 256\n",
    "    vocab_size = len(dataset.vocab)\n",
    "    num_layers = 1\n",
    "    learning_rate = 3e-4\n",
    "    num_epochs = 100\n",
    "\n",
    "    # for tensorboard\n",
    "    writer = SummaryWriter(\"runs/bumble-bees\")\n",
    "    step = 0\n",
    "\n",
    "    # initialize model, loss etc\n",
    "    model = CNNtoRNN(embed_size, hidden_size, vocab_size, num_layers).to(device)\n",
    "    criterion = nn.CrossEntropyLoss(ignore_index=dataset.vocab.stoi[\"<PAD>\"])\n",
    "    optimizer = optim.Adam(model.parameters(), lr=learning_rate)\n",
    "\n",
    "    # Only finetune the CNN\n",
    "    for name, param in model.encoderCNN.inception.named_parameters():\n",
    "        if \"fc.weight\" in name or \"fc.bias\" in name:\n",
    "            param.requires_grad = True\n",
    "        else:\n",
    "            param.requires_grad = train_CNN\n",
    "\n",
    "    if load_model:\n",
    "        step = load_checkpoint(torch.load(\"my_checkpoint.pth.tar\"), model, optimizer)\n",
    "\n",
    "    model.train()\n",
    "\n",
    "    for epoch in range(num_epochs):\n",
    "        # Uncomment the line below to see a couple of test cases\n",
    "        print_examples(model, device, dataset)\n",
    "\n",
    "        if save_model:\n",
    "            checkpoint = {\n",
    "                \"state_dict\": model.state_dict(),\n",
    "                \"optimizer\": optimizer.state_dict(),\n",
    "                \"step\": step,\n",
    "            }\n",
    "            save_checkpoint(checkpoint)\n",
    "\n",
    "        for idx, (imgs, captions) in tqdm(\n",
    "            enumerate(train_loader), total=len(train_loader), leave=False\n",
    "        ):\n",
    "            imgs = imgs.to(device)\n",
    "            captions = captions.to(device)\n",
    "\n",
    "            outputs = model(imgs, captions[:-1])\n",
    "            loss = criterion(\n",
    "                outputs.reshape(-1, outputs.shape[2]), captions.reshape(-1)\n",
    "            )\n",
    "\n",
    "            writer.add_scalar(\"Training loss\", loss.item(), global_step=step)\n",
    "            step += 1\n",
    "\n",
    "            optimizer.zero_grad()\n",
    "            loss.backward(loss)\n",
    "            optimizer.step()\n",
    "\n"
   ]
  },
  {
   "cell_type": "code",
   "execution_count": 8,
   "id": "4ac51ecd",
   "metadata": {},
   "outputs": [
    {
     "name": "stdout",
     "output_type": "stream",
     "text": [
      "           Image-ID                                               Head\n",
      "395  Bimaculatus_46  Head=False, Anterior=Y, IASpace=B, Scutellum=Y...\n",
      "396  Bimaculatus_47  Head=Y, Anterior=Y, IASpace=B, Scutellum=Y, T1...\n",
      "397  Bimaculatus_48  Head=B, Anterior=Y, IASpace=B, Scutellum=Y, T1...\n",
      "398  Bimaculatus_49  Head=B, Anterior=Y, IASpace=B, Scutellum=Y, T1...\n",
      "399  Bimaculatus_50  Head=B, Anterior=Y, IASpace=B, Scutellum=Y, T1...\n",
      "Example 1 Ground Truth: Head = B, Anterior = Y, IASpace = B, Scutellum = Y, T1 = Y, T2 = Y / O, T3 = B, T4 = B, T5 = B, T6 = B, Corbicular = false\n",
      "Example 1 Model Prediction: / b iaspace false false , , scutellum scutellum scutellum corbicular <PAD> <SOS> / b t1 / b iaspace false false , , scutellum scutellum scutellum corbicular <PAD> <SOS> / b t1 / b iaspace false false , , scutellum scutellum scutellum corbicular <PAD> <SOS> / b t1 / b\n",
      "reference: [['<sos> head = b', 'anterior = y', 'iaspace = b', 'scutellum = y', 't1 = y', 't2 = y / o', 't3 = b', 't4 = b', 't5 = b', 't6 = b', 'corbicular = false <eos>']]\n",
      "c2: ['/ b iaspace false false', '', 'scutellum scutellum scutellum corbicular <pad> <sos> / b t1 / b iaspace false false', '', 'scutellum scutellum scutellum corbicular <pad> <sos> / b t1 / b iaspace false false', '', 'scutellum scutellum scutellum corbicular <pad> <sos> / b t1 / b']\n",
      "BLEU 1-gram score: 0\n",
      "BLEU 2-gram score: 0\n",
      "BLEU 3-gram score: 0\n",
      "BLEU 4-gram score: 0\n"
     ]
    },
    {
     "name": "stderr",
     "output_type": "stream",
     "text": [
      "/usr/local/lib/python3.8/dist-packages/nltk/translate/bleu_score.py:515: UserWarning: \n",
      "The hypothesis contains 0 counts of 2-gram overlaps.\n",
      "Therefore the BLEU score evaluates to 0, independently of\n",
      "how many N-gram overlaps of lower order it contains.\n",
      "Consider using lower n-gram order or use SmoothingFunction()\n",
      "  warnings.warn(_msg)\n"
     ]
    },
    {
     "name": "stdout",
     "output_type": "stream",
     "text": [
      "Example 1 Ground Truth: Head = B, Anterior = Y, IASpace = B, Scutellum = Y, T1 = Y, T2 = Y / O, T3 = B, T4 = B, T5 = B, T6 = B, Corbicular = false\n",
      "Example 1 Model Prediction: <SOS> head = b , = b , = b , = b , = b , = b , = b , = b , = b , = b , = b , = b , = b , = b , = b , = b ,\n",
      "reference: [['<sos> head = b', 'anterior = y', 'iaspace = b', 'scutellum = y', 't1 = y', 't2 = y / o', 't3 = b', 't4 = b', 't5 = b', 't6 = b', 'corbicular = false <eos>']]\n",
      "c2: ['<sos> head = b', '= b', '= b', '= b', '= b', '= b', '= b', '= b', '= b', '= b', '= b', '= b', '= b', '= b', '= b', '= b', '']\n",
      "BLEU 1-gram score: 0.0588235294117647\n",
      "BLEU 2-gram score: 3.6178266619513134e-155\n",
      "BLEU 3-gram score: 3.493004785859614e-204\n",
      "BLEU 4-gram score: 8.972141065609098e-232\n"
     ]
    },
    {
     "name": "stderr",
     "output_type": "stream",
     "text": [
      "/usr/local/lib/python3.8/dist-packages/nltk/translate/bleu_score.py:515: UserWarning: \n",
      "The hypothesis contains 0 counts of 3-gram overlaps.\n",
      "Therefore the BLEU score evaluates to 0, independently of\n",
      "how many N-gram overlaps of lower order it contains.\n",
      "Consider using lower n-gram order or use SmoothingFunction()\n",
      "  warnings.warn(_msg)\n",
      "/usr/local/lib/python3.8/dist-packages/nltk/translate/bleu_score.py:515: UserWarning: \n",
      "The hypothesis contains 0 counts of 4-gram overlaps.\n",
      "Therefore the BLEU score evaluates to 0, independently of\n",
      "how many N-gram overlaps of lower order it contains.\n",
      "Consider using lower n-gram order or use SmoothingFunction()\n",
      "  warnings.warn(_msg)\n",
      "                                   \r"
     ]
    },
    {
     "name": "stdout",
     "output_type": "stream",
     "text": [
      "Example 1 Ground Truth: Head = B, Anterior = Y, IASpace = B, Scutellum = Y, T1 = Y, T2 = Y / O, T3 = B, T4 = B, T5 = B, T6 = B, Corbicular = false\n",
      "Example 1 Model Prediction: <SOS> head = b , = b , = b , = b , = b , = b , = b , = b , = b , = b , = b , = b , = b , = b , = b , = b ,\n",
      "reference: [['<sos> head = b', 'anterior = y', 'iaspace = b', 'scutellum = y', 't1 = y', 't2 = y / o', 't3 = b', 't4 = b', 't5 = b', 't6 = b', 'corbicular = false <eos>']]\n",
      "c2: ['<sos> head = b', '= b', '= b', '= b', '= b', '= b', '= b', '= b', '= b', '= b', '= b', '= b', '= b', '= b', '= b', '= b', '']\n",
      "BLEU 1-gram score: 0.0588235294117647\n",
      "BLEU 2-gram score: 3.6178266619513134e-155\n",
      "BLEU 3-gram score: 3.493004785859614e-204\n",
      "BLEU 4-gram score: 8.972141065609098e-232\n"
     ]
    },
    {
     "name": "stderr",
     "output_type": "stream",
     "text": [
      "                                   \r"
     ]
    },
    {
     "name": "stdout",
     "output_type": "stream",
     "text": [
      "Example 1 Ground Truth: Head = B, Anterior = Y, IASpace = B, Scutellum = Y, T1 = Y, T2 = Y / O, T3 = B, T4 = B, T5 = B, T6 = B, Corbicular = false\n",
      "Example 1 Model Prediction: <SOS> = b , = b , = b , = b , = b , = b , = b , = b , = b , = b , = b , = b , = b , = b , = b , = b , =\n",
      "reference: [['<sos> head = b', 'anterior = y', 'iaspace = b', 'scutellum = y', 't1 = y', 't2 = y / o', 't3 = b', 't4 = b', 't5 = b', 't6 = b', 'corbicular = false <eos>']]\n",
      "c2: ['<sos> = b', '= b', '= b', '= b', '= b', '= b', '= b', '= b', '= b', '= b', '= b', '= b', '= b', '= b', '= b', '= b', '=']\n",
      "BLEU 1-gram score: 0\n",
      "BLEU 2-gram score: 0\n",
      "BLEU 3-gram score: 0\n",
      "BLEU 4-gram score: 0\n"
     ]
    },
    {
     "name": "stderr",
     "output_type": "stream",
     "text": [
      "                                   \r"
     ]
    },
    {
     "name": "stdout",
     "output_type": "stream",
     "text": [
      "Example 1 Ground Truth: Head = B, Anterior = Y, IASpace = B, Scutellum = Y, T1 = Y, T2 = Y / O, T3 = B, T4 = B, T5 = B, T6 = B, Corbicular = false\n",
      "Example 1 Model Prediction: <SOS> head = b , = b , = b , = b , = b , = b , = b , = b , = b , = b , = b , = b , = b , = b , = b , = b ,\n",
      "reference: [['<sos> head = b', 'anterior = y', 'iaspace = b', 'scutellum = y', 't1 = y', 't2 = y / o', 't3 = b', 't4 = b', 't5 = b', 't6 = b', 'corbicular = false <eos>']]\n",
      "c2: ['<sos> head = b', '= b', '= b', '= b', '= b', '= b', '= b', '= b', '= b', '= b', '= b', '= b', '= b', '= b', '= b', '= b', '']\n",
      "BLEU 1-gram score: 0.0588235294117647\n",
      "BLEU 2-gram score: 3.6178266619513134e-155\n",
      "BLEU 3-gram score: 3.493004785859614e-204\n",
      "BLEU 4-gram score: 8.972141065609098e-232\n"
     ]
    },
    {
     "name": "stderr",
     "output_type": "stream",
     "text": [
      "                                   \r"
     ]
    },
    {
     "name": "stdout",
     "output_type": "stream",
     "text": [
      "Example 1 Ground Truth: Head = B, Anterior = Y, IASpace = B, Scutellum = Y, T1 = Y, T2 = Y / O, T3 = B, T4 = B, T5 = B, T6 = B, Corbicular = false\n",
      "Example 1 Model Prediction: <SOS> head = b , anterior = y , iaspace = b , scutellum = y , iaspace = b , scutellum = y , t2 = y , t2 = y , t2 = y , t2 = y , t2 = y , t2 = y , t2\n",
      "reference: [['<sos> head = b', 'anterior = y', 'iaspace = b', 'scutellum = y', 't1 = y', 't2 = y / o', 't3 = b', 't4 = b', 't5 = b', 't6 = b', 'corbicular = false <eos>']]\n",
      "c2: ['<sos> head = b', 'anterior = y', 'iaspace = b', 'scutellum = y', 'iaspace = b', 'scutellum = y', 't2 = y', 't2 = y', 't2 = y', 't2 = y', 't2 = y', 't2 = y', 't2']\n",
      "BLEU 1-gram score: 0.30769230769230765\n",
      "BLEU 2-gram score: 0.2773500981126146\n",
      "BLEU 3-gram score: 0.24438750983770688\n",
      "BLEU 4-gram score: 0.1933853138176172\n"
     ]
    },
    {
     "name": "stderr",
     "output_type": "stream",
     "text": [
      "                                   \r"
     ]
    },
    {
     "name": "stdout",
     "output_type": "stream",
     "text": [
      "Example 1 Ground Truth: Head = B, Anterior = Y, IASpace = B, Scutellum = Y, T1 = Y, T2 = Y / O, T3 = B, T4 = B, T5 = B, T6 = B, Corbicular = false\n",
      "Example 1 Model Prediction: <SOS> head = b , anterior = y , iaspace = b , scutellum = y , t1 = y , t2 = y , t2 = y , t2 = y , t2 = y , t2 = y , t2 = y , t2 = y , t2\n",
      "reference: [['<sos> head = b', 'anterior = y', 'iaspace = b', 'scutellum = y', 't1 = y', 't2 = y / o', 't3 = b', 't4 = b', 't5 = b', 't6 = b', 'corbicular = false <eos>']]\n",
      "c2: ['<sos> head = b', 'anterior = y', 'iaspace = b', 'scutellum = y', 't1 = y', 't2 = y', 't2 = y', 't2 = y', 't2 = y', 't2 = y', 't2 = y', 't2 = y', 't2']\n",
      "BLEU 1-gram score: 0.38461538461538464\n",
      "BLEU 2-gram score: 0.35805743701971643\n",
      "BLEU 3-gram score: 0.3306733605794187\n",
      "BLEU 4-gram score: 0.2891784933232572\n"
     ]
    },
    {
     "name": "stderr",
     "output_type": "stream",
     "text": [
      "                                   \r"
     ]
    },
    {
     "name": "stdout",
     "output_type": "stream",
     "text": [
      "Example 1 Ground Truth: Head = B, Anterior = Y, IASpace = B, Scutellum = Y, T1 = Y, T2 = Y / O, T3 = B, T4 = B, T5 = B, T6 = B, Corbicular = false\n",
      "Example 1 Model Prediction: <SOS> head = b , anterior = y , iaspace = b , scutellum = y , t1 = y , t2 = y , t2 = y , t2 = y , t2 = y , t2 = y , t2 = y , t2 = y , t2\n",
      "reference: [['<sos> head = b', 'anterior = y', 'iaspace = b', 'scutellum = y', 't1 = y', 't2 = y / o', 't3 = b', 't4 = b', 't5 = b', 't6 = b', 'corbicular = false <eos>']]\n",
      "c2: ['<sos> head = b', 'anterior = y', 'iaspace = b', 'scutellum = y', 't1 = y', 't2 = y', 't2 = y', 't2 = y', 't2 = y', 't2 = y', 't2 = y', 't2 = y', 't2']\n",
      "BLEU 1-gram score: 0.38461538461538464\n",
      "BLEU 2-gram score: 0.35805743701971643\n",
      "BLEU 3-gram score: 0.3306733605794187\n",
      "BLEU 4-gram score: 0.2891784933232572\n"
     ]
    },
    {
     "name": "stderr",
     "output_type": "stream",
     "text": [
      "                                   \r"
     ]
    },
    {
     "name": "stdout",
     "output_type": "stream",
     "text": [
      "Example 1 Ground Truth: Head = B, Anterior = Y, IASpace = B, Scutellum = Y, T1 = Y, T2 = Y / O, T3 = B, T4 = B, T5 = B, T6 = B, Corbicular = false\n",
      "Example 1 Model Prediction: <SOS> head = b , anterior = y , iaspace = b , scutellum = y , t1 = y , t2 = y , t2 = y , t2 = y , t2 = y , t2 = y , t2 = y , t2 = y , t2\n",
      "reference: [['<sos> head = b', 'anterior = y', 'iaspace = b', 'scutellum = y', 't1 = y', 't2 = y / o', 't3 = b', 't4 = b', 't5 = b', 't6 = b', 'corbicular = false <eos>']]\n",
      "c2: ['<sos> head = b', 'anterior = y', 'iaspace = b', 'scutellum = y', 't1 = y', 't2 = y', 't2 = y', 't2 = y', 't2 = y', 't2 = y', 't2 = y', 't2 = y', 't2']\n",
      "BLEU 1-gram score: 0.38461538461538464\n",
      "BLEU 2-gram score: 0.35805743701971643\n",
      "BLEU 3-gram score: 0.3306733605794187\n",
      "BLEU 4-gram score: 0.2891784933232572\n"
     ]
    },
    {
     "name": "stderr",
     "output_type": "stream",
     "text": [
      "                                   \r"
     ]
    },
    {
     "name": "stdout",
     "output_type": "stream",
     "text": [
      "Example 1 Ground Truth: Head = B, Anterior = Y, IASpace = B, Scutellum = Y, T1 = Y, T2 = Y / O, T3 = B, T4 = B, T5 = B, T6 = B, Corbicular = false\n",
      "Example 1 Model Prediction: <SOS> head = b , anterior = y , iaspace = b , scutellum = y , t1 = y , t2 = y , t2 = y , t2 = y , t2 = y , t2 = y , t2 = y , t2 = y , t2\n",
      "reference: [['<sos> head = b', 'anterior = y', 'iaspace = b', 'scutellum = y', 't1 = y', 't2 = y / o', 't3 = b', 't4 = b', 't5 = b', 't6 = b', 'corbicular = false <eos>']]\n",
      "c2: ['<sos> head = b', 'anterior = y', 'iaspace = b', 'scutellum = y', 't1 = y', 't2 = y', 't2 = y', 't2 = y', 't2 = y', 't2 = y', 't2 = y', 't2 = y', 't2']\n",
      "BLEU 1-gram score: 0.38461538461538464\n",
      "BLEU 2-gram score: 0.35805743701971643\n",
      "BLEU 3-gram score: 0.3306733605794187\n",
      "BLEU 4-gram score: 0.2891784933232572\n"
     ]
    },
    {
     "name": "stderr",
     "output_type": "stream",
     "text": [
      "                                   \r"
     ]
    },
    {
     "name": "stdout",
     "output_type": "stream",
     "text": [
      "Example 1 Ground Truth: Head = B, Anterior = Y, IASpace = B, Scutellum = Y, T1 = Y, T2 = Y / O, T3 = B, T4 = B, T5 = B, T6 = B, Corbicular = false\n",
      "Example 1 Model Prediction: <SOS> head = b , anterior = y , iaspace = b , scutellum = y , t1 = y , t2 = y , t2 = y , t2 = y , t2 = y , t2 = y , t2 = y , t2 = y , t2\n",
      "reference: [['<sos> head = b', 'anterior = y', 'iaspace = b', 'scutellum = y', 't1 = y', 't2 = y / o', 't3 = b', 't4 = b', 't5 = b', 't6 = b', 'corbicular = false <eos>']]\n",
      "c2: ['<sos> head = b', 'anterior = y', 'iaspace = b', 'scutellum = y', 't1 = y', 't2 = y', 't2 = y', 't2 = y', 't2 = y', 't2 = y', 't2 = y', 't2 = y', 't2']\n",
      "BLEU 1-gram score: 0.38461538461538464\n",
      "BLEU 2-gram score: 0.35805743701971643\n",
      "BLEU 3-gram score: 0.3306733605794187\n",
      "BLEU 4-gram score: 0.2891784933232572\n"
     ]
    },
    {
     "name": "stderr",
     "output_type": "stream",
     "text": [
      "                                   \r"
     ]
    },
    {
     "name": "stdout",
     "output_type": "stream",
     "text": [
      "Example 1 Ground Truth: Head = B, Anterior = Y, IASpace = B, Scutellum = Y, T1 = Y, T2 = Y / O, T3 = B, T4 = B, T5 = B, T6 = B, Corbicular = false\n",
      "Example 1 Model Prediction: <SOS> head = b , anterior = y , iaspace = b , scutellum = y , t1 = y , t2 = y , t2 = y , t2 = y , t2 = y , t2 = y , t2 = y , t2 = y , t2\n",
      "reference: [['<sos> head = b', 'anterior = y', 'iaspace = b', 'scutellum = y', 't1 = y', 't2 = y / o', 't3 = b', 't4 = b', 't5 = b', 't6 = b', 'corbicular = false <eos>']]\n",
      "c2: ['<sos> head = b', 'anterior = y', 'iaspace = b', 'scutellum = y', 't1 = y', 't2 = y', 't2 = y', 't2 = y', 't2 = y', 't2 = y', 't2 = y', 't2 = y', 't2']\n",
      "BLEU 1-gram score: 0.38461538461538464\n",
      "BLEU 2-gram score: 0.35805743701971643\n",
      "BLEU 3-gram score: 0.3306733605794187\n",
      "BLEU 4-gram score: 0.2891784933232572\n"
     ]
    },
    {
     "name": "stderr",
     "output_type": "stream",
     "text": [
      "                                   \r"
     ]
    },
    {
     "name": "stdout",
     "output_type": "stream",
     "text": [
      "Example 1 Ground Truth: Head = B, Anterior = Y, IASpace = B, Scutellum = Y, T1 = Y, T2 = Y / O, T3 = B, T4 = B, T5 = B, T6 = B, Corbicular = false\n",
      "Example 1 Model Prediction: <SOS> head = b , anterior = y , iaspace = b , scutellum = y , t1 = y , t2 = y , t2 = y , t2 = y , t2 = y , t2 = y , t2 = y , t2 = y , t2\n",
      "reference: [['<sos> head = b', 'anterior = y', 'iaspace = b', 'scutellum = y', 't1 = y', 't2 = y / o', 't3 = b', 't4 = b', 't5 = b', 't6 = b', 'corbicular = false <eos>']]\n",
      "c2: ['<sos> head = b', 'anterior = y', 'iaspace = b', 'scutellum = y', 't1 = y', 't2 = y', 't2 = y', 't2 = y', 't2 = y', 't2 = y', 't2 = y', 't2 = y', 't2']\n",
      "BLEU 1-gram score: 0.38461538461538464\n",
      "BLEU 2-gram score: 0.35805743701971643\n",
      "BLEU 3-gram score: 0.3306733605794187\n",
      "BLEU 4-gram score: 0.2891784933232572\n"
     ]
    },
    {
     "name": "stderr",
     "output_type": "stream",
     "text": [
      "                                   \r"
     ]
    },
    {
     "name": "stdout",
     "output_type": "stream",
     "text": [
      "Example 1 Ground Truth: Head = B, Anterior = Y, IASpace = B, Scutellum = Y, T1 = Y, T2 = Y / O, T3 = B, T4 = B, T5 = B, T6 = B, Corbicular = false\n",
      "Example 1 Model Prediction: <SOS> head = b , anterior = y , iaspace = b , scutellum = y , t1 = y , t2 = y , t2 = y , t2 = y , t2 = y , t2 = y , t2 = y , t2 = y , t2\n",
      "reference: [['<sos> head = b', 'anterior = y', 'iaspace = b', 'scutellum = y', 't1 = y', 't2 = y / o', 't3 = b', 't4 = b', 't5 = b', 't6 = b', 'corbicular = false <eos>']]\n",
      "c2: ['<sos> head = b', 'anterior = y', 'iaspace = b', 'scutellum = y', 't1 = y', 't2 = y', 't2 = y', 't2 = y', 't2 = y', 't2 = y', 't2 = y', 't2 = y', 't2']\n",
      "BLEU 1-gram score: 0.38461538461538464\n",
      "BLEU 2-gram score: 0.35805743701971643\n",
      "BLEU 3-gram score: 0.3306733605794187\n",
      "BLEU 4-gram score: 0.2891784933232572\n"
     ]
    },
    {
     "name": "stderr",
     "output_type": "stream",
     "text": [
      "                                   \r"
     ]
    },
    {
     "name": "stdout",
     "output_type": "stream",
     "text": [
      "Example 1 Ground Truth: Head = B, Anterior = Y, IASpace = B, Scutellum = Y, T1 = Y, T2 = Y / O, T3 = B, T4 = B, T5 = B, T6 = B, Corbicular = false\n",
      "Example 1 Model Prediction: <SOS> head = b , anterior = y , iaspace = b , scutellum = y , t1 = y , t2 = y , t2 = y , t2 = y , t2 = y , t3 = b , t4 = b , t5 = b , t6\n",
      "reference: [['<sos> head = b', 'anterior = y', 'iaspace = b', 'scutellum = y', 't1 = y', 't2 = y / o', 't3 = b', 't4 = b', 't5 = b', 't6 = b', 'corbicular = false <eos>']]\n",
      "c2: ['<sos> head = b', 'anterior = y', 'iaspace = b', 'scutellum = y', 't1 = y', 't2 = y', 't2 = y', 't2 = y', 't2 = y', 't3 = b', 't4 = b', 't5 = b', 't6']\n",
      "BLEU 1-gram score: 0.6153846153846154\n",
      "BLEU 2-gram score: 0.5547001962252291\n",
      "BLEU 3-gram score: 0.48539880399674296\n",
      "BLEU 4-gram score: 0.3867706276352344\n"
     ]
    },
    {
     "name": "stderr",
     "output_type": "stream",
     "text": [
      "                                   \r"
     ]
    },
    {
     "name": "stdout",
     "output_type": "stream",
     "text": [
      "Example 1 Ground Truth: Head = B, Anterior = Y, IASpace = B, Scutellum = Y, T1 = Y, T2 = Y / O, T3 = B, T4 = B, T5 = B, T6 = B, Corbicular = false\n",
      "Example 1 Model Prediction: <SOS> head = b , anterior = y , iaspace = b , scutellum = y , t1 = y , t2 = y , t2 = y , t3 = b , t4 = b , t5 = b , t6 = b , corbicular = false <EOS>\n",
      "reference: [['<sos> head = b', 'anterior = y', 'iaspace = b', 'scutellum = y', 't1 = y', 't2 = y / o', 't3 = b', 't4 = b', 't5 = b', 't6 = b', 'corbicular = false <eos>']]\n",
      "c2: ['<sos> head = b', 'anterior = y', 'iaspace = b', 'scutellum = y', 't1 = y', 't2 = y', 't2 = y', 't3 = b', 't4 = b', 't5 = b', 't6 = b', 'corbicular = false <eos>']\n",
      "BLEU 1-gram score: 0.8333333333333334\n",
      "BLEU 2-gram score: 0.778498944161523\n",
      "BLEU 3-gram score: 0.7161767386056302\n",
      "BLEU 4-gram score: 0.6340466277046861\n"
     ]
    },
    {
     "name": "stderr",
     "output_type": "stream",
     "text": [
      "                                   "
     ]
    },
    {
     "name": "stdout",
     "output_type": "stream",
     "text": [
      "Example 1 Ground Truth: Head = B, Anterior = Y, IASpace = B, Scutellum = Y, T1 = Y, T2 = Y / O, T3 = B, T4 = B, T5 = B, T6 = B, Corbicular = false\n",
      "Example 1 Model Prediction: <SOS> head = b , anterior = y , iaspace = b , scutellum = y , t1 = y , t2 = y , t2 = y / o , t3 = b , t4 = b , t5 = b , t6 = b , corbicular = false\n",
      "reference: [['<sos> head = b', 'anterior = y', 'iaspace = b', 'scutellum = y', 't1 = y', 't2 = y / o', 't3 = b', 't4 = b', 't5 = b', 't6 = b', 'corbicular = false <eos>']]\n",
      "c2: ['<sos> head = b', 'anterior = y', 'iaspace = b', 'scutellum = y', 't1 = y', 't2 = y', 't2 = y / o', 't3 = b', 't4 = b', 't5 = b', 't6 = b', 'corbicular = false']\n",
      "BLEU 1-gram score: 0.8333333333333334\n",
      "BLEU 2-gram score: 0.778498944161523\n",
      "BLEU 3-gram score: 0.7161767386056302\n",
      "BLEU 4-gram score: 0.6340466277046861\n"
     ]
    },
    {
     "name": "stderr",
     "output_type": "stream",
     "text": [
      "                                   \r"
     ]
    },
    {
     "name": "stdout",
     "output_type": "stream",
     "text": [
      "Example 1 Ground Truth: Head = B, Anterior = Y, IASpace = B, Scutellum = Y, T1 = Y, T2 = Y / O, T3 = B, T4 = B, T5 = B, T6 = B, Corbicular = false\n",
      "Example 1 Model Prediction: <SOS> head = b , anterior = y , iaspace = b , scutellum = y , t1 = y , t2 = y / o , t3 = b , t4 = b , t5 = b , t6 = b , corbicular = false <EOS>\n",
      "reference: [['<sos> head = b', 'anterior = y', 'iaspace = b', 'scutellum = y', 't1 = y', 't2 = y / o', 't3 = b', 't4 = b', 't5 = b', 't6 = b', 'corbicular = false <eos>']]\n",
      "c2: ['<sos> head = b', 'anterior = y', 'iaspace = b', 'scutellum = y', 't1 = y', 't2 = y / o', 't3 = b', 't4 = b', 't5 = b', 't6 = b', 'corbicular = false <eos>']\n",
      "BLEU 1-gram score: 1.0\n",
      "BLEU 2-gram score: 1.0\n",
      "BLEU 3-gram score: 1.0\n",
      "BLEU 4-gram score: 1.0\n"
     ]
    },
    {
     "name": "stderr",
     "output_type": "stream",
     "text": [
      "                                   \r"
     ]
    },
    {
     "name": "stdout",
     "output_type": "stream",
     "text": [
      "Example 1 Ground Truth: Head = B, Anterior = Y, IASpace = B, Scutellum = Y, T1 = Y, T2 = Y / O, T3 = B, T4 = B, T5 = B, T6 = B, Corbicular = false\n",
      "Example 1 Model Prediction: <SOS> head = b , anterior = y , iaspace = b , scutellum = y , t1 = y , t2 = y / o , t3 = b , t4 = b , t5 = b , t6 = b , corbicular = false <EOS>\n",
      "reference: [['<sos> head = b', 'anterior = y', 'iaspace = b', 'scutellum = y', 't1 = y', 't2 = y / o', 't3 = b', 't4 = b', 't5 = b', 't6 = b', 'corbicular = false <eos>']]\n",
      "c2: ['<sos> head = b', 'anterior = y', 'iaspace = b', 'scutellum = y', 't1 = y', 't2 = y / o', 't3 = b', 't4 = b', 't5 = b', 't6 = b', 'corbicular = false <eos>']\n",
      "BLEU 1-gram score: 1.0\n",
      "BLEU 2-gram score: 1.0\n",
      "BLEU 3-gram score: 1.0\n",
      "BLEU 4-gram score: 1.0\n"
     ]
    },
    {
     "name": "stderr",
     "output_type": "stream",
     "text": [
      "                                   \r"
     ]
    },
    {
     "name": "stdout",
     "output_type": "stream",
     "text": [
      "Example 1 Ground Truth: Head = B, Anterior = Y, IASpace = B, Scutellum = Y, T1 = Y, T2 = Y / O, T3 = B, T4 = B, T5 = B, T6 = B, Corbicular = false\n",
      "Example 1 Model Prediction: <SOS> head = b , anterior = y , iaspace = b , scutellum = y , t1 = y , t2 = y / o , t3 = b , t4 = b , t5 = b , t6 = b , corbicular = false <EOS>\n",
      "reference: [['<sos> head = b', 'anterior = y', 'iaspace = b', 'scutellum = y', 't1 = y', 't2 = y / o', 't3 = b', 't4 = b', 't5 = b', 't6 = b', 'corbicular = false <eos>']]\n",
      "c2: ['<sos> head = b', 'anterior = y', 'iaspace = b', 'scutellum = y', 't1 = y', 't2 = y / o', 't3 = b', 't4 = b', 't5 = b', 't6 = b', 'corbicular = false <eos>']\n",
      "BLEU 1-gram score: 1.0\n",
      "BLEU 2-gram score: 1.0\n",
      "BLEU 3-gram score: 1.0\n",
      "BLEU 4-gram score: 1.0\n"
     ]
    },
    {
     "name": "stderr",
     "output_type": "stream",
     "text": [
      "                                   \r"
     ]
    },
    {
     "name": "stdout",
     "output_type": "stream",
     "text": [
      "Example 1 Ground Truth: Head = B, Anterior = Y, IASpace = B, Scutellum = Y, T1 = Y, T2 = Y / O, T3 = B, T4 = B, T5 = B, T6 = B, Corbicular = false\n",
      "Example 1 Model Prediction: <SOS> head = b , anterior = y , iaspace = b , scutellum = y , t1 = y , t2 = y / o , t3 = b , t4 = b , t5 = b , t6 = b , corbicular = false <EOS>\n",
      "reference: [['<sos> head = b', 'anterior = y', 'iaspace = b', 'scutellum = y', 't1 = y', 't2 = y / o', 't3 = b', 't4 = b', 't5 = b', 't6 = b', 'corbicular = false <eos>']]\n",
      "c2: ['<sos> head = b', 'anterior = y', 'iaspace = b', 'scutellum = y', 't1 = y', 't2 = y / o', 't3 = b', 't4 = b', 't5 = b', 't6 = b', 'corbicular = false <eos>']\n",
      "BLEU 1-gram score: 1.0\n",
      "BLEU 2-gram score: 1.0\n",
      "BLEU 3-gram score: 1.0\n",
      "BLEU 4-gram score: 1.0\n"
     ]
    },
    {
     "name": "stderr",
     "output_type": "stream",
     "text": [
      "                                   \r"
     ]
    },
    {
     "name": "stdout",
     "output_type": "stream",
     "text": [
      "Example 1 Ground Truth: Head = B, Anterior = Y, IASpace = B, Scutellum = Y, T1 = Y, T2 = Y / O, T3 = B, T4 = B, T5 = B, T6 = B, Corbicular = false\n",
      "Example 1 Model Prediction: <SOS> head = b , anterior = y , iaspace = b , scutellum = y , t1 = y , t2 = y / o , t3 = b , t4 = b , t5 = b , t6 = b , corbicular = false <EOS>\n",
      "reference: [['<sos> head = b', 'anterior = y', 'iaspace = b', 'scutellum = y', 't1 = y', 't2 = y / o', 't3 = b', 't4 = b', 't5 = b', 't6 = b', 'corbicular = false <eos>']]\n",
      "c2: ['<sos> head = b', 'anterior = y', 'iaspace = b', 'scutellum = y', 't1 = y', 't2 = y / o', 't3 = b', 't4 = b', 't5 = b', 't6 = b', 'corbicular = false <eos>']\n",
      "BLEU 1-gram score: 1.0\n",
      "BLEU 2-gram score: 1.0\n",
      "BLEU 3-gram score: 1.0\n",
      "BLEU 4-gram score: 1.0\n"
     ]
    },
    {
     "name": "stderr",
     "output_type": "stream",
     "text": [
      "                                   \r"
     ]
    },
    {
     "name": "stdout",
     "output_type": "stream",
     "text": [
      "Example 1 Ground Truth: Head = B, Anterior = Y, IASpace = B, Scutellum = Y, T1 = Y, T2 = Y / O, T3 = B, T4 = B, T5 = B, T6 = B, Corbicular = false\n",
      "Example 1 Model Prediction: <SOS> head = b , anterior = y , iaspace = b , scutellum = y , t1 = y , t2 = y / o , t3 = b , t4 = b , t5 = b , t6 = b , corbicular = false <EOS>\n",
      "reference: [['<sos> head = b', 'anterior = y', 'iaspace = b', 'scutellum = y', 't1 = y', 't2 = y / o', 't3 = b', 't4 = b', 't5 = b', 't6 = b', 'corbicular = false <eos>']]\n",
      "c2: ['<sos> head = b', 'anterior = y', 'iaspace = b', 'scutellum = y', 't1 = y', 't2 = y / o', 't3 = b', 't4 = b', 't5 = b', 't6 = b', 'corbicular = false <eos>']\n",
      "BLEU 1-gram score: 1.0\n",
      "BLEU 2-gram score: 1.0\n",
      "BLEU 3-gram score: 1.0\n",
      "BLEU 4-gram score: 1.0\n"
     ]
    },
    {
     "name": "stderr",
     "output_type": "stream",
     "text": [
      "                                   \r"
     ]
    },
    {
     "name": "stdout",
     "output_type": "stream",
     "text": [
      "Example 1 Ground Truth: Head = B, Anterior = Y, IASpace = B, Scutellum = Y, T1 = Y, T2 = Y / O, T3 = B, T4 = B, T5 = B, T6 = B, Corbicular = false\n",
      "Example 1 Model Prediction: <SOS> head = b , anterior = y , iaspace = b , scutellum = y , t1 = y , t2 = y / o , t3 = b , t4 = b , t5 = b , t6 = b , corbicular = false <EOS>\n",
      "reference: [['<sos> head = b', 'anterior = y', 'iaspace = b', 'scutellum = y', 't1 = y', 't2 = y / o', 't3 = b', 't4 = b', 't5 = b', 't6 = b', 'corbicular = false <eos>']]\n",
      "c2: ['<sos> head = b', 'anterior = y', 'iaspace = b', 'scutellum = y', 't1 = y', 't2 = y / o', 't3 = b', 't4 = b', 't5 = b', 't6 = b', 'corbicular = false <eos>']\n",
      "BLEU 1-gram score: 1.0\n",
      "BLEU 2-gram score: 1.0\n",
      "BLEU 3-gram score: 1.0\n",
      "BLEU 4-gram score: 1.0\n"
     ]
    },
    {
     "name": "stderr",
     "output_type": "stream",
     "text": [
      "                                   \r"
     ]
    },
    {
     "name": "stdout",
     "output_type": "stream",
     "text": [
      "Example 1 Ground Truth: Head = B, Anterior = Y, IASpace = B, Scutellum = Y, T1 = Y, T2 = Y / O, T3 = B, T4 = B, T5 = B, T6 = B, Corbicular = false\n",
      "Example 1 Model Prediction: <SOS> head = b , anterior = y , iaspace = b , scutellum = y , t1 = y , t2 = y / o , t3 = b , t4 = b , t5 = b , t6 = b , corbicular = false <EOS>\n",
      "reference: [['<sos> head = b', 'anterior = y', 'iaspace = b', 'scutellum = y', 't1 = y', 't2 = y / o', 't3 = b', 't4 = b', 't5 = b', 't6 = b', 'corbicular = false <eos>']]\n",
      "c2: ['<sos> head = b', 'anterior = y', 'iaspace = b', 'scutellum = y', 't1 = y', 't2 = y / o', 't3 = b', 't4 = b', 't5 = b', 't6 = b', 'corbicular = false <eos>']\n",
      "BLEU 1-gram score: 1.0\n",
      "BLEU 2-gram score: 1.0\n",
      "BLEU 3-gram score: 1.0\n",
      "BLEU 4-gram score: 1.0\n"
     ]
    },
    {
     "name": "stderr",
     "output_type": "stream",
     "text": [
      "                                   \r"
     ]
    },
    {
     "name": "stdout",
     "output_type": "stream",
     "text": [
      "Example 1 Ground Truth: Head = B, Anterior = Y, IASpace = B, Scutellum = Y, T1 = Y, T2 = Y / O, T3 = B, T4 = B, T5 = B, T6 = B, Corbicular = false\n",
      "Example 1 Model Prediction: <SOS> head = b , anterior = y , iaspace = b , scutellum = y , t1 = y , t2 = y / o , t3 = b , t4 = b , t5 = b , t6 = b , corbicular = false <EOS>\n",
      "reference: [['<sos> head = b', 'anterior = y', 'iaspace = b', 'scutellum = y', 't1 = y', 't2 = y / o', 't3 = b', 't4 = b', 't5 = b', 't6 = b', 'corbicular = false <eos>']]\n",
      "c2: ['<sos> head = b', 'anterior = y', 'iaspace = b', 'scutellum = y', 't1 = y', 't2 = y / o', 't3 = b', 't4 = b', 't5 = b', 't6 = b', 'corbicular = false <eos>']\n",
      "BLEU 1-gram score: 1.0\n",
      "BLEU 2-gram score: 1.0\n",
      "BLEU 3-gram score: 1.0\n",
      "BLEU 4-gram score: 1.0\n"
     ]
    },
    {
     "name": "stderr",
     "output_type": "stream",
     "text": [
      "                                   \r"
     ]
    },
    {
     "name": "stdout",
     "output_type": "stream",
     "text": [
      "Example 1 Ground Truth: Head = B, Anterior = Y, IASpace = B, Scutellum = Y, T1 = Y, T2 = Y / O, T3 = B, T4 = B, T5 = B, T6 = B, Corbicular = false\n",
      "Example 1 Model Prediction: <SOS> head = b , anterior = y , iaspace = b , scutellum = y , t1 = y , t2 = y / o , t3 = b , t4 = b , t5 = b , t6 = b , corbicular = false <EOS>\n",
      "reference: [['<sos> head = b', 'anterior = y', 'iaspace = b', 'scutellum = y', 't1 = y', 't2 = y / o', 't3 = b', 't4 = b', 't5 = b', 't6 = b', 'corbicular = false <eos>']]\n",
      "c2: ['<sos> head = b', 'anterior = y', 'iaspace = b', 'scutellum = y', 't1 = y', 't2 = y / o', 't3 = b', 't4 = b', 't5 = b', 't6 = b', 'corbicular = false <eos>']\n",
      "BLEU 1-gram score: 1.0\n",
      "BLEU 2-gram score: 1.0\n",
      "BLEU 3-gram score: 1.0\n",
      "BLEU 4-gram score: 1.0\n"
     ]
    },
    {
     "name": "stderr",
     "output_type": "stream",
     "text": [
      "                                   \r"
     ]
    },
    {
     "name": "stdout",
     "output_type": "stream",
     "text": [
      "Example 1 Ground Truth: Head = B, Anterior = Y, IASpace = B, Scutellum = Y, T1 = Y, T2 = Y / O, T3 = B, T4 = B, T5 = B, T6 = B, Corbicular = false\n",
      "Example 1 Model Prediction: <SOS> head = b , anterior = y , iaspace = b , scutellum = y , t1 = y , t2 = y / o , t3 = b , t4 = b , t5 = b , t6 = b , corbicular = false <EOS>\n",
      "reference: [['<sos> head = b', 'anterior = y', 'iaspace = b', 'scutellum = y', 't1 = y', 't2 = y / o', 't3 = b', 't4 = b', 't5 = b', 't6 = b', 'corbicular = false <eos>']]\n",
      "c2: ['<sos> head = b', 'anterior = y', 'iaspace = b', 'scutellum = y', 't1 = y', 't2 = y / o', 't3 = b', 't4 = b', 't5 = b', 't6 = b', 'corbicular = false <eos>']\n",
      "BLEU 1-gram score: 1.0\n",
      "BLEU 2-gram score: 1.0\n",
      "BLEU 3-gram score: 1.0\n",
      "BLEU 4-gram score: 1.0\n"
     ]
    },
    {
     "name": "stderr",
     "output_type": "stream",
     "text": [
      "                                   \r"
     ]
    },
    {
     "name": "stdout",
     "output_type": "stream",
     "text": [
      "Example 1 Ground Truth: Head = B, Anterior = Y, IASpace = B, Scutellum = Y, T1 = Y, T2 = Y / O, T3 = B, T4 = B, T5 = B, T6 = B, Corbicular = false\n",
      "Example 1 Model Prediction: <SOS> head = b , anterior = y , iaspace = b , scutellum = y , t1 = y , t2 = y / o , t3 = b , t4 = b , t5 = b , t6 = b , corbicular = false <EOS>\n",
      "reference: [['<sos> head = b', 'anterior = y', 'iaspace = b', 'scutellum = y', 't1 = y', 't2 = y / o', 't3 = b', 't4 = b', 't5 = b', 't6 = b', 'corbicular = false <eos>']]\n",
      "c2: ['<sos> head = b', 'anterior = y', 'iaspace = b', 'scutellum = y', 't1 = y', 't2 = y / o', 't3 = b', 't4 = b', 't5 = b', 't6 = b', 'corbicular = false <eos>']\n",
      "BLEU 1-gram score: 1.0\n",
      "BLEU 2-gram score: 1.0\n",
      "BLEU 3-gram score: 1.0\n",
      "BLEU 4-gram score: 1.0\n"
     ]
    },
    {
     "name": "stderr",
     "output_type": "stream",
     "text": [
      "                                   \r"
     ]
    },
    {
     "name": "stdout",
     "output_type": "stream",
     "text": [
      "Example 1 Ground Truth: Head = B, Anterior = Y, IASpace = B, Scutellum = Y, T1 = Y, T2 = Y / O, T3 = B, T4 = B, T5 = B, T6 = B, Corbicular = false\n",
      "Example 1 Model Prediction: <SOS> head = b , anterior = y , iaspace = b , scutellum = y , t1 = y , t2 = y / o , t3 = b , t4 = b , t5 = b , t6 = b , corbicular = false <EOS>\n",
      "reference: [['<sos> head = b', 'anterior = y', 'iaspace = b', 'scutellum = y', 't1 = y', 't2 = y / o', 't3 = b', 't4 = b', 't5 = b', 't6 = b', 'corbicular = false <eos>']]\n",
      "c2: ['<sos> head = b', 'anterior = y', 'iaspace = b', 'scutellum = y', 't1 = y', 't2 = y / o', 't3 = b', 't4 = b', 't5 = b', 't6 = b', 'corbicular = false <eos>']\n",
      "BLEU 1-gram score: 1.0\n",
      "BLEU 2-gram score: 1.0\n",
      "BLEU 3-gram score: 1.0\n",
      "BLEU 4-gram score: 1.0\n"
     ]
    },
    {
     "name": "stderr",
     "output_type": "stream",
     "text": [
      "                                   \r"
     ]
    },
    {
     "name": "stdout",
     "output_type": "stream",
     "text": [
      "Example 1 Ground Truth: Head = B, Anterior = Y, IASpace = B, Scutellum = Y, T1 = Y, T2 = Y / O, T3 = B, T4 = B, T5 = B, T6 = B, Corbicular = false\n",
      "Example 1 Model Prediction: <SOS> head = b , anterior = y , iaspace = b , scutellum = y , t1 = y , t2 = y / o , t3 = b , t4 = b , t5 = b , t6 = b , corbicular = false <EOS>\n",
      "reference: [['<sos> head = b', 'anterior = y', 'iaspace = b', 'scutellum = y', 't1 = y', 't2 = y / o', 't3 = b', 't4 = b', 't5 = b', 't6 = b', 'corbicular = false <eos>']]\n",
      "c2: ['<sos> head = b', 'anterior = y', 'iaspace = b', 'scutellum = y', 't1 = y', 't2 = y / o', 't3 = b', 't4 = b', 't5 = b', 't6 = b', 'corbicular = false <eos>']\n",
      "BLEU 1-gram score: 1.0\n",
      "BLEU 2-gram score: 1.0\n",
      "BLEU 3-gram score: 1.0\n",
      "BLEU 4-gram score: 1.0\n"
     ]
    },
    {
     "name": "stderr",
     "output_type": "stream",
     "text": [
      "                                   \r"
     ]
    },
    {
     "name": "stdout",
     "output_type": "stream",
     "text": [
      "Example 1 Ground Truth: Head = B, Anterior = Y, IASpace = B, Scutellum = Y, T1 = Y, T2 = Y / O, T3 = B, T4 = B, T5 = B, T6 = B, Corbicular = false\n",
      "Example 1 Model Prediction: <SOS> head = b , anterior = y , iaspace = b , scutellum = y , t1 = y , t2 = y / o , t3 = b , t4 = b , t5 = b , t6 = b , corbicular = false <EOS>\n",
      "reference: [['<sos> head = b', 'anterior = y', 'iaspace = b', 'scutellum = y', 't1 = y', 't2 = y / o', 't3 = b', 't4 = b', 't5 = b', 't6 = b', 'corbicular = false <eos>']]\n",
      "c2: ['<sos> head = b', 'anterior = y', 'iaspace = b', 'scutellum = y', 't1 = y', 't2 = y / o', 't3 = b', 't4 = b', 't5 = b', 't6 = b', 'corbicular = false <eos>']\n",
      "BLEU 1-gram score: 1.0\n",
      "BLEU 2-gram score: 1.0\n",
      "BLEU 3-gram score: 1.0\n",
      "BLEU 4-gram score: 1.0\n"
     ]
    },
    {
     "name": "stderr",
     "output_type": "stream",
     "text": [
      "                                   \r"
     ]
    },
    {
     "name": "stdout",
     "output_type": "stream",
     "text": [
      "Example 1 Ground Truth: Head = B, Anterior = Y, IASpace = B, Scutellum = Y, T1 = Y, T2 = Y / O, T3 = B, T4 = B, T5 = B, T6 = B, Corbicular = false\n",
      "Example 1 Model Prediction: <SOS> head = b , anterior = y , iaspace = b , scutellum = y , t1 = y , t2 = y / o , t3 = b , t4 = b , t5 = b , t6 = b , corbicular = false <EOS>\n",
      "reference: [['<sos> head = b', 'anterior = y', 'iaspace = b', 'scutellum = y', 't1 = y', 't2 = y / o', 't3 = b', 't4 = b', 't5 = b', 't6 = b', 'corbicular = false <eos>']]\n",
      "c2: ['<sos> head = b', 'anterior = y', 'iaspace = b', 'scutellum = y', 't1 = y', 't2 = y / o', 't3 = b', 't4 = b', 't5 = b', 't6 = b', 'corbicular = false <eos>']\n",
      "BLEU 1-gram score: 1.0\n",
      "BLEU 2-gram score: 1.0\n",
      "BLEU 3-gram score: 1.0\n",
      "BLEU 4-gram score: 1.0\n"
     ]
    },
    {
     "name": "stderr",
     "output_type": "stream",
     "text": [
      "                                   \r"
     ]
    },
    {
     "name": "stdout",
     "output_type": "stream",
     "text": [
      "Example 1 Ground Truth: Head = B, Anterior = Y, IASpace = B, Scutellum = Y, T1 = Y, T2 = Y / O, T3 = B, T4 = B, T5 = B, T6 = B, Corbicular = false\n",
      "Example 1 Model Prediction: <SOS> head = b , anterior = y , iaspace = b , scutellum = y , t1 = y , t2 = y / o , t3 = b , t4 = b , t5 = b , t6 = b , corbicular = false <EOS>\n",
      "reference: [['<sos> head = b', 'anterior = y', 'iaspace = b', 'scutellum = y', 't1 = y', 't2 = y / o', 't3 = b', 't4 = b', 't5 = b', 't6 = b', 'corbicular = false <eos>']]\n",
      "c2: ['<sos> head = b', 'anterior = y', 'iaspace = b', 'scutellum = y', 't1 = y', 't2 = y / o', 't3 = b', 't4 = b', 't5 = b', 't6 = b', 'corbicular = false <eos>']\n",
      "BLEU 1-gram score: 1.0\n",
      "BLEU 2-gram score: 1.0\n",
      "BLEU 3-gram score: 1.0\n",
      "BLEU 4-gram score: 1.0\n"
     ]
    },
    {
     "name": "stderr",
     "output_type": "stream",
     "text": [
      "                                   \r"
     ]
    },
    {
     "name": "stdout",
     "output_type": "stream",
     "text": [
      "Example 1 Ground Truth: Head = B, Anterior = Y, IASpace = B, Scutellum = Y, T1 = Y, T2 = Y / O, T3 = B, T4 = B, T5 = B, T6 = B, Corbicular = false\n",
      "Example 1 Model Prediction: <SOS> head = b , anterior = y , iaspace = b , scutellum = y , t1 = y , t2 = y / o , t3 = b , t4 = b , t5 = b , t6 = b , corbicular = false <EOS>\n",
      "reference: [['<sos> head = b', 'anterior = y', 'iaspace = b', 'scutellum = y', 't1 = y', 't2 = y / o', 't3 = b', 't4 = b', 't5 = b', 't6 = b', 'corbicular = false <eos>']]\n",
      "c2: ['<sos> head = b', 'anterior = y', 'iaspace = b', 'scutellum = y', 't1 = y', 't2 = y / o', 't3 = b', 't4 = b', 't5 = b', 't6 = b', 'corbicular = false <eos>']\n",
      "BLEU 1-gram score: 1.0\n",
      "BLEU 2-gram score: 1.0\n",
      "BLEU 3-gram score: 1.0\n",
      "BLEU 4-gram score: 1.0\n"
     ]
    },
    {
     "name": "stderr",
     "output_type": "stream",
     "text": [
      "                                   \r"
     ]
    },
    {
     "name": "stdout",
     "output_type": "stream",
     "text": [
      "Example 1 Ground Truth: Head = B, Anterior = Y, IASpace = B, Scutellum = Y, T1 = Y, T2 = Y / O, T3 = B, T4 = B, T5 = B, T6 = B, Corbicular = false\n",
      "Example 1 Model Prediction: <SOS> head = b , anterior = y , iaspace = b , scutellum = y , t1 = y , t2 = y / o , t3 = b , t4 = b , t5 = b , t6 = b , corbicular = false <EOS>\n",
      "reference: [['<sos> head = b', 'anterior = y', 'iaspace = b', 'scutellum = y', 't1 = y', 't2 = y / o', 't3 = b', 't4 = b', 't5 = b', 't6 = b', 'corbicular = false <eos>']]\n",
      "c2: ['<sos> head = b', 'anterior = y', 'iaspace = b', 'scutellum = y', 't1 = y', 't2 = y / o', 't3 = b', 't4 = b', 't5 = b', 't6 = b', 'corbicular = false <eos>']\n",
      "BLEU 1-gram score: 1.0\n",
      "BLEU 2-gram score: 1.0\n",
      "BLEU 3-gram score: 1.0\n",
      "BLEU 4-gram score: 1.0\n"
     ]
    },
    {
     "name": "stderr",
     "output_type": "stream",
     "text": [
      "                                   \r"
     ]
    },
    {
     "name": "stdout",
     "output_type": "stream",
     "text": [
      "Example 1 Ground Truth: Head = B, Anterior = Y, IASpace = B, Scutellum = Y, T1 = Y, T2 = Y / O, T3 = B, T4 = B, T5 = B, T6 = B, Corbicular = false\n",
      "Example 1 Model Prediction: <SOS> head = b , anterior = y , iaspace = b , scutellum = y , t1 = y , t2 = y / o , t3 = b , t4 = b , t5 = b , t6 = b , corbicular = false <EOS>\n",
      "reference: [['<sos> head = b', 'anterior = y', 'iaspace = b', 'scutellum = y', 't1 = y', 't2 = y / o', 't3 = b', 't4 = b', 't5 = b', 't6 = b', 'corbicular = false <eos>']]\n",
      "c2: ['<sos> head = b', 'anterior = y', 'iaspace = b', 'scutellum = y', 't1 = y', 't2 = y / o', 't3 = b', 't4 = b', 't5 = b', 't6 = b', 'corbicular = false <eos>']\n",
      "BLEU 1-gram score: 1.0\n",
      "BLEU 2-gram score: 1.0\n",
      "BLEU 3-gram score: 1.0\n",
      "BLEU 4-gram score: 1.0\n"
     ]
    },
    {
     "name": "stderr",
     "output_type": "stream",
     "text": [
      "                                   \r"
     ]
    },
    {
     "name": "stdout",
     "output_type": "stream",
     "text": [
      "Example 1 Ground Truth: Head = B, Anterior = Y, IASpace = B, Scutellum = Y, T1 = Y, T2 = Y / O, T3 = B, T4 = B, T5 = B, T6 = B, Corbicular = false\n",
      "Example 1 Model Prediction: <SOS> head = b , anterior = y , iaspace = b , scutellum = y , t1 = y , t2 = y / o , t3 = b , t4 = b , t5 = b , t6 = b , corbicular = false <EOS>\n",
      "reference: [['<sos> head = b', 'anterior = y', 'iaspace = b', 'scutellum = y', 't1 = y', 't2 = y / o', 't3 = b', 't4 = b', 't5 = b', 't6 = b', 'corbicular = false <eos>']]\n",
      "c2: ['<sos> head = b', 'anterior = y', 'iaspace = b', 'scutellum = y', 't1 = y', 't2 = y / o', 't3 = b', 't4 = b', 't5 = b', 't6 = b', 'corbicular = false <eos>']\n",
      "BLEU 1-gram score: 1.0\n",
      "BLEU 2-gram score: 1.0\n",
      "BLEU 3-gram score: 1.0\n",
      "BLEU 4-gram score: 1.0\n"
     ]
    },
    {
     "name": "stderr",
     "output_type": "stream",
     "text": [
      "                                   \r"
     ]
    },
    {
     "name": "stdout",
     "output_type": "stream",
     "text": [
      "Example 1 Ground Truth: Head = B, Anterior = Y, IASpace = B, Scutellum = Y, T1 = Y, T2 = Y / O, T3 = B, T4 = B, T5 = B, T6 = B, Corbicular = false\n",
      "Example 1 Model Prediction: <SOS> head = b , anterior = y , iaspace = b , scutellum = y , t1 = y , t2 = y / o , t3 = b , t4 = b , t5 = b , t6 = b , corbicular = false <EOS>\n",
      "reference: [['<sos> head = b', 'anterior = y', 'iaspace = b', 'scutellum = y', 't1 = y', 't2 = y / o', 't3 = b', 't4 = b', 't5 = b', 't6 = b', 'corbicular = false <eos>']]\n",
      "c2: ['<sos> head = b', 'anterior = y', 'iaspace = b', 'scutellum = y', 't1 = y', 't2 = y / o', 't3 = b', 't4 = b', 't5 = b', 't6 = b', 'corbicular = false <eos>']\n",
      "BLEU 1-gram score: 1.0\n",
      "BLEU 2-gram score: 1.0\n",
      "BLEU 3-gram score: 1.0\n",
      "BLEU 4-gram score: 1.0\n"
     ]
    },
    {
     "name": "stderr",
     "output_type": "stream",
     "text": [
      "                                   \r"
     ]
    },
    {
     "name": "stdout",
     "output_type": "stream",
     "text": [
      "Example 1 Ground Truth: Head = B, Anterior = Y, IASpace = B, Scutellum = Y, T1 = Y, T2 = Y / O, T3 = B, T4 = B, T5 = B, T6 = B, Corbicular = false\n",
      "Example 1 Model Prediction: <SOS> head = b , anterior = y , iaspace = b , scutellum = y , t1 = y , t2 = y / o , t3 = b , t4 = b , t5 = b , t6 = b , corbicular = false <EOS>\n",
      "reference: [['<sos> head = b', 'anterior = y', 'iaspace = b', 'scutellum = y', 't1 = y', 't2 = y / o', 't3 = b', 't4 = b', 't5 = b', 't6 = b', 'corbicular = false <eos>']]\n",
      "c2: ['<sos> head = b', 'anterior = y', 'iaspace = b', 'scutellum = y', 't1 = y', 't2 = y / o', 't3 = b', 't4 = b', 't5 = b', 't6 = b', 'corbicular = false <eos>']\n",
      "BLEU 1-gram score: 1.0\n",
      "BLEU 2-gram score: 1.0\n",
      "BLEU 3-gram score: 1.0\n",
      "BLEU 4-gram score: 1.0\n"
     ]
    },
    {
     "name": "stderr",
     "output_type": "stream",
     "text": [
      "                                   \r"
     ]
    },
    {
     "name": "stdout",
     "output_type": "stream",
     "text": [
      "Example 1 Ground Truth: Head = B, Anterior = Y, IASpace = B, Scutellum = Y, T1 = Y, T2 = Y / O, T3 = B, T4 = B, T5 = B, T6 = B, Corbicular = false\n",
      "Example 1 Model Prediction: <SOS> head = b , anterior = y , iaspace = b , scutellum = y , t1 = y , t2 = y / o , t3 = b , t4 = b , t5 = b , t6 = b , corbicular = false <EOS>\n",
      "reference: [['<sos> head = b', 'anterior = y', 'iaspace = b', 'scutellum = y', 't1 = y', 't2 = y / o', 't3 = b', 't4 = b', 't5 = b', 't6 = b', 'corbicular = false <eos>']]\n",
      "c2: ['<sos> head = b', 'anterior = y', 'iaspace = b', 'scutellum = y', 't1 = y', 't2 = y / o', 't3 = b', 't4 = b', 't5 = b', 't6 = b', 'corbicular = false <eos>']\n",
      "BLEU 1-gram score: 1.0\n",
      "BLEU 2-gram score: 1.0\n",
      "BLEU 3-gram score: 1.0\n",
      "BLEU 4-gram score: 1.0\n"
     ]
    },
    {
     "name": "stderr",
     "output_type": "stream",
     "text": [
      "                                   \r"
     ]
    },
    {
     "name": "stdout",
     "output_type": "stream",
     "text": [
      "Example 1 Ground Truth: Head = B, Anterior = Y, IASpace = B, Scutellum = Y, T1 = Y, T2 = Y / O, T3 = B, T4 = B, T5 = B, T6 = B, Corbicular = false\n",
      "Example 1 Model Prediction: <SOS> head = b , anterior = y , iaspace = b , scutellum = y , t1 = y , t2 = y / o , t3 = b , t4 = b , t5 = b , t6 = b , corbicular = false <EOS>\n",
      "reference: [['<sos> head = b', 'anterior = y', 'iaspace = b', 'scutellum = y', 't1 = y', 't2 = y / o', 't3 = b', 't4 = b', 't5 = b', 't6 = b', 'corbicular = false <eos>']]\n",
      "c2: ['<sos> head = b', 'anterior = y', 'iaspace = b', 'scutellum = y', 't1 = y', 't2 = y / o', 't3 = b', 't4 = b', 't5 = b', 't6 = b', 'corbicular = false <eos>']\n",
      "BLEU 1-gram score: 1.0\n",
      "BLEU 2-gram score: 1.0\n",
      "BLEU 3-gram score: 1.0\n",
      "BLEU 4-gram score: 1.0\n"
     ]
    },
    {
     "name": "stderr",
     "output_type": "stream",
     "text": [
      "                                   \r"
     ]
    },
    {
     "name": "stdout",
     "output_type": "stream",
     "text": [
      "Example 1 Ground Truth: Head = B, Anterior = Y, IASpace = B, Scutellum = Y, T1 = Y, T2 = Y / O, T3 = B, T4 = B, T5 = B, T6 = B, Corbicular = false\n",
      "Example 1 Model Prediction: <SOS> head = b , anterior = y , iaspace = b , scutellum = y , t1 = y , t2 = y / o , t3 = b , t4 = b , t5 = b , t6 = b , corbicular = false <EOS>\n",
      "reference: [['<sos> head = b', 'anterior = y', 'iaspace = b', 'scutellum = y', 't1 = y', 't2 = y / o', 't3 = b', 't4 = b', 't5 = b', 't6 = b', 'corbicular = false <eos>']]\n",
      "c2: ['<sos> head = b', 'anterior = y', 'iaspace = b', 'scutellum = y', 't1 = y', 't2 = y / o', 't3 = b', 't4 = b', 't5 = b', 't6 = b', 'corbicular = false <eos>']\n",
      "BLEU 1-gram score: 1.0\n",
      "BLEU 2-gram score: 1.0\n",
      "BLEU 3-gram score: 1.0\n",
      "BLEU 4-gram score: 1.0\n"
     ]
    },
    {
     "name": "stderr",
     "output_type": "stream",
     "text": [
      "                                   \r"
     ]
    },
    {
     "name": "stdout",
     "output_type": "stream",
     "text": [
      "Example 1 Ground Truth: Head = B, Anterior = Y, IASpace = B, Scutellum = Y, T1 = Y, T2 = Y / O, T3 = B, T4 = B, T5 = B, T6 = B, Corbicular = false\n",
      "Example 1 Model Prediction: <SOS> head = b , anterior = y , iaspace = b , scutellum = y , t1 = y , t2 = y / o , t3 = b , t4 = b , t5 = b , t6 = b , corbicular = false <EOS>\n",
      "reference: [['<sos> head = b', 'anterior = y', 'iaspace = b', 'scutellum = y', 't1 = y', 't2 = y / o', 't3 = b', 't4 = b', 't5 = b', 't6 = b', 'corbicular = false <eos>']]\n",
      "c2: ['<sos> head = b', 'anterior = y', 'iaspace = b', 'scutellum = y', 't1 = y', 't2 = y / o', 't3 = b', 't4 = b', 't5 = b', 't6 = b', 'corbicular = false <eos>']\n",
      "BLEU 1-gram score: 1.0\n",
      "BLEU 2-gram score: 1.0\n",
      "BLEU 3-gram score: 1.0\n",
      "BLEU 4-gram score: 1.0\n"
     ]
    },
    {
     "name": "stderr",
     "output_type": "stream",
     "text": [
      "                                   \r"
     ]
    },
    {
     "name": "stdout",
     "output_type": "stream",
     "text": [
      "Example 1 Ground Truth: Head = B, Anterior = Y, IASpace = B, Scutellum = Y, T1 = Y, T2 = Y / O, T3 = B, T4 = B, T5 = B, T6 = B, Corbicular = false\n",
      "Example 1 Model Prediction: <SOS> head = b , anterior = y , iaspace = b , scutellum = y , t1 = y , t2 = y / o , t3 = b , t4 = b , t5 = b , t6 = b , corbicular = false <EOS>\n",
      "reference: [['<sos> head = b', 'anterior = y', 'iaspace = b', 'scutellum = y', 't1 = y', 't2 = y / o', 't3 = b', 't4 = b', 't5 = b', 't6 = b', 'corbicular = false <eos>']]\n",
      "c2: ['<sos> head = b', 'anterior = y', 'iaspace = b', 'scutellum = y', 't1 = y', 't2 = y / o', 't3 = b', 't4 = b', 't5 = b', 't6 = b', 'corbicular = false <eos>']\n",
      "BLEU 1-gram score: 1.0\n",
      "BLEU 2-gram score: 1.0\n",
      "BLEU 3-gram score: 1.0\n",
      "BLEU 4-gram score: 1.0\n"
     ]
    },
    {
     "name": "stderr",
     "output_type": "stream",
     "text": [
      "                                   \r"
     ]
    },
    {
     "name": "stdout",
     "output_type": "stream",
     "text": [
      "Example 1 Ground Truth: Head = B, Anterior = Y, IASpace = B, Scutellum = Y, T1 = Y, T2 = Y / O, T3 = B, T4 = B, T5 = B, T6 = B, Corbicular = false\n",
      "Example 1 Model Prediction: <SOS> head = b , anterior = y , iaspace = b , scutellum = y , t1 = y , t2 = y / o , t3 = b , t4 = b , t5 = b , t6 = b , corbicular = false <EOS>\n",
      "reference: [['<sos> head = b', 'anterior = y', 'iaspace = b', 'scutellum = y', 't1 = y', 't2 = y / o', 't3 = b', 't4 = b', 't5 = b', 't6 = b', 'corbicular = false <eos>']]\n",
      "c2: ['<sos> head = b', 'anterior = y', 'iaspace = b', 'scutellum = y', 't1 = y', 't2 = y / o', 't3 = b', 't4 = b', 't5 = b', 't6 = b', 'corbicular = false <eos>']\n",
      "BLEU 1-gram score: 1.0\n",
      "BLEU 2-gram score: 1.0\n",
      "BLEU 3-gram score: 1.0\n",
      "BLEU 4-gram score: 1.0\n"
     ]
    },
    {
     "name": "stderr",
     "output_type": "stream",
     "text": [
      "                                   \r"
     ]
    },
    {
     "name": "stdout",
     "output_type": "stream",
     "text": [
      "Example 1 Ground Truth: Head = B, Anterior = Y, IASpace = B, Scutellum = Y, T1 = Y, T2 = Y / O, T3 = B, T4 = B, T5 = B, T6 = B, Corbicular = false\n",
      "Example 1 Model Prediction: <SOS> head = b , anterior = y , iaspace = b , scutellum = y , t1 = y , t2 = y / o , t3 = b , t4 = b , t5 = b , t6 = b , corbicular = false <EOS>\n",
      "reference: [['<sos> head = b', 'anterior = y', 'iaspace = b', 'scutellum = y', 't1 = y', 't2 = y / o', 't3 = b', 't4 = b', 't5 = b', 't6 = b', 'corbicular = false <eos>']]\n",
      "c2: ['<sos> head = b', 'anterior = y', 'iaspace = b', 'scutellum = y', 't1 = y', 't2 = y / o', 't3 = b', 't4 = b', 't5 = b', 't6 = b', 'corbicular = false <eos>']\n",
      "BLEU 1-gram score: 1.0\n",
      "BLEU 2-gram score: 1.0\n",
      "BLEU 3-gram score: 1.0\n",
      "BLEU 4-gram score: 1.0\n"
     ]
    },
    {
     "name": "stderr",
     "output_type": "stream",
     "text": [
      "                                   \r"
     ]
    },
    {
     "name": "stdout",
     "output_type": "stream",
     "text": [
      "Example 1 Ground Truth: Head = B, Anterior = Y, IASpace = B, Scutellum = Y, T1 = Y, T2 = Y / O, T3 = B, T4 = B, T5 = B, T6 = B, Corbicular = false\n",
      "Example 1 Model Prediction: <SOS> head = b , anterior = y , iaspace = b , scutellum = y , t1 = y , t2 = y / o , t3 = b , t4 = b , t5 = b , t6 = b , corbicular = false <EOS>\n",
      "reference: [['<sos> head = b', 'anterior = y', 'iaspace = b', 'scutellum = y', 't1 = y', 't2 = y / o', 't3 = b', 't4 = b', 't5 = b', 't6 = b', 'corbicular = false <eos>']]\n",
      "c2: ['<sos> head = b', 'anterior = y', 'iaspace = b', 'scutellum = y', 't1 = y', 't2 = y / o', 't3 = b', 't4 = b', 't5 = b', 't6 = b', 'corbicular = false <eos>']\n",
      "BLEU 1-gram score: 1.0\n",
      "BLEU 2-gram score: 1.0\n",
      "BLEU 3-gram score: 1.0\n",
      "BLEU 4-gram score: 1.0\n"
     ]
    },
    {
     "name": "stderr",
     "output_type": "stream",
     "text": [
      "                                   \r"
     ]
    },
    {
     "name": "stdout",
     "output_type": "stream",
     "text": [
      "Example 1 Ground Truth: Head = B, Anterior = Y, IASpace = B, Scutellum = Y, T1 = Y, T2 = Y / O, T3 = B, T4 = B, T5 = B, T6 = B, Corbicular = false\n",
      "Example 1 Model Prediction: <SOS> head = b , anterior = y , iaspace = b , scutellum = y , t1 = y , t2 = y / o , t3 = b , t4 = b , t5 = b , t6 = b , corbicular = false <EOS>\n",
      "reference: [['<sos> head = b', 'anterior = y', 'iaspace = b', 'scutellum = y', 't1 = y', 't2 = y / o', 't3 = b', 't4 = b', 't5 = b', 't6 = b', 'corbicular = false <eos>']]\n",
      "c2: ['<sos> head = b', 'anterior = y', 'iaspace = b', 'scutellum = y', 't1 = y', 't2 = y / o', 't3 = b', 't4 = b', 't5 = b', 't6 = b', 'corbicular = false <eos>']\n",
      "BLEU 1-gram score: 1.0\n",
      "BLEU 2-gram score: 1.0\n",
      "BLEU 3-gram score: 1.0\n",
      "BLEU 4-gram score: 1.0\n"
     ]
    },
    {
     "name": "stderr",
     "output_type": "stream",
     "text": [
      "                                   \r"
     ]
    },
    {
     "name": "stdout",
     "output_type": "stream",
     "text": [
      "Example 1 Ground Truth: Head = B, Anterior = Y, IASpace = B, Scutellum = Y, T1 = Y, T2 = Y / O, T3 = B, T4 = B, T5 = B, T6 = B, Corbicular = false\n",
      "Example 1 Model Prediction: <SOS> head = b , anterior = y , iaspace = b , scutellum = y , t1 = y , t2 = y / o , t3 = b , t4 = b , t5 = b , t6 = b , corbicular = false <EOS>\n",
      "reference: [['<sos> head = b', 'anterior = y', 'iaspace = b', 'scutellum = y', 't1 = y', 't2 = y / o', 't3 = b', 't4 = b', 't5 = b', 't6 = b', 'corbicular = false <eos>']]\n",
      "c2: ['<sos> head = b', 'anterior = y', 'iaspace = b', 'scutellum = y', 't1 = y', 't2 = y / o', 't3 = b', 't4 = b', 't5 = b', 't6 = b', 'corbicular = false <eos>']\n",
      "BLEU 1-gram score: 1.0\n",
      "BLEU 2-gram score: 1.0\n",
      "BLEU 3-gram score: 1.0\n",
      "BLEU 4-gram score: 1.0\n"
     ]
    },
    {
     "name": "stderr",
     "output_type": "stream",
     "text": [
      "                                   \r"
     ]
    },
    {
     "name": "stdout",
     "output_type": "stream",
     "text": [
      "Example 1 Ground Truth: Head = B, Anterior = Y, IASpace = B, Scutellum = Y, T1 = Y, T2 = Y / O, T3 = B, T4 = B, T5 = B, T6 = B, Corbicular = false\n",
      "Example 1 Model Prediction: <SOS> head = b , anterior = y , iaspace = b , scutellum = y , t1 = y , t2 = y / o , t3 = b , t4 = b , t5 = b , t6 = b , corbicular = false <EOS>\n",
      "reference: [['<sos> head = b', 'anterior = y', 'iaspace = b', 'scutellum = y', 't1 = y', 't2 = y / o', 't3 = b', 't4 = b', 't5 = b', 't6 = b', 'corbicular = false <eos>']]\n",
      "c2: ['<sos> head = b', 'anterior = y', 'iaspace = b', 'scutellum = y', 't1 = y', 't2 = y / o', 't3 = b', 't4 = b', 't5 = b', 't6 = b', 'corbicular = false <eos>']\n",
      "BLEU 1-gram score: 1.0\n",
      "BLEU 2-gram score: 1.0\n",
      "BLEU 3-gram score: 1.0\n",
      "BLEU 4-gram score: 1.0\n"
     ]
    },
    {
     "name": "stderr",
     "output_type": "stream",
     "text": [
      "                                   \r"
     ]
    },
    {
     "name": "stdout",
     "output_type": "stream",
     "text": [
      "Example 1 Ground Truth: Head = B, Anterior = Y, IASpace = B, Scutellum = Y, T1 = Y, T2 = Y / O, T3 = B, T4 = B, T5 = B, T6 = B, Corbicular = false\n",
      "Example 1 Model Prediction: <SOS> head = b , anterior = y , iaspace = b , scutellum = y , t1 = y , t2 = y / o , t3 = b , t4 = b , t5 = b , t6 = b , corbicular = false <EOS>\n",
      "reference: [['<sos> head = b', 'anterior = y', 'iaspace = b', 'scutellum = y', 't1 = y', 't2 = y / o', 't3 = b', 't4 = b', 't5 = b', 't6 = b', 'corbicular = false <eos>']]\n",
      "c2: ['<sos> head = b', 'anterior = y', 'iaspace = b', 'scutellum = y', 't1 = y', 't2 = y / o', 't3 = b', 't4 = b', 't5 = b', 't6 = b', 'corbicular = false <eos>']\n",
      "BLEU 1-gram score: 1.0\n",
      "BLEU 2-gram score: 1.0\n",
      "BLEU 3-gram score: 1.0\n",
      "BLEU 4-gram score: 1.0\n"
     ]
    },
    {
     "name": "stderr",
     "output_type": "stream",
     "text": [
      "                                   \r"
     ]
    },
    {
     "name": "stdout",
     "output_type": "stream",
     "text": [
      "Example 1 Ground Truth: Head = B, Anterior = Y, IASpace = B, Scutellum = Y, T1 = Y, T2 = Y / O, T3 = B, T4 = B, T5 = B, T6 = B, Corbicular = false\n",
      "Example 1 Model Prediction: <SOS> head = b , anterior = y , iaspace = b , scutellum = y , t1 = y , t2 = y / o , t3 = b , t4 = b , t5 = b , t6 = b , corbicular = false <EOS>\n",
      "reference: [['<sos> head = b', 'anterior = y', 'iaspace = b', 'scutellum = y', 't1 = y', 't2 = y / o', 't3 = b', 't4 = b', 't5 = b', 't6 = b', 'corbicular = false <eos>']]\n",
      "c2: ['<sos> head = b', 'anterior = y', 'iaspace = b', 'scutellum = y', 't1 = y', 't2 = y / o', 't3 = b', 't4 = b', 't5 = b', 't6 = b', 'corbicular = false <eos>']\n",
      "BLEU 1-gram score: 1.0\n",
      "BLEU 2-gram score: 1.0\n",
      "BLEU 3-gram score: 1.0\n",
      "BLEU 4-gram score: 1.0\n"
     ]
    },
    {
     "name": "stderr",
     "output_type": "stream",
     "text": [
      "                                   \r"
     ]
    },
    {
     "name": "stdout",
     "output_type": "stream",
     "text": [
      "Example 1 Ground Truth: Head = B, Anterior = Y, IASpace = B, Scutellum = Y, T1 = Y, T2 = Y / O, T3 = B, T4 = B, T5 = B, T6 = B, Corbicular = false\n",
      "Example 1 Model Prediction: <SOS> head = b , anterior = y , iaspace = b , scutellum = y , t1 = y , t2 = y / o , t3 = b , t4 = b , t5 = b , t6 = b , corbicular = false <EOS>\n",
      "reference: [['<sos> head = b', 'anterior = y', 'iaspace = b', 'scutellum = y', 't1 = y', 't2 = y / o', 't3 = b', 't4 = b', 't5 = b', 't6 = b', 'corbicular = false <eos>']]\n",
      "c2: ['<sos> head = b', 'anterior = y', 'iaspace = b', 'scutellum = y', 't1 = y', 't2 = y / o', 't3 = b', 't4 = b', 't5 = b', 't6 = b', 'corbicular = false <eos>']\n",
      "BLEU 1-gram score: 1.0\n",
      "BLEU 2-gram score: 1.0\n",
      "BLEU 3-gram score: 1.0\n",
      "BLEU 4-gram score: 1.0\n"
     ]
    },
    {
     "name": "stderr",
     "output_type": "stream",
     "text": [
      "                                   \r"
     ]
    },
    {
     "name": "stdout",
     "output_type": "stream",
     "text": [
      "Example 1 Ground Truth: Head = B, Anterior = Y, IASpace = B, Scutellum = Y, T1 = Y, T2 = Y / O, T3 = B, T4 = B, T5 = B, T6 = B, Corbicular = false\n",
      "Example 1 Model Prediction: <SOS> head = b , anterior = y , iaspace = b , scutellum = y , t1 = y , t2 = y / o , t3 = b , t4 = b , t5 = b , t6 = b , corbicular = false <EOS>\n",
      "reference: [['<sos> head = b', 'anterior = y', 'iaspace = b', 'scutellum = y', 't1 = y', 't2 = y / o', 't3 = b', 't4 = b', 't5 = b', 't6 = b', 'corbicular = false <eos>']]\n",
      "c2: ['<sos> head = b', 'anterior = y', 'iaspace = b', 'scutellum = y', 't1 = y', 't2 = y / o', 't3 = b', 't4 = b', 't5 = b', 't6 = b', 'corbicular = false <eos>']\n",
      "BLEU 1-gram score: 1.0\n",
      "BLEU 2-gram score: 1.0\n",
      "BLEU 3-gram score: 1.0\n",
      "BLEU 4-gram score: 1.0\n"
     ]
    },
    {
     "name": "stderr",
     "output_type": "stream",
     "text": [
      "                                   \r"
     ]
    },
    {
     "name": "stdout",
     "output_type": "stream",
     "text": [
      "Example 1 Ground Truth: Head = B, Anterior = Y, IASpace = B, Scutellum = Y, T1 = Y, T2 = Y / O, T3 = B, T4 = B, T5 = B, T6 = B, Corbicular = false\n",
      "Example 1 Model Prediction: <SOS> head = b , anterior = y , iaspace = b , scutellum = y , t1 = y , t2 = y / o , t3 = b , t4 = b , t5 = b , t6 = b , corbicular = false <EOS>\n",
      "reference: [['<sos> head = b', 'anterior = y', 'iaspace = b', 'scutellum = y', 't1 = y', 't2 = y / o', 't3 = b', 't4 = b', 't5 = b', 't6 = b', 'corbicular = false <eos>']]\n",
      "c2: ['<sos> head = b', 'anterior = y', 'iaspace = b', 'scutellum = y', 't1 = y', 't2 = y / o', 't3 = b', 't4 = b', 't5 = b', 't6 = b', 'corbicular = false <eos>']\n",
      "BLEU 1-gram score: 1.0\n",
      "BLEU 2-gram score: 1.0\n",
      "BLEU 3-gram score: 1.0\n",
      "BLEU 4-gram score: 1.0\n"
     ]
    },
    {
     "name": "stderr",
     "output_type": "stream",
     "text": [
      "                                   \r"
     ]
    },
    {
     "name": "stdout",
     "output_type": "stream",
     "text": [
      "Example 1 Ground Truth: Head = B, Anterior = Y, IASpace = B, Scutellum = Y, T1 = Y, T2 = Y / O, T3 = B, T4 = B, T5 = B, T6 = B, Corbicular = false\n",
      "Example 1 Model Prediction: <SOS> head = b , anterior = y , iaspace = b , scutellum = y , t1 = y , t2 = y / o , t3 = b , t4 = b , t5 = b , t6 = b , corbicular = false <EOS>\n",
      "reference: [['<sos> head = b', 'anterior = y', 'iaspace = b', 'scutellum = y', 't1 = y', 't2 = y / o', 't3 = b', 't4 = b', 't5 = b', 't6 = b', 'corbicular = false <eos>']]\n",
      "c2: ['<sos> head = b', 'anterior = y', 'iaspace = b', 'scutellum = y', 't1 = y', 't2 = y / o', 't3 = b', 't4 = b', 't5 = b', 't6 = b', 'corbicular = false <eos>']\n",
      "BLEU 1-gram score: 1.0\n",
      "BLEU 2-gram score: 1.0\n",
      "BLEU 3-gram score: 1.0\n",
      "BLEU 4-gram score: 1.0\n"
     ]
    },
    {
     "name": "stderr",
     "output_type": "stream",
     "text": [
      "                                   \r"
     ]
    },
    {
     "name": "stdout",
     "output_type": "stream",
     "text": [
      "Example 1 Ground Truth: Head = B, Anterior = Y, IASpace = B, Scutellum = Y, T1 = Y, T2 = Y / O, T3 = B, T4 = B, T5 = B, T6 = B, Corbicular = false\n",
      "Example 1 Model Prediction: <SOS> head = b , anterior = y , iaspace = b , scutellum = y , t1 = y , t2 = y / o , t3 = b , t4 = b , t5 = b , t6 = b , corbicular = false <EOS>\n",
      "reference: [['<sos> head = b', 'anterior = y', 'iaspace = b', 'scutellum = y', 't1 = y', 't2 = y / o', 't3 = b', 't4 = b', 't5 = b', 't6 = b', 'corbicular = false <eos>']]\n",
      "c2: ['<sos> head = b', 'anterior = y', 'iaspace = b', 'scutellum = y', 't1 = y', 't2 = y / o', 't3 = b', 't4 = b', 't5 = b', 't6 = b', 'corbicular = false <eos>']\n",
      "BLEU 1-gram score: 1.0\n",
      "BLEU 2-gram score: 1.0\n",
      "BLEU 3-gram score: 1.0\n",
      "BLEU 4-gram score: 1.0\n"
     ]
    },
    {
     "name": "stderr",
     "output_type": "stream",
     "text": [
      "                                   \r"
     ]
    },
    {
     "name": "stdout",
     "output_type": "stream",
     "text": [
      "Example 1 Ground Truth: Head = B, Anterior = Y, IASpace = B, Scutellum = Y, T1 = Y, T2 = Y / O, T3 = B, T4 = B, T5 = B, T6 = B, Corbicular = false\n",
      "Example 1 Model Prediction: <SOS> head = b , anterior = y , iaspace = b , scutellum = y , t1 = y , t2 = y / o , t3 = b , t4 = b , t5 = b , t6 = b , corbicular = false <EOS>\n",
      "reference: [['<sos> head = b', 'anterior = y', 'iaspace = b', 'scutellum = y', 't1 = y', 't2 = y / o', 't3 = b', 't4 = b', 't5 = b', 't6 = b', 'corbicular = false <eos>']]\n",
      "c2: ['<sos> head = b', 'anterior = y', 'iaspace = b', 'scutellum = y', 't1 = y', 't2 = y / o', 't3 = b', 't4 = b', 't5 = b', 't6 = b', 'corbicular = false <eos>']\n",
      "BLEU 1-gram score: 1.0\n",
      "BLEU 2-gram score: 1.0\n",
      "BLEU 3-gram score: 1.0\n",
      "BLEU 4-gram score: 1.0\n"
     ]
    },
    {
     "name": "stderr",
     "output_type": "stream",
     "text": [
      "                                   \r"
     ]
    },
    {
     "name": "stdout",
     "output_type": "stream",
     "text": [
      "Example 1 Ground Truth: Head = B, Anterior = Y, IASpace = B, Scutellum = Y, T1 = Y, T2 = Y / O, T3 = B, T4 = B, T5 = B, T6 = B, Corbicular = false\n",
      "Example 1 Model Prediction: <SOS> head = b , anterior = y , iaspace = b , scutellum = y , t1 = y , t2 = y / o , t3 = b , t4 = b , t5 = b , t6 = b , corbicular = false <EOS>\n",
      "reference: [['<sos> head = b', 'anterior = y', 'iaspace = b', 'scutellum = y', 't1 = y', 't2 = y / o', 't3 = b', 't4 = b', 't5 = b', 't6 = b', 'corbicular = false <eos>']]\n",
      "c2: ['<sos> head = b', 'anterior = y', 'iaspace = b', 'scutellum = y', 't1 = y', 't2 = y / o', 't3 = b', 't4 = b', 't5 = b', 't6 = b', 'corbicular = false <eos>']\n",
      "BLEU 1-gram score: 1.0\n",
      "BLEU 2-gram score: 1.0\n",
      "BLEU 3-gram score: 1.0\n",
      "BLEU 4-gram score: 1.0\n"
     ]
    },
    {
     "name": "stderr",
     "output_type": "stream",
     "text": [
      "                                   \r"
     ]
    },
    {
     "name": "stdout",
     "output_type": "stream",
     "text": [
      "Example 1 Ground Truth: Head = B, Anterior = Y, IASpace = B, Scutellum = Y, T1 = Y, T2 = Y / O, T3 = B, T4 = B, T5 = B, T6 = B, Corbicular = false\n",
      "Example 1 Model Prediction: <SOS> head = b , anterior = y , iaspace = b , scutellum = y , t1 = y , t2 = y / o , t3 = b , t4 = b , t5 = b , t6 = b , corbicular = false <EOS>\n",
      "reference: [['<sos> head = b', 'anterior = y', 'iaspace = b', 'scutellum = y', 't1 = y', 't2 = y / o', 't3 = b', 't4 = b', 't5 = b', 't6 = b', 'corbicular = false <eos>']]\n",
      "c2: ['<sos> head = b', 'anterior = y', 'iaspace = b', 'scutellum = y', 't1 = y', 't2 = y / o', 't3 = b', 't4 = b', 't5 = b', 't6 = b', 'corbicular = false <eos>']\n",
      "BLEU 1-gram score: 1.0\n",
      "BLEU 2-gram score: 1.0\n",
      "BLEU 3-gram score: 1.0\n",
      "BLEU 4-gram score: 1.0\n"
     ]
    },
    {
     "name": "stderr",
     "output_type": "stream",
     "text": [
      "                                   \r"
     ]
    },
    {
     "name": "stdout",
     "output_type": "stream",
     "text": [
      "Example 1 Ground Truth: Head = B, Anterior = Y, IASpace = B, Scutellum = Y, T1 = Y, T2 = Y / O, T3 = B, T4 = B, T5 = B, T6 = B, Corbicular = false\n",
      "Example 1 Model Prediction: <SOS> head = b , anterior = y , iaspace = b , scutellum = y , t1 = y , t2 = y / o , t3 = b , t4 = b , t5 = b , t6 = b , corbicular = false <EOS>\n",
      "reference: [['<sos> head = b', 'anterior = y', 'iaspace = b', 'scutellum = y', 't1 = y', 't2 = y / o', 't3 = b', 't4 = b', 't5 = b', 't6 = b', 'corbicular = false <eos>']]\n",
      "c2: ['<sos> head = b', 'anterior = y', 'iaspace = b', 'scutellum = y', 't1 = y', 't2 = y / o', 't3 = b', 't4 = b', 't5 = b', 't6 = b', 'corbicular = false <eos>']\n",
      "BLEU 1-gram score: 1.0\n",
      "BLEU 2-gram score: 1.0\n",
      "BLEU 3-gram score: 1.0\n",
      "BLEU 4-gram score: 1.0\n"
     ]
    },
    {
     "name": "stderr",
     "output_type": "stream",
     "text": [
      "                                   \r"
     ]
    },
    {
     "name": "stdout",
     "output_type": "stream",
     "text": [
      "Example 1 Ground Truth: Head = B, Anterior = Y, IASpace = B, Scutellum = Y, T1 = Y, T2 = Y / O, T3 = B, T4 = B, T5 = B, T6 = B, Corbicular = false\n",
      "Example 1 Model Prediction: <SOS> head = b , anterior = y , iaspace = b , scutellum = y , t1 = y , t2 = y / o , t3 = b , t4 = b , t5 = b , t6 = b , corbicular = false <EOS>\n",
      "reference: [['<sos> head = b', 'anterior = y', 'iaspace = b', 'scutellum = y', 't1 = y', 't2 = y / o', 't3 = b', 't4 = b', 't5 = b', 't6 = b', 'corbicular = false <eos>']]\n",
      "c2: ['<sos> head = b', 'anterior = y', 'iaspace = b', 'scutellum = y', 't1 = y', 't2 = y / o', 't3 = b', 't4 = b', 't5 = b', 't6 = b', 'corbicular = false <eos>']\n",
      "BLEU 1-gram score: 1.0\n",
      "BLEU 2-gram score: 1.0\n",
      "BLEU 3-gram score: 1.0\n",
      "BLEU 4-gram score: 1.0\n"
     ]
    },
    {
     "name": "stderr",
     "output_type": "stream",
     "text": [
      "                                   \r"
     ]
    },
    {
     "name": "stdout",
     "output_type": "stream",
     "text": [
      "Example 1 Ground Truth: Head = B, Anterior = Y, IASpace = B, Scutellum = Y, T1 = Y, T2 = Y / O, T3 = B, T4 = B, T5 = B, T6 = B, Corbicular = false\n",
      "Example 1 Model Prediction: <SOS> head = b , anterior = y , iaspace = b , scutellum = y , t1 = y , t2 = y / o , t3 = b , t4 = b , t5 = b , t6 = b , corbicular = false <EOS>\n",
      "reference: [['<sos> head = b', 'anterior = y', 'iaspace = b', 'scutellum = y', 't1 = y', 't2 = y / o', 't3 = b', 't4 = b', 't5 = b', 't6 = b', 'corbicular = false <eos>']]\n",
      "c2: ['<sos> head = b', 'anterior = y', 'iaspace = b', 'scutellum = y', 't1 = y', 't2 = y / o', 't3 = b', 't4 = b', 't5 = b', 't6 = b', 'corbicular = false <eos>']\n",
      "BLEU 1-gram score: 1.0\n",
      "BLEU 2-gram score: 1.0\n",
      "BLEU 3-gram score: 1.0\n",
      "BLEU 4-gram score: 1.0\n"
     ]
    },
    {
     "name": "stderr",
     "output_type": "stream",
     "text": [
      "                                   \r"
     ]
    },
    {
     "name": "stdout",
     "output_type": "stream",
     "text": [
      "Example 1 Ground Truth: Head = B, Anterior = Y, IASpace = B, Scutellum = Y, T1 = Y, T2 = Y / O, T3 = B, T4 = B, T5 = B, T6 = B, Corbicular = false\n",
      "Example 1 Model Prediction: <SOS> head = b , anterior = y , iaspace = b , scutellum = y , t1 = y , t2 = y / o , t3 = b , t4 = b , t5 = b , t6 = b , corbicular = false <EOS>\n",
      "reference: [['<sos> head = b', 'anterior = y', 'iaspace = b', 'scutellum = y', 't1 = y', 't2 = y / o', 't3 = b', 't4 = b', 't5 = b', 't6 = b', 'corbicular = false <eos>']]\n",
      "c2: ['<sos> head = b', 'anterior = y', 'iaspace = b', 'scutellum = y', 't1 = y', 't2 = y / o', 't3 = b', 't4 = b', 't5 = b', 't6 = b', 'corbicular = false <eos>']\n",
      "BLEU 1-gram score: 1.0\n",
      "BLEU 2-gram score: 1.0\n",
      "BLEU 3-gram score: 1.0\n",
      "BLEU 4-gram score: 1.0\n"
     ]
    },
    {
     "name": "stderr",
     "output_type": "stream",
     "text": [
      "                                   \r"
     ]
    },
    {
     "name": "stdout",
     "output_type": "stream",
     "text": [
      "Example 1 Ground Truth: Head = B, Anterior = Y, IASpace = B, Scutellum = Y, T1 = Y, T2 = Y / O, T3 = B, T4 = B, T5 = B, T6 = B, Corbicular = false\n",
      "Example 1 Model Prediction: <SOS> head = b , anterior = y , iaspace = b , scutellum = y , t1 = y , t2 = y / o , t3 = b , t4 = b , t5 = b , t6 = b , corbicular = false <EOS>\n",
      "reference: [['<sos> head = b', 'anterior = y', 'iaspace = b', 'scutellum = y', 't1 = y', 't2 = y / o', 't3 = b', 't4 = b', 't5 = b', 't6 = b', 'corbicular = false <eos>']]\n",
      "c2: ['<sos> head = b', 'anterior = y', 'iaspace = b', 'scutellum = y', 't1 = y', 't2 = y / o', 't3 = b', 't4 = b', 't5 = b', 't6 = b', 'corbicular = false <eos>']\n",
      "BLEU 1-gram score: 1.0\n",
      "BLEU 2-gram score: 1.0\n",
      "BLEU 3-gram score: 1.0\n",
      "BLEU 4-gram score: 1.0\n"
     ]
    },
    {
     "name": "stderr",
     "output_type": "stream",
     "text": [
      "                                   \r"
     ]
    },
    {
     "name": "stdout",
     "output_type": "stream",
     "text": [
      "Example 1 Ground Truth: Head = B, Anterior = Y, IASpace = B, Scutellum = Y, T1 = Y, T2 = Y / O, T3 = B, T4 = B, T5 = B, T6 = B, Corbicular = false\n",
      "Example 1 Model Prediction: <SOS> head = b , anterior = y , iaspace = b , scutellum = y , t1 = y , t2 = y / o , t3 = b , t4 = b , t5 = b , t6 = b , corbicular = false <EOS>\n",
      "reference: [['<sos> head = b', 'anterior = y', 'iaspace = b', 'scutellum = y', 't1 = y', 't2 = y / o', 't3 = b', 't4 = b', 't5 = b', 't6 = b', 'corbicular = false <eos>']]\n",
      "c2: ['<sos> head = b', 'anterior = y', 'iaspace = b', 'scutellum = y', 't1 = y', 't2 = y / o', 't3 = b', 't4 = b', 't5 = b', 't6 = b', 'corbicular = false <eos>']\n",
      "BLEU 1-gram score: 1.0\n",
      "BLEU 2-gram score: 1.0\n",
      "BLEU 3-gram score: 1.0\n",
      "BLEU 4-gram score: 1.0\n"
     ]
    },
    {
     "name": "stderr",
     "output_type": "stream",
     "text": [
      "                                   \r"
     ]
    },
    {
     "name": "stdout",
     "output_type": "stream",
     "text": [
      "Example 1 Ground Truth: Head = B, Anterior = Y, IASpace = B, Scutellum = Y, T1 = Y, T2 = Y / O, T3 = B, T4 = B, T5 = B, T6 = B, Corbicular = false\n",
      "Example 1 Model Prediction: <SOS> head = b , anterior = y , iaspace = b , scutellum = y , t1 = y , t2 = y / o , t3 = b , t4 = b , t5 = b , t6 = b , corbicular = false <EOS>\n",
      "reference: [['<sos> head = b', 'anterior = y', 'iaspace = b', 'scutellum = y', 't1 = y', 't2 = y / o', 't3 = b', 't4 = b', 't5 = b', 't6 = b', 'corbicular = false <eos>']]\n",
      "c2: ['<sos> head = b', 'anterior = y', 'iaspace = b', 'scutellum = y', 't1 = y', 't2 = y / o', 't3 = b', 't4 = b', 't5 = b', 't6 = b', 'corbicular = false <eos>']\n",
      "BLEU 1-gram score: 1.0\n",
      "BLEU 2-gram score: 1.0\n",
      "BLEU 3-gram score: 1.0\n",
      "BLEU 4-gram score: 1.0\n"
     ]
    },
    {
     "name": "stderr",
     "output_type": "stream",
     "text": [
      "                                   \r"
     ]
    },
    {
     "name": "stdout",
     "output_type": "stream",
     "text": [
      "Example 1 Ground Truth: Head = B, Anterior = Y, IASpace = B, Scutellum = Y, T1 = Y, T2 = Y / O, T3 = B, T4 = B, T5 = B, T6 = B, Corbicular = false\n",
      "Example 1 Model Prediction: <SOS> head = b , anterior = y , iaspace = b , scutellum = y , t1 = y , t2 = y / o , t3 = b , t4 = b , t5 = b , t6 = b , corbicular = false <EOS>\n",
      "reference: [['<sos> head = b', 'anterior = y', 'iaspace = b', 'scutellum = y', 't1 = y', 't2 = y / o', 't3 = b', 't4 = b', 't5 = b', 't6 = b', 'corbicular = false <eos>']]\n",
      "c2: ['<sos> head = b', 'anterior = y', 'iaspace = b', 'scutellum = y', 't1 = y', 't2 = y / o', 't3 = b', 't4 = b', 't5 = b', 't6 = b', 'corbicular = false <eos>']\n",
      "BLEU 1-gram score: 1.0\n",
      "BLEU 2-gram score: 1.0\n",
      "BLEU 3-gram score: 1.0\n",
      "BLEU 4-gram score: 1.0\n"
     ]
    },
    {
     "name": "stderr",
     "output_type": "stream",
     "text": [
      "                                   \r"
     ]
    },
    {
     "name": "stdout",
     "output_type": "stream",
     "text": [
      "Example 1 Ground Truth: Head = B, Anterior = Y, IASpace = B, Scutellum = Y, T1 = Y, T2 = Y / O, T3 = B, T4 = B, T5 = B, T6 = B, Corbicular = false\n",
      "Example 1 Model Prediction: <SOS> head = b , anterior = y , iaspace = b , scutellum = y , t1 = y , t2 = y / o , t3 = b , t4 = b , t5 = b , t6 = b , corbicular = false <EOS>\n",
      "reference: [['<sos> head = b', 'anterior = y', 'iaspace = b', 'scutellum = y', 't1 = y', 't2 = y / o', 't3 = b', 't4 = b', 't5 = b', 't6 = b', 'corbicular = false <eos>']]\n",
      "c2: ['<sos> head = b', 'anterior = y', 'iaspace = b', 'scutellum = y', 't1 = y', 't2 = y / o', 't3 = b', 't4 = b', 't5 = b', 't6 = b', 'corbicular = false <eos>']\n",
      "BLEU 1-gram score: 1.0\n",
      "BLEU 2-gram score: 1.0\n",
      "BLEU 3-gram score: 1.0\n",
      "BLEU 4-gram score: 1.0\n"
     ]
    },
    {
     "name": "stderr",
     "output_type": "stream",
     "text": [
      "                                   \r"
     ]
    },
    {
     "name": "stdout",
     "output_type": "stream",
     "text": [
      "Example 1 Ground Truth: Head = B, Anterior = Y, IASpace = B, Scutellum = Y, T1 = Y, T2 = Y / O, T3 = B, T4 = B, T5 = B, T6 = B, Corbicular = false\n",
      "Example 1 Model Prediction: <SOS> head = b , anterior = y , iaspace = b , scutellum = y , t1 = y , t2 = y / o , t3 = b , t4 = b , t5 = b , t6 = b , corbicular = false <EOS>\n",
      "reference: [['<sos> head = b', 'anterior = y', 'iaspace = b', 'scutellum = y', 't1 = y', 't2 = y / o', 't3 = b', 't4 = b', 't5 = b', 't6 = b', 'corbicular = false <eos>']]\n",
      "c2: ['<sos> head = b', 'anterior = y', 'iaspace = b', 'scutellum = y', 't1 = y', 't2 = y / o', 't3 = b', 't4 = b', 't5 = b', 't6 = b', 'corbicular = false <eos>']\n",
      "BLEU 1-gram score: 1.0\n",
      "BLEU 2-gram score: 1.0\n",
      "BLEU 3-gram score: 1.0\n",
      "BLEU 4-gram score: 1.0\n"
     ]
    },
    {
     "name": "stderr",
     "output_type": "stream",
     "text": [
      "                                   \r"
     ]
    },
    {
     "name": "stdout",
     "output_type": "stream",
     "text": [
      "Example 1 Ground Truth: Head = B, Anterior = Y, IASpace = B, Scutellum = Y, T1 = Y, T2 = Y / O, T3 = B, T4 = B, T5 = B, T6 = B, Corbicular = false\n",
      "Example 1 Model Prediction: <SOS> head = b , anterior = y , iaspace = b , scutellum = y , t1 = y , t2 = y / o , t3 = b , t4 = b , t5 = b , t6 = b , corbicular = false <EOS>\n",
      "reference: [['<sos> head = b', 'anterior = y', 'iaspace = b', 'scutellum = y', 't1 = y', 't2 = y / o', 't3 = b', 't4 = b', 't5 = b', 't6 = b', 'corbicular = false <eos>']]\n",
      "c2: ['<sos> head = b', 'anterior = y', 'iaspace = b', 'scutellum = y', 't1 = y', 't2 = y / o', 't3 = b', 't4 = b', 't5 = b', 't6 = b', 'corbicular = false <eos>']\n",
      "BLEU 1-gram score: 1.0\n",
      "BLEU 2-gram score: 1.0\n",
      "BLEU 3-gram score: 1.0\n",
      "BLEU 4-gram score: 1.0\n"
     ]
    },
    {
     "name": "stderr",
     "output_type": "stream",
     "text": [
      "                                   \r"
     ]
    },
    {
     "name": "stdout",
     "output_type": "stream",
     "text": [
      "Example 1 Ground Truth: Head = B, Anterior = Y, IASpace = B, Scutellum = Y, T1 = Y, T2 = Y / O, T3 = B, T4 = B, T5 = B, T6 = B, Corbicular = false\n",
      "Example 1 Model Prediction: <SOS> head = b , anterior = y , iaspace = b , scutellum = y , t1 = y , t2 = y / o , t3 = b , t4 = b , t5 = b , t6 = b , corbicular = false <EOS>\n",
      "reference: [['<sos> head = b', 'anterior = y', 'iaspace = b', 'scutellum = y', 't1 = y', 't2 = y / o', 't3 = b', 't4 = b', 't5 = b', 't6 = b', 'corbicular = false <eos>']]\n",
      "c2: ['<sos> head = b', 'anterior = y', 'iaspace = b', 'scutellum = y', 't1 = y', 't2 = y / o', 't3 = b', 't4 = b', 't5 = b', 't6 = b', 'corbicular = false <eos>']\n",
      "BLEU 1-gram score: 1.0\n",
      "BLEU 2-gram score: 1.0\n",
      "BLEU 3-gram score: 1.0\n",
      "BLEU 4-gram score: 1.0\n"
     ]
    },
    {
     "name": "stderr",
     "output_type": "stream",
     "text": [
      "                                   \r"
     ]
    },
    {
     "name": "stdout",
     "output_type": "stream",
     "text": [
      "Example 1 Ground Truth: Head = B, Anterior = Y, IASpace = B, Scutellum = Y, T1 = Y, T2 = Y / O, T3 = B, T4 = B, T5 = B, T6 = B, Corbicular = false\n",
      "Example 1 Model Prediction: <SOS> head = b , anterior = y , iaspace = b , scutellum = y , t1 = y , t2 = y / o , t3 = b , t4 = b , t5 = b , t6 = b , corbicular = false <EOS>\n",
      "reference: [['<sos> head = b', 'anterior = y', 'iaspace = b', 'scutellum = y', 't1 = y', 't2 = y / o', 't3 = b', 't4 = b', 't5 = b', 't6 = b', 'corbicular = false <eos>']]\n",
      "c2: ['<sos> head = b', 'anterior = y', 'iaspace = b', 'scutellum = y', 't1 = y', 't2 = y / o', 't3 = b', 't4 = b', 't5 = b', 't6 = b', 'corbicular = false <eos>']\n",
      "BLEU 1-gram score: 1.0\n",
      "BLEU 2-gram score: 1.0\n",
      "BLEU 3-gram score: 1.0\n",
      "BLEU 4-gram score: 1.0\n"
     ]
    },
    {
     "name": "stderr",
     "output_type": "stream",
     "text": [
      "                                   \r"
     ]
    },
    {
     "name": "stdout",
     "output_type": "stream",
     "text": [
      "Example 1 Ground Truth: Head = B, Anterior = Y, IASpace = B, Scutellum = Y, T1 = Y, T2 = Y / O, T3 = B, T4 = B, T5 = B, T6 = B, Corbicular = false\n",
      "Example 1 Model Prediction: <SOS> head = b , anterior = y , iaspace = b , scutellum = y , t1 = y , t2 = y / o , t3 = b , t4 = b , t5 = b , t6 = b , corbicular = false <EOS>\n",
      "reference: [['<sos> head = b', 'anterior = y', 'iaspace = b', 'scutellum = y', 't1 = y', 't2 = y / o', 't3 = b', 't4 = b', 't5 = b', 't6 = b', 'corbicular = false <eos>']]\n",
      "c2: ['<sos> head = b', 'anterior = y', 'iaspace = b', 'scutellum = y', 't1 = y', 't2 = y / o', 't3 = b', 't4 = b', 't5 = b', 't6 = b', 'corbicular = false <eos>']\n",
      "BLEU 1-gram score: 1.0\n",
      "BLEU 2-gram score: 1.0\n",
      "BLEU 3-gram score: 1.0\n",
      "BLEU 4-gram score: 1.0\n"
     ]
    },
    {
     "name": "stderr",
     "output_type": "stream",
     "text": [
      "                                   \r"
     ]
    },
    {
     "name": "stdout",
     "output_type": "stream",
     "text": [
      "Example 1 Ground Truth: Head = B, Anterior = Y, IASpace = B, Scutellum = Y, T1 = Y, T2 = Y / O, T3 = B, T4 = B, T5 = B, T6 = B, Corbicular = false\n",
      "Example 1 Model Prediction: <SOS> head = b , anterior = y , iaspace = b , scutellum = y , t1 = y , t2 = y / o , t3 = b , t4 = b , t5 = b , t6 = b , corbicular = false <EOS>\n",
      "reference: [['<sos> head = b', 'anterior = y', 'iaspace = b', 'scutellum = y', 't1 = y', 't2 = y / o', 't3 = b', 't4 = b', 't5 = b', 't6 = b', 'corbicular = false <eos>']]\n",
      "c2: ['<sos> head = b', 'anterior = y', 'iaspace = b', 'scutellum = y', 't1 = y', 't2 = y / o', 't3 = b', 't4 = b', 't5 = b', 't6 = b', 'corbicular = false <eos>']\n",
      "BLEU 1-gram score: 1.0\n",
      "BLEU 2-gram score: 1.0\n",
      "BLEU 3-gram score: 1.0\n",
      "BLEU 4-gram score: 1.0\n"
     ]
    },
    {
     "name": "stderr",
     "output_type": "stream",
     "text": [
      "                                   \r"
     ]
    },
    {
     "name": "stdout",
     "output_type": "stream",
     "text": [
      "Example 1 Ground Truth: Head = B, Anterior = Y, IASpace = B, Scutellum = Y, T1 = Y, T2 = Y / O, T3 = B, T4 = B, T5 = B, T6 = B, Corbicular = false\n",
      "Example 1 Model Prediction: <SOS> head = b , anterior = y , iaspace = b , scutellum = y , t1 = y , t2 = y / o , t3 = b , t4 = b , t5 = b , t6 = b , corbicular = false <EOS>\n",
      "reference: [['<sos> head = b', 'anterior = y', 'iaspace = b', 'scutellum = y', 't1 = y', 't2 = y / o', 't3 = b', 't4 = b', 't5 = b', 't6 = b', 'corbicular = false <eos>']]\n",
      "c2: ['<sos> head = b', 'anterior = y', 'iaspace = b', 'scutellum = y', 't1 = y', 't2 = y / o', 't3 = b', 't4 = b', 't5 = b', 't6 = b', 'corbicular = false <eos>']\n",
      "BLEU 1-gram score: 1.0\n",
      "BLEU 2-gram score: 1.0\n",
      "BLEU 3-gram score: 1.0\n",
      "BLEU 4-gram score: 1.0\n"
     ]
    },
    {
     "name": "stderr",
     "output_type": "stream",
     "text": [
      "                                   \r"
     ]
    },
    {
     "name": "stdout",
     "output_type": "stream",
     "text": [
      "Example 1 Ground Truth: Head = B, Anterior = Y, IASpace = B, Scutellum = Y, T1 = Y, T2 = Y / O, T3 = B, T4 = B, T5 = B, T6 = B, Corbicular = false\n",
      "Example 1 Model Prediction: <SOS> head = b , anterior = y , iaspace = b , scutellum = y , t1 = y , t2 = y / o , t3 = b , t4 = b , t5 = b , t6 = b , corbicular = false <EOS>\n",
      "reference: [['<sos> head = b', 'anterior = y', 'iaspace = b', 'scutellum = y', 't1 = y', 't2 = y / o', 't3 = b', 't4 = b', 't5 = b', 't6 = b', 'corbicular = false <eos>']]\n",
      "c2: ['<sos> head = b', 'anterior = y', 'iaspace = b', 'scutellum = y', 't1 = y', 't2 = y / o', 't3 = b', 't4 = b', 't5 = b', 't6 = b', 'corbicular = false <eos>']\n",
      "BLEU 1-gram score: 1.0\n",
      "BLEU 2-gram score: 1.0\n",
      "BLEU 3-gram score: 1.0\n",
      "BLEU 4-gram score: 1.0\n"
     ]
    },
    {
     "name": "stderr",
     "output_type": "stream",
     "text": [
      "                                   \r"
     ]
    },
    {
     "name": "stdout",
     "output_type": "stream",
     "text": [
      "Example 1 Ground Truth: Head = B, Anterior = Y, IASpace = B, Scutellum = Y, T1 = Y, T2 = Y / O, T3 = B, T4 = B, T5 = B, T6 = B, Corbicular = false\n",
      "Example 1 Model Prediction: <SOS> head = b , anterior = y , iaspace = b , scutellum = y , t1 = y , t2 = y / o , t3 = b , t4 = b , t5 = b , t6 = b , corbicular = false <EOS>\n",
      "reference: [['<sos> head = b', 'anterior = y', 'iaspace = b', 'scutellum = y', 't1 = y', 't2 = y / o', 't3 = b', 't4 = b', 't5 = b', 't6 = b', 'corbicular = false <eos>']]\n",
      "c2: ['<sos> head = b', 'anterior = y', 'iaspace = b', 'scutellum = y', 't1 = y', 't2 = y / o', 't3 = b', 't4 = b', 't5 = b', 't6 = b', 'corbicular = false <eos>']\n",
      "BLEU 1-gram score: 1.0\n",
      "BLEU 2-gram score: 1.0\n",
      "BLEU 3-gram score: 1.0\n",
      "BLEU 4-gram score: 1.0\n"
     ]
    },
    {
     "name": "stderr",
     "output_type": "stream",
     "text": [
      "                                   \r"
     ]
    },
    {
     "name": "stdout",
     "output_type": "stream",
     "text": [
      "Example 1 Ground Truth: Head = B, Anterior = Y, IASpace = B, Scutellum = Y, T1 = Y, T2 = Y / O, T3 = B, T4 = B, T5 = B, T6 = B, Corbicular = false\n",
      "Example 1 Model Prediction: <SOS> head = b , anterior = y , iaspace = b , scutellum = y , t1 = y , t2 = y / o , t3 = b , t4 = b , t5 = b , t6 = b , corbicular = false <EOS>\n",
      "reference: [['<sos> head = b', 'anterior = y', 'iaspace = b', 'scutellum = y', 't1 = y', 't2 = y / o', 't3 = b', 't4 = b', 't5 = b', 't6 = b', 'corbicular = false <eos>']]\n",
      "c2: ['<sos> head = b', 'anterior = y', 'iaspace = b', 'scutellum = y', 't1 = y', 't2 = y / o', 't3 = b', 't4 = b', 't5 = b', 't6 = b', 'corbicular = false <eos>']\n",
      "BLEU 1-gram score: 1.0\n",
      "BLEU 2-gram score: 1.0\n",
      "BLEU 3-gram score: 1.0\n",
      "BLEU 4-gram score: 1.0\n"
     ]
    },
    {
     "name": "stderr",
     "output_type": "stream",
     "text": [
      "                                   \r"
     ]
    },
    {
     "name": "stdout",
     "output_type": "stream",
     "text": [
      "Example 1 Ground Truth: Head = B, Anterior = Y, IASpace = B, Scutellum = Y, T1 = Y, T2 = Y / O, T3 = B, T4 = B, T5 = B, T6 = B, Corbicular = false\n",
      "Example 1 Model Prediction: <SOS> head = b , anterior = y , iaspace = b , scutellum = y , t1 = y , t2 = y / o , t3 = b , t4 = b , t5 = b , t6 = b , corbicular = false <EOS>\n",
      "reference: [['<sos> head = b', 'anterior = y', 'iaspace = b', 'scutellum = y', 't1 = y', 't2 = y / o', 't3 = b', 't4 = b', 't5 = b', 't6 = b', 'corbicular = false <eos>']]\n",
      "c2: ['<sos> head = b', 'anterior = y', 'iaspace = b', 'scutellum = y', 't1 = y', 't2 = y / o', 't3 = b', 't4 = b', 't5 = b', 't6 = b', 'corbicular = false <eos>']\n",
      "BLEU 1-gram score: 1.0\n",
      "BLEU 2-gram score: 1.0\n",
      "BLEU 3-gram score: 1.0\n",
      "BLEU 4-gram score: 1.0\n"
     ]
    },
    {
     "name": "stderr",
     "output_type": "stream",
     "text": [
      "                                   \r"
     ]
    },
    {
     "name": "stdout",
     "output_type": "stream",
     "text": [
      "Example 1 Ground Truth: Head = B, Anterior = Y, IASpace = B, Scutellum = Y, T1 = Y, T2 = Y / O, T3 = B, T4 = B, T5 = B, T6 = B, Corbicular = false\n",
      "Example 1 Model Prediction: <SOS> head = b , anterior = y , iaspace = b , scutellum = y , t1 = y , t2 = y / o , t3 = b , t4 = b , t5 = b , t6 = b , corbicular = false <EOS>\n",
      "reference: [['<sos> head = b', 'anterior = y', 'iaspace = b', 'scutellum = y', 't1 = y', 't2 = y / o', 't3 = b', 't4 = b', 't5 = b', 't6 = b', 'corbicular = false <eos>']]\n",
      "c2: ['<sos> head = b', 'anterior = y', 'iaspace = b', 'scutellum = y', 't1 = y', 't2 = y / o', 't3 = b', 't4 = b', 't5 = b', 't6 = b', 'corbicular = false <eos>']\n",
      "BLEU 1-gram score: 1.0\n",
      "BLEU 2-gram score: 1.0\n",
      "BLEU 3-gram score: 1.0\n",
      "BLEU 4-gram score: 1.0\n"
     ]
    },
    {
     "name": "stderr",
     "output_type": "stream",
     "text": [
      "                                   \r"
     ]
    },
    {
     "name": "stdout",
     "output_type": "stream",
     "text": [
      "Example 1 Ground Truth: Head = B, Anterior = Y, IASpace = B, Scutellum = Y, T1 = Y, T2 = Y / O, T3 = B, T4 = B, T5 = B, T6 = B, Corbicular = false\n",
      "Example 1 Model Prediction: <SOS> head = b , anterior = y , iaspace = b , scutellum = y , t1 = y , t2 = y / o , t3 = b , t4 = b , t5 = b , t6 = b , corbicular = false <EOS>\n",
      "reference: [['<sos> head = b', 'anterior = y', 'iaspace = b', 'scutellum = y', 't1 = y', 't2 = y / o', 't3 = b', 't4 = b', 't5 = b', 't6 = b', 'corbicular = false <eos>']]\n",
      "c2: ['<sos> head = b', 'anterior = y', 'iaspace = b', 'scutellum = y', 't1 = y', 't2 = y / o', 't3 = b', 't4 = b', 't5 = b', 't6 = b', 'corbicular = false <eos>']\n",
      "BLEU 1-gram score: 1.0\n",
      "BLEU 2-gram score: 1.0\n",
      "BLEU 3-gram score: 1.0\n",
      "BLEU 4-gram score: 1.0\n"
     ]
    },
    {
     "name": "stderr",
     "output_type": "stream",
     "text": [
      "                                   \r"
     ]
    },
    {
     "name": "stdout",
     "output_type": "stream",
     "text": [
      "Example 1 Ground Truth: Head = B, Anterior = Y, IASpace = B, Scutellum = Y, T1 = Y, T2 = Y / O, T3 = B, T4 = B, T5 = B, T6 = B, Corbicular = false\n",
      "Example 1 Model Prediction: <SOS> head = b , anterior = y , iaspace = b , scutellum = y , t1 = y , t2 = y / o , t3 = b , t4 = b , t5 = b , t6 = b , corbicular = false <EOS>\n",
      "reference: [['<sos> head = b', 'anterior = y', 'iaspace = b', 'scutellum = y', 't1 = y', 't2 = y / o', 't3 = b', 't4 = b', 't5 = b', 't6 = b', 'corbicular = false <eos>']]\n",
      "c2: ['<sos> head = b', 'anterior = y', 'iaspace = b', 'scutellum = y', 't1 = y', 't2 = y / o', 't3 = b', 't4 = b', 't5 = b', 't6 = b', 'corbicular = false <eos>']\n",
      "BLEU 1-gram score: 1.0\n",
      "BLEU 2-gram score: 1.0\n",
      "BLEU 3-gram score: 1.0\n",
      "BLEU 4-gram score: 1.0\n"
     ]
    },
    {
     "name": "stderr",
     "output_type": "stream",
     "text": [
      "                                   \r"
     ]
    },
    {
     "name": "stdout",
     "output_type": "stream",
     "text": [
      "Example 1 Ground Truth: Head = B, Anterior = Y, IASpace = B, Scutellum = Y, T1 = Y, T2 = Y / O, T3 = B, T4 = B, T5 = B, T6 = B, Corbicular = false\n",
      "Example 1 Model Prediction: <SOS> head = b , anterior = y , iaspace = b , scutellum = y , t1 = y , t2 = y / o , t3 = b , t4 = b , t5 = b , t6 = b , corbicular = false <EOS>\n",
      "reference: [['<sos> head = b', 'anterior = y', 'iaspace = b', 'scutellum = y', 't1 = y', 't2 = y / o', 't3 = b', 't4 = b', 't5 = b', 't6 = b', 'corbicular = false <eos>']]\n",
      "c2: ['<sos> head = b', 'anterior = y', 'iaspace = b', 'scutellum = y', 't1 = y', 't2 = y / o', 't3 = b', 't4 = b', 't5 = b', 't6 = b', 'corbicular = false <eos>']\n",
      "BLEU 1-gram score: 1.0\n",
      "BLEU 2-gram score: 1.0\n",
      "BLEU 3-gram score: 1.0\n",
      "BLEU 4-gram score: 1.0\n"
     ]
    },
    {
     "name": "stderr",
     "output_type": "stream",
     "text": [
      "                                   \r"
     ]
    },
    {
     "name": "stdout",
     "output_type": "stream",
     "text": [
      "Example 1 Ground Truth: Head = B, Anterior = Y, IASpace = B, Scutellum = Y, T1 = Y, T2 = Y / O, T3 = B, T4 = B, T5 = B, T6 = B, Corbicular = false\n",
      "Example 1 Model Prediction: <SOS> head = b , anterior = y , iaspace = b , scutellum = y , t1 = y , t2 = y / o , t3 = b , t4 = b , t5 = b , t6 = b , corbicular = false <EOS>\n",
      "reference: [['<sos> head = b', 'anterior = y', 'iaspace = b', 'scutellum = y', 't1 = y', 't2 = y / o', 't3 = b', 't4 = b', 't5 = b', 't6 = b', 'corbicular = false <eos>']]\n",
      "c2: ['<sos> head = b', 'anterior = y', 'iaspace = b', 'scutellum = y', 't1 = y', 't2 = y / o', 't3 = b', 't4 = b', 't5 = b', 't6 = b', 'corbicular = false <eos>']\n",
      "BLEU 1-gram score: 1.0\n",
      "BLEU 2-gram score: 1.0\n",
      "BLEU 3-gram score: 1.0\n",
      "BLEU 4-gram score: 1.0\n"
     ]
    },
    {
     "name": "stderr",
     "output_type": "stream",
     "text": [
      "                                   \r"
     ]
    },
    {
     "name": "stdout",
     "output_type": "stream",
     "text": [
      "Example 1 Ground Truth: Head = B, Anterior = Y, IASpace = B, Scutellum = Y, T1 = Y, T2 = Y / O, T3 = B, T4 = B, T5 = B, T6 = B, Corbicular = false\n",
      "Example 1 Model Prediction: <SOS> head = b , anterior = y , iaspace = b , scutellum = y , t1 = y , t2 = y / o , t3 = b , t4 = b , t5 = b , t6 = b , corbicular = false <EOS>\n",
      "reference: [['<sos> head = b', 'anterior = y', 'iaspace = b', 'scutellum = y', 't1 = y', 't2 = y / o', 't3 = b', 't4 = b', 't5 = b', 't6 = b', 'corbicular = false <eos>']]\n",
      "c2: ['<sos> head = b', 'anterior = y', 'iaspace = b', 'scutellum = y', 't1 = y', 't2 = y / o', 't3 = b', 't4 = b', 't5 = b', 't6 = b', 'corbicular = false <eos>']\n",
      "BLEU 1-gram score: 1.0\n",
      "BLEU 2-gram score: 1.0\n",
      "BLEU 3-gram score: 1.0\n",
      "BLEU 4-gram score: 1.0\n"
     ]
    },
    {
     "name": "stderr",
     "output_type": "stream",
     "text": [
      "                                   \r"
     ]
    },
    {
     "name": "stdout",
     "output_type": "stream",
     "text": [
      "Example 1 Ground Truth: Head = B, Anterior = Y, IASpace = B, Scutellum = Y, T1 = Y, T2 = Y / O, T3 = B, T4 = B, T5 = B, T6 = B, Corbicular = false\n",
      "Example 1 Model Prediction: <SOS> head = b , anterior = y , iaspace = b , scutellum = y , t1 = y , t2 = y / o , t3 = b , t4 = b , t5 = b , t6 = b , corbicular = false <EOS>\n",
      "reference: [['<sos> head = b', 'anterior = y', 'iaspace = b', 'scutellum = y', 't1 = y', 't2 = y / o', 't3 = b', 't4 = b', 't5 = b', 't6 = b', 'corbicular = false <eos>']]\n",
      "c2: ['<sos> head = b', 'anterior = y', 'iaspace = b', 'scutellum = y', 't1 = y', 't2 = y / o', 't3 = b', 't4 = b', 't5 = b', 't6 = b', 'corbicular = false <eos>']\n",
      "BLEU 1-gram score: 1.0\n",
      "BLEU 2-gram score: 1.0\n",
      "BLEU 3-gram score: 1.0\n",
      "BLEU 4-gram score: 1.0\n"
     ]
    },
    {
     "name": "stderr",
     "output_type": "stream",
     "text": [
      "                                   \r"
     ]
    },
    {
     "name": "stdout",
     "output_type": "stream",
     "text": [
      "Example 1 Ground Truth: Head = B, Anterior = Y, IASpace = B, Scutellum = Y, T1 = Y, T2 = Y / O, T3 = B, T4 = B, T5 = B, T6 = B, Corbicular = false\n",
      "Example 1 Model Prediction: <SOS> head = b , anterior = y , iaspace = b , scutellum = y , t1 = y , t2 = y / o , t3 = b , t4 = b , t5 = b , t6 = b , corbicular = false <EOS>\n",
      "reference: [['<sos> head = b', 'anterior = y', 'iaspace = b', 'scutellum = y', 't1 = y', 't2 = y / o', 't3 = b', 't4 = b', 't5 = b', 't6 = b', 'corbicular = false <eos>']]\n",
      "c2: ['<sos> head = b', 'anterior = y', 'iaspace = b', 'scutellum = y', 't1 = y', 't2 = y / o', 't3 = b', 't4 = b', 't5 = b', 't6 = b', 'corbicular = false <eos>']\n",
      "BLEU 1-gram score: 1.0\n",
      "BLEU 2-gram score: 1.0\n",
      "BLEU 3-gram score: 1.0\n",
      "BLEU 4-gram score: 1.0\n"
     ]
    },
    {
     "name": "stderr",
     "output_type": "stream",
     "text": [
      "                                   \r"
     ]
    },
    {
     "name": "stdout",
     "output_type": "stream",
     "text": [
      "Example 1 Ground Truth: Head = B, Anterior = Y, IASpace = B, Scutellum = Y, T1 = Y, T2 = Y / O, T3 = B, T4 = B, T5 = B, T6 = B, Corbicular = false\n",
      "Example 1 Model Prediction: <SOS> head = b , anterior = y , iaspace = b , scutellum = y , t1 = y , t2 = y / o , t3 = b , t4 = b , t5 = b , t6 = b , corbicular = false <EOS>\n",
      "reference: [['<sos> head = b', 'anterior = y', 'iaspace = b', 'scutellum = y', 't1 = y', 't2 = y / o', 't3 = b', 't4 = b', 't5 = b', 't6 = b', 'corbicular = false <eos>']]\n",
      "c2: ['<sos> head = b', 'anterior = y', 'iaspace = b', 'scutellum = y', 't1 = y', 't2 = y / o', 't3 = b', 't4 = b', 't5 = b', 't6 = b', 'corbicular = false <eos>']\n",
      "BLEU 1-gram score: 1.0\n",
      "BLEU 2-gram score: 1.0\n",
      "BLEU 3-gram score: 1.0\n",
      "BLEU 4-gram score: 1.0\n"
     ]
    },
    {
     "name": "stderr",
     "output_type": "stream",
     "text": [
      "                                   \r"
     ]
    },
    {
     "name": "stdout",
     "output_type": "stream",
     "text": [
      "Example 1 Ground Truth: Head = B, Anterior = Y, IASpace = B, Scutellum = Y, T1 = Y, T2 = Y / O, T3 = B, T4 = B, T5 = B, T6 = B, Corbicular = false\n",
      "Example 1 Model Prediction: <SOS> head = b , anterior = y , iaspace = b , scutellum = y , t1 = y , t2 = y / o , t3 = b , t4 = b , t5 = b , t6 = b , corbicular = false <EOS>\n",
      "reference: [['<sos> head = b', 'anterior = y', 'iaspace = b', 'scutellum = y', 't1 = y', 't2 = y / o', 't3 = b', 't4 = b', 't5 = b', 't6 = b', 'corbicular = false <eos>']]\n",
      "c2: ['<sos> head = b', 'anterior = y', 'iaspace = b', 'scutellum = y', 't1 = y', 't2 = y / o', 't3 = b', 't4 = b', 't5 = b', 't6 = b', 'corbicular = false <eos>']\n",
      "BLEU 1-gram score: 1.0\n",
      "BLEU 2-gram score: 1.0\n",
      "BLEU 3-gram score: 1.0\n",
      "BLEU 4-gram score: 1.0\n"
     ]
    },
    {
     "name": "stderr",
     "output_type": "stream",
     "text": [
      "                                   \r"
     ]
    },
    {
     "name": "stdout",
     "output_type": "stream",
     "text": [
      "Example 1 Ground Truth: Head = B, Anterior = Y, IASpace = B, Scutellum = Y, T1 = Y, T2 = Y / O, T3 = B, T4 = B, T5 = B, T6 = B, Corbicular = false\n",
      "Example 1 Model Prediction: <SOS> head = b , anterior = y , iaspace = b , scutellum = y , t1 = y , t2 = y / o , t3 = b , t4 = b , t5 = b , t6 = b , corbicular = false <EOS>\n",
      "reference: [['<sos> head = b', 'anterior = y', 'iaspace = b', 'scutellum = y', 't1 = y', 't2 = y / o', 't3 = b', 't4 = b', 't5 = b', 't6 = b', 'corbicular = false <eos>']]\n",
      "c2: ['<sos> head = b', 'anterior = y', 'iaspace = b', 'scutellum = y', 't1 = y', 't2 = y / o', 't3 = b', 't4 = b', 't5 = b', 't6 = b', 'corbicular = false <eos>']\n",
      "BLEU 1-gram score: 1.0\n",
      "BLEU 2-gram score: 1.0\n",
      "BLEU 3-gram score: 1.0\n",
      "BLEU 4-gram score: 1.0\n"
     ]
    },
    {
     "name": "stderr",
     "output_type": "stream",
     "text": [
      "                                   \r"
     ]
    },
    {
     "name": "stdout",
     "output_type": "stream",
     "text": [
      "Example 1 Ground Truth: Head = B, Anterior = Y, IASpace = B, Scutellum = Y, T1 = Y, T2 = Y / O, T3 = B, T4 = B, T5 = B, T6 = B, Corbicular = false\n",
      "Example 1 Model Prediction: <SOS> head = b , anterior = y , iaspace = b , scutellum = y , t1 = y , t2 = y / o , t3 = b , t4 = b , t5 = b , t6 = b , corbicular = false <EOS>\n",
      "reference: [['<sos> head = b', 'anterior = y', 'iaspace = b', 'scutellum = y', 't1 = y', 't2 = y / o', 't3 = b', 't4 = b', 't5 = b', 't6 = b', 'corbicular = false <eos>']]\n",
      "c2: ['<sos> head = b', 'anterior = y', 'iaspace = b', 'scutellum = y', 't1 = y', 't2 = y / o', 't3 = b', 't4 = b', 't5 = b', 't6 = b', 'corbicular = false <eos>']\n",
      "BLEU 1-gram score: 1.0\n",
      "BLEU 2-gram score: 1.0\n",
      "BLEU 3-gram score: 1.0\n",
      "BLEU 4-gram score: 1.0\n"
     ]
    },
    {
     "name": "stderr",
     "output_type": "stream",
     "text": [
      "                                   \r"
     ]
    },
    {
     "name": "stdout",
     "output_type": "stream",
     "text": [
      "Example 1 Ground Truth: Head = B, Anterior = Y, IASpace = B, Scutellum = Y, T1 = Y, T2 = Y / O, T3 = B, T4 = B, T5 = B, T6 = B, Corbicular = false\n",
      "Example 1 Model Prediction: <SOS> head = b , anterior = y , iaspace = b , scutellum = y , t1 = y , t2 = y / o , t3 = b , t4 = b , t5 = b , t6 = b , corbicular = false <EOS>\n",
      "reference: [['<sos> head = b', 'anterior = y', 'iaspace = b', 'scutellum = y', 't1 = y', 't2 = y / o', 't3 = b', 't4 = b', 't5 = b', 't6 = b', 'corbicular = false <eos>']]\n",
      "c2: ['<sos> head = b', 'anterior = y', 'iaspace = b', 'scutellum = y', 't1 = y', 't2 = y / o', 't3 = b', 't4 = b', 't5 = b', 't6 = b', 'corbicular = false <eos>']\n",
      "BLEU 1-gram score: 1.0\n",
      "BLEU 2-gram score: 1.0\n",
      "BLEU 3-gram score: 1.0\n",
      "BLEU 4-gram score: 1.0\n"
     ]
    },
    {
     "name": "stderr",
     "output_type": "stream",
     "text": [
      "                                   \r"
     ]
    },
    {
     "name": "stdout",
     "output_type": "stream",
     "text": [
      "Example 1 Ground Truth: Head = B, Anterior = Y, IASpace = B, Scutellum = Y, T1 = Y, T2 = Y / O, T3 = B, T4 = B, T5 = B, T6 = B, Corbicular = false\n",
      "Example 1 Model Prediction: <SOS> head = b , anterior = y , iaspace = b , scutellum = y , t1 = y , t2 = y / o , t3 = b , t4 = b , t5 = b , t6 = b , corbicular = false <EOS>\n",
      "reference: [['<sos> head = b', 'anterior = y', 'iaspace = b', 'scutellum = y', 't1 = y', 't2 = y / o', 't3 = b', 't4 = b', 't5 = b', 't6 = b', 'corbicular = false <eos>']]\n",
      "c2: ['<sos> head = b', 'anterior = y', 'iaspace = b', 'scutellum = y', 't1 = y', 't2 = y / o', 't3 = b', 't4 = b', 't5 = b', 't6 = b', 'corbicular = false <eos>']\n",
      "BLEU 1-gram score: 1.0\n",
      "BLEU 2-gram score: 1.0\n",
      "BLEU 3-gram score: 1.0\n",
      "BLEU 4-gram score: 1.0\n"
     ]
    },
    {
     "name": "stderr",
     "output_type": "stream",
     "text": [
      "                                   \r"
     ]
    },
    {
     "name": "stdout",
     "output_type": "stream",
     "text": [
      "Example 1 Ground Truth: Head = B, Anterior = Y, IASpace = B, Scutellum = Y, T1 = Y, T2 = Y / O, T3 = B, T4 = B, T5 = B, T6 = B, Corbicular = false\n",
      "Example 1 Model Prediction: <SOS> head = b , anterior = y , iaspace = b , scutellum = y , t1 = y , t2 = y / o , t3 = b , t4 = b , t5 = b , t6 = b , corbicular = false <EOS>\n",
      "reference: [['<sos> head = b', 'anterior = y', 'iaspace = b', 'scutellum = y', 't1 = y', 't2 = y / o', 't3 = b', 't4 = b', 't5 = b', 't6 = b', 'corbicular = false <eos>']]\n",
      "c2: ['<sos> head = b', 'anterior = y', 'iaspace = b', 'scutellum = y', 't1 = y', 't2 = y / o', 't3 = b', 't4 = b', 't5 = b', 't6 = b', 'corbicular = false <eos>']\n",
      "BLEU 1-gram score: 1.0\n",
      "BLEU 2-gram score: 1.0\n",
      "BLEU 3-gram score: 1.0\n",
      "BLEU 4-gram score: 1.0\n"
     ]
    },
    {
     "name": "stderr",
     "output_type": "stream",
     "text": [
      "                                   \r"
     ]
    },
    {
     "name": "stdout",
     "output_type": "stream",
     "text": [
      "Example 1 Ground Truth: Head = B, Anterior = Y, IASpace = B, Scutellum = Y, T1 = Y, T2 = Y / O, T3 = B, T4 = B, T5 = B, T6 = B, Corbicular = false\n",
      "Example 1 Model Prediction: <SOS> head = b , anterior = y , iaspace = b , scutellum = y , t1 = y , t2 = y / o , t3 = b , t4 = b , t5 = b , t6 = b , corbicular = false <EOS>\n",
      "reference: [['<sos> head = b', 'anterior = y', 'iaspace = b', 'scutellum = y', 't1 = y', 't2 = y / o', 't3 = b', 't4 = b', 't5 = b', 't6 = b', 'corbicular = false <eos>']]\n",
      "c2: ['<sos> head = b', 'anterior = y', 'iaspace = b', 'scutellum = y', 't1 = y', 't2 = y / o', 't3 = b', 't4 = b', 't5 = b', 't6 = b', 'corbicular = false <eos>']\n",
      "BLEU 1-gram score: 1.0\n",
      "BLEU 2-gram score: 1.0\n",
      "BLEU 3-gram score: 1.0\n",
      "BLEU 4-gram score: 1.0\n"
     ]
    },
    {
     "name": "stderr",
     "output_type": "stream",
     "text": [
      "                                   \r"
     ]
    },
    {
     "name": "stdout",
     "output_type": "stream",
     "text": [
      "Example 1 Ground Truth: Head = B, Anterior = Y, IASpace = B, Scutellum = Y, T1 = Y, T2 = Y / O, T3 = B, T4 = B, T5 = B, T6 = B, Corbicular = false\n",
      "Example 1 Model Prediction: <SOS> head = b , anterior = y , iaspace = b , scutellum = y , t1 = y , t2 = y / o , t3 = b , t4 = b , t5 = b , t6 = b , corbicular = false <EOS>\n",
      "reference: [['<sos> head = b', 'anterior = y', 'iaspace = b', 'scutellum = y', 't1 = y', 't2 = y / o', 't3 = b', 't4 = b', 't5 = b', 't6 = b', 'corbicular = false <eos>']]\n",
      "c2: ['<sos> head = b', 'anterior = y', 'iaspace = b', 'scutellum = y', 't1 = y', 't2 = y / o', 't3 = b', 't4 = b', 't5 = b', 't6 = b', 'corbicular = false <eos>']\n",
      "BLEU 1-gram score: 1.0\n",
      "BLEU 2-gram score: 1.0\n",
      "BLEU 3-gram score: 1.0\n",
      "BLEU 4-gram score: 1.0\n"
     ]
    },
    {
     "name": "stderr",
     "output_type": "stream",
     "text": [
      "                                   \r"
     ]
    },
    {
     "name": "stdout",
     "output_type": "stream",
     "text": [
      "Example 1 Ground Truth: Head = B, Anterior = Y, IASpace = B, Scutellum = Y, T1 = Y, T2 = Y / O, T3 = B, T4 = B, T5 = B, T6 = B, Corbicular = false\n",
      "Example 1 Model Prediction: <SOS> head = b , anterior = y , iaspace = b , scutellum = y , t1 = y , t2 = y / o , t3 = b , t4 = b , t5 = b , t6 = b , corbicular = false <EOS>\n",
      "reference: [['<sos> head = b', 'anterior = y', 'iaspace = b', 'scutellum = y', 't1 = y', 't2 = y / o', 't3 = b', 't4 = b', 't5 = b', 't6 = b', 'corbicular = false <eos>']]\n",
      "c2: ['<sos> head = b', 'anterior = y', 'iaspace = b', 'scutellum = y', 't1 = y', 't2 = y / o', 't3 = b', 't4 = b', 't5 = b', 't6 = b', 'corbicular = false <eos>']\n",
      "BLEU 1-gram score: 1.0\n",
      "BLEU 2-gram score: 1.0\n",
      "BLEU 3-gram score: 1.0\n",
      "BLEU 4-gram score: 1.0\n"
     ]
    },
    {
     "name": "stderr",
     "output_type": "stream",
     "text": [
      "                                   \r"
     ]
    },
    {
     "name": "stdout",
     "output_type": "stream",
     "text": [
      "Example 1 Ground Truth: Head = B, Anterior = Y, IASpace = B, Scutellum = Y, T1 = Y, T2 = Y / O, T3 = B, T4 = B, T5 = B, T6 = B, Corbicular = false\n",
      "Example 1 Model Prediction: <SOS> head = b , anterior = y , iaspace = b , scutellum = y , t1 = y , t2 = y / o , t3 = b , t4 = b , t5 = b , t6 = b , corbicular = false <EOS>\n",
      "reference: [['<sos> head = b', 'anterior = y', 'iaspace = b', 'scutellum = y', 't1 = y', 't2 = y / o', 't3 = b', 't4 = b', 't5 = b', 't6 = b', 'corbicular = false <eos>']]\n",
      "c2: ['<sos> head = b', 'anterior = y', 'iaspace = b', 'scutellum = y', 't1 = y', 't2 = y / o', 't3 = b', 't4 = b', 't5 = b', 't6 = b', 'corbicular = false <eos>']\n",
      "BLEU 1-gram score: 1.0\n",
      "BLEU 2-gram score: 1.0\n",
      "BLEU 3-gram score: 1.0\n",
      "BLEU 4-gram score: 1.0\n"
     ]
    },
    {
     "name": "stderr",
     "output_type": "stream",
     "text": [
      "                                   \r"
     ]
    }
   ],
   "source": [
    "if __name__ == \"__main__\":\n",
    "    train()"
   ]
  },
  {
   "cell_type": "code",
   "execution_count": null,
   "id": "250a33de",
   "metadata": {},
   "outputs": [],
   "source": []
  },
  {
   "cell_type": "code",
   "execution_count": null,
   "id": "65ad8fdc",
   "metadata": {},
   "outputs": [],
   "source": []
  }
 ],
 "metadata": {
  "kernelspec": {
   "display_name": "Python 3 (ipykernel)",
   "language": "python",
   "name": "python3"
  },
  "language_info": {
   "codemirror_mode": {
    "name": "ipython",
    "version": 3
   },
   "file_extension": ".py",
   "mimetype": "text/x-python",
   "name": "python",
   "nbconvert_exporter": "python",
   "pygments_lexer": "ipython3",
   "version": "3.8.10"
  }
 },
 "nbformat": 4,
 "nbformat_minor": 5
}

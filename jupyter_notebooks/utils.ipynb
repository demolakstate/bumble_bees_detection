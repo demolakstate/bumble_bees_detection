{
 "cells": [
  {
   "cell_type": "code",
   "execution_count": null,
   "id": "3be57afe",
   "metadata": {},
   "outputs": [],
   "source": []
  },
  {
   "cell_type": "code",
   "execution_count": 1,
   "id": "ce495a67",
   "metadata": {},
   "outputs": [],
   "source": [
    "import torch\n",
    "import torchvision.transforms as transforms\n",
    "from PIL import Image"
   ]
  },
  {
   "cell_type": "code",
   "execution_count": 2,
   "id": "4187228d",
   "metadata": {},
   "outputs": [],
   "source": [
    "def print_examples(model, device, dataset):\n",
    "    transform = transforms.Compose(\n",
    "        [\n",
    "            transforms.Resize((299, 299)),\n",
    "            transforms.ToTensor(),\n",
    "            transforms.Normalize((0.5, 0.5, 0.5), (0.5, 0.5, 0.5)),\n",
    "        ]\n",
    "    )\n",
    "\n",
    "    model.eval()\n",
    "    test_img1 = transform(Image.open(\"../dataset_3/training/Bombus_affinis/1.jpg\").convert(\"RGB\")).unsqueeze(\n",
    "        0\n",
    "    )\n",
    "    print(\"Example 1 CORRECT: Head: B, Anterior-Scutum: Y, Inner-Alar-Space: B, Scutellum: Y, T1 : Y, T2 : Y / O, T3: B, T4: B, T5: B, T6: B, Corbicular: false\")\n",
    "    print(\n",
    "        \"Example 1 OUTPUT: \"\n",
    "        + \" \".join(model.caption_image(test_img1.to(device), dataset.vocab))\n",
    "    )\n",
    "#     test_img2 = transform(\n",
    "#         Image.open(\"test_examples/child.jpg\").convert(\"RGB\")\n",
    "#     ).unsqueeze(0)\n",
    "#     print(\"Example 2 CORRECT: Child holding red frisbee outdoors\")\n",
    "#     print(\n",
    "#         \"Example 2 OUTPUT: \"\n",
    "#         + \" \".join(model.caption_image(test_img2.to(device), dataset.vocab))\n",
    "#     )\n",
    "#     test_img3 = transform(Image.open(\"test_examples/bus.png\").convert(\"RGB\")).unsqueeze(\n",
    "#         0\n",
    "#     )\n",
    "#     print(\"Example 3 CORRECT: Bus driving by parked cars\")\n",
    "#     print(\n",
    "#         \"Example 3 OUTPUT: \"\n",
    "#         + \" \".join(model.caption_image(test_img3.to(device), dataset.vocab))\n",
    "#     )\n",
    "#     test_img4 = transform(\n",
    "#         Image.open(\"test_examples/boat.png\").convert(\"RGB\")\n",
    "#     ).unsqueeze(0)\n",
    "#     print(\"Example 4 CORRECT: A small boat in the ocean\")\n",
    "#     print(\n",
    "#         \"Example 4 OUTPUT: \"\n",
    "#         + \" \".join(model.caption_image(test_img4.to(device), dataset.vocab))\n",
    "#     )\n",
    "#     test_img5 = transform(\n",
    "#         Image.open(\"test_examples/horse.png\").convert(\"RGB\")\n",
    "#     ).unsqueeze(0)\n",
    "#     print(\"Example 5 CORRECT: A cowboy riding a horse in the desert\")\n",
    "#     print(\n",
    "#         \"Example 5 OUTPUT: \"\n",
    "#         + \" \".join(model.caption_image(test_img5.to(device), dataset.vocab))\n",
    "#     )\n",
    "    model.train()"
   ]
  },
  {
   "cell_type": "code",
   "execution_count": 3,
   "id": "ac945929",
   "metadata": {},
   "outputs": [],
   "source": [
    "def save_checkpoint(state, filename=\"my_checkpoint.pth.tar\"):\n",
    "    print(\"=> Saving checkpoint\")\n",
    "    torch.save(state, filename)"
   ]
  },
  {
   "cell_type": "code",
   "execution_count": 4,
   "id": "59318c2f",
   "metadata": {},
   "outputs": [],
   "source": [
    "def load_checkpoint(checkpoint, model, optimizer):\n",
    "    print(\"=> Loading checkpoint\")\n",
    "    model.load_state_dict(checkpoint[\"state_dict\"])\n",
    "    optimizer.load_state_dict(checkpoint[\"optimizer\"])\n",
    "    step = checkpoint[\"step\"]\n",
    "    return step"
   ]
  },
  {
   "cell_type": "code",
   "execution_count": null,
   "id": "01ab8311",
   "metadata": {},
   "outputs": [],
   "source": []
  }
 ],
 "metadata": {
  "kernelspec": {
   "display_name": "Python 3 (ipykernel)",
   "language": "python",
   "name": "python3"
  },
  "language_info": {
   "codemirror_mode": {
    "name": "ipython",
    "version": 3
   },
   "file_extension": ".py",
   "mimetype": "text/x-python",
   "name": "python",
   "nbconvert_exporter": "python",
   "pygments_lexer": "ipython3",
   "version": "3.8.10"
  }
 },
 "nbformat": 4,
 "nbformat_minor": 5
}

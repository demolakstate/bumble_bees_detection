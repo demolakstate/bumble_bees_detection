{
 "cells": [
  {
   "cell_type": "code",
   "execution_count": null,
   "id": "3be57afe",
   "metadata": {},
   "outputs": [],
   "source": []
  },
  {
   "cell_type": "code",
   "execution_count": 1,
   "id": "788d2355",
   "metadata": {},
   "outputs": [],
   "source": [
    "import os\n",
    "\n",
    "os.environ['CUDA_VISIBLE_DEVICES'] = '2'"
   ]
  },
  {
   "cell_type": "code",
   "execution_count": null,
   "id": "e577641f",
   "metadata": {},
   "outputs": [],
   "source": []
  },
  {
   "cell_type": "code",
   "execution_count": 2,
   "id": "ce495a67",
   "metadata": {},
   "outputs": [],
   "source": [
    "import torch\n",
    "import torchvision.transforms as transforms\n",
    "from PIL import Image"
   ]
  },
  {
   "cell_type": "code",
   "execution_count": 3,
   "id": "70ae5ba4",
   "metadata": {},
   "outputs": [
    {
     "name": "stdout",
     "output_type": "stream",
     "text": [
      "Requirement already satisfied: nltk in /usr/local/lib/python3.8/dist-packages (3.6.5)\n",
      "Requirement already satisfied: click in /usr/local/lib/python3.8/dist-packages (from nltk) (8.0.1)\n",
      "Requirement already satisfied: regex>=2021.8.3 in /usr/local/lib/python3.8/dist-packages (from nltk) (2021.9.30)\n",
      "Requirement already satisfied: joblib in /usr/local/lib/python3.8/dist-packages (from nltk) (1.0.1)\n",
      "Requirement already satisfied: tqdm in /usr/local/lib/python3.8/dist-packages (from nltk) (4.62.3)\n",
      "\u001b[33mWARNING: Running pip as the 'root' user can result in broken permissions and conflicting behaviour with the system package manager. It is recommended to use a virtual environment instead: https://pip.pypa.io/warnings/venv\u001b[0m\n"
     ]
    }
   ],
   "source": [
    "!pip install nltk"
   ]
  },
  {
   "cell_type": "code",
   "execution_count": 4,
   "id": "615a16e1",
   "metadata": {},
   "outputs": [],
   "source": [
    "from nltk.translate.bleu_score import sentence_bleu"
   ]
  },
  {
   "cell_type": "code",
   "execution_count": null,
   "id": "e2ef58ef",
   "metadata": {},
   "outputs": [],
   "source": []
  },
  {
   "cell_type": "code",
   "execution_count": 5,
   "id": "35996f7f",
   "metadata": {},
   "outputs": [],
   "source": [
    "#sentence = 'Head = B, Anterior = Y, IASpace = B, Scutellum = Y, T1 = Y, T2 = Y / O, T3 = B, T4 = B, T5 = B, T6 = B, Corbicular = false'.split(\",\")"
   ]
  },
  {
   "cell_type": "code",
   "execution_count": 6,
   "id": "81ebef7b",
   "metadata": {},
   "outputs": [],
   "source": [
    "#s2 = [word.strip().lower() for word in sentence]"
   ]
  },
  {
   "cell_type": "code",
   "execution_count": 7,
   "id": "1df23e2c",
   "metadata": {},
   "outputs": [],
   "source": [
    "#s2"
   ]
  },
  {
   "cell_type": "code",
   "execution_count": 8,
   "id": "628e72cc",
   "metadata": {},
   "outputs": [],
   "source": [
    "#candidate = 'head = b , anterior = y , iaspace = b , scutellum = y , t1 = y , t2 = y / o , t3 = b , t4 = b , t5 = b , t6 = b , corbicular = false'.split(\",\")"
   ]
  },
  {
   "cell_type": "code",
   "execution_count": 9,
   "id": "9d101952",
   "metadata": {},
   "outputs": [],
   "source": [
    "#c2 = [cand.strip().lower() for cand in candidate]"
   ]
  },
  {
   "cell_type": "code",
   "execution_count": 10,
   "id": "46d2c9d3",
   "metadata": {},
   "outputs": [],
   "source": [
    "#c2"
   ]
  },
  {
   "cell_type": "code",
   "execution_count": 11,
   "id": "fe8657c4",
   "metadata": {},
   "outputs": [],
   "source": [
    "#reference = [s2]\n",
    "#candidate = 'head : b , anterior - scutum : y , inner - alar - space : b , scutellum : y , t1 : y , t2 : y / o , t3 : b , t4 : b , t5 : b , t6 : b , corbicular'.split(\",\")\n",
    "#print(f'BLEU score: {sentence_bleu(reference, c2, weights=(1,0,0,0))}')"
   ]
  },
  {
   "cell_type": "code",
   "execution_count": 12,
   "id": "31ed0ad9",
   "metadata": {},
   "outputs": [],
   "source": [
    "#print(f'BLEU score: {sentence_bleu(reference, c2, weights=(0.5,0.5,0,0))}')"
   ]
  },
  {
   "cell_type": "code",
   "execution_count": 13,
   "id": "b83f6017",
   "metadata": {},
   "outputs": [],
   "source": [
    "#print(f'BLEU score: {sentence_bleu(reference, c2, weights=(0.33,0.33,0.33,0))}')"
   ]
  },
  {
   "cell_type": "code",
   "execution_count": 14,
   "id": "4097498c",
   "metadata": {},
   "outputs": [],
   "source": [
    "#print(f'BLEU score: {sentence_bleu(reference, c2, weights=(0.25,0.25,0.25,0.25))}')"
   ]
  },
  {
   "cell_type": "code",
   "execution_count": null,
   "id": "08c0849f",
   "metadata": {},
   "outputs": [],
   "source": []
  },
  {
   "cell_type": "code",
   "execution_count": null,
   "id": "eb9a3ec9",
   "metadata": {},
   "outputs": [],
   "source": []
  },
  {
   "cell_type": "code",
   "execution_count": 15,
   "id": "92600cbd",
   "metadata": {},
   "outputs": [],
   "source": [
    "#sentence_bleu([['Three', 'people', 'running', 'on', 'the', 'road']], ['Three', 'people', 'running', 'on', 'the', 'road'], weights=(1,0,0,0))"
   ]
  },
  {
   "cell_type": "code",
   "execution_count": null,
   "id": "634b92d5",
   "metadata": {},
   "outputs": [],
   "source": []
  },
  {
   "cell_type": "code",
   "execution_count": null,
   "id": "1a284526",
   "metadata": {},
   "outputs": [],
   "source": []
  },
  {
   "cell_type": "code",
   "execution_count": 16,
   "id": "4187228d",
   "metadata": {},
   "outputs": [],
   "source": [
    "def print_examples(model, device, dataset):\n",
    "    transform = transforms.Compose(\n",
    "        [\n",
    "            transforms.Resize((299, 299)),\n",
    "            transforms.ToTensor(),\n",
    "            transforms.Normalize((0.5, 0.5, 0.5), (0.5, 0.5, 0.5)),\n",
    "        ]\n",
    "    )\n",
    "\n",
    "    model.eval()\n",
    "    test_img1 = transform(Image.open(\"../../dataset_3/training/Bombus_affinis/Affinis_7.jpg\").convert(\"RGB\")).unsqueeze(\n",
    "        0\n",
    "    )\n",
    "    print(\"Example 1 Ground Truth: Head = B, Anterior = Y, IASpace = B, Scutellum = Y, T1 = Y, T2 = Y / O, T3 = B, T4 = B, T5 = B, T6 = B, Corbicular = false\")\n",
    "    print(\n",
    "        \"Example 1 Model Prediction: \"\n",
    "        + \" \".join(model.caption_image(test_img1.to(device), dataset.vocab))\n",
    "    )\n",
    "    \n",
    "    sentence = '<sos> Head = B, Anterior = Y, IASpace = B, Scutellum = Y, T1 = Y, T2 = Y / O, T3 = B, T4 = B, T5 = B, T6 = B, Corbicular = false <eos>'.split(\",\")\n",
    "    s2 = [word.strip().lower() for word in sentence]\n",
    "    reference = [s2]\n",
    "    #candidate = 'head : b , anterior - scutum : y , inner - alar - space : b , scutellum : y , t1 : y , t2 : y / o , t3 : b , t4 : b , t5 : b , t6 : b , corbicular'.split(\",\")\n",
    "    pred = \" \".join(model.caption_image(test_img1.to(device), dataset.vocab))\n",
    "    candidate = pred.split(\",\")\n",
    "    c2 = [cand.strip().lower() for cand in candidate]\n",
    "    \n",
    "    print(f'reference: {reference}')\n",
    "    print(f'c2: {c2}')\n",
    "    print(f'BLEU 1-gram score: {sentence_bleu(reference, c2, weights=(1,0,0,0))}')\n",
    "    print(f'BLEU 2-gram score: {sentence_bleu(reference, c2, weights=(0.5,0.5,0,0))}')\n",
    "    print(f'BLEU 3-gram score: {sentence_bleu(reference, c2, weights=(0.33,0.33,0.33,0))}')\n",
    "    print(f'BLEU 4-gram score: {sentence_bleu(reference, c2, weights=(0.25,0.25,0.25,0.25))}')\n",
    "    \n",
    "    \n",
    "#     test_img2 = transform(\n",
    "#         Image.open(\"test_examples/child.jpg\").convert(\"RGB\")\n",
    "#     ).unsqueeze(0)\n",
    "#     print(\"Example 2 CORRECT: Child holding red frisbee outdoors\")\n",
    "#     print(\n",
    "#         \"Example 2 OUTPUT: \"\n",
    "#         + \" \".join(model.caption_image(test_img2.to(device), dataset.vocab))\n",
    "#     )\n",
    "#     test_img3 = transform(Image.open(\"test_examples/bus.png\").convert(\"RGB\")).unsqueeze(\n",
    "#         0\n",
    "#     )\n",
    "#     print(\"Example 3 CORRECT: Bus driving by parked cars\")\n",
    "#     print(\n",
    "#         \"Example 3 OUTPUT: \"\n",
    "#         + \" \".join(model.caption_image(test_img3.to(device), dataset.vocab))\n",
    "#     )\n",
    "#     test_img4 = transform(\n",
    "#         Image.open(\"test_examples/boat.png\").convert(\"RGB\")\n",
    "#     ).unsqueeze(0)\n",
    "#     print(\"Example 4 CORRECT: A small boat in the ocean\")\n",
    "#     print(\n",
    "#         \"Example 4 OUTPUT: \"\n",
    "#         + \" \".join(model.caption_image(test_img4.to(device), dataset.vocab))\n",
    "#     )\n",
    "#     test_img5 = transform(\n",
    "#         Image.open(\"test_examples/horse.png\").convert(\"RGB\")\n",
    "#     ).unsqueeze(0)\n",
    "#     print(\"Example 5 CORRECT: A cowboy riding a horse in the desert\")\n",
    "#     print(\n",
    "#         \"Example 5 OUTPUT: \"\n",
    "#         + \" \".join(model.caption_image(test_img5.to(device), dataset.vocab))\n",
    "#     )\n",
    "    model.train()"
   ]
  },
  {
   "cell_type": "code",
   "execution_count": 17,
   "id": "ac945929",
   "metadata": {},
   "outputs": [],
   "source": [
    "def save_checkpoint(state, filename=\"my_checkpoint.pth.tar\"):\n",
    "    print(\"=> Saving checkpoint\")\n",
    "    torch.save(state, filename)"
   ]
  },
  {
   "cell_type": "code",
   "execution_count": 18,
   "id": "59318c2f",
   "metadata": {},
   "outputs": [],
   "source": [
    "def load_checkpoint(checkpoint, model, optimizer):\n",
    "    print(\"=> Loading checkpoint\")\n",
    "    model.load_state_dict(checkpoint[\"state_dict\"])\n",
    "    optimizer.load_state_dict(checkpoint[\"optimizer\"])\n",
    "    step = checkpoint[\"step\"]\n",
    "    return step"
   ]
  },
  {
   "cell_type": "code",
   "execution_count": null,
   "id": "01ab8311",
   "metadata": {},
   "outputs": [],
   "source": []
  }
 ],
 "metadata": {
  "kernelspec": {
   "display_name": "Python 3 (ipykernel)",
   "language": "python",
   "name": "python3"
  },
  "language_info": {
   "codemirror_mode": {
    "name": "ipython",
    "version": 3
   },
   "file_extension": ".py",
   "mimetype": "text/x-python",
   "name": "python",
   "nbconvert_exporter": "python",
   "pygments_lexer": "ipython3",
   "version": "3.8.10"
  }
 },
 "nbformat": 4,
 "nbformat_minor": 5
}

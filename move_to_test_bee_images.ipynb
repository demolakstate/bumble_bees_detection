{
  "nbformat": 4,
  "nbformat_minor": 0,
  "metadata": {
    "colab": {
      "name": "move_to_test_bee_images.ipynb",
      "provenance": [],
      "authorship_tag": "ABX9TyNPcAn4ya81qj/josHMpczd",
      "include_colab_link": true
    },
    "kernelspec": {
      "name": "python3",
      "display_name": "Python 3"
    },
    "language_info": {
      "name": "python"
    }
  },
  "cells": [
    {
      "cell_type": "markdown",
      "metadata": {
        "id": "view-in-github",
        "colab_type": "text"
      },
      "source": [
        "<a href=\"https://colab.research.google.com/github/demolakstate/bumble_bees_detection/blob/main/move_to_test_bee_images.ipynb\" target=\"_parent\"><img src=\"https://colab.research.google.com/assets/colab-badge.svg\" alt=\"Open In Colab\"/></a>"
      ]
    },
    {
      "cell_type": "markdown",
      "metadata": {
        "id": "6dSLaFVYOBqN"
      },
      "source": [
        "## code snippet for splitting to train and test $$"
      ]
    },
    {
      "cell_type": "code",
      "metadata": {
        "id": "0tTB3vF-N_OC"
      },
      "source": [
        "import os, shutil, random, glob\n",
        "\n",
        "#species = os.listdir('Bumble_iNat_BugGuide_BBW_BBB_2')\n",
        "species = glob.glob(os.path.join('Bumble_iNat_BugGuide_BBW_BBB_2', '*'))\n",
        "print(f'number of species: {len(species)}')\n",
        "\n",
        "\n",
        "# move 20% to test folder\n",
        "for specie in species:\n",
        "\t#specie_list = os.listdir(specie)\n",
        "\tspecie_list = glob.glob(os.path.join(specie, '*'))\n",
        "\tsamples = len(specie_list)\n",
        "\tnum = int(0.2 * samples) # take the floor value\n",
        "\tprint(f'Number of {specie} specie: {samples} \\nNumber of bee images to move: {num}')\n",
        "\t# split the path\n",
        "\tspecie_name = (specie.split(os.sep))[-1]\n",
        "\tfor _ in range(num):\n",
        "\t\ttest_path_dir = os.path.join('test2', specie_name)\n",
        "\t\tif not os.path.exists(test_path_dir):\n",
        "\t\t\tos.mkdir(test_path_dir)\n",
        "\t\t# make a random choice\n",
        "\t\tchoice_bee_image = random.choice(specie_list)\n",
        "\t\tprint(f'specie {specie}\\nchoice_bee_image {choice_bee_image}')\n",
        "\t\t#shutil.move(os.path.join(specie, choice_bee_image), test_path_dir)\n",
        "\t\tshutil.move(choice_bee_image, test_path_dir)\n",
        "\t\tspecie_list.remove(choice_bee_image)\n",
        "\t\t\n",
        "\t\n",
        "\t"
      ],
      "execution_count": null,
      "outputs": []
    }
  ]
}
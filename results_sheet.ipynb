{
  "nbformat": 4,
  "nbformat_minor": 0,
  "metadata": {
    "colab": {
      "name": "results_sheet.ipynb",
      "provenance": [],
      "authorship_tag": "ABX9TyMMleNzx9zZoOmoMubyEfAl",
      "include_colab_link": true
    },
    "kernelspec": {
      "name": "python3",
      "display_name": "Python 3"
    },
    "language_info": {
      "name": "python"
    }
  },
  "cells": [
    {
      "cell_type": "markdown",
      "metadata": {
        "id": "view-in-github",
        "colab_type": "text"
      },
      "source": [
        "<a href=\"https://colab.research.google.com/github/demolakstate/bumble_bees_detection/blob/main/results_sheet.ipynb\" target=\"_parent\"><img src=\"https://colab.research.google.com/assets/colab-badge.svg\" alt=\"Open In Colab\"/></a>"
      ]
    },
    {
      "cell_type": "markdown",
      "source": [
        "### natvigi vs cockerelli ###\n",
        "\n",
        "              precision    recall  f1-score   support\n",
        "\n",
        "         0.0       0.50      0.50      0.50         4\n",
        "         1.0       0.50      0.50      0.50         4\n",
        "\n",
        "    accuracy                           0.50         8\n",
        "  \n",
        "\n",
        "\n"
      ],
      "metadata": {
        "id": "3KoYdcAq7u-p"
      }
    },
    {
      "cell_type": "markdown",
      "source": [
        "### polaris vs variabilis ###"
      ],
      "metadata": {
        "id": "bPiZqyNo7wNj"
      }
    },
    {
      "cell_type": "markdown",
      "source": [
        "tf.Tensor(\n",
        "  [[ 8 12]\n",
        "  \n",
        "            [11  9]],"
      ],
      "metadata": {
        "id": "B0imP1iKJpY9"
      }
    },
    {
      "cell_type": "markdown",
      "source": [
        "\n",
        "\n",
        "              precision    recall  f1-score   support\n",
        "\n",
        "         0.0       0.42      0.40      0.41        20\n",
        "         1.0       0.43      0.45      0.44        20\n",
        "\n",
        "    accuracy                           0.42        40\n",
        "\n"
      ],
      "metadata": {
        "id": "3j9c9QGx7wRw"
      }
    },
    {
      "cell_type": "markdown",
      "source": [
        ""
      ],
      "metadata": {
        "id": "H6ro3YMs7wVs"
      }
    },
    {
      "cell_type": "markdown",
      "source": [
        ""
      ],
      "metadata": {
        "id": "S6-6v9B27wZU"
      }
    },
    {
      "cell_type": "markdown",
      "source": [
        ""
      ],
      "metadata": {
        "id": "x2X5PfSY7wcs"
      }
    },
    {
      "cell_type": "markdown",
      "source": [
        ""
      ],
      "metadata": {
        "id": "HiS-vgHC7wgm"
      }
    },
    {
      "cell_type": "markdown",
      "source": [
        ""
      ],
      "metadata": {
        "id": "nQm4UsHv7wkZ"
      }
    },
    {
      "cell_type": "markdown",
      "source": [
        ""
      ],
      "metadata": {
        "id": "ueehvPlr7woJ"
      }
    },
    {
      "cell_type": "markdown",
      "source": [
        ""
      ],
      "metadata": {
        "id": "dvx18qtX7wr9"
      }
    }
  ]
}
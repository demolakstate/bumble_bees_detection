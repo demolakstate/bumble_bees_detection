{
  "nbformat": 4,
  "nbformat_minor": 0,
  "metadata": {
    "colab": {
      "name": "results_sheet.ipynb",
      "provenance": [],
      "authorship_tag": "ABX9TyNXdJZHCLnEPhAiQsAJ2tOK",
      "include_colab_link": true
    },
    "kernelspec": {
      "name": "python3",
      "display_name": "Python 3"
    },
    "language_info": {
      "name": "python"
    }
  },
  "cells": [
    {
      "cell_type": "markdown",
      "metadata": {
        "id": "view-in-github",
        "colab_type": "text"
      },
      "source": [
        "<a href=\"https://colab.research.google.com/github/demolakstate/bumble_bees_detection/blob/main/results_sheet.ipynb\" target=\"_parent\"><img src=\"https://colab.research.google.com/assets/colab-badge.svg\" alt=\"Open In Colab\"/></a>"
      ]
    },
    {
      "cell_type": "markdown",
      "source": [
        "### natvigi vs cockerelli ###\n",
        "\n",
        "              precision    recall  f1-score   support\n",
        "\n",
        "         0.0       0.50      0.50      0.50         4\n",
        "         1.0       0.50      0.50      0.50         4\n",
        "\n",
        "    accuracy                           0.50         8\n",
        "  \n",
        "\n",
        "\n"
      ],
      "metadata": {
        "id": "3KoYdcAq7u-p"
      }
    },
    {
      "cell_type": "markdown",
      "source": [
        "### polaris vs variabilis ###"
      ],
      "metadata": {
        "id": "bPiZqyNo7wNj"
      }
    },
    {
      "cell_type": "markdown",
      "source": [
        "tf.Tensor(\n",
        "  [[ 8 12]\n",
        "  \n",
        "            [11  9]],"
      ],
      "metadata": {
        "id": "B0imP1iKJpY9"
      }
    },
    {
      "cell_type": "markdown",
      "source": [
        "\n",
        "\n",
        "              precision    recall  f1-score   support\n",
        "\n",
        "         0.0       0.42      0.40      0.41        20\n",
        "         1.0       0.43      0.45      0.44        20\n",
        "\n",
        "    accuracy                           0.42        40\n",
        "\n"
      ],
      "metadata": {
        "id": "3j9c9QGx7wRw"
      }
    },
    {
      "cell_type": "markdown",
      "source": [
        "### B. occidentalis vs B. appositus ###"
      ],
      "metadata": {
        "id": "H6ro3YMs7wVs"
      }
    },
    {
      "cell_type": "markdown",
      "source": [
        "tf.Tensor(\n",
        "[[442 558]\n",
        " [441 559]], shape=(2, 2), dtype=int32)\n",
        " \n",
        "              precision    recall  f1-score   support\n",
        "\n",
        "         0.0       0.50      0.44      0.47      1000\n",
        "         1.0       0.50      0.56      0.53      1000\n",
        "\n",
        "    accuracy                           0.50      2000\n",
        "   macro avg       0.50      0.50      0.50      2000\n",
        "weighted avg       0.50      0.50      0.50      2000\n",
        "\n"
      ],
      "metadata": {
        "id": "S6-6v9B27wZU"
      }
    },
    {
      "cell_type": "markdown",
      "source": [
        "tf.Tensor(\n",
        "[[455 319]\n",
        " [401 373]], shape=(2, 2), dtype=int32)\n",
        "              precision    recall  f1-score   support\n",
        "\n",
        "         0.0       0.53      0.59      0.56       774\n",
        "         1.0       0.54      0.48      0.51       774\n",
        "\n",
        "    accuracy                           0.53      1548\n",
        "   macro avg       0.54      0.53      0.53      1548\n",
        "weighted avg       0.54      0.53      0.53      1548\n",
        "\n"
      ],
      "metadata": {
        "id": "x2X5PfSY7wcs"
      }
    },
    {
      "cell_type": "markdown",
      "source": [
        "## B. cryptarum vs B. fraternus ##"
      ],
      "metadata": {
        "id": "HiS-vgHC7wgm"
      }
    },
    {
      "cell_type": "markdown",
      "source": [
        "tf.Tensor(\n",
        "[[610 226]\n",
        " [208 628]], shape=(2, 2), dtype=int32)\n",
        " \n",
        "              precision    recall  f1-score   support\n",
        "\n",
        "         0.0       0.75      0.73      0.74       836\n",
        "         1.0       0.74      0.75      0.74       836\n",
        "\n",
        "    accuracy                           0.74      1672\n",
        "   macro avg       0.74      0.74      0.74      1672\n",
        "weighted avg       0.74      0.74      0.74      1672\n",
        "\n"
      ],
      "metadata": {
        "id": "nQm4UsHv7wkZ"
      }
    },
    {
      "cell_type": "markdown",
      "source": [
        "## B. caliginosus vs B. frigidus ##"
      ],
      "metadata": {
        "id": "ueehvPlr7woJ"
      }
    },
    {
      "cell_type": "markdown",
      "source": [
        "tf.Tensor(\n",
        "[[140 152]\n",
        " [ 85 207]], shape=(2, 2), dtype=int32)\n",
        " \n",
        "              precision    recall  f1-score   support\n",
        "\n",
        "         0.0       0.62      0.48      0.54       292\n",
        "         1.0       0.58      0.71      0.64       292\n",
        "\n",
        "    accuracy                           0.59       584\n",
        "   macro avg       0.60      0.59      0.59       584\n",
        "weighted avg       0.60      0.59      0.59       584\n",
        "\n"
      ],
      "metadata": {
        "id": "dvx18qtX7wr9"
      }
    },
    {
      "cell_type": "markdown",
      "source": [
        "## B. cryptarum vs B. natvigi ##"
      ],
      "metadata": {
        "id": "ssEcEBc4O1Tf"
      }
    },
    {
      "cell_type": "markdown",
      "source": [
        "tf.Tensor(\n",
        "[[2 2]\n",
        " [1 3]], shape=(2, 2), dtype=int32)\n",
        " \n",
        "              precision    recall  f1-score   support\n",
        "\n",
        "         0.0       0.67      0.50      0.57         4\n",
        "         1.0       0.60      0.75      0.67         4\n",
        "\n",
        "    accuracy                           0.62         8\n",
        "   macro avg       0.63      0.62      0.62         8\n",
        "weighted avg       0.63      0.62      0.62         8\n",
        "\n"
      ],
      "metadata": {
        "id": "lj4IrAV9O1YZ"
      }
    },
    {
      "cell_type": "markdown",
      "source": [
        "## Bombus_cryptarum vs Bombus_variabilis ##"
      ],
      "metadata": {
        "id": "g_SHrgCaO1c8"
      }
    },
    {
      "cell_type": "markdown",
      "source": [
        "tf.Tensor(\n",
        "[[ 8 14]\n",
        " [ 8 14]], shape=(2, 2), dtype=int32)\n",
        "\n",
        " \n",
        "              precision    recall  f1-score   support\n",
        "\n",
        "         0.0       0.50      0.36      0.42        22\n",
        "         1.0       0.50      0.64      0.56        22\n",
        "\n",
        "    accuracy                           0.50        44\n",
        "   macro avg       0.50      0.50      0.49        44\n",
        "weighted avg       0.50      0.50      0.49        44\n"
      ],
      "metadata": {
        "id": "msAbQ2OAO1hs"
      }
    },
    {
      "cell_type": "markdown",
      "source": [
        "## Bombus_cryptarum vs Bombus_appositus ##"
      ],
      "metadata": {
        "id": "N3vtGZOLJ0WA"
      }
    },
    {
      "cell_type": "markdown",
      "source": [
        "tf.Tensor(\n",
        "[[408 428]\n",
        " [404 432]], shape=(2, 2), dtype=int32)\n",
        " \n",
        "              precision    recall  f1-score   support\n",
        "\n",
        "         0.0       0.50      0.49      0.50       836\n",
        "         1.0       0.50      0.52      0.51       836\n",
        "\n",
        "    accuracy                           0.50      1672\n",
        "   macro avg       0.50      0.50      0.50      1672\n",
        "weighted avg       0.50      0.50      0.50      1672\n",
        "\n"
      ],
      "metadata": {
        "id": "LxYRkp2_J0bx"
      }
    },
    {
      "cell_type": "markdown",
      "source": [
        "## Bombus_cryptarum vs Bombus_frigidus ##"
      ],
      "metadata": {
        "id": "rftLgAOeJ0gJ"
      }
    },
    {
      "cell_type": "markdown",
      "source": [
        "tf.Tensor(\n",
        "[[224 132]\n",
        " [172 184]], shape=(2, 2), dtype=int32)\n",
        " \n",
        "              precision    recall  f1-score   support\n",
        "\n",
        "         0.0       0.57      0.63      0.60       356\n",
        "         1.0       0.58      0.52      0.55       356\n",
        "\n",
        "    accuracy                           0.57       712\n",
        "   macro avg       0.57      0.57      0.57       712\n",
        "weighted avg       0.57      0.57      0.57       712\n"
      ],
      "metadata": {
        "id": "v0Q87H2LJ0j6"
      }
    },
    {
      "cell_type": "markdown",
      "source": [
        "## Bombus_fraternus vs Bombus_cockerelli ##"
      ],
      "metadata": {
        "id": "oj9DwN4V2pjW"
      }
    },
    {
      "cell_type": "markdown",
      "source": [
        "tf.Tensor(\n",
        "[[4 0]\n",
        " [0 4]], shape=(2, 2), dtype=int32)\n",
        " \n",
        "              precision    recall  f1-score   support\n",
        "\n",
        "         0.0       1.00      1.00      1.00         4\n",
        "         1.0       1.00      1.00      1.00         4\n",
        "\n",
        "    accuracy                           1.00         8\n",
        "   macro avg       1.00      1.00      1.00         8\n",
        "weighted avg       1.00      1.00      1.00         8"
      ],
      "metadata": {
        "id": "kX89dffm2pni"
      }
    },
    {
      "cell_type": "markdown",
      "source": [
        "## Bombus_fraternus vs Bombus_polaris ##"
      ],
      "metadata": {
        "id": "QgwZ1SCgg_ET"
      }
    },
    {
      "cell_type": "markdown",
      "source": [
        "tf.Tensor(\n",
        "[[16  4]\n",
        " [ 7 13]], shape=(2, 2), dtype=int32)\n",
        " \n",
        "              precision    recall  f1-score   support\n",
        "\n",
        "         0.0       0.70      0.80      0.74        20\n",
        "         1.0       0.76      0.65      0.70        20\n",
        "\n",
        "    accuracy                           0.73        40\n",
        "   macro avg       0.73      0.73      0.72        40\n",
        "weighted avg       0.73      0.72      0.72        40\n",
        "\n"
      ],
      "metadata": {
        "id": "xsdbUnqCg_JM"
      }
    },
    {
      "cell_type": "markdown",
      "source": [
        "## Bombus_fraternus vs Bombus_occidentalis ##"
      ],
      "metadata": {
        "id": "aay9Ks55g_Ny"
      }
    },
    {
      "cell_type": "markdown",
      "source": [
        "tf.Tensor(\n",
        "[[508 338]\n",
        " [334 512]], shape=(2, 2), dtype=int32)\n",
        " \n",
        "              precision    recall  f1-score   support\n",
        "\n",
        "         0.0       0.60      0.60      0.60       846\n",
        "         1.0       0.60      0.61      0.60       846\n",
        "\n",
        "    accuracy                           0.60      1692\n",
        "   macro avg       0.60      0.60      0.60      1692\n",
        "weighted avg       0.60      0.60      0.60      1692\n"
      ],
      "metadata": {
        "id": "lWBzpuDWMhrF"
      }
    },
    {
      "cell_type": "markdown",
      "source": [
        "## Bombus_fraternus vs Bombus_caliginosus ##"
      ],
      "metadata": {
        "id": "r5u9mb0iMhvc"
      }
    },
    {
      "cell_type": "markdown",
      "source": [
        "tf.Tensor(\n",
        "[[154 138]\n",
        " [ 96 196]], shape=(2, 2), dtype=int32)\n",
        " \n",
        "              precision    recall  f1-score   support\n",
        "\n",
        "         0.0       0.62      0.53      0.57       292\n",
        "         1.0       0.59      0.67      0.63       292\n",
        "\n",
        "    accuracy                           0.60       584\n",
        "   macro avg       0.60      0.60      0.60       584\n",
        "weighted avg       0.60      0.60      0.60       584\n"
      ],
      "metadata": {
        "id": "0Ex1afg1Mhz3"
      }
    },
    {
      "cell_type": "markdown",
      "source": [
        "## Bombus_cockerelli vs Bombus_variabilis ##"
      ],
      "metadata": {
        "id": "ze0BBMzF2pru"
      }
    },
    {
      "cell_type": "markdown",
      "source": [
        "tf.Tensor(\n",
        "[[4 0]\n",
        " [1 3]], shape=(2, 2), dtype=int32)\n",
        " \n",
        "              precision    recall  f1-score   support\n",
        "\n",
        "         0.0       0.80      1.00      0.89         4\n",
        "         1.0       1.00      0.75      0.86         4\n",
        "\n",
        "    accuracy                           0.88         8\n",
        "   macro avg       0.90      0.88      0.87         8\n",
        "weighted avg       0.90      0.88      0.87         8\n",
        "\n"
      ],
      "metadata": {
        "id": "LJK3FqmqSQCq"
      }
    },
    {
      "cell_type": "markdown",
      "source": [
        "## Bombus_cockerelli vs Bombus_appositus ##"
      ],
      "metadata": {
        "id": "ner29kWHSQHh"
      }
    },
    {
      "cell_type": "markdown",
      "source": [
        "tf.Tensor(\n",
        "[[0 4]\n",
        " [1 3]], shape=(2, 2), dtype=int32)\n",
        " \n",
        "              precision    recall  f1-score   support\n",
        "\n",
        "         0.0       0.00      0.00      0.00         4\n",
        "         1.0       0.43      0.75      0.55         4\n",
        "\n",
        "    accuracy                           0.38         8\n",
        "   macro avg       0.21      0.38      0.27         8\n",
        "weighted avg       0.21      0.38      0.27         8\n"
      ],
      "metadata": {
        "id": "vbQQq52gSQL6"
      }
    },
    {
      "cell_type": "markdown",
      "source": [
        ""
      ],
      "metadata": {
        "id": "JCljFfIqSQQX"
      }
    },
    {
      "cell_type": "markdown",
      "source": [
        ""
      ],
      "metadata": {
        "id": "NOG98k4hSQdJ"
      }
    }
  ]
}
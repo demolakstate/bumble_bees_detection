{
  "nbformat": 4,
  "nbformat_minor": 0,
  "metadata": {
    "colab": {
      "name": "results_sheet.ipynb",
      "provenance": [],
      "authorship_tag": "ABX9TyMBh3HiDapqqsVTvJvR4GLZ",
      "include_colab_link": true
    },
    "kernelspec": {
      "name": "python3",
      "display_name": "Python 3"
    },
    "language_info": {
      "name": "python"
    }
  },
  "cells": [
    {
      "cell_type": "markdown",
      "metadata": {
        "id": "view-in-github",
        "colab_type": "text"
      },
      "source": [
        "<a href=\"https://colab.research.google.com/github/demolakstate/bumble_bees_detection/blob/main/results_sheet.ipynb\" target=\"_parent\"><img src=\"https://colab.research.google.com/assets/colab-badge.svg\" alt=\"Open In Colab\"/></a>"
      ]
    },
    {
      "cell_type": "markdown",
      "source": [
        "### natvigi vs cockerelli ###\n",
        "\n",
        "              precision    recall  f1-score   support\n",
        "\n",
        "         0.0       0.50      0.50      0.50         4\n",
        "         1.0       0.50      0.50      0.50         4\n",
        "\n",
        "    accuracy                           0.50         8\n",
        "  \n",
        "\n",
        "\n"
      ],
      "metadata": {
        "id": "3KoYdcAq7u-p"
      }
    },
    {
      "cell_type": "markdown",
      "source": [
        "### polaris vs variabilis ###"
      ],
      "metadata": {
        "id": "bPiZqyNo7wNj"
      }
    },
    {
      "cell_type": "markdown",
      "source": [
        "tf.Tensor(\n",
        "  [[ 8 12]\n",
        "  \n",
        "            [11  9]],"
      ],
      "metadata": {
        "id": "B0imP1iKJpY9"
      }
    },
    {
      "cell_type": "markdown",
      "source": [
        "\n",
        "\n",
        "              precision    recall  f1-score   support\n",
        "\n",
        "         0.0       0.42      0.40      0.41        20\n",
        "         1.0       0.43      0.45      0.44        20\n",
        "\n",
        "    accuracy                           0.42        40\n",
        "\n"
      ],
      "metadata": {
        "id": "3j9c9QGx7wRw"
      }
    },
    {
      "cell_type": "markdown",
      "source": [
        "### B. occidentalis vs B. appositus ###"
      ],
      "metadata": {
        "id": "H6ro3YMs7wVs"
      }
    },
    {
      "cell_type": "markdown",
      "source": [
        "tf.Tensor(\n",
        "[[442 558]\n",
        " [441 559]], shape=(2, 2), dtype=int32)\n",
        " \n",
        "              precision    recall  f1-score   support\n",
        "\n",
        "         0.0       0.50      0.44      0.47      1000\n",
        "         1.0       0.50      0.56      0.53      1000\n",
        "\n",
        "    accuracy                           0.50      2000\n",
        "   macro avg       0.50      0.50      0.50      2000\n",
        "weighted avg       0.50      0.50      0.50      2000\n",
        "\n"
      ],
      "metadata": {
        "id": "S6-6v9B27wZU"
      }
    },
    {
      "cell_type": "markdown",
      "source": [
        "tf.Tensor(\n",
        "[[455 319]\n",
        " [401 373]], shape=(2, 2), dtype=int32)\n",
        "              precision    recall  f1-score   support\n",
        "\n",
        "         0.0       0.53      0.59      0.56       774\n",
        "         1.0       0.54      0.48      0.51       774\n",
        "\n",
        "    accuracy                           0.53      1548\n",
        "   macro avg       0.54      0.53      0.53      1548\n",
        "weighted avg       0.54      0.53      0.53      1548\n",
        "\n"
      ],
      "metadata": {
        "id": "x2X5PfSY7wcs"
      }
    },
    {
      "cell_type": "markdown",
      "source": [
        "## B. cryptarum vs B. fraternus ##"
      ],
      "metadata": {
        "id": "HiS-vgHC7wgm"
      }
    },
    {
      "cell_type": "markdown",
      "source": [
        "tf.Tensor(\n",
        "[[610 226]\n",
        " [208 628]], shape=(2, 2), dtype=int32)\n",
        " \n",
        "              precision    recall  f1-score   support\n",
        "\n",
        "         0.0       0.75      0.73      0.74       836\n",
        "         1.0       0.74      0.75      0.74       836\n",
        "\n",
        "    accuracy                           0.74      1672\n",
        "   macro avg       0.74      0.74      0.74      1672\n",
        "weighted avg       0.74      0.74      0.74      1672\n",
        "\n"
      ],
      "metadata": {
        "id": "nQm4UsHv7wkZ"
      }
    },
    {
      "cell_type": "markdown",
      "source": [
        "## B. caliginosus vs B. frigidus ##"
      ],
      "metadata": {
        "id": "ueehvPlr7woJ"
      }
    },
    {
      "cell_type": "markdown",
      "source": [
        "tf.Tensor(\n",
        "[[140 152]\n",
        " [ 85 207]], shape=(2, 2), dtype=int32)\n",
        " \n",
        "              precision    recall  f1-score   support\n",
        "\n",
        "         0.0       0.62      0.48      0.54       292\n",
        "         1.0       0.58      0.71      0.64       292\n",
        "\n",
        "    accuracy                           0.59       584\n",
        "   macro avg       0.60      0.59      0.59       584\n",
        "weighted avg       0.60      0.59      0.59       584\n",
        "\n"
      ],
      "metadata": {
        "id": "dvx18qtX7wr9"
      }
    }
  ]
}
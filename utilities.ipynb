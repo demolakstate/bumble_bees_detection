{
  "nbformat": 4,
  "nbformat_minor": 0,
  "metadata": {
    "colab": {
      "name": "utilities.ipynb",
      "provenance": [],
      "authorship_tag": "ABX9TyOiXPl1Ou5CU0sy4LNVPZEY",
      "include_colab_link": true
    },
    "kernelspec": {
      "name": "python3",
      "display_name": "Python 3"
    },
    "language_info": {
      "name": "python"
    }
  },
  "cells": [
    {
      "cell_type": "markdown",
      "metadata": {
        "id": "view-in-github",
        "colab_type": "text"
      },
      "source": [
        "<a href=\"https://colab.research.google.com/github/demolakstate/bumble_bees_detection/blob/main/utilities.ipynb\" target=\"_parent\"><img src=\"https://colab.research.google.com/assets/colab-badge.svg\" alt=\"Open In Colab\"/></a>"
      ]
    },
    {
      "cell_type": "code",
      "execution_count": null,
      "metadata": {
        "id": "uD-EjcuFK5dL"
      },
      "outputs": [],
      "source": [
        "import os, shutil"
      ]
    },
    {
      "cell_type": "code",
      "source": [
        "species = os.listdir('../../dataset_2/training')\n",
        ">>> assert len(species) == 24\n",
        ">>> assert len(species) == 23\n",
        "Traceback (most recent call last):\n",
        "  File \"<stdin>\", line 1, in <module>\n",
        "AssertionError\n",
        ">>> assert len(species) == 24"
      ],
      "metadata": {
        "id": "deZtZiu5LETD"
      },
      "execution_count": null,
      "outputs": []
    },
    {
      "cell_type": "code",
      "source": [
        ">>> root_path = '/data/okerinde/projects/beemachine/test_dataset_24/test/'\n",
        ">>> for specie in species:\n",
        "...     specie_path = os.path.join(os.getcwd(), specie)\n",
        "...     print(f'specie_path: {specie_path}')\n",
        "...     target = os.path.join(root_path, specie)\n",
        "...     print(f'target_path: {target}')\n",
        "...     shutil.move(specie_path, target)"
      ],
      "metadata": {
        "id": "b_Ds91C9K58s"
      },
      "execution_count": null,
      "outputs": []
    },
    {
      "cell_type": "code",
      "source": [
        ""
      ],
      "metadata": {
        "id": "F-hxEmtXK6A7"
      },
      "execution_count": null,
      "outputs": []
    },
    {
      "cell_type": "code",
      "source": [
        ""
      ],
      "metadata": {
        "id": "NagwWLOmK6E2"
      },
      "execution_count": null,
      "outputs": []
    }
  ]
}